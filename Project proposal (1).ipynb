{
 "cells": [
  {
   "cell_type": "markdown",
   "id": "902b1dea-2bf0-4231-b21f-b7eaf8be770a",
   "metadata": {},
   "source": [
    "## Project Proposal - Heart Disease dataset"
   ]
  },
  {
   "cell_type": "markdown",
   "id": "b4ba6875-a462-457e-a91e-d6568ac5d073",
   "metadata": {},
   "source": [
    "### Introduction"
   ]
  },
  {
   "cell_type": "markdown",
   "id": "aaa6d812-d263-4cd9-b410-1a292766e732",
   "metadata": {},
   "source": [
    "Cardiovascular disease (also known as heart disease) is a type of disease that affects the heart or blood vessels. This is one of the leading causes of death in the world, whereby patients suffering from this disease have compromised circulatory systems due to several factors including age, sex, cholesterol levels, etc. \n",
    "\n",
    "In this project, our goal is to predict whether or not a person has heart disease based on their vital signs and variables presented from our chosen dataset. In order to execute this classification, we have chosen to utilize the Heart Disease dataset from the UCI Machine Learning Repository (UCI). \n",
    "\n",
    "The dataset consists of many variables which affect the probability of a person suffering from heart disease; for our data analysis, we will be focusing on the following variables to use as predictors:\n",
    "\n",
    "- Age: measured in years\n",
    "- Chest pain type (cp): 1 = typical angina, 2 = atypical angina, 3 = non-angina pain, 4 = asymptomatic angina\n",
    "- Serum Cholesterol (chol): measured in mg/dl\n",
    "- Fasting blood sugar (fbs): measured in mg/dL \n",
    "- Maximum heart rate achieved (thalach): measured in beats per min (BPM)"
   ]
  },
  {
   "cell_type": "code",
   "execution_count": 41,
   "id": "bc99caa2-d8bf-4b5c-becd-627d214aff83",
   "metadata": {},
   "outputs": [
    {
     "data": {
      "text/plain": [
       "RendererRegistry.enable('mimetype')"
      ]
     },
     "execution_count": 41,
     "metadata": {},
     "output_type": "execute_result"
    }
   ],
   "source": [
    "# Packages needed for classification on our dataset\n",
    "import altair as alt\n",
    "import numpy as np\n",
    "import pandas as pd\n",
    "import sklearn\n",
    "from sklearn.compose import make_column_transformer\n",
    "from sklearn.metrics import confusion_matrix\n",
    "from sklearn.metrics.pairwise import euclidean_distances\n",
    "from sklearn.model_selection import (\n",
    "    GridSearchCV,\n",
    "    RandomizedSearchCV,\n",
    "    cross_validate,\n",
    "    train_test_split,\n",
    ")\n",
    "from sklearn.neighbors import KNeighborsClassifier\n",
    "from sklearn.pipeline import Pipeline, make_pipeline\n",
    "from sklearn.preprocessing import OneHotEncoder, StandardScaler\n",
    "\n",
    "alt.data_transformers.disable_max_rows()\n",
    "alt.renderers.enable(\"mimetype\")"
   ]
  },
  {
   "cell_type": "markdown",
   "id": "ebaa213c-2ef7-4a90-82eb-fe1e63aa96b1",
   "metadata": {},
   "source": [
    "### Preliminary Exploratory Data Analysis"
   ]
  },
  {
   "cell_type": "markdown",
   "id": "641ed44c-b457-4cca-adf4-5ec88db78b3e",
   "metadata": {},
   "source": [
    "Below, we load the dataset into Jupyter:"
   ]
  },
  {
   "cell_type": "code",
   "execution_count": 33,
   "id": "0c9b934b-539a-4cc4-ba3a-7962021ea2f1",
   "metadata": {},
   "outputs": [
    {
     "data": {
      "text/html": [
       "<div>\n",
       "<style scoped>\n",
       "    .dataframe tbody tr th:only-of-type {\n",
       "        vertical-align: middle;\n",
       "    }\n",
       "\n",
       "    .dataframe tbody tr th {\n",
       "        vertical-align: top;\n",
       "    }\n",
       "\n",
       "    .dataframe thead th {\n",
       "        text-align: right;\n",
       "    }\n",
       "</style>\n",
       "<table border=\"1\" class=\"dataframe\">\n",
       "  <thead>\n",
       "    <tr style=\"text-align: right;\">\n",
       "      <th></th>\n",
       "      <th>Age</th>\n",
       "      <th>Sex</th>\n",
       "      <th>Chest_Pain_Type</th>\n",
       "      <th>Resting_Blood_Pressure</th>\n",
       "      <th>Serum_Cholesterol</th>\n",
       "      <th>Fasting_Blood_Sugar</th>\n",
       "      <th>Resting_ECG</th>\n",
       "      <th>Max_Heart_Rate</th>\n",
       "      <th>Exercise_Induced_Angina</th>\n",
       "      <th>ST_Depression_Exercise</th>\n",
       "      <th>Peak_Exercise_ST_Segment</th>\n",
       "      <th>Num_Major_Vessels_Flouro</th>\n",
       "      <th>Thalassemia</th>\n",
       "      <th>Diagnosis</th>\n",
       "    </tr>\n",
       "  </thead>\n",
       "  <tbody>\n",
       "    <tr>\n",
       "      <th>0</th>\n",
       "      <td>63.0</td>\n",
       "      <td>1.0</td>\n",
       "      <td>1.0</td>\n",
       "      <td>145.0</td>\n",
       "      <td>233.0</td>\n",
       "      <td>1.0</td>\n",
       "      <td>2.0</td>\n",
       "      <td>150.0</td>\n",
       "      <td>0.0</td>\n",
       "      <td>2.3</td>\n",
       "      <td>3.0</td>\n",
       "      <td>0.0</td>\n",
       "      <td>6.0</td>\n",
       "      <td>0</td>\n",
       "    </tr>\n",
       "    <tr>\n",
       "      <th>1</th>\n",
       "      <td>67.0</td>\n",
       "      <td>1.0</td>\n",
       "      <td>4.0</td>\n",
       "      <td>160.0</td>\n",
       "      <td>286.0</td>\n",
       "      <td>0.0</td>\n",
       "      <td>2.0</td>\n",
       "      <td>108.0</td>\n",
       "      <td>1.0</td>\n",
       "      <td>1.5</td>\n",
       "      <td>2.0</td>\n",
       "      <td>3.0</td>\n",
       "      <td>3.0</td>\n",
       "      <td>2</td>\n",
       "    </tr>\n",
       "    <tr>\n",
       "      <th>2</th>\n",
       "      <td>67.0</td>\n",
       "      <td>1.0</td>\n",
       "      <td>4.0</td>\n",
       "      <td>120.0</td>\n",
       "      <td>229.0</td>\n",
       "      <td>0.0</td>\n",
       "      <td>2.0</td>\n",
       "      <td>129.0</td>\n",
       "      <td>1.0</td>\n",
       "      <td>2.6</td>\n",
       "      <td>2.0</td>\n",
       "      <td>2.0</td>\n",
       "      <td>7.0</td>\n",
       "      <td>1</td>\n",
       "    </tr>\n",
       "    <tr>\n",
       "      <th>3</th>\n",
       "      <td>37.0</td>\n",
       "      <td>1.0</td>\n",
       "      <td>3.0</td>\n",
       "      <td>130.0</td>\n",
       "      <td>250.0</td>\n",
       "      <td>0.0</td>\n",
       "      <td>0.0</td>\n",
       "      <td>187.0</td>\n",
       "      <td>0.0</td>\n",
       "      <td>3.5</td>\n",
       "      <td>3.0</td>\n",
       "      <td>0.0</td>\n",
       "      <td>3.0</td>\n",
       "      <td>0</td>\n",
       "    </tr>\n",
       "    <tr>\n",
       "      <th>4</th>\n",
       "      <td>41.0</td>\n",
       "      <td>0.0</td>\n",
       "      <td>2.0</td>\n",
       "      <td>130.0</td>\n",
       "      <td>204.0</td>\n",
       "      <td>0.0</td>\n",
       "      <td>2.0</td>\n",
       "      <td>172.0</td>\n",
       "      <td>0.0</td>\n",
       "      <td>1.4</td>\n",
       "      <td>1.0</td>\n",
       "      <td>0.0</td>\n",
       "      <td>3.0</td>\n",
       "      <td>0</td>\n",
       "    </tr>\n",
       "    <tr>\n",
       "      <th>...</th>\n",
       "      <td>...</td>\n",
       "      <td>...</td>\n",
       "      <td>...</td>\n",
       "      <td>...</td>\n",
       "      <td>...</td>\n",
       "      <td>...</td>\n",
       "      <td>...</td>\n",
       "      <td>...</td>\n",
       "      <td>...</td>\n",
       "      <td>...</td>\n",
       "      <td>...</td>\n",
       "      <td>...</td>\n",
       "      <td>...</td>\n",
       "      <td>...</td>\n",
       "    </tr>\n",
       "    <tr>\n",
       "      <th>298</th>\n",
       "      <td>45.0</td>\n",
       "      <td>1.0</td>\n",
       "      <td>1.0</td>\n",
       "      <td>110.0</td>\n",
       "      <td>264.0</td>\n",
       "      <td>0.0</td>\n",
       "      <td>0.0</td>\n",
       "      <td>132.0</td>\n",
       "      <td>0.0</td>\n",
       "      <td>1.2</td>\n",
       "      <td>2.0</td>\n",
       "      <td>0.0</td>\n",
       "      <td>7.0</td>\n",
       "      <td>1</td>\n",
       "    </tr>\n",
       "    <tr>\n",
       "      <th>299</th>\n",
       "      <td>68.0</td>\n",
       "      <td>1.0</td>\n",
       "      <td>4.0</td>\n",
       "      <td>144.0</td>\n",
       "      <td>193.0</td>\n",
       "      <td>1.0</td>\n",
       "      <td>0.0</td>\n",
       "      <td>141.0</td>\n",
       "      <td>0.0</td>\n",
       "      <td>3.4</td>\n",
       "      <td>2.0</td>\n",
       "      <td>2.0</td>\n",
       "      <td>7.0</td>\n",
       "      <td>2</td>\n",
       "    </tr>\n",
       "    <tr>\n",
       "      <th>300</th>\n",
       "      <td>57.0</td>\n",
       "      <td>1.0</td>\n",
       "      <td>4.0</td>\n",
       "      <td>130.0</td>\n",
       "      <td>131.0</td>\n",
       "      <td>0.0</td>\n",
       "      <td>0.0</td>\n",
       "      <td>115.0</td>\n",
       "      <td>1.0</td>\n",
       "      <td>1.2</td>\n",
       "      <td>2.0</td>\n",
       "      <td>1.0</td>\n",
       "      <td>7.0</td>\n",
       "      <td>3</td>\n",
       "    </tr>\n",
       "    <tr>\n",
       "      <th>301</th>\n",
       "      <td>57.0</td>\n",
       "      <td>0.0</td>\n",
       "      <td>2.0</td>\n",
       "      <td>130.0</td>\n",
       "      <td>236.0</td>\n",
       "      <td>0.0</td>\n",
       "      <td>2.0</td>\n",
       "      <td>174.0</td>\n",
       "      <td>0.0</td>\n",
       "      <td>0.0</td>\n",
       "      <td>2.0</td>\n",
       "      <td>1.0</td>\n",
       "      <td>3.0</td>\n",
       "      <td>1</td>\n",
       "    </tr>\n",
       "    <tr>\n",
       "      <th>302</th>\n",
       "      <td>38.0</td>\n",
       "      <td>1.0</td>\n",
       "      <td>3.0</td>\n",
       "      <td>138.0</td>\n",
       "      <td>175.0</td>\n",
       "      <td>0.0</td>\n",
       "      <td>0.0</td>\n",
       "      <td>173.0</td>\n",
       "      <td>0.0</td>\n",
       "      <td>0.0</td>\n",
       "      <td>1.0</td>\n",
       "      <td>?</td>\n",
       "      <td>3.0</td>\n",
       "      <td>0</td>\n",
       "    </tr>\n",
       "  </tbody>\n",
       "</table>\n",
       "<p>303 rows × 14 columns</p>\n",
       "</div>"
      ],
      "text/plain": [
       "      Age  Sex  Chest_Pain_Type  Resting_Blood_Pressure  Serum_Cholesterol  \\\n",
       "0    63.0  1.0              1.0                   145.0              233.0   \n",
       "1    67.0  1.0              4.0                   160.0              286.0   \n",
       "2    67.0  1.0              4.0                   120.0              229.0   \n",
       "3    37.0  1.0              3.0                   130.0              250.0   \n",
       "4    41.0  0.0              2.0                   130.0              204.0   \n",
       "..    ...  ...              ...                     ...                ...   \n",
       "298  45.0  1.0              1.0                   110.0              264.0   \n",
       "299  68.0  1.0              4.0                   144.0              193.0   \n",
       "300  57.0  1.0              4.0                   130.0              131.0   \n",
       "301  57.0  0.0              2.0                   130.0              236.0   \n",
       "302  38.0  1.0              3.0                   138.0              175.0   \n",
       "\n",
       "     Fasting_Blood_Sugar  Resting_ECG  Max_Heart_Rate  \\\n",
       "0                    1.0          2.0           150.0   \n",
       "1                    0.0          2.0           108.0   \n",
       "2                    0.0          2.0           129.0   \n",
       "3                    0.0          0.0           187.0   \n",
       "4                    0.0          2.0           172.0   \n",
       "..                   ...          ...             ...   \n",
       "298                  0.0          0.0           132.0   \n",
       "299                  1.0          0.0           141.0   \n",
       "300                  0.0          0.0           115.0   \n",
       "301                  0.0          2.0           174.0   \n",
       "302                  0.0          0.0           173.0   \n",
       "\n",
       "     Exercise_Induced_Angina  ST_Depression_Exercise  \\\n",
       "0                        0.0                     2.3   \n",
       "1                        1.0                     1.5   \n",
       "2                        1.0                     2.6   \n",
       "3                        0.0                     3.5   \n",
       "4                        0.0                     1.4   \n",
       "..                       ...                     ...   \n",
       "298                      0.0                     1.2   \n",
       "299                      0.0                     3.4   \n",
       "300                      1.0                     1.2   \n",
       "301                      0.0                     0.0   \n",
       "302                      0.0                     0.0   \n",
       "\n",
       "     Peak_Exercise_ST_Segment Num_Major_Vessels_Flouro Thalassemia  Diagnosis  \n",
       "0                         3.0                      0.0         6.0          0  \n",
       "1                         2.0                      3.0         3.0          2  \n",
       "2                         2.0                      2.0         7.0          1  \n",
       "3                         3.0                      0.0         3.0          0  \n",
       "4                         1.0                      0.0         3.0          0  \n",
       "..                        ...                      ...         ...        ...  \n",
       "298                       2.0                      0.0         7.0          1  \n",
       "299                       2.0                      2.0         7.0          2  \n",
       "300                       2.0                      1.0         7.0          3  \n",
       "301                       2.0                      1.0         3.0          1  \n",
       "302                       1.0                        ?         3.0          0  \n",
       "\n",
       "[303 rows x 14 columns]"
      ]
     },
     "execution_count": 33,
     "metadata": {},
     "output_type": "execute_result"
    }
   ],
   "source": [
    "# Loading the dataset using the URL\n",
    "url = \"https://archive.ics.uci.edu/ml/machine-learning-databases/heart-disease/processed.cleveland.data\"\n",
    "\n",
    "heart_disease = pd.read_csv(url, header=None)\n",
    "\n",
    "heart_disease.columns = (\"Age\",\n",
    "           \"Sex\",\n",
    "           \"Chest_Pain_Type\",\n",
    "           \"Resting_Blood_Pressure\",\n",
    "           \"Serum_Cholesterol\",\n",
    "           \"Fasting_Blood_Sugar\",\n",
    "           \"Resting_ECG\",\n",
    "           \"Max_Heart_Rate\",\n",
    "           \"Exercise_Induced_Angina\",\n",
    "           \"ST_Depression_Exercise\",\n",
    "           \"Peak_Exercise_ST_Segment\",\n",
    "           \"Num_Major_Vessels_Flouro\",\n",
    "           \"Thalassemia\",\n",
    "           \"Diagnosis\") # assigning human-readable column headings\n",
    "\n",
    "heart_disease"
   ]
  },
  {
   "cell_type": "markdown",
   "id": "8a0dc060-198f-484d-b4f8-f0f7f559b070",
   "metadata": {},
   "source": [
    "We filtered the dataset to include only the variables taken into consideration:"
   ]
  },
  {
   "cell_type": "code",
   "execution_count": 42,
   "id": "d828cc30-8e57-4488-9b79-922c587f12c7",
   "metadata": {},
   "outputs": [
    {
     "data": {
      "text/html": [
       "<div>\n",
       "<style scoped>\n",
       "    .dataframe tbody tr th:only-of-type {\n",
       "        vertical-align: middle;\n",
       "    }\n",
       "\n",
       "    .dataframe tbody tr th {\n",
       "        vertical-align: top;\n",
       "    }\n",
       "\n",
       "    .dataframe thead th {\n",
       "        text-align: right;\n",
       "    }\n",
       "</style>\n",
       "<table border=\"1\" class=\"dataframe\">\n",
       "  <thead>\n",
       "    <tr style=\"text-align: right;\">\n",
       "      <th></th>\n",
       "      <th>Age</th>\n",
       "      <th>Chest_Pain_Type</th>\n",
       "      <th>Fasting_Blood_Sugar</th>\n",
       "      <th>Serum_Cholesterol</th>\n",
       "      <th>Max_Heart_Rate</th>\n",
       "      <th>Diagnosis</th>\n",
       "    </tr>\n",
       "  </thead>\n",
       "  <tbody>\n",
       "    <tr>\n",
       "      <th>0</th>\n",
       "      <td>63.0</td>\n",
       "      <td>1.0</td>\n",
       "      <td>1.0</td>\n",
       "      <td>233.0</td>\n",
       "      <td>150.0</td>\n",
       "      <td>0</td>\n",
       "    </tr>\n",
       "    <tr>\n",
       "      <th>1</th>\n",
       "      <td>67.0</td>\n",
       "      <td>4.0</td>\n",
       "      <td>0.0</td>\n",
       "      <td>286.0</td>\n",
       "      <td>108.0</td>\n",
       "      <td>2</td>\n",
       "    </tr>\n",
       "    <tr>\n",
       "      <th>2</th>\n",
       "      <td>67.0</td>\n",
       "      <td>4.0</td>\n",
       "      <td>0.0</td>\n",
       "      <td>229.0</td>\n",
       "      <td>129.0</td>\n",
       "      <td>1</td>\n",
       "    </tr>\n",
       "    <tr>\n",
       "      <th>3</th>\n",
       "      <td>37.0</td>\n",
       "      <td>3.0</td>\n",
       "      <td>0.0</td>\n",
       "      <td>250.0</td>\n",
       "      <td>187.0</td>\n",
       "      <td>0</td>\n",
       "    </tr>\n",
       "    <tr>\n",
       "      <th>4</th>\n",
       "      <td>41.0</td>\n",
       "      <td>2.0</td>\n",
       "      <td>0.0</td>\n",
       "      <td>204.0</td>\n",
       "      <td>172.0</td>\n",
       "      <td>0</td>\n",
       "    </tr>\n",
       "    <tr>\n",
       "      <th>...</th>\n",
       "      <td>...</td>\n",
       "      <td>...</td>\n",
       "      <td>...</td>\n",
       "      <td>...</td>\n",
       "      <td>...</td>\n",
       "      <td>...</td>\n",
       "    </tr>\n",
       "    <tr>\n",
       "      <th>298</th>\n",
       "      <td>45.0</td>\n",
       "      <td>1.0</td>\n",
       "      <td>0.0</td>\n",
       "      <td>264.0</td>\n",
       "      <td>132.0</td>\n",
       "      <td>1</td>\n",
       "    </tr>\n",
       "    <tr>\n",
       "      <th>299</th>\n",
       "      <td>68.0</td>\n",
       "      <td>4.0</td>\n",
       "      <td>1.0</td>\n",
       "      <td>193.0</td>\n",
       "      <td>141.0</td>\n",
       "      <td>2</td>\n",
       "    </tr>\n",
       "    <tr>\n",
       "      <th>300</th>\n",
       "      <td>57.0</td>\n",
       "      <td>4.0</td>\n",
       "      <td>0.0</td>\n",
       "      <td>131.0</td>\n",
       "      <td>115.0</td>\n",
       "      <td>3</td>\n",
       "    </tr>\n",
       "    <tr>\n",
       "      <th>301</th>\n",
       "      <td>57.0</td>\n",
       "      <td>2.0</td>\n",
       "      <td>0.0</td>\n",
       "      <td>236.0</td>\n",
       "      <td>174.0</td>\n",
       "      <td>1</td>\n",
       "    </tr>\n",
       "    <tr>\n",
       "      <th>302</th>\n",
       "      <td>38.0</td>\n",
       "      <td>3.0</td>\n",
       "      <td>0.0</td>\n",
       "      <td>175.0</td>\n",
       "      <td>173.0</td>\n",
       "      <td>0</td>\n",
       "    </tr>\n",
       "  </tbody>\n",
       "</table>\n",
       "<p>303 rows × 6 columns</p>\n",
       "</div>"
      ],
      "text/plain": [
       "      Age  Chest_Pain_Type  Fasting_Blood_Sugar  Serum_Cholesterol  \\\n",
       "0    63.0              1.0                  1.0              233.0   \n",
       "1    67.0              4.0                  0.0              286.0   \n",
       "2    67.0              4.0                  0.0              229.0   \n",
       "3    37.0              3.0                  0.0              250.0   \n",
       "4    41.0              2.0                  0.0              204.0   \n",
       "..    ...              ...                  ...                ...   \n",
       "298  45.0              1.0                  0.0              264.0   \n",
       "299  68.0              4.0                  1.0              193.0   \n",
       "300  57.0              4.0                  0.0              131.0   \n",
       "301  57.0              2.0                  0.0              236.0   \n",
       "302  38.0              3.0                  0.0              175.0   \n",
       "\n",
       "     Max_Heart_Rate  Diagnosis  \n",
       "0             150.0          0  \n",
       "1             108.0          2  \n",
       "2             129.0          1  \n",
       "3             187.0          0  \n",
       "4             172.0          0  \n",
       "..              ...        ...  \n",
       "298           132.0          1  \n",
       "299           141.0          2  \n",
       "300           115.0          3  \n",
       "301           174.0          1  \n",
       "302           173.0          0  \n",
       "\n",
       "[303 rows x 6 columns]"
      ]
     },
     "execution_count": 42,
     "metadata": {},
     "output_type": "execute_result"
    }
   ],
   "source": [
    "# Filtering to include only the columns we will be using in our analysis\n",
    "heart_disease_final = heart_disease.loc[:, [\"Age\",\"Chest_Pain_Type\",\"Fasting_Blood_Sugar\", \"Serum_Cholesterol\", \"Max_Heart_Rate\", \"Diagnosis\"]]\n",
    "heart_disease_final"
   ]
  },
  {
   "cell_type": "markdown",
   "id": "53887b57-0786-4ac5-8148-0ac23a5a8391",
   "metadata": {},
   "source": [
    "Since our data is in a tidy format (each column is a single variable, each row is a single observation and each cell is a single value), we only need to drop all rows containing Na's and change the data types of certain columns. This is in order to wrangle the dataset for ease of work:"
   ]
  },
  {
   "cell_type": "code",
   "execution_count": 43,
   "id": "a9b4816e-35fc-490c-b5de-5a5756272a48",
   "metadata": {},
   "outputs": [
    {
     "name": "stdout",
     "output_type": "stream",
     "text": [
      "<class 'pandas.core.frame.DataFrame'>\n",
      "RangeIndex: 303 entries, 0 to 302\n",
      "Data columns (total 6 columns):\n",
      " #   Column               Non-Null Count  Dtype  \n",
      "---  ------               --------------  -----  \n",
      " 0   Age                  303 non-null    int64  \n",
      " 1   Chest_Pain_Type      303 non-null    int64  \n",
      " 2   Fasting_Blood_Sugar  303 non-null    float64\n",
      " 3   Serum_Cholesterol    303 non-null    float64\n",
      " 4   Max_Heart_Rate       303 non-null    int64  \n",
      " 5   Diagnosis            303 non-null    bool   \n",
      "dtypes: bool(1), float64(2), int64(3)\n",
      "memory usage: 12.3 KB\n"
     ]
    }
   ],
   "source": [
    "heart_disease_final.dropna() # Removing Na's\n",
    "\n",
    "\n",
    "# Age is measured in years therefore will be an integer\n",
    "heart_disease_final.Age = heart_disease.Age.astype('int64') \n",
    "\n",
    "# A patient either has heart disease or not, hence diagnosis will be of bool type\n",
    "heart_disease_final.Diagnosis = heart_disease.Diagnosis.astype(bool) \n",
    "\n",
    "# Since chest pain type can only be one of 1, 2, 3, 4 hence it will be of type int64\n",
    "heart_disease_final.Chest_Pain_Type = heart_disease.Chest_Pain_Type.astype('int64') \n",
    "\n",
    "# Since maximum heart rate is measured in Beats per Minute, its type should be changed to int64\n",
    "heart_disease_final.Max_Heart_Rate = heart_disease.Max_Heart_Rate.astype('int64') \n",
    "\n",
    "\n",
    "heart_disease_final.info()\n"
   ]
  },
  {
   "cell_type": "code",
   "execution_count": 44,
   "id": "1122bf30-625c-460a-99fe-19deaf0a9683",
   "metadata": {},
   "outputs": [
    {
     "data": {
      "text/html": [
       "<div>\n",
       "<style scoped>\n",
       "    .dataframe tbody tr th:only-of-type {\n",
       "        vertical-align: middle;\n",
       "    }\n",
       "\n",
       "    .dataframe tbody tr th {\n",
       "        vertical-align: top;\n",
       "    }\n",
       "\n",
       "    .dataframe thead th {\n",
       "        text-align: right;\n",
       "    }\n",
       "</style>\n",
       "<table border=\"1\" class=\"dataframe\">\n",
       "  <thead>\n",
       "    <tr style=\"text-align: right;\">\n",
       "      <th></th>\n",
       "      <th>Age</th>\n",
       "      <th>Chest_Pain_Type</th>\n",
       "      <th>Fasting_Blood_Sugar</th>\n",
       "      <th>Serum_Cholesterol</th>\n",
       "      <th>Max_Heart_Rate</th>\n",
       "      <th>Diagnosis</th>\n",
       "    </tr>\n",
       "  </thead>\n",
       "  <tbody>\n",
       "    <tr>\n",
       "      <th>0</th>\n",
       "      <td>63</td>\n",
       "      <td>1</td>\n",
       "      <td>1.0</td>\n",
       "      <td>233.0</td>\n",
       "      <td>150</td>\n",
       "      <td>False</td>\n",
       "    </tr>\n",
       "    <tr>\n",
       "      <th>1</th>\n",
       "      <td>67</td>\n",
       "      <td>4</td>\n",
       "      <td>0.0</td>\n",
       "      <td>286.0</td>\n",
       "      <td>108</td>\n",
       "      <td>True</td>\n",
       "    </tr>\n",
       "    <tr>\n",
       "      <th>2</th>\n",
       "      <td>67</td>\n",
       "      <td>4</td>\n",
       "      <td>0.0</td>\n",
       "      <td>229.0</td>\n",
       "      <td>129</td>\n",
       "      <td>True</td>\n",
       "    </tr>\n",
       "    <tr>\n",
       "      <th>3</th>\n",
       "      <td>37</td>\n",
       "      <td>3</td>\n",
       "      <td>0.0</td>\n",
       "      <td>250.0</td>\n",
       "      <td>187</td>\n",
       "      <td>False</td>\n",
       "    </tr>\n",
       "    <tr>\n",
       "      <th>4</th>\n",
       "      <td>41</td>\n",
       "      <td>2</td>\n",
       "      <td>0.0</td>\n",
       "      <td>204.0</td>\n",
       "      <td>172</td>\n",
       "      <td>False</td>\n",
       "    </tr>\n",
       "    <tr>\n",
       "      <th>...</th>\n",
       "      <td>...</td>\n",
       "      <td>...</td>\n",
       "      <td>...</td>\n",
       "      <td>...</td>\n",
       "      <td>...</td>\n",
       "      <td>...</td>\n",
       "    </tr>\n",
       "    <tr>\n",
       "      <th>298</th>\n",
       "      <td>45</td>\n",
       "      <td>1</td>\n",
       "      <td>0.0</td>\n",
       "      <td>264.0</td>\n",
       "      <td>132</td>\n",
       "      <td>True</td>\n",
       "    </tr>\n",
       "    <tr>\n",
       "      <th>299</th>\n",
       "      <td>68</td>\n",
       "      <td>4</td>\n",
       "      <td>1.0</td>\n",
       "      <td>193.0</td>\n",
       "      <td>141</td>\n",
       "      <td>True</td>\n",
       "    </tr>\n",
       "    <tr>\n",
       "      <th>300</th>\n",
       "      <td>57</td>\n",
       "      <td>4</td>\n",
       "      <td>0.0</td>\n",
       "      <td>131.0</td>\n",
       "      <td>115</td>\n",
       "      <td>True</td>\n",
       "    </tr>\n",
       "    <tr>\n",
       "      <th>301</th>\n",
       "      <td>57</td>\n",
       "      <td>2</td>\n",
       "      <td>0.0</td>\n",
       "      <td>236.0</td>\n",
       "      <td>174</td>\n",
       "      <td>True</td>\n",
       "    </tr>\n",
       "    <tr>\n",
       "      <th>302</th>\n",
       "      <td>38</td>\n",
       "      <td>3</td>\n",
       "      <td>0.0</td>\n",
       "      <td>175.0</td>\n",
       "      <td>173</td>\n",
       "      <td>False</td>\n",
       "    </tr>\n",
       "  </tbody>\n",
       "</table>\n",
       "<p>303 rows × 6 columns</p>\n",
       "</div>"
      ],
      "text/plain": [
       "     Age  Chest_Pain_Type  Fasting_Blood_Sugar  Serum_Cholesterol  \\\n",
       "0     63                1                  1.0              233.0   \n",
       "1     67                4                  0.0              286.0   \n",
       "2     67                4                  0.0              229.0   \n",
       "3     37                3                  0.0              250.0   \n",
       "4     41                2                  0.0              204.0   \n",
       "..   ...              ...                  ...                ...   \n",
       "298   45                1                  0.0              264.0   \n",
       "299   68                4                  1.0              193.0   \n",
       "300   57                4                  0.0              131.0   \n",
       "301   57                2                  0.0              236.0   \n",
       "302   38                3                  0.0              175.0   \n",
       "\n",
       "     Max_Heart_Rate  Diagnosis  \n",
       "0               150      False  \n",
       "1               108       True  \n",
       "2               129       True  \n",
       "3               187      False  \n",
       "4               172      False  \n",
       "..              ...        ...  \n",
       "298             132       True  \n",
       "299             141       True  \n",
       "300             115       True  \n",
       "301             174       True  \n",
       "302             173      False  \n",
       "\n",
       "[303 rows x 6 columns]"
      ]
     },
     "execution_count": 44,
     "metadata": {},
     "output_type": "execute_result"
    }
   ],
   "source": [
    "heart_disease_final # The final tidy data"
   ]
  },
  {
   "cell_type": "markdown",
   "id": "d4e998a6-06c3-4323-8745-c73d777b1dea",
   "metadata": {},
   "source": [
    "After wrangling the dataset, we will split it to use as training data and testing data. We are using 75% of our data as training data and 25% as testing data:"
   ]
  },
  {
   "cell_type": "code",
   "execution_count": 45,
   "id": "256fe072-045b-4a08-bac4-67a94c36406c",
   "metadata": {},
   "outputs": [
    {
     "name": "stdout",
     "output_type": "stream",
     "text": [
      "     Age  Chest_Pain_Type  Fasting_Blood_Sugar  Serum_Cholesterol  \\\n",
      "36    43                4                  0.0              177.0   \n",
      "148   45                2                  0.0              308.0   \n",
      "21    58                1                  1.0              283.0   \n",
      "187   66                2                  0.0              246.0   \n",
      "161   77                4                  0.0              304.0   \n",
      "\n",
      "     Max_Heart_Rate  Diagnosis  \n",
      "36              120       True  \n",
      "148             170      False  \n",
      "21              162      False  \n",
      "187             120       True  \n",
      "161             162       True  \n",
      "     Age  Chest_Pain_Type  Fasting_Blood_Sugar  Serum_Cholesterol  \\\n",
      "11    56                2                  0.0              294.0   \n",
      "292   44                4                  0.0              169.0   \n",
      "269   42                3                  0.0              180.0   \n",
      "268   40                4                  0.0              223.0   \n",
      "94    63                3                  0.0              252.0   \n",
      "\n",
      "     Max_Heart_Rate  Diagnosis  \n",
      "11              153      False  \n",
      "292             144       True  \n",
      "269             150      False  \n",
      "268             181       True  \n",
      "94              172      False  \n"
     ]
    }
   ],
   "source": [
    "heart_train, heart_test = train_test_split(heart_disease_final, test_size=0.25, random_state=123) # set the random state to be 123\n",
    "print(heart_train.head())\n",
    "print(heart_test.head())"
   ]
  },
  {
   "cell_type": "markdown",
   "id": "1c1e4b08-151e-4f2f-81f7-2627e693b521",
   "metadata": {},
   "source": [
    "### Summary Tables"
   ]
  },
  {
   "cell_type": "markdown",
   "id": "5550e122-7062-445d-bd6c-ac97c81bac77",
   "metadata": {},
   "source": [
    "We start by showing the mean of each variable grouped by diagnosis:"
   ]
  },
  {
   "cell_type": "code",
   "execution_count": 37,
   "id": "b0ea2105-1538-414b-877e-2763763fb432",
   "metadata": {},
   "outputs": [
    {
     "data": {
      "text/html": [
       "<div>\n",
       "<style scoped>\n",
       "    .dataframe tbody tr th:only-of-type {\n",
       "        vertical-align: middle;\n",
       "    }\n",
       "\n",
       "    .dataframe tbody tr th {\n",
       "        vertical-align: top;\n",
       "    }\n",
       "\n",
       "    .dataframe thead th {\n",
       "        text-align: right;\n",
       "    }\n",
       "</style>\n",
       "<table border=\"1\" class=\"dataframe\">\n",
       "  <thead>\n",
       "    <tr style=\"text-align: right;\">\n",
       "      <th></th>\n",
       "      <th>Age</th>\n",
       "      <th>Fasting_Blood_Sugar</th>\n",
       "      <th>Serum_Cholesterol</th>\n",
       "      <th>Max_Heart_Rate</th>\n",
       "    </tr>\n",
       "    <tr>\n",
       "      <th>Diagnosis</th>\n",
       "      <th></th>\n",
       "      <th></th>\n",
       "      <th></th>\n",
       "      <th></th>\n",
       "    </tr>\n",
       "  </thead>\n",
       "  <tbody>\n",
       "    <tr>\n",
       "      <th>False</th>\n",
       "      <td>52.163934</td>\n",
       "      <td>0.139344</td>\n",
       "      <td>240.295082</td>\n",
       "      <td>158.377049</td>\n",
       "    </tr>\n",
       "    <tr>\n",
       "      <th>True</th>\n",
       "      <td>56.457143</td>\n",
       "      <td>0.133333</td>\n",
       "      <td>253.371429</td>\n",
       "      <td>140.914286</td>\n",
       "    </tr>\n",
       "  </tbody>\n",
       "</table>\n",
       "</div>"
      ],
      "text/plain": [
       "                 Age  Fasting_Blood_Sugar  Serum_Cholesterol  Max_Heart_Rate\n",
       "Diagnosis                                                                   \n",
       "False      52.163934             0.139344         240.295082      158.377049\n",
       "True       56.457143             0.133333         253.371429      140.914286"
      ]
     },
     "execution_count": 37,
     "metadata": {},
     "output_type": "execute_result"
    }
   ],
   "source": [
    "diagnosis_mean = heart_train.groupby(\"Diagnosis\").agg(\"mean\")\n",
    "diagnosis_mean_filtered = diagnosis_mean.loc[:,[\"Age\",\"Fasting_Blood_Sugar\",\"Serum_Cholesterol\",\"Max_Heart_Rate\"]]\n",
    "diagnosis_mean_filtered"
   ]
  },
  {
   "cell_type": "markdown",
   "id": "baff41f0-c2df-4bbf-baca-eb9026350716",
   "metadata": {},
   "source": [
    "We then created a dataframe grouped by chest pain type to see the summarized count of each variable for each chest pain type:"
   ]
  },
  {
   "cell_type": "code",
   "execution_count": 38,
   "id": "dbc4bcfe-5539-4533-be85-b917dfa3076d",
   "metadata": {},
   "outputs": [
    {
     "data": {
      "text/html": [
       "<div>\n",
       "<style scoped>\n",
       "    .dataframe tbody tr th:only-of-type {\n",
       "        vertical-align: middle;\n",
       "    }\n",
       "\n",
       "    .dataframe tbody tr th {\n",
       "        vertical-align: top;\n",
       "    }\n",
       "\n",
       "    .dataframe thead th {\n",
       "        text-align: right;\n",
       "    }\n",
       "</style>\n",
       "<table border=\"1\" class=\"dataframe\">\n",
       "  <thead>\n",
       "    <tr style=\"text-align: right;\">\n",
       "      <th></th>\n",
       "      <th>Age</th>\n",
       "      <th>Fasting_Blood_Sugar</th>\n",
       "      <th>Serum_Cholesterol</th>\n",
       "      <th>Max_Heart_Rate</th>\n",
       "      <th>Diagnosis</th>\n",
       "    </tr>\n",
       "    <tr>\n",
       "      <th>Chest_Pain_Type</th>\n",
       "      <th></th>\n",
       "      <th></th>\n",
       "      <th></th>\n",
       "      <th></th>\n",
       "      <th></th>\n",
       "    </tr>\n",
       "  </thead>\n",
       "  <tbody>\n",
       "    <tr>\n",
       "      <th>1</th>\n",
       "      <td>16</td>\n",
       "      <td>16</td>\n",
       "      <td>16</td>\n",
       "      <td>16</td>\n",
       "      <td>16</td>\n",
       "    </tr>\n",
       "    <tr>\n",
       "      <th>2</th>\n",
       "      <td>35</td>\n",
       "      <td>35</td>\n",
       "      <td>35</td>\n",
       "      <td>35</td>\n",
       "      <td>35</td>\n",
       "    </tr>\n",
       "    <tr>\n",
       "      <th>3</th>\n",
       "      <td>72</td>\n",
       "      <td>72</td>\n",
       "      <td>72</td>\n",
       "      <td>72</td>\n",
       "      <td>72</td>\n",
       "    </tr>\n",
       "    <tr>\n",
       "      <th>4</th>\n",
       "      <td>104</td>\n",
       "      <td>104</td>\n",
       "      <td>104</td>\n",
       "      <td>104</td>\n",
       "      <td>104</td>\n",
       "    </tr>\n",
       "  </tbody>\n",
       "</table>\n",
       "</div>"
      ],
      "text/plain": [
       "                 Age  Fasting_Blood_Sugar  Serum_Cholesterol  Max_Heart_Rate  \\\n",
       "Chest_Pain_Type                                                                \n",
       "1                 16                   16                 16              16   \n",
       "2                 35                   35                 35              35   \n",
       "3                 72                   72                 72              72   \n",
       "4                104                  104                104             104   \n",
       "\n",
       "                 Diagnosis  \n",
       "Chest_Pain_Type             \n",
       "1                       16  \n",
       "2                       35  \n",
       "3                       72  \n",
       "4                      104  "
      ]
     },
     "execution_count": 38,
     "metadata": {},
     "output_type": "execute_result"
    }
   ],
   "source": [
    "# Grouping by Chest_Pain_Type to see count of each variable for every chest pain type\n",
    "chest_pain_grouped = heart_train.groupby(\"Chest_Pain_Type\").agg(\"count\")\n",
    "chest_pain_grouped"
   ]
  },
  {
   "cell_type": "markdown",
   "id": "2bd64f7c-6f9c-468a-aa29-a89b47a61794",
   "metadata": {},
   "source": [
    "### Visualizations"
   ]
  },
  {
   "cell_type": "markdown",
   "id": "59ffec56-f355-4432-b199-c6c33974191e",
   "metadata": {},
   "source": [
    "Next, we visualize the data into plots and graphs in order to display data effectively.\n",
    "We visualize how maximum heart rate changes with age through a scatter plot:"
   ]
  },
  {
   "cell_type": "code",
   "execution_count": 39,
   "id": "d02c57ad-0a7e-48df-b658-c9ec6cb7db9f",
   "metadata": {},
   "outputs": [
    {
     "name": "stderr",
     "output_type": "stream",
     "text": [
      "/opt/conda/lib/python3.10/site-packages/altair/utils/core.py:317: FutureWarning: iteritems is deprecated and will be removed in a future version. Use .items instead.\n",
      "  for col_name, dtype in df.dtypes.iteritems():\n"
     ]
    },
    {
     "data": {
      "application/vnd.vegalite.v4+json": {
       "$schema": "https://vega.github.io/schema/vega-lite/v4.17.0.json",
       "config": {
        "axis": {
         "labelFontSize": 15,
         "titleFontSize": 15
        },
        "title": {
         "fontSize": 25
        },
        "view": {
         "continuousHeight": 300,
         "continuousWidth": 400
        }
       },
       "data": {
        "name": "data-c6e5d522682ad9c091fd3a251f3435c9"
       },
       "datasets": {
        "data-c6e5d522682ad9c091fd3a251f3435c9": [
         {
          "Age": 63,
          "Chest_Pain_Type": 1,
          "Diagnosis": false,
          "Fasting_Blood_Sugar": 1,
          "Max_Heart_Rate": 150,
          "Serum_Cholesterol": 233
         },
         {
          "Age": 67,
          "Chest_Pain_Type": 4,
          "Diagnosis": true,
          "Fasting_Blood_Sugar": 0,
          "Max_Heart_Rate": 108,
          "Serum_Cholesterol": 286
         },
         {
          "Age": 67,
          "Chest_Pain_Type": 4,
          "Diagnosis": true,
          "Fasting_Blood_Sugar": 0,
          "Max_Heart_Rate": 129,
          "Serum_Cholesterol": 229
         },
         {
          "Age": 37,
          "Chest_Pain_Type": 3,
          "Diagnosis": false,
          "Fasting_Blood_Sugar": 0,
          "Max_Heart_Rate": 187,
          "Serum_Cholesterol": 250
         },
         {
          "Age": 41,
          "Chest_Pain_Type": 2,
          "Diagnosis": false,
          "Fasting_Blood_Sugar": 0,
          "Max_Heart_Rate": 172,
          "Serum_Cholesterol": 204
         },
         {
          "Age": 56,
          "Chest_Pain_Type": 2,
          "Diagnosis": false,
          "Fasting_Blood_Sugar": 0,
          "Max_Heart_Rate": 178,
          "Serum_Cholesterol": 236
         },
         {
          "Age": 62,
          "Chest_Pain_Type": 4,
          "Diagnosis": true,
          "Fasting_Blood_Sugar": 0,
          "Max_Heart_Rate": 160,
          "Serum_Cholesterol": 268
         },
         {
          "Age": 57,
          "Chest_Pain_Type": 4,
          "Diagnosis": false,
          "Fasting_Blood_Sugar": 0,
          "Max_Heart_Rate": 163,
          "Serum_Cholesterol": 354
         },
         {
          "Age": 63,
          "Chest_Pain_Type": 4,
          "Diagnosis": true,
          "Fasting_Blood_Sugar": 0,
          "Max_Heart_Rate": 147,
          "Serum_Cholesterol": 254
         },
         {
          "Age": 53,
          "Chest_Pain_Type": 4,
          "Diagnosis": true,
          "Fasting_Blood_Sugar": 1,
          "Max_Heart_Rate": 155,
          "Serum_Cholesterol": 203
         },
         {
          "Age": 57,
          "Chest_Pain_Type": 4,
          "Diagnosis": false,
          "Fasting_Blood_Sugar": 0,
          "Max_Heart_Rate": 148,
          "Serum_Cholesterol": 192
         },
         {
          "Age": 56,
          "Chest_Pain_Type": 2,
          "Diagnosis": false,
          "Fasting_Blood_Sugar": 0,
          "Max_Heart_Rate": 153,
          "Serum_Cholesterol": 294
         },
         {
          "Age": 56,
          "Chest_Pain_Type": 3,
          "Diagnosis": true,
          "Fasting_Blood_Sugar": 1,
          "Max_Heart_Rate": 142,
          "Serum_Cholesterol": 256
         },
         {
          "Age": 44,
          "Chest_Pain_Type": 2,
          "Diagnosis": false,
          "Fasting_Blood_Sugar": 0,
          "Max_Heart_Rate": 173,
          "Serum_Cholesterol": 263
         },
         {
          "Age": 52,
          "Chest_Pain_Type": 3,
          "Diagnosis": false,
          "Fasting_Blood_Sugar": 1,
          "Max_Heart_Rate": 162,
          "Serum_Cholesterol": 199
         },
         {
          "Age": 57,
          "Chest_Pain_Type": 3,
          "Diagnosis": false,
          "Fasting_Blood_Sugar": 0,
          "Max_Heart_Rate": 174,
          "Serum_Cholesterol": 168
         },
         {
          "Age": 48,
          "Chest_Pain_Type": 2,
          "Diagnosis": true,
          "Fasting_Blood_Sugar": 0,
          "Max_Heart_Rate": 168,
          "Serum_Cholesterol": 229
         },
         {
          "Age": 54,
          "Chest_Pain_Type": 4,
          "Diagnosis": false,
          "Fasting_Blood_Sugar": 0,
          "Max_Heart_Rate": 160,
          "Serum_Cholesterol": 239
         },
         {
          "Age": 48,
          "Chest_Pain_Type": 3,
          "Diagnosis": false,
          "Fasting_Blood_Sugar": 0,
          "Max_Heart_Rate": 139,
          "Serum_Cholesterol": 275
         },
         {
          "Age": 49,
          "Chest_Pain_Type": 2,
          "Diagnosis": false,
          "Fasting_Blood_Sugar": 0,
          "Max_Heart_Rate": 171,
          "Serum_Cholesterol": 266
         },
         {
          "Age": 64,
          "Chest_Pain_Type": 1,
          "Diagnosis": false,
          "Fasting_Blood_Sugar": 0,
          "Max_Heart_Rate": 144,
          "Serum_Cholesterol": 211
         },
         {
          "Age": 58,
          "Chest_Pain_Type": 1,
          "Diagnosis": false,
          "Fasting_Blood_Sugar": 1,
          "Max_Heart_Rate": 162,
          "Serum_Cholesterol": 283
         },
         {
          "Age": 58,
          "Chest_Pain_Type": 2,
          "Diagnosis": true,
          "Fasting_Blood_Sugar": 0,
          "Max_Heart_Rate": 160,
          "Serum_Cholesterol": 284
         },
         {
          "Age": 58,
          "Chest_Pain_Type": 3,
          "Diagnosis": true,
          "Fasting_Blood_Sugar": 0,
          "Max_Heart_Rate": 173,
          "Serum_Cholesterol": 224
         },
         {
          "Age": 60,
          "Chest_Pain_Type": 4,
          "Diagnosis": true,
          "Fasting_Blood_Sugar": 0,
          "Max_Heart_Rate": 132,
          "Serum_Cholesterol": 206
         },
         {
          "Age": 50,
          "Chest_Pain_Type": 3,
          "Diagnosis": false,
          "Fasting_Blood_Sugar": 0,
          "Max_Heart_Rate": 158,
          "Serum_Cholesterol": 219
         },
         {
          "Age": 58,
          "Chest_Pain_Type": 3,
          "Diagnosis": false,
          "Fasting_Blood_Sugar": 0,
          "Max_Heart_Rate": 172,
          "Serum_Cholesterol": 340
         },
         {
          "Age": 66,
          "Chest_Pain_Type": 1,
          "Diagnosis": false,
          "Fasting_Blood_Sugar": 0,
          "Max_Heart_Rate": 114,
          "Serum_Cholesterol": 226
         },
         {
          "Age": 43,
          "Chest_Pain_Type": 4,
          "Diagnosis": false,
          "Fasting_Blood_Sugar": 0,
          "Max_Heart_Rate": 171,
          "Serum_Cholesterol": 247
         },
         {
          "Age": 40,
          "Chest_Pain_Type": 4,
          "Diagnosis": true,
          "Fasting_Blood_Sugar": 0,
          "Max_Heart_Rate": 114,
          "Serum_Cholesterol": 167
         },
         {
          "Age": 69,
          "Chest_Pain_Type": 1,
          "Diagnosis": false,
          "Fasting_Blood_Sugar": 0,
          "Max_Heart_Rate": 151,
          "Serum_Cholesterol": 239
         },
         {
          "Age": 60,
          "Chest_Pain_Type": 4,
          "Diagnosis": true,
          "Fasting_Blood_Sugar": 1,
          "Max_Heart_Rate": 160,
          "Serum_Cholesterol": 230
         },
         {
          "Age": 64,
          "Chest_Pain_Type": 3,
          "Diagnosis": true,
          "Fasting_Blood_Sugar": 0,
          "Max_Heart_Rate": 158,
          "Serum_Cholesterol": 335
         },
         {
          "Age": 59,
          "Chest_Pain_Type": 4,
          "Diagnosis": false,
          "Fasting_Blood_Sugar": 0,
          "Max_Heart_Rate": 161,
          "Serum_Cholesterol": 234
         },
         {
          "Age": 44,
          "Chest_Pain_Type": 3,
          "Diagnosis": false,
          "Fasting_Blood_Sugar": 0,
          "Max_Heart_Rate": 179,
          "Serum_Cholesterol": 233
         },
         {
          "Age": 42,
          "Chest_Pain_Type": 4,
          "Diagnosis": false,
          "Fasting_Blood_Sugar": 0,
          "Max_Heart_Rate": 178,
          "Serum_Cholesterol": 226
         },
         {
          "Age": 43,
          "Chest_Pain_Type": 4,
          "Diagnosis": true,
          "Fasting_Blood_Sugar": 0,
          "Max_Heart_Rate": 120,
          "Serum_Cholesterol": 177
         },
         {
          "Age": 57,
          "Chest_Pain_Type": 4,
          "Diagnosis": true,
          "Fasting_Blood_Sugar": 0,
          "Max_Heart_Rate": 112,
          "Serum_Cholesterol": 276
         },
         {
          "Age": 55,
          "Chest_Pain_Type": 4,
          "Diagnosis": true,
          "Fasting_Blood_Sugar": 0,
          "Max_Heart_Rate": 132,
          "Serum_Cholesterol": 353
         },
         {
          "Age": 61,
          "Chest_Pain_Type": 3,
          "Diagnosis": false,
          "Fasting_Blood_Sugar": 1,
          "Max_Heart_Rate": 137,
          "Serum_Cholesterol": 243
         },
         {
          "Age": 65,
          "Chest_Pain_Type": 4,
          "Diagnosis": true,
          "Fasting_Blood_Sugar": 0,
          "Max_Heart_Rate": 114,
          "Serum_Cholesterol": 225
         },
         {
          "Age": 40,
          "Chest_Pain_Type": 1,
          "Diagnosis": false,
          "Fasting_Blood_Sugar": 0,
          "Max_Heart_Rate": 178,
          "Serum_Cholesterol": 199
         },
         {
          "Age": 71,
          "Chest_Pain_Type": 2,
          "Diagnosis": false,
          "Fasting_Blood_Sugar": 0,
          "Max_Heart_Rate": 162,
          "Serum_Cholesterol": 302
         },
         {
          "Age": 59,
          "Chest_Pain_Type": 3,
          "Diagnosis": false,
          "Fasting_Blood_Sugar": 1,
          "Max_Heart_Rate": 157,
          "Serum_Cholesterol": 212
         },
         {
          "Age": 61,
          "Chest_Pain_Type": 4,
          "Diagnosis": true,
          "Fasting_Blood_Sugar": 0,
          "Max_Heart_Rate": 169,
          "Serum_Cholesterol": 330
         },
         {
          "Age": 58,
          "Chest_Pain_Type": 3,
          "Diagnosis": true,
          "Fasting_Blood_Sugar": 0,
          "Max_Heart_Rate": 165,
          "Serum_Cholesterol": 230
         },
         {
          "Age": 51,
          "Chest_Pain_Type": 3,
          "Diagnosis": false,
          "Fasting_Blood_Sugar": 0,
          "Max_Heart_Rate": 123,
          "Serum_Cholesterol": 175
         },
         {
          "Age": 50,
          "Chest_Pain_Type": 4,
          "Diagnosis": true,
          "Fasting_Blood_Sugar": 0,
          "Max_Heart_Rate": 128,
          "Serum_Cholesterol": 243
         },
         {
          "Age": 65,
          "Chest_Pain_Type": 3,
          "Diagnosis": false,
          "Fasting_Blood_Sugar": 1,
          "Max_Heart_Rate": 157,
          "Serum_Cholesterol": 417
         },
         {
          "Age": 53,
          "Chest_Pain_Type": 3,
          "Diagnosis": false,
          "Fasting_Blood_Sugar": 1,
          "Max_Heart_Rate": 152,
          "Serum_Cholesterol": 197
         },
         {
          "Age": 41,
          "Chest_Pain_Type": 2,
          "Diagnosis": false,
          "Fasting_Blood_Sugar": 0,
          "Max_Heart_Rate": 168,
          "Serum_Cholesterol": 198
         },
         {
          "Age": 65,
          "Chest_Pain_Type": 4,
          "Diagnosis": false,
          "Fasting_Blood_Sugar": 0,
          "Max_Heart_Rate": 140,
          "Serum_Cholesterol": 177
         },
         {
          "Age": 44,
          "Chest_Pain_Type": 4,
          "Diagnosis": true,
          "Fasting_Blood_Sugar": 0,
          "Max_Heart_Rate": 153,
          "Serum_Cholesterol": 290
         },
         {
          "Age": 44,
          "Chest_Pain_Type": 2,
          "Diagnosis": false,
          "Fasting_Blood_Sugar": 0,
          "Max_Heart_Rate": 188,
          "Serum_Cholesterol": 219
         },
         {
          "Age": 60,
          "Chest_Pain_Type": 4,
          "Diagnosis": true,
          "Fasting_Blood_Sugar": 0,
          "Max_Heart_Rate": 144,
          "Serum_Cholesterol": 253
         },
         {
          "Age": 54,
          "Chest_Pain_Type": 4,
          "Diagnosis": true,
          "Fasting_Blood_Sugar": 0,
          "Max_Heart_Rate": 109,
          "Serum_Cholesterol": 266
         },
         {
          "Age": 50,
          "Chest_Pain_Type": 3,
          "Diagnosis": true,
          "Fasting_Blood_Sugar": 0,
          "Max_Heart_Rate": 163,
          "Serum_Cholesterol": 233
         },
         {
          "Age": 41,
          "Chest_Pain_Type": 4,
          "Diagnosis": true,
          "Fasting_Blood_Sugar": 0,
          "Max_Heart_Rate": 158,
          "Serum_Cholesterol": 172
         },
         {
          "Age": 54,
          "Chest_Pain_Type": 3,
          "Diagnosis": false,
          "Fasting_Blood_Sugar": 0,
          "Max_Heart_Rate": 152,
          "Serum_Cholesterol": 273
         },
         {
          "Age": 51,
          "Chest_Pain_Type": 1,
          "Diagnosis": false,
          "Fasting_Blood_Sugar": 0,
          "Max_Heart_Rate": 125,
          "Serum_Cholesterol": 213
         },
         {
          "Age": 51,
          "Chest_Pain_Type": 4,
          "Diagnosis": true,
          "Fasting_Blood_Sugar": 0,
          "Max_Heart_Rate": 142,
          "Serum_Cholesterol": 305
         },
         {
          "Age": 46,
          "Chest_Pain_Type": 3,
          "Diagnosis": false,
          "Fasting_Blood_Sugar": 0,
          "Max_Heart_Rate": 160,
          "Serum_Cholesterol": 177
         },
         {
          "Age": 58,
          "Chest_Pain_Type": 4,
          "Diagnosis": true,
          "Fasting_Blood_Sugar": 0,
          "Max_Heart_Rate": 131,
          "Serum_Cholesterol": 216
         },
         {
          "Age": 54,
          "Chest_Pain_Type": 3,
          "Diagnosis": false,
          "Fasting_Blood_Sugar": 1,
          "Max_Heart_Rate": 170,
          "Serum_Cholesterol": 304
         },
         {
          "Age": 54,
          "Chest_Pain_Type": 4,
          "Diagnosis": true,
          "Fasting_Blood_Sugar": 0,
          "Max_Heart_Rate": 113,
          "Serum_Cholesterol": 188
         },
         {
          "Age": 60,
          "Chest_Pain_Type": 4,
          "Diagnosis": true,
          "Fasting_Blood_Sugar": 0,
          "Max_Heart_Rate": 142,
          "Serum_Cholesterol": 282
         },
         {
          "Age": 60,
          "Chest_Pain_Type": 3,
          "Diagnosis": true,
          "Fasting_Blood_Sugar": 0,
          "Max_Heart_Rate": 155,
          "Serum_Cholesterol": 185
         },
         {
          "Age": 54,
          "Chest_Pain_Type": 3,
          "Diagnosis": false,
          "Fasting_Blood_Sugar": 0,
          "Max_Heart_Rate": 165,
          "Serum_Cholesterol": 232
         },
         {
          "Age": 59,
          "Chest_Pain_Type": 4,
          "Diagnosis": true,
          "Fasting_Blood_Sugar": 0,
          "Max_Heart_Rate": 140,
          "Serum_Cholesterol": 326
         },
         {
          "Age": 46,
          "Chest_Pain_Type": 3,
          "Diagnosis": true,
          "Fasting_Blood_Sugar": 0,
          "Max_Heart_Rate": 147,
          "Serum_Cholesterol": 231
         },
         {
          "Age": 65,
          "Chest_Pain_Type": 3,
          "Diagnosis": false,
          "Fasting_Blood_Sugar": 0,
          "Max_Heart_Rate": 148,
          "Serum_Cholesterol": 269
         },
         {
          "Age": 67,
          "Chest_Pain_Type": 4,
          "Diagnosis": true,
          "Fasting_Blood_Sugar": 1,
          "Max_Heart_Rate": 163,
          "Serum_Cholesterol": 254
         },
         {
          "Age": 62,
          "Chest_Pain_Type": 4,
          "Diagnosis": true,
          "Fasting_Blood_Sugar": 0,
          "Max_Heart_Rate": 99,
          "Serum_Cholesterol": 267
         },
         {
          "Age": 65,
          "Chest_Pain_Type": 4,
          "Diagnosis": true,
          "Fasting_Blood_Sugar": 0,
          "Max_Heart_Rate": 158,
          "Serum_Cholesterol": 248
         },
         {
          "Age": 44,
          "Chest_Pain_Type": 4,
          "Diagnosis": true,
          "Fasting_Blood_Sugar": 0,
          "Max_Heart_Rate": 177,
          "Serum_Cholesterol": 197
         },
         {
          "Age": 65,
          "Chest_Pain_Type": 3,
          "Diagnosis": false,
          "Fasting_Blood_Sugar": 0,
          "Max_Heart_Rate": 151,
          "Serum_Cholesterol": 360
         },
         {
          "Age": 60,
          "Chest_Pain_Type": 4,
          "Diagnosis": true,
          "Fasting_Blood_Sugar": 0,
          "Max_Heart_Rate": 141,
          "Serum_Cholesterol": 258
         },
         {
          "Age": 51,
          "Chest_Pain_Type": 3,
          "Diagnosis": false,
          "Fasting_Blood_Sugar": 0,
          "Max_Heart_Rate": 142,
          "Serum_Cholesterol": 308
         },
         {
          "Age": 48,
          "Chest_Pain_Type": 2,
          "Diagnosis": false,
          "Fasting_Blood_Sugar": 0,
          "Max_Heart_Rate": 180,
          "Serum_Cholesterol": 245
         },
         {
          "Age": 58,
          "Chest_Pain_Type": 4,
          "Diagnosis": true,
          "Fasting_Blood_Sugar": 0,
          "Max_Heart_Rate": 111,
          "Serum_Cholesterol": 270
         },
         {
          "Age": 45,
          "Chest_Pain_Type": 4,
          "Diagnosis": false,
          "Fasting_Blood_Sugar": 0,
          "Max_Heart_Rate": 148,
          "Serum_Cholesterol": 208
         },
         {
          "Age": 53,
          "Chest_Pain_Type": 4,
          "Diagnosis": false,
          "Fasting_Blood_Sugar": 0,
          "Max_Heart_Rate": 143,
          "Serum_Cholesterol": 264
         },
         {
          "Age": 39,
          "Chest_Pain_Type": 3,
          "Diagnosis": false,
          "Fasting_Blood_Sugar": 0,
          "Max_Heart_Rate": 182,
          "Serum_Cholesterol": 321
         },
         {
          "Age": 68,
          "Chest_Pain_Type": 3,
          "Diagnosis": true,
          "Fasting_Blood_Sugar": 1,
          "Max_Heart_Rate": 150,
          "Serum_Cholesterol": 274
         },
         {
          "Age": 52,
          "Chest_Pain_Type": 2,
          "Diagnosis": false,
          "Fasting_Blood_Sugar": 0,
          "Max_Heart_Rate": 172,
          "Serum_Cholesterol": 325
         },
         {
          "Age": 44,
          "Chest_Pain_Type": 3,
          "Diagnosis": false,
          "Fasting_Blood_Sugar": 0,
          "Max_Heart_Rate": 180,
          "Serum_Cholesterol": 235
         },
         {
          "Age": 47,
          "Chest_Pain_Type": 3,
          "Diagnosis": false,
          "Fasting_Blood_Sugar": 0,
          "Max_Heart_Rate": 156,
          "Serum_Cholesterol": 257
         },
         {
          "Age": 53,
          "Chest_Pain_Type": 3,
          "Diagnosis": false,
          "Fasting_Blood_Sugar": 0,
          "Max_Heart_Rate": 115,
          "Serum_Cholesterol": 216
         },
         {
          "Age": 53,
          "Chest_Pain_Type": 4,
          "Diagnosis": false,
          "Fasting_Blood_Sugar": 0,
          "Max_Heart_Rate": 160,
          "Serum_Cholesterol": 234
         },
         {
          "Age": 51,
          "Chest_Pain_Type": 3,
          "Diagnosis": false,
          "Fasting_Blood_Sugar": 0,
          "Max_Heart_Rate": 149,
          "Serum_Cholesterol": 256
         },
         {
          "Age": 66,
          "Chest_Pain_Type": 4,
          "Diagnosis": false,
          "Fasting_Blood_Sugar": 0,
          "Max_Heart_Rate": 151,
          "Serum_Cholesterol": 302
         },
         {
          "Age": 62,
          "Chest_Pain_Type": 4,
          "Diagnosis": true,
          "Fasting_Blood_Sugar": 0,
          "Max_Heart_Rate": 145,
          "Serum_Cholesterol": 164
         },
         {
          "Age": 62,
          "Chest_Pain_Type": 3,
          "Diagnosis": false,
          "Fasting_Blood_Sugar": 0,
          "Max_Heart_Rate": 146,
          "Serum_Cholesterol": 231
         },
         {
          "Age": 44,
          "Chest_Pain_Type": 3,
          "Diagnosis": false,
          "Fasting_Blood_Sugar": 0,
          "Max_Heart_Rate": 175,
          "Serum_Cholesterol": 141
         },
         {
          "Age": 63,
          "Chest_Pain_Type": 3,
          "Diagnosis": false,
          "Fasting_Blood_Sugar": 0,
          "Max_Heart_Rate": 172,
          "Serum_Cholesterol": 252
         },
         {
          "Age": 52,
          "Chest_Pain_Type": 4,
          "Diagnosis": true,
          "Fasting_Blood_Sugar": 0,
          "Max_Heart_Rate": 161,
          "Serum_Cholesterol": 255
         },
         {
          "Age": 59,
          "Chest_Pain_Type": 4,
          "Diagnosis": true,
          "Fasting_Blood_Sugar": 0,
          "Max_Heart_Rate": 142,
          "Serum_Cholesterol": 239
         },
         {
          "Age": 60,
          "Chest_Pain_Type": 4,
          "Diagnosis": true,
          "Fasting_Blood_Sugar": 0,
          "Max_Heart_Rate": 157,
          "Serum_Cholesterol": 258
         },
         {
          "Age": 52,
          "Chest_Pain_Type": 2,
          "Diagnosis": false,
          "Fasting_Blood_Sugar": 0,
          "Max_Heart_Rate": 158,
          "Serum_Cholesterol": 201
         },
         {
          "Age": 48,
          "Chest_Pain_Type": 4,
          "Diagnosis": false,
          "Fasting_Blood_Sugar": 0,
          "Max_Heart_Rate": 186,
          "Serum_Cholesterol": 222
         },
         {
          "Age": 45,
          "Chest_Pain_Type": 4,
          "Diagnosis": false,
          "Fasting_Blood_Sugar": 0,
          "Max_Heart_Rate": 185,
          "Serum_Cholesterol": 260
         },
         {
          "Age": 34,
          "Chest_Pain_Type": 1,
          "Diagnosis": false,
          "Fasting_Blood_Sugar": 0,
          "Max_Heart_Rate": 174,
          "Serum_Cholesterol": 182
         },
         {
          "Age": 57,
          "Chest_Pain_Type": 4,
          "Diagnosis": false,
          "Fasting_Blood_Sugar": 0,
          "Max_Heart_Rate": 159,
          "Serum_Cholesterol": 303
         },
         {
          "Age": 71,
          "Chest_Pain_Type": 3,
          "Diagnosis": false,
          "Fasting_Blood_Sugar": 1,
          "Max_Heart_Rate": 130,
          "Serum_Cholesterol": 265
         },
         {
          "Age": 49,
          "Chest_Pain_Type": 3,
          "Diagnosis": true,
          "Fasting_Blood_Sugar": 0,
          "Max_Heart_Rate": 139,
          "Serum_Cholesterol": 188
         },
         {
          "Age": 54,
          "Chest_Pain_Type": 2,
          "Diagnosis": false,
          "Fasting_Blood_Sugar": 0,
          "Max_Heart_Rate": 156,
          "Serum_Cholesterol": 309
         },
         {
          "Age": 59,
          "Chest_Pain_Type": 4,
          "Diagnosis": true,
          "Fasting_Blood_Sugar": 0,
          "Max_Heart_Rate": 162,
          "Serum_Cholesterol": 177
         },
         {
          "Age": 57,
          "Chest_Pain_Type": 3,
          "Diagnosis": true,
          "Fasting_Blood_Sugar": 0,
          "Max_Heart_Rate": 150,
          "Serum_Cholesterol": 229
         },
         {
          "Age": 61,
          "Chest_Pain_Type": 4,
          "Diagnosis": true,
          "Fasting_Blood_Sugar": 0,
          "Max_Heart_Rate": 140,
          "Serum_Cholesterol": 260
         },
         {
          "Age": 39,
          "Chest_Pain_Type": 4,
          "Diagnosis": true,
          "Fasting_Blood_Sugar": 0,
          "Max_Heart_Rate": 140,
          "Serum_Cholesterol": 219
         },
         {
          "Age": 61,
          "Chest_Pain_Type": 4,
          "Diagnosis": true,
          "Fasting_Blood_Sugar": 0,
          "Max_Heart_Rate": 146,
          "Serum_Cholesterol": 307
         },
         {
          "Age": 56,
          "Chest_Pain_Type": 4,
          "Diagnosis": true,
          "Fasting_Blood_Sugar": 1,
          "Max_Heart_Rate": 144,
          "Serum_Cholesterol": 249
         },
         {
          "Age": 52,
          "Chest_Pain_Type": 1,
          "Diagnosis": false,
          "Fasting_Blood_Sugar": 0,
          "Max_Heart_Rate": 190,
          "Serum_Cholesterol": 186
         },
         {
          "Age": 43,
          "Chest_Pain_Type": 4,
          "Diagnosis": true,
          "Fasting_Blood_Sugar": 1,
          "Max_Heart_Rate": 136,
          "Serum_Cholesterol": 341
         },
         {
          "Age": 62,
          "Chest_Pain_Type": 3,
          "Diagnosis": true,
          "Fasting_Blood_Sugar": 0,
          "Max_Heart_Rate": 97,
          "Serum_Cholesterol": 263
         },
         {
          "Age": 41,
          "Chest_Pain_Type": 2,
          "Diagnosis": false,
          "Fasting_Blood_Sugar": 0,
          "Max_Heart_Rate": 132,
          "Serum_Cholesterol": 203
         },
         {
          "Age": 58,
          "Chest_Pain_Type": 3,
          "Diagnosis": false,
          "Fasting_Blood_Sugar": 1,
          "Max_Heart_Rate": 165,
          "Serum_Cholesterol": 211
         },
         {
          "Age": 35,
          "Chest_Pain_Type": 4,
          "Diagnosis": false,
          "Fasting_Blood_Sugar": 0,
          "Max_Heart_Rate": 182,
          "Serum_Cholesterol": 183
         },
         {
          "Age": 63,
          "Chest_Pain_Type": 4,
          "Diagnosis": true,
          "Fasting_Blood_Sugar": 1,
          "Max_Heart_Rate": 132,
          "Serum_Cholesterol": 330
         },
         {
          "Age": 65,
          "Chest_Pain_Type": 4,
          "Diagnosis": true,
          "Fasting_Blood_Sugar": 0,
          "Max_Heart_Rate": 127,
          "Serum_Cholesterol": 254
         },
         {
          "Age": 48,
          "Chest_Pain_Type": 4,
          "Diagnosis": true,
          "Fasting_Blood_Sugar": 1,
          "Max_Heart_Rate": 150,
          "Serum_Cholesterol": 256
         },
         {
          "Age": 63,
          "Chest_Pain_Type": 4,
          "Diagnosis": true,
          "Fasting_Blood_Sugar": 0,
          "Max_Heart_Rate": 154,
          "Serum_Cholesterol": 407
         },
         {
          "Age": 51,
          "Chest_Pain_Type": 3,
          "Diagnosis": false,
          "Fasting_Blood_Sugar": 0,
          "Max_Heart_Rate": 143,
          "Serum_Cholesterol": 222
         },
         {
          "Age": 55,
          "Chest_Pain_Type": 4,
          "Diagnosis": true,
          "Fasting_Blood_Sugar": 0,
          "Max_Heart_Rate": 111,
          "Serum_Cholesterol": 217
         },
         {
          "Age": 65,
          "Chest_Pain_Type": 1,
          "Diagnosis": true,
          "Fasting_Blood_Sugar": 1,
          "Max_Heart_Rate": 174,
          "Serum_Cholesterol": 282
         },
         {
          "Age": 45,
          "Chest_Pain_Type": 2,
          "Diagnosis": false,
          "Fasting_Blood_Sugar": 0,
          "Max_Heart_Rate": 175,
          "Serum_Cholesterol": 234
         },
         {
          "Age": 56,
          "Chest_Pain_Type": 4,
          "Diagnosis": true,
          "Fasting_Blood_Sugar": 1,
          "Max_Heart_Rate": 133,
          "Serum_Cholesterol": 288
         },
         {
          "Age": 54,
          "Chest_Pain_Type": 4,
          "Diagnosis": true,
          "Fasting_Blood_Sugar": 0,
          "Max_Heart_Rate": 126,
          "Serum_Cholesterol": 239
         },
         {
          "Age": 44,
          "Chest_Pain_Type": 2,
          "Diagnosis": false,
          "Fasting_Blood_Sugar": 0,
          "Max_Heart_Rate": 170,
          "Serum_Cholesterol": 220
         },
         {
          "Age": 62,
          "Chest_Pain_Type": 4,
          "Diagnosis": false,
          "Fasting_Blood_Sugar": 0,
          "Max_Heart_Rate": 163,
          "Serum_Cholesterol": 209
         },
         {
          "Age": 54,
          "Chest_Pain_Type": 3,
          "Diagnosis": false,
          "Fasting_Blood_Sugar": 0,
          "Max_Heart_Rate": 147,
          "Serum_Cholesterol": 258
         },
         {
          "Age": 51,
          "Chest_Pain_Type": 3,
          "Diagnosis": false,
          "Fasting_Blood_Sugar": 0,
          "Max_Heart_Rate": 154,
          "Serum_Cholesterol": 227
         },
         {
          "Age": 29,
          "Chest_Pain_Type": 2,
          "Diagnosis": false,
          "Fasting_Blood_Sugar": 0,
          "Max_Heart_Rate": 202,
          "Serum_Cholesterol": 204
         },
         {
          "Age": 51,
          "Chest_Pain_Type": 4,
          "Diagnosis": false,
          "Fasting_Blood_Sugar": 0,
          "Max_Heart_Rate": 186,
          "Serum_Cholesterol": 261
         },
         {
          "Age": 43,
          "Chest_Pain_Type": 3,
          "Diagnosis": false,
          "Fasting_Blood_Sugar": 0,
          "Max_Heart_Rate": 165,
          "Serum_Cholesterol": 213
         },
         {
          "Age": 55,
          "Chest_Pain_Type": 2,
          "Diagnosis": false,
          "Fasting_Blood_Sugar": 0,
          "Max_Heart_Rate": 161,
          "Serum_Cholesterol": 250
         },
         {
          "Age": 70,
          "Chest_Pain_Type": 4,
          "Diagnosis": true,
          "Fasting_Blood_Sugar": 0,
          "Max_Heart_Rate": 125,
          "Serum_Cholesterol": 174
         },
         {
          "Age": 62,
          "Chest_Pain_Type": 2,
          "Diagnosis": true,
          "Fasting_Blood_Sugar": 0,
          "Max_Heart_Rate": 103,
          "Serum_Cholesterol": 281
         },
         {
          "Age": 35,
          "Chest_Pain_Type": 4,
          "Diagnosis": true,
          "Fasting_Blood_Sugar": 0,
          "Max_Heart_Rate": 130,
          "Serum_Cholesterol": 198
         },
         {
          "Age": 51,
          "Chest_Pain_Type": 3,
          "Diagnosis": false,
          "Fasting_Blood_Sugar": 1,
          "Max_Heart_Rate": 166,
          "Serum_Cholesterol": 245
         },
         {
          "Age": 59,
          "Chest_Pain_Type": 2,
          "Diagnosis": false,
          "Fasting_Blood_Sugar": 0,
          "Max_Heart_Rate": 164,
          "Serum_Cholesterol": 221
         },
         {
          "Age": 59,
          "Chest_Pain_Type": 1,
          "Diagnosis": true,
          "Fasting_Blood_Sugar": 0,
          "Max_Heart_Rate": 159,
          "Serum_Cholesterol": 288
         },
         {
          "Age": 52,
          "Chest_Pain_Type": 2,
          "Diagnosis": false,
          "Fasting_Blood_Sugar": 1,
          "Max_Heart_Rate": 184,
          "Serum_Cholesterol": 205
         },
         {
          "Age": 64,
          "Chest_Pain_Type": 3,
          "Diagnosis": true,
          "Fasting_Blood_Sugar": 0,
          "Max_Heart_Rate": 131,
          "Serum_Cholesterol": 309
         },
         {
          "Age": 58,
          "Chest_Pain_Type": 3,
          "Diagnosis": false,
          "Fasting_Blood_Sugar": 0,
          "Max_Heart_Rate": 154,
          "Serum_Cholesterol": 240
         },
         {
          "Age": 47,
          "Chest_Pain_Type": 3,
          "Diagnosis": true,
          "Fasting_Blood_Sugar": 0,
          "Max_Heart_Rate": 152,
          "Serum_Cholesterol": 243
         },
         {
          "Age": 57,
          "Chest_Pain_Type": 4,
          "Diagnosis": true,
          "Fasting_Blood_Sugar": 1,
          "Max_Heart_Rate": 124,
          "Serum_Cholesterol": 289
         },
         {
          "Age": 41,
          "Chest_Pain_Type": 3,
          "Diagnosis": false,
          "Fasting_Blood_Sugar": 0,
          "Max_Heart_Rate": 179,
          "Serum_Cholesterol": 250
         },
         {
          "Age": 45,
          "Chest_Pain_Type": 2,
          "Diagnosis": false,
          "Fasting_Blood_Sugar": 0,
          "Max_Heart_Rate": 170,
          "Serum_Cholesterol": 308
         },
         {
          "Age": 60,
          "Chest_Pain_Type": 3,
          "Diagnosis": false,
          "Fasting_Blood_Sugar": 0,
          "Max_Heart_Rate": 160,
          "Serum_Cholesterol": 318
         },
         {
          "Age": 52,
          "Chest_Pain_Type": 1,
          "Diagnosis": false,
          "Fasting_Blood_Sugar": 1,
          "Max_Heart_Rate": 178,
          "Serum_Cholesterol": 298
         },
         {
          "Age": 42,
          "Chest_Pain_Type": 4,
          "Diagnosis": false,
          "Fasting_Blood_Sugar": 0,
          "Max_Heart_Rate": 122,
          "Serum_Cholesterol": 265
         },
         {
          "Age": 67,
          "Chest_Pain_Type": 3,
          "Diagnosis": false,
          "Fasting_Blood_Sugar": 0,
          "Max_Heart_Rate": 160,
          "Serum_Cholesterol": 564
         },
         {
          "Age": 55,
          "Chest_Pain_Type": 4,
          "Diagnosis": true,
          "Fasting_Blood_Sugar": 0,
          "Max_Heart_Rate": 145,
          "Serum_Cholesterol": 289
         },
         {
          "Age": 64,
          "Chest_Pain_Type": 4,
          "Diagnosis": true,
          "Fasting_Blood_Sugar": 0,
          "Max_Heart_Rate": 96,
          "Serum_Cholesterol": 246
         },
         {
          "Age": 70,
          "Chest_Pain_Type": 4,
          "Diagnosis": true,
          "Fasting_Blood_Sugar": 0,
          "Max_Heart_Rate": 109,
          "Serum_Cholesterol": 322
         },
         {
          "Age": 51,
          "Chest_Pain_Type": 4,
          "Diagnosis": true,
          "Fasting_Blood_Sugar": 0,
          "Max_Heart_Rate": 173,
          "Serum_Cholesterol": 299
         },
         {
          "Age": 58,
          "Chest_Pain_Type": 4,
          "Diagnosis": true,
          "Fasting_Blood_Sugar": 0,
          "Max_Heart_Rate": 171,
          "Serum_Cholesterol": 300
         },
         {
          "Age": 60,
          "Chest_Pain_Type": 4,
          "Diagnosis": true,
          "Fasting_Blood_Sugar": 0,
          "Max_Heart_Rate": 170,
          "Serum_Cholesterol": 293
         },
         {
          "Age": 68,
          "Chest_Pain_Type": 3,
          "Diagnosis": false,
          "Fasting_Blood_Sugar": 0,
          "Max_Heart_Rate": 151,
          "Serum_Cholesterol": 277
         },
         {
          "Age": 46,
          "Chest_Pain_Type": 2,
          "Diagnosis": false,
          "Fasting_Blood_Sugar": 1,
          "Max_Heart_Rate": 156,
          "Serum_Cholesterol": 197
         },
         {
          "Age": 77,
          "Chest_Pain_Type": 4,
          "Diagnosis": true,
          "Fasting_Blood_Sugar": 0,
          "Max_Heart_Rate": 162,
          "Serum_Cholesterol": 304
         },
         {
          "Age": 54,
          "Chest_Pain_Type": 3,
          "Diagnosis": false,
          "Fasting_Blood_Sugar": 0,
          "Max_Heart_Rate": 158,
          "Serum_Cholesterol": 214
         },
         {
          "Age": 58,
          "Chest_Pain_Type": 4,
          "Diagnosis": false,
          "Fasting_Blood_Sugar": 0,
          "Max_Heart_Rate": 122,
          "Serum_Cholesterol": 248
         },
         {
          "Age": 48,
          "Chest_Pain_Type": 3,
          "Diagnosis": false,
          "Fasting_Blood_Sugar": 1,
          "Max_Heart_Rate": 175,
          "Serum_Cholesterol": 255
         },
         {
          "Age": 57,
          "Chest_Pain_Type": 4,
          "Diagnosis": false,
          "Fasting_Blood_Sugar": 0,
          "Max_Heart_Rate": 168,
          "Serum_Cholesterol": 207
         },
         {
          "Age": 52,
          "Chest_Pain_Type": 3,
          "Diagnosis": false,
          "Fasting_Blood_Sugar": 0,
          "Max_Heart_Rate": 169,
          "Serum_Cholesterol": 223
         },
         {
          "Age": 54,
          "Chest_Pain_Type": 2,
          "Diagnosis": false,
          "Fasting_Blood_Sugar": 1,
          "Max_Heart_Rate": 159,
          "Serum_Cholesterol": 288
         },
         {
          "Age": 35,
          "Chest_Pain_Type": 4,
          "Diagnosis": true,
          "Fasting_Blood_Sugar": 0,
          "Max_Heart_Rate": 156,
          "Serum_Cholesterol": 282
         },
         {
          "Age": 45,
          "Chest_Pain_Type": 2,
          "Diagnosis": false,
          "Fasting_Blood_Sugar": 0,
          "Max_Heart_Rate": 138,
          "Serum_Cholesterol": 160
         },
         {
          "Age": 70,
          "Chest_Pain_Type": 3,
          "Diagnosis": true,
          "Fasting_Blood_Sugar": 0,
          "Max_Heart_Rate": 112,
          "Serum_Cholesterol": 269
         },
         {
          "Age": 53,
          "Chest_Pain_Type": 4,
          "Diagnosis": false,
          "Fasting_Blood_Sugar": 0,
          "Max_Heart_Rate": 111,
          "Serum_Cholesterol": 226
         },
         {
          "Age": 59,
          "Chest_Pain_Type": 4,
          "Diagnosis": true,
          "Fasting_Blood_Sugar": 0,
          "Max_Heart_Rate": 143,
          "Serum_Cholesterol": 249
         },
         {
          "Age": 62,
          "Chest_Pain_Type": 4,
          "Diagnosis": false,
          "Fasting_Blood_Sugar": 0,
          "Max_Heart_Rate": 157,
          "Serum_Cholesterol": 394
         },
         {
          "Age": 64,
          "Chest_Pain_Type": 4,
          "Diagnosis": true,
          "Fasting_Blood_Sugar": 0,
          "Max_Heart_Rate": 132,
          "Serum_Cholesterol": 212
         },
         {
          "Age": 57,
          "Chest_Pain_Type": 4,
          "Diagnosis": true,
          "Fasting_Blood_Sugar": 0,
          "Max_Heart_Rate": 88,
          "Serum_Cholesterol": 274
         },
         {
          "Age": 52,
          "Chest_Pain_Type": 4,
          "Diagnosis": false,
          "Fasting_Blood_Sugar": 1,
          "Max_Heart_Rate": 147,
          "Serum_Cholesterol": 233
         },
         {
          "Age": 56,
          "Chest_Pain_Type": 4,
          "Diagnosis": true,
          "Fasting_Blood_Sugar": 0,
          "Max_Heart_Rate": 105,
          "Serum_Cholesterol": 184
         },
         {
          "Age": 43,
          "Chest_Pain_Type": 3,
          "Diagnosis": false,
          "Fasting_Blood_Sugar": 0,
          "Max_Heart_Rate": 162,
          "Serum_Cholesterol": 315
         },
         {
          "Age": 53,
          "Chest_Pain_Type": 3,
          "Diagnosis": false,
          "Fasting_Blood_Sugar": 1,
          "Max_Heart_Rate": 173,
          "Serum_Cholesterol": 246
         },
         {
          "Age": 48,
          "Chest_Pain_Type": 4,
          "Diagnosis": true,
          "Fasting_Blood_Sugar": 0,
          "Max_Heart_Rate": 166,
          "Serum_Cholesterol": 274
         },
         {
          "Age": 56,
          "Chest_Pain_Type": 4,
          "Diagnosis": true,
          "Fasting_Blood_Sugar": 0,
          "Max_Heart_Rate": 150,
          "Serum_Cholesterol": 409
         },
         {
          "Age": 42,
          "Chest_Pain_Type": 1,
          "Diagnosis": false,
          "Fasting_Blood_Sugar": 0,
          "Max_Heart_Rate": 178,
          "Serum_Cholesterol": 244
         },
         {
          "Age": 59,
          "Chest_Pain_Type": 1,
          "Diagnosis": false,
          "Fasting_Blood_Sugar": 0,
          "Max_Heart_Rate": 145,
          "Serum_Cholesterol": 270
         },
         {
          "Age": 60,
          "Chest_Pain_Type": 4,
          "Diagnosis": true,
          "Fasting_Blood_Sugar": 0,
          "Max_Heart_Rate": 161,
          "Serum_Cholesterol": 305
         },
         {
          "Age": 63,
          "Chest_Pain_Type": 2,
          "Diagnosis": false,
          "Fasting_Blood_Sugar": 0,
          "Max_Heart_Rate": 179,
          "Serum_Cholesterol": 195
         },
         {
          "Age": 42,
          "Chest_Pain_Type": 3,
          "Diagnosis": false,
          "Fasting_Blood_Sugar": 1,
          "Max_Heart_Rate": 194,
          "Serum_Cholesterol": 240
         },
         {
          "Age": 66,
          "Chest_Pain_Type": 2,
          "Diagnosis": true,
          "Fasting_Blood_Sugar": 0,
          "Max_Heart_Rate": 120,
          "Serum_Cholesterol": 246
         },
         {
          "Age": 54,
          "Chest_Pain_Type": 2,
          "Diagnosis": true,
          "Fasting_Blood_Sugar": 0,
          "Max_Heart_Rate": 195,
          "Serum_Cholesterol": 283
         },
         {
          "Age": 69,
          "Chest_Pain_Type": 3,
          "Diagnosis": true,
          "Fasting_Blood_Sugar": 0,
          "Max_Heart_Rate": 146,
          "Serum_Cholesterol": 254
         },
         {
          "Age": 50,
          "Chest_Pain_Type": 3,
          "Diagnosis": false,
          "Fasting_Blood_Sugar": 0,
          "Max_Heart_Rate": 163,
          "Serum_Cholesterol": 196
         },
         {
          "Age": 51,
          "Chest_Pain_Type": 4,
          "Diagnosis": true,
          "Fasting_Blood_Sugar": 0,
          "Max_Heart_Rate": 122,
          "Serum_Cholesterol": 298
         },
         {
          "Age": 43,
          "Chest_Pain_Type": 4,
          "Diagnosis": true,
          "Fasting_Blood_Sugar": 1,
          "Max_Heart_Rate": 143,
          "Serum_Cholesterol": 247
         },
         {
          "Age": 62,
          "Chest_Pain_Type": 4,
          "Diagnosis": true,
          "Fasting_Blood_Sugar": 1,
          "Max_Heart_Rate": 106,
          "Serum_Cholesterol": 294
         },
         {
          "Age": 68,
          "Chest_Pain_Type": 3,
          "Diagnosis": false,
          "Fasting_Blood_Sugar": 0,
          "Max_Heart_Rate": 115,
          "Serum_Cholesterol": 211
         },
         {
          "Age": 67,
          "Chest_Pain_Type": 4,
          "Diagnosis": true,
          "Fasting_Blood_Sugar": 0,
          "Max_Heart_Rate": 125,
          "Serum_Cholesterol": 299
         },
         {
          "Age": 69,
          "Chest_Pain_Type": 1,
          "Diagnosis": false,
          "Fasting_Blood_Sugar": 1,
          "Max_Heart_Rate": 131,
          "Serum_Cholesterol": 234
         },
         {
          "Age": 45,
          "Chest_Pain_Type": 4,
          "Diagnosis": false,
          "Fasting_Blood_Sugar": 0,
          "Max_Heart_Rate": 152,
          "Serum_Cholesterol": 236
         },
         {
          "Age": 50,
          "Chest_Pain_Type": 2,
          "Diagnosis": false,
          "Fasting_Blood_Sugar": 0,
          "Max_Heart_Rate": 162,
          "Serum_Cholesterol": 244
         },
         {
          "Age": 59,
          "Chest_Pain_Type": 1,
          "Diagnosis": true,
          "Fasting_Blood_Sugar": 0,
          "Max_Heart_Rate": 125,
          "Serum_Cholesterol": 273
         },
         {
          "Age": 50,
          "Chest_Pain_Type": 4,
          "Diagnosis": false,
          "Fasting_Blood_Sugar": 0,
          "Max_Heart_Rate": 159,
          "Serum_Cholesterol": 254
         },
         {
          "Age": 64,
          "Chest_Pain_Type": 4,
          "Diagnosis": false,
          "Fasting_Blood_Sugar": 0,
          "Max_Heart_Rate": 154,
          "Serum_Cholesterol": 325
         },
         {
          "Age": 57,
          "Chest_Pain_Type": 3,
          "Diagnosis": false,
          "Fasting_Blood_Sugar": 1,
          "Max_Heart_Rate": 173,
          "Serum_Cholesterol": 126
         },
         {
          "Age": 64,
          "Chest_Pain_Type": 3,
          "Diagnosis": false,
          "Fasting_Blood_Sugar": 0,
          "Max_Heart_Rate": 133,
          "Serum_Cholesterol": 313
         },
         {
          "Age": 43,
          "Chest_Pain_Type": 4,
          "Diagnosis": false,
          "Fasting_Blood_Sugar": 0,
          "Max_Heart_Rate": 161,
          "Serum_Cholesterol": 211
         },
         {
          "Age": 45,
          "Chest_Pain_Type": 4,
          "Diagnosis": true,
          "Fasting_Blood_Sugar": 0,
          "Max_Heart_Rate": 147,
          "Serum_Cholesterol": 309
         },
         {
          "Age": 58,
          "Chest_Pain_Type": 4,
          "Diagnosis": true,
          "Fasting_Blood_Sugar": 0,
          "Max_Heart_Rate": 130,
          "Serum_Cholesterol": 259
         },
         {
          "Age": 50,
          "Chest_Pain_Type": 4,
          "Diagnosis": true,
          "Fasting_Blood_Sugar": 0,
          "Max_Heart_Rate": 126,
          "Serum_Cholesterol": 200
         },
         {
          "Age": 55,
          "Chest_Pain_Type": 2,
          "Diagnosis": false,
          "Fasting_Blood_Sugar": 0,
          "Max_Heart_Rate": 155,
          "Serum_Cholesterol": 262
         },
         {
          "Age": 62,
          "Chest_Pain_Type": 4,
          "Diagnosis": true,
          "Fasting_Blood_Sugar": 0,
          "Max_Heart_Rate": 154,
          "Serum_Cholesterol": 244
         },
         {
          "Age": 37,
          "Chest_Pain_Type": 3,
          "Diagnosis": false,
          "Fasting_Blood_Sugar": 0,
          "Max_Heart_Rate": 170,
          "Serum_Cholesterol": 215
         },
         {
          "Age": 38,
          "Chest_Pain_Type": 1,
          "Diagnosis": true,
          "Fasting_Blood_Sugar": 0,
          "Max_Heart_Rate": 182,
          "Serum_Cholesterol": 231
         },
         {
          "Age": 41,
          "Chest_Pain_Type": 3,
          "Diagnosis": false,
          "Fasting_Blood_Sugar": 0,
          "Max_Heart_Rate": 168,
          "Serum_Cholesterol": 214
         },
         {
          "Age": 66,
          "Chest_Pain_Type": 4,
          "Diagnosis": true,
          "Fasting_Blood_Sugar": 1,
          "Max_Heart_Rate": 165,
          "Serum_Cholesterol": 228
         },
         {
          "Age": 52,
          "Chest_Pain_Type": 4,
          "Diagnosis": true,
          "Fasting_Blood_Sugar": 0,
          "Max_Heart_Rate": 160,
          "Serum_Cholesterol": 230
         },
         {
          "Age": 56,
          "Chest_Pain_Type": 1,
          "Diagnosis": false,
          "Fasting_Blood_Sugar": 0,
          "Max_Heart_Rate": 162,
          "Serum_Cholesterol": 193
         },
         {
          "Age": 46,
          "Chest_Pain_Type": 2,
          "Diagnosis": false,
          "Fasting_Blood_Sugar": 0,
          "Max_Heart_Rate": 172,
          "Serum_Cholesterol": 204
         },
         {
          "Age": 46,
          "Chest_Pain_Type": 4,
          "Diagnosis": false,
          "Fasting_Blood_Sugar": 0,
          "Max_Heart_Rate": 152,
          "Serum_Cholesterol": 243
         },
         {
          "Age": 64,
          "Chest_Pain_Type": 4,
          "Diagnosis": false,
          "Fasting_Blood_Sugar": 0,
          "Max_Heart_Rate": 122,
          "Serum_Cholesterol": 303
         },
         {
          "Age": 59,
          "Chest_Pain_Type": 4,
          "Diagnosis": false,
          "Fasting_Blood_Sugar": 0,
          "Max_Heart_Rate": 182,
          "Serum_Cholesterol": 271
         },
         {
          "Age": 41,
          "Chest_Pain_Type": 3,
          "Diagnosis": false,
          "Fasting_Blood_Sugar": 0,
          "Max_Heart_Rate": 172,
          "Serum_Cholesterol": 268
         },
         {
          "Age": 54,
          "Chest_Pain_Type": 3,
          "Diagnosis": false,
          "Fasting_Blood_Sugar": 0,
          "Max_Heart_Rate": 167,
          "Serum_Cholesterol": 267
         },
         {
          "Age": 39,
          "Chest_Pain_Type": 3,
          "Diagnosis": false,
          "Fasting_Blood_Sugar": 0,
          "Max_Heart_Rate": 179,
          "Serum_Cholesterol": 199
         },
         {
          "Age": 53,
          "Chest_Pain_Type": 4,
          "Diagnosis": true,
          "Fasting_Blood_Sugar": 0,
          "Max_Heart_Rate": 95,
          "Serum_Cholesterol": 282
         },
         {
          "Age": 63,
          "Chest_Pain_Type": 4,
          "Diagnosis": true,
          "Fasting_Blood_Sugar": 0,
          "Max_Heart_Rate": 169,
          "Serum_Cholesterol": 269
         },
         {
          "Age": 34,
          "Chest_Pain_Type": 2,
          "Diagnosis": false,
          "Fasting_Blood_Sugar": 0,
          "Max_Heart_Rate": 192,
          "Serum_Cholesterol": 210
         },
         {
          "Age": 47,
          "Chest_Pain_Type": 4,
          "Diagnosis": false,
          "Fasting_Blood_Sugar": 0,
          "Max_Heart_Rate": 143,
          "Serum_Cholesterol": 204
         },
         {
          "Age": 67,
          "Chest_Pain_Type": 3,
          "Diagnosis": false,
          "Fasting_Blood_Sugar": 0,
          "Max_Heart_Rate": 172,
          "Serum_Cholesterol": 277
         },
         {
          "Age": 54,
          "Chest_Pain_Type": 4,
          "Diagnosis": true,
          "Fasting_Blood_Sugar": 0,
          "Max_Heart_Rate": 108,
          "Serum_Cholesterol": 206
         },
         {
          "Age": 66,
          "Chest_Pain_Type": 4,
          "Diagnosis": true,
          "Fasting_Blood_Sugar": 0,
          "Max_Heart_Rate": 132,
          "Serum_Cholesterol": 212
         },
         {
          "Age": 52,
          "Chest_Pain_Type": 3,
          "Diagnosis": false,
          "Fasting_Blood_Sugar": 0,
          "Max_Heart_Rate": 169,
          "Serum_Cholesterol": 196
         },
         {
          "Age": 55,
          "Chest_Pain_Type": 4,
          "Diagnosis": true,
          "Fasting_Blood_Sugar": 0,
          "Max_Heart_Rate": 117,
          "Serum_Cholesterol": 327
         },
         {
          "Age": 49,
          "Chest_Pain_Type": 3,
          "Diagnosis": true,
          "Fasting_Blood_Sugar": 0,
          "Max_Heart_Rate": 126,
          "Serum_Cholesterol": 149
         },
         {
          "Age": 74,
          "Chest_Pain_Type": 2,
          "Diagnosis": false,
          "Fasting_Blood_Sugar": 0,
          "Max_Heart_Rate": 121,
          "Serum_Cholesterol": 269
         },
         {
          "Age": 54,
          "Chest_Pain_Type": 3,
          "Diagnosis": false,
          "Fasting_Blood_Sugar": 0,
          "Max_Heart_Rate": 163,
          "Serum_Cholesterol": 201
         },
         {
          "Age": 54,
          "Chest_Pain_Type": 4,
          "Diagnosis": true,
          "Fasting_Blood_Sugar": 0,
          "Max_Heart_Rate": 116,
          "Serum_Cholesterol": 286
         },
         {
          "Age": 56,
          "Chest_Pain_Type": 4,
          "Diagnosis": true,
          "Fasting_Blood_Sugar": 1,
          "Max_Heart_Rate": 103,
          "Serum_Cholesterol": 283
         },
         {
          "Age": 46,
          "Chest_Pain_Type": 4,
          "Diagnosis": true,
          "Fasting_Blood_Sugar": 0,
          "Max_Heart_Rate": 144,
          "Serum_Cholesterol": 249
         },
         {
          "Age": 49,
          "Chest_Pain_Type": 2,
          "Diagnosis": false,
          "Fasting_Blood_Sugar": 0,
          "Max_Heart_Rate": 162,
          "Serum_Cholesterol": 271
         },
         {
          "Age": 42,
          "Chest_Pain_Type": 2,
          "Diagnosis": false,
          "Fasting_Blood_Sugar": 0,
          "Max_Heart_Rate": 162,
          "Serum_Cholesterol": 295
         },
         {
          "Age": 41,
          "Chest_Pain_Type": 2,
          "Diagnosis": false,
          "Fasting_Blood_Sugar": 0,
          "Max_Heart_Rate": 153,
          "Serum_Cholesterol": 235
         },
         {
          "Age": 41,
          "Chest_Pain_Type": 2,
          "Diagnosis": false,
          "Fasting_Blood_Sugar": 0,
          "Max_Heart_Rate": 163,
          "Serum_Cholesterol": 306
         },
         {
          "Age": 49,
          "Chest_Pain_Type": 4,
          "Diagnosis": false,
          "Fasting_Blood_Sugar": 0,
          "Max_Heart_Rate": 163,
          "Serum_Cholesterol": 269
         },
         {
          "Age": 61,
          "Chest_Pain_Type": 1,
          "Diagnosis": true,
          "Fasting_Blood_Sugar": 0,
          "Max_Heart_Rate": 145,
          "Serum_Cholesterol": 234
         },
         {
          "Age": 60,
          "Chest_Pain_Type": 3,
          "Diagnosis": false,
          "Fasting_Blood_Sugar": 1,
          "Max_Heart_Rate": 96,
          "Serum_Cholesterol": 178
         },
         {
          "Age": 67,
          "Chest_Pain_Type": 4,
          "Diagnosis": true,
          "Fasting_Blood_Sugar": 0,
          "Max_Heart_Rate": 71,
          "Serum_Cholesterol": 237
         },
         {
          "Age": 58,
          "Chest_Pain_Type": 4,
          "Diagnosis": true,
          "Fasting_Blood_Sugar": 0,
          "Max_Heart_Rate": 156,
          "Serum_Cholesterol": 234
         },
         {
          "Age": 47,
          "Chest_Pain_Type": 4,
          "Diagnosis": true,
          "Fasting_Blood_Sugar": 0,
          "Max_Heart_Rate": 118,
          "Serum_Cholesterol": 275
         },
         {
          "Age": 52,
          "Chest_Pain_Type": 4,
          "Diagnosis": true,
          "Fasting_Blood_Sugar": 0,
          "Max_Heart_Rate": 168,
          "Serum_Cholesterol": 212
         },
         {
          "Age": 62,
          "Chest_Pain_Type": 2,
          "Diagnosis": false,
          "Fasting_Blood_Sugar": 1,
          "Max_Heart_Rate": 140,
          "Serum_Cholesterol": 208
         },
         {
          "Age": 57,
          "Chest_Pain_Type": 4,
          "Diagnosis": false,
          "Fasting_Blood_Sugar": 0,
          "Max_Heart_Rate": 126,
          "Serum_Cholesterol": 201
         },
         {
          "Age": 58,
          "Chest_Pain_Type": 4,
          "Diagnosis": true,
          "Fasting_Blood_Sugar": 0,
          "Max_Heart_Rate": 105,
          "Serum_Cholesterol": 218
         },
         {
          "Age": 64,
          "Chest_Pain_Type": 4,
          "Diagnosis": false,
          "Fasting_Blood_Sugar": 0,
          "Max_Heart_Rate": 105,
          "Serum_Cholesterol": 263
         },
         {
          "Age": 51,
          "Chest_Pain_Type": 3,
          "Diagnosis": false,
          "Fasting_Blood_Sugar": 0,
          "Max_Heart_Rate": 157,
          "Serum_Cholesterol": 295
         },
         {
          "Age": 43,
          "Chest_Pain_Type": 4,
          "Diagnosis": false,
          "Fasting_Blood_Sugar": 0,
          "Max_Heart_Rate": 181,
          "Serum_Cholesterol": 303
         },
         {
          "Age": 42,
          "Chest_Pain_Type": 3,
          "Diagnosis": false,
          "Fasting_Blood_Sugar": 0,
          "Max_Heart_Rate": 173,
          "Serum_Cholesterol": 209
         },
         {
          "Age": 67,
          "Chest_Pain_Type": 4,
          "Diagnosis": false,
          "Fasting_Blood_Sugar": 0,
          "Max_Heart_Rate": 142,
          "Serum_Cholesterol": 223
         },
         {
          "Age": 76,
          "Chest_Pain_Type": 3,
          "Diagnosis": false,
          "Fasting_Blood_Sugar": 0,
          "Max_Heart_Rate": 116,
          "Serum_Cholesterol": 197
         },
         {
          "Age": 70,
          "Chest_Pain_Type": 2,
          "Diagnosis": false,
          "Fasting_Blood_Sugar": 0,
          "Max_Heart_Rate": 143,
          "Serum_Cholesterol": 245
         },
         {
          "Age": 57,
          "Chest_Pain_Type": 2,
          "Diagnosis": true,
          "Fasting_Blood_Sugar": 0,
          "Max_Heart_Rate": 141,
          "Serum_Cholesterol": 261
         },
         {
          "Age": 44,
          "Chest_Pain_Type": 3,
          "Diagnosis": false,
          "Fasting_Blood_Sugar": 0,
          "Max_Heart_Rate": 149,
          "Serum_Cholesterol": 242
         },
         {
          "Age": 58,
          "Chest_Pain_Type": 2,
          "Diagnosis": true,
          "Fasting_Blood_Sugar": 1,
          "Max_Heart_Rate": 152,
          "Serum_Cholesterol": 319
         },
         {
          "Age": 60,
          "Chest_Pain_Type": 1,
          "Diagnosis": false,
          "Fasting_Blood_Sugar": 0,
          "Max_Heart_Rate": 171,
          "Serum_Cholesterol": 240
         },
         {
          "Age": 44,
          "Chest_Pain_Type": 3,
          "Diagnosis": false,
          "Fasting_Blood_Sugar": 0,
          "Max_Heart_Rate": 169,
          "Serum_Cholesterol": 226
         },
         {
          "Age": 61,
          "Chest_Pain_Type": 4,
          "Diagnosis": true,
          "Fasting_Blood_Sugar": 0,
          "Max_Heart_Rate": 125,
          "Serum_Cholesterol": 166
         },
         {
          "Age": 42,
          "Chest_Pain_Type": 4,
          "Diagnosis": true,
          "Fasting_Blood_Sugar": 0,
          "Max_Heart_Rate": 125,
          "Serum_Cholesterol": 315
         },
         {
          "Age": 52,
          "Chest_Pain_Type": 4,
          "Diagnosis": true,
          "Fasting_Blood_Sugar": 1,
          "Max_Heart_Rate": 156,
          "Serum_Cholesterol": 204
         },
         {
          "Age": 59,
          "Chest_Pain_Type": 3,
          "Diagnosis": true,
          "Fasting_Blood_Sugar": 1,
          "Max_Heart_Rate": 134,
          "Serum_Cholesterol": 218
         },
         {
          "Age": 40,
          "Chest_Pain_Type": 4,
          "Diagnosis": true,
          "Fasting_Blood_Sugar": 0,
          "Max_Heart_Rate": 181,
          "Serum_Cholesterol": 223
         },
         {
          "Age": 42,
          "Chest_Pain_Type": 3,
          "Diagnosis": false,
          "Fasting_Blood_Sugar": 0,
          "Max_Heart_Rate": 150,
          "Serum_Cholesterol": 180
         },
         {
          "Age": 61,
          "Chest_Pain_Type": 4,
          "Diagnosis": true,
          "Fasting_Blood_Sugar": 0,
          "Max_Heart_Rate": 138,
          "Serum_Cholesterol": 207
         },
         {
          "Age": 66,
          "Chest_Pain_Type": 4,
          "Diagnosis": false,
          "Fasting_Blood_Sugar": 0,
          "Max_Heart_Rate": 138,
          "Serum_Cholesterol": 228
         },
         {
          "Age": 46,
          "Chest_Pain_Type": 4,
          "Diagnosis": true,
          "Fasting_Blood_Sugar": 0,
          "Max_Heart_Rate": 120,
          "Serum_Cholesterol": 311
         },
         {
          "Age": 71,
          "Chest_Pain_Type": 4,
          "Diagnosis": false,
          "Fasting_Blood_Sugar": 0,
          "Max_Heart_Rate": 125,
          "Serum_Cholesterol": 149
         },
         {
          "Age": 59,
          "Chest_Pain_Type": 1,
          "Diagnosis": true,
          "Fasting_Blood_Sugar": 0,
          "Max_Heart_Rate": 162,
          "Serum_Cholesterol": 204
         },
         {
          "Age": 64,
          "Chest_Pain_Type": 1,
          "Diagnosis": false,
          "Fasting_Blood_Sugar": 0,
          "Max_Heart_Rate": 155,
          "Serum_Cholesterol": 227
         },
         {
          "Age": 66,
          "Chest_Pain_Type": 3,
          "Diagnosis": false,
          "Fasting_Blood_Sugar": 0,
          "Max_Heart_Rate": 152,
          "Serum_Cholesterol": 278
         },
         {
          "Age": 39,
          "Chest_Pain_Type": 3,
          "Diagnosis": false,
          "Fasting_Blood_Sugar": 0,
          "Max_Heart_Rate": 152,
          "Serum_Cholesterol": 220
         },
         {
          "Age": 57,
          "Chest_Pain_Type": 2,
          "Diagnosis": true,
          "Fasting_Blood_Sugar": 0,
          "Max_Heart_Rate": 164,
          "Serum_Cholesterol": 232
         },
         {
          "Age": 58,
          "Chest_Pain_Type": 4,
          "Diagnosis": false,
          "Fasting_Blood_Sugar": 0,
          "Max_Heart_Rate": 131,
          "Serum_Cholesterol": 197
         },
         {
          "Age": 57,
          "Chest_Pain_Type": 4,
          "Diagnosis": true,
          "Fasting_Blood_Sugar": 0,
          "Max_Heart_Rate": 143,
          "Serum_Cholesterol": 335
         },
         {
          "Age": 47,
          "Chest_Pain_Type": 3,
          "Diagnosis": false,
          "Fasting_Blood_Sugar": 0,
          "Max_Heart_Rate": 179,
          "Serum_Cholesterol": 253
         },
         {
          "Age": 55,
          "Chest_Pain_Type": 4,
          "Diagnosis": true,
          "Fasting_Blood_Sugar": 0,
          "Max_Heart_Rate": 130,
          "Serum_Cholesterol": 205
         },
         {
          "Age": 35,
          "Chest_Pain_Type": 2,
          "Diagnosis": false,
          "Fasting_Blood_Sugar": 0,
          "Max_Heart_Rate": 174,
          "Serum_Cholesterol": 192
         },
         {
          "Age": 61,
          "Chest_Pain_Type": 4,
          "Diagnosis": true,
          "Fasting_Blood_Sugar": 0,
          "Max_Heart_Rate": 161,
          "Serum_Cholesterol": 203
         },
         {
          "Age": 58,
          "Chest_Pain_Type": 4,
          "Diagnosis": true,
          "Fasting_Blood_Sugar": 0,
          "Max_Heart_Rate": 140,
          "Serum_Cholesterol": 318
         },
         {
          "Age": 58,
          "Chest_Pain_Type": 4,
          "Diagnosis": true,
          "Fasting_Blood_Sugar": 1,
          "Max_Heart_Rate": 146,
          "Serum_Cholesterol": 225
         },
         {
          "Age": 58,
          "Chest_Pain_Type": 2,
          "Diagnosis": false,
          "Fasting_Blood_Sugar": 0,
          "Max_Heart_Rate": 144,
          "Serum_Cholesterol": 220
         },
         {
          "Age": 56,
          "Chest_Pain_Type": 2,
          "Diagnosis": false,
          "Fasting_Blood_Sugar": 0,
          "Max_Heart_Rate": 163,
          "Serum_Cholesterol": 221
         },
         {
          "Age": 56,
          "Chest_Pain_Type": 2,
          "Diagnosis": false,
          "Fasting_Blood_Sugar": 0,
          "Max_Heart_Rate": 169,
          "Serum_Cholesterol": 240
         },
         {
          "Age": 67,
          "Chest_Pain_Type": 3,
          "Diagnosis": true,
          "Fasting_Blood_Sugar": 0,
          "Max_Heart_Rate": 150,
          "Serum_Cholesterol": 212
         },
         {
          "Age": 55,
          "Chest_Pain_Type": 2,
          "Diagnosis": false,
          "Fasting_Blood_Sugar": 0,
          "Max_Heart_Rate": 166,
          "Serum_Cholesterol": 342
         },
         {
          "Age": 44,
          "Chest_Pain_Type": 4,
          "Diagnosis": true,
          "Fasting_Blood_Sugar": 0,
          "Max_Heart_Rate": 144,
          "Serum_Cholesterol": 169
         },
         {
          "Age": 63,
          "Chest_Pain_Type": 4,
          "Diagnosis": true,
          "Fasting_Blood_Sugar": 0,
          "Max_Heart_Rate": 144,
          "Serum_Cholesterol": 187
         },
         {
          "Age": 63,
          "Chest_Pain_Type": 4,
          "Diagnosis": true,
          "Fasting_Blood_Sugar": 0,
          "Max_Heart_Rate": 136,
          "Serum_Cholesterol": 197
         },
         {
          "Age": 41,
          "Chest_Pain_Type": 2,
          "Diagnosis": false,
          "Fasting_Blood_Sugar": 0,
          "Max_Heart_Rate": 182,
          "Serum_Cholesterol": 157
         },
         {
          "Age": 59,
          "Chest_Pain_Type": 4,
          "Diagnosis": true,
          "Fasting_Blood_Sugar": 1,
          "Max_Heart_Rate": 90,
          "Serum_Cholesterol": 176
         },
         {
          "Age": 57,
          "Chest_Pain_Type": 4,
          "Diagnosis": true,
          "Fasting_Blood_Sugar": 0,
          "Max_Heart_Rate": 123,
          "Serum_Cholesterol": 241
         },
         {
          "Age": 45,
          "Chest_Pain_Type": 1,
          "Diagnosis": true,
          "Fasting_Blood_Sugar": 0,
          "Max_Heart_Rate": 132,
          "Serum_Cholesterol": 264
         },
         {
          "Age": 68,
          "Chest_Pain_Type": 4,
          "Diagnosis": true,
          "Fasting_Blood_Sugar": 1,
          "Max_Heart_Rate": 141,
          "Serum_Cholesterol": 193
         },
         {
          "Age": 57,
          "Chest_Pain_Type": 4,
          "Diagnosis": true,
          "Fasting_Blood_Sugar": 0,
          "Max_Heart_Rate": 115,
          "Serum_Cholesterol": 131
         },
         {
          "Age": 57,
          "Chest_Pain_Type": 2,
          "Diagnosis": true,
          "Fasting_Blood_Sugar": 0,
          "Max_Heart_Rate": 174,
          "Serum_Cholesterol": 236
         },
         {
          "Age": 38,
          "Chest_Pain_Type": 3,
          "Diagnosis": false,
          "Fasting_Blood_Sugar": 0,
          "Max_Heart_Rate": 173,
          "Serum_Cholesterol": 175
         }
        ]
       },
       "encoding": {
        "x": {
         "field": "Age",
         "scale": {
          "zero": false
         },
         "title": "Age (years)",
         "type": "quantitative"
        },
        "y": {
         "field": "Max_Heart_Rate",
         "scale": {
          "zero": false
         },
         "title": "Maximum Heart Rate Achieved (bpm)",
         "type": "quantitative"
        }
       },
       "height": 400,
       "mark": "point",
       "title": "Age vs Maximum Heart Rate",
       "width": 400
      },
      "image/png": "[encoded data removed]",
      "text/plain": [
       "<VegaLite 4 object>\n",
       "\n",
       "If you see this message, it means the renderer has not been properly enabled\n",
       "for the frontend that you are using. For more information, see\n",
       "https://altair-viz.github.io/user_guide/troubleshooting.html\n"
      ]
     },
     "execution_count": 39,
     "metadata": {},
     "output_type": "execute_result"
    }
   ],
   "source": [
    "age_vs_thalach = (\n",
    "    alt.Chart(heart_disease_final, title=\"Age vs Maximum Heart Rate\")\n",
    "    .mark_point()\n",
    "    .encode(\n",
    "        x=alt.X(\"Age\", title=\"Age (years)\",scale=alt.Scale(zero=False)),\n",
    "        y=alt.Y(\n",
    "            \"Max_Heart_Rate:Q\",\n",
    "            title=\"Maximum Heart Rate Achieved (bpm)\",\n",
    "            scale=alt.Scale(zero=False)\n",
    "        ),\n",
    "    )\n",
    "    .configure_axis(labelFontSize=15, titleFontSize=15)\n",
    "    .configure_title(fontSize=25)\n",
    "    .properties(width=400, height=400)\n",
    ")\n",
    "age_vs_thalach"
   ]
  },
  {
   "cell_type": "markdown",
   "id": "e56ed169-230c-49a6-a18d-aa8010808ce6",
   "metadata": {},
   "source": [
    "Next, we visualize a bar graph that displays the distribution of diagnosis for each chest pain type:"
   ]
  },
  {
   "cell_type": "code",
   "execution_count": 40,
   "id": "fb0b06cd-c7a5-46be-a381-3c55d202cbab",
   "metadata": {},
   "outputs": [
    {
     "data": {
      "application/vnd.vegalite.v4+json": {
       "$schema": "https://vega.github.io/schema/vega-lite/v4.17.0.json",
       "config": {
        "axis": {
         "labelFontSize": 18,
         "titleFontSize": 18
        },
        "title": {
         "fontSize": 20
        },
        "view": {
         "continuousHeight": 300,
         "continuousWidth": 400
        }
       },
       "data": {
        "name": "data-6d8aeb2c39c2b84da2a1ab4f283ce1a7"
       },
       "datasets": {
        "data-6d8aeb2c39c2b84da2a1ab4f283ce1a7": [
         {
          "Age": 43,
          "Chest_Pain_Type": 4,
          "Diagnosis": true,
          "Fasting_Blood_Sugar": 0,
          "Max_Heart_Rate": 120,
          "Serum_Cholesterol": 177
         },
         {
          "Age": 45,
          "Chest_Pain_Type": 2,
          "Diagnosis": false,
          "Fasting_Blood_Sugar": 0,
          "Max_Heart_Rate": 170,
          "Serum_Cholesterol": 308
         },
         {
          "Age": 58,
          "Chest_Pain_Type": 1,
          "Diagnosis": false,
          "Fasting_Blood_Sugar": 1,
          "Max_Heart_Rate": 162,
          "Serum_Cholesterol": 283
         },
         {
          "Age": 66,
          "Chest_Pain_Type": 2,
          "Diagnosis": true,
          "Fasting_Blood_Sugar": 0,
          "Max_Heart_Rate": 120,
          "Serum_Cholesterol": 246
         },
         {
          "Age": 77,
          "Chest_Pain_Type": 4,
          "Diagnosis": true,
          "Fasting_Blood_Sugar": 0,
          "Max_Heart_Rate": 162,
          "Serum_Cholesterol": 304
         },
         {
          "Age": 62,
          "Chest_Pain_Type": 3,
          "Diagnosis": true,
          "Fasting_Blood_Sugar": 0,
          "Max_Heart_Rate": 97,
          "Serum_Cholesterol": 263
         },
         {
          "Age": 56,
          "Chest_Pain_Type": 2,
          "Diagnosis": false,
          "Fasting_Blood_Sugar": 0,
          "Max_Heart_Rate": 178,
          "Serum_Cholesterol": 236
         },
         {
          "Age": 71,
          "Chest_Pain_Type": 4,
          "Diagnosis": false,
          "Fasting_Blood_Sugar": 0,
          "Max_Heart_Rate": 125,
          "Serum_Cholesterol": 149
         },
         {
          "Age": 39,
          "Chest_Pain_Type": 3,
          "Diagnosis": false,
          "Fasting_Blood_Sugar": 0,
          "Max_Heart_Rate": 182,
          "Serum_Cholesterol": 321
         },
         {
          "Age": 57,
          "Chest_Pain_Type": 4,
          "Diagnosis": true,
          "Fasting_Blood_Sugar": 0,
          "Max_Heart_Rate": 143,
          "Serum_Cholesterol": 335
         },
         {
          "Age": 60,
          "Chest_Pain_Type": 1,
          "Diagnosis": false,
          "Fasting_Blood_Sugar": 0,
          "Max_Heart_Rate": 171,
          "Serum_Cholesterol": 240
         },
         {
          "Age": 57,
          "Chest_Pain_Type": 4,
          "Diagnosis": false,
          "Fasting_Blood_Sugar": 0,
          "Max_Heart_Rate": 163,
          "Serum_Cholesterol": 354
         },
         {
          "Age": 54,
          "Chest_Pain_Type": 3,
          "Diagnosis": false,
          "Fasting_Blood_Sugar": 0,
          "Max_Heart_Rate": 158,
          "Serum_Cholesterol": 214
         },
         {
          "Age": 44,
          "Chest_Pain_Type": 3,
          "Diagnosis": false,
          "Fasting_Blood_Sugar": 0,
          "Max_Heart_Rate": 169,
          "Serum_Cholesterol": 226
         },
         {
          "Age": 55,
          "Chest_Pain_Type": 4,
          "Diagnosis": true,
          "Fasting_Blood_Sugar": 0,
          "Max_Heart_Rate": 117,
          "Serum_Cholesterol": 327
         },
         {
          "Age": 70,
          "Chest_Pain_Type": 3,
          "Diagnosis": true,
          "Fasting_Blood_Sugar": 0,
          "Max_Heart_Rate": 112,
          "Serum_Cholesterol": 269
         },
         {
          "Age": 29,
          "Chest_Pain_Type": 2,
          "Diagnosis": false,
          "Fasting_Blood_Sugar": 0,
          "Max_Heart_Rate": 202,
          "Serum_Cholesterol": 204
         },
         {
          "Age": 70,
          "Chest_Pain_Type": 4,
          "Diagnosis": true,
          "Fasting_Blood_Sugar": 0,
          "Max_Heart_Rate": 125,
          "Serum_Cholesterol": 174
         },
         {
          "Age": 58,
          "Chest_Pain_Type": 4,
          "Diagnosis": true,
          "Fasting_Blood_Sugar": 1,
          "Max_Heart_Rate": 146,
          "Serum_Cholesterol": 225
         },
         {
          "Age": 52,
          "Chest_Pain_Type": 3,
          "Diagnosis": false,
          "Fasting_Blood_Sugar": 0,
          "Max_Heart_Rate": 169,
          "Serum_Cholesterol": 223
         },
         {
          "Age": 42,
          "Chest_Pain_Type": 4,
          "Diagnosis": false,
          "Fasting_Blood_Sugar": 0,
          "Max_Heart_Rate": 122,
          "Serum_Cholesterol": 265
         },
         {
          "Age": 50,
          "Chest_Pain_Type": 3,
          "Diagnosis": false,
          "Fasting_Blood_Sugar": 0,
          "Max_Heart_Rate": 163,
          "Serum_Cholesterol": 196
         },
         {
          "Age": 54,
          "Chest_Pain_Type": 2,
          "Diagnosis": true,
          "Fasting_Blood_Sugar": 0,
          "Max_Heart_Rate": 195,
          "Serum_Cholesterol": 283
         },
         {
          "Age": 55,
          "Chest_Pain_Type": 2,
          "Diagnosis": false,
          "Fasting_Blood_Sugar": 0,
          "Max_Heart_Rate": 166,
          "Serum_Cholesterol": 342
         },
         {
          "Age": 52,
          "Chest_Pain_Type": 4,
          "Diagnosis": true,
          "Fasting_Blood_Sugar": 0,
          "Max_Heart_Rate": 168,
          "Serum_Cholesterol": 212
         },
         {
          "Age": 57,
          "Chest_Pain_Type": 4,
          "Diagnosis": true,
          "Fasting_Blood_Sugar": 0,
          "Max_Heart_Rate": 112,
          "Serum_Cholesterol": 276
         },
         {
          "Age": 44,
          "Chest_Pain_Type": 3,
          "Diagnosis": false,
          "Fasting_Blood_Sugar": 0,
          "Max_Heart_Rate": 179,
          "Serum_Cholesterol": 233
         },
         {
          "Age": 54,
          "Chest_Pain_Type": 4,
          "Diagnosis": true,
          "Fasting_Blood_Sugar": 0,
          "Max_Heart_Rate": 109,
          "Serum_Cholesterol": 266
         },
         {
          "Age": 62,
          "Chest_Pain_Type": 4,
          "Diagnosis": true,
          "Fasting_Blood_Sugar": 0,
          "Max_Heart_Rate": 145,
          "Serum_Cholesterol": 164
         },
         {
          "Age": 58,
          "Chest_Pain_Type": 3,
          "Diagnosis": true,
          "Fasting_Blood_Sugar": 0,
          "Max_Heart_Rate": 173,
          "Serum_Cholesterol": 224
         },
         {
          "Age": 62,
          "Chest_Pain_Type": 4,
          "Diagnosis": false,
          "Fasting_Blood_Sugar": 0,
          "Max_Heart_Rate": 157,
          "Serum_Cholesterol": 394
         },
         {
          "Age": 42,
          "Chest_Pain_Type": 2,
          "Diagnosis": false,
          "Fasting_Blood_Sugar": 0,
          "Max_Heart_Rate": 162,
          "Serum_Cholesterol": 295
         },
         {
          "Age": 62,
          "Chest_Pain_Type": 2,
          "Diagnosis": true,
          "Fasting_Blood_Sugar": 0,
          "Max_Heart_Rate": 103,
          "Serum_Cholesterol": 281
         },
         {
          "Age": 45,
          "Chest_Pain_Type": 2,
          "Diagnosis": false,
          "Fasting_Blood_Sugar": 0,
          "Max_Heart_Rate": 175,
          "Serum_Cholesterol": 234
         },
         {
          "Age": 57,
          "Chest_Pain_Type": 4,
          "Diagnosis": false,
          "Fasting_Blood_Sugar": 0,
          "Max_Heart_Rate": 148,
          "Serum_Cholesterol": 192
         },
         {
          "Age": 46,
          "Chest_Pain_Type": 4,
          "Diagnosis": true,
          "Fasting_Blood_Sugar": 0,
          "Max_Heart_Rate": 120,
          "Serum_Cholesterol": 311
         },
         {
          "Age": 43,
          "Chest_Pain_Type": 4,
          "Diagnosis": false,
          "Fasting_Blood_Sugar": 0,
          "Max_Heart_Rate": 171,
          "Serum_Cholesterol": 247
         },
         {
          "Age": 58,
          "Chest_Pain_Type": 4,
          "Diagnosis": true,
          "Fasting_Blood_Sugar": 0,
          "Max_Heart_Rate": 111,
          "Serum_Cholesterol": 270
         },
         {
          "Age": 46,
          "Chest_Pain_Type": 2,
          "Diagnosis": false,
          "Fasting_Blood_Sugar": 1,
          "Max_Heart_Rate": 156,
          "Serum_Cholesterol": 197
         },
         {
          "Age": 46,
          "Chest_Pain_Type": 4,
          "Diagnosis": true,
          "Fasting_Blood_Sugar": 0,
          "Max_Heart_Rate": 144,
          "Serum_Cholesterol": 249
         },
         {
          "Age": 59,
          "Chest_Pain_Type": 4,
          "Diagnosis": false,
          "Fasting_Blood_Sugar": 0,
          "Max_Heart_Rate": 161,
          "Serum_Cholesterol": 234
         },
         {
          "Age": 41,
          "Chest_Pain_Type": 3,
          "Diagnosis": false,
          "Fasting_Blood_Sugar": 0,
          "Max_Heart_Rate": 179,
          "Serum_Cholesterol": 250
         },
         {
          "Age": 60,
          "Chest_Pain_Type": 3,
          "Diagnosis": true,
          "Fasting_Blood_Sugar": 0,
          "Max_Heart_Rate": 155,
          "Serum_Cholesterol": 185
         },
         {
          "Age": 58,
          "Chest_Pain_Type": 2,
          "Diagnosis": false,
          "Fasting_Blood_Sugar": 0,
          "Max_Heart_Rate": 144,
          "Serum_Cholesterol": 220
         },
         {
          "Age": 42,
          "Chest_Pain_Type": 4,
          "Diagnosis": true,
          "Fasting_Blood_Sugar": 0,
          "Max_Heart_Rate": 125,
          "Serum_Cholesterol": 315
         },
         {
          "Age": 44,
          "Chest_Pain_Type": 2,
          "Diagnosis": false,
          "Fasting_Blood_Sugar": 0,
          "Max_Heart_Rate": 170,
          "Serum_Cholesterol": 220
         },
         {
          "Age": 52,
          "Chest_Pain_Type": 1,
          "Diagnosis": false,
          "Fasting_Blood_Sugar": 0,
          "Max_Heart_Rate": 190,
          "Serum_Cholesterol": 186
         },
         {
          "Age": 46,
          "Chest_Pain_Type": 3,
          "Diagnosis": true,
          "Fasting_Blood_Sugar": 0,
          "Max_Heart_Rate": 147,
          "Serum_Cholesterol": 231
         },
         {
          "Age": 41,
          "Chest_Pain_Type": 2,
          "Diagnosis": false,
          "Fasting_Blood_Sugar": 0,
          "Max_Heart_Rate": 172,
          "Serum_Cholesterol": 204
         },
         {
          "Age": 45,
          "Chest_Pain_Type": 4,
          "Diagnosis": false,
          "Fasting_Blood_Sugar": 0,
          "Max_Heart_Rate": 185,
          "Serum_Cholesterol": 260
         },
         {
          "Age": 54,
          "Chest_Pain_Type": 4,
          "Diagnosis": true,
          "Fasting_Blood_Sugar": 0,
          "Max_Heart_Rate": 126,
          "Serum_Cholesterol": 239
         },
         {
          "Age": 54,
          "Chest_Pain_Type": 3,
          "Diagnosis": false,
          "Fasting_Blood_Sugar": 0,
          "Max_Heart_Rate": 167,
          "Serum_Cholesterol": 267
         },
         {
          "Age": 49,
          "Chest_Pain_Type": 2,
          "Diagnosis": false,
          "Fasting_Blood_Sugar": 0,
          "Max_Heart_Rate": 162,
          "Serum_Cholesterol": 271
         },
         {
          "Age": 44,
          "Chest_Pain_Type": 3,
          "Diagnosis": false,
          "Fasting_Blood_Sugar": 0,
          "Max_Heart_Rate": 180,
          "Serum_Cholesterol": 235
         },
         {
          "Age": 58,
          "Chest_Pain_Type": 4,
          "Diagnosis": true,
          "Fasting_Blood_Sugar": 0,
          "Max_Heart_Rate": 130,
          "Serum_Cholesterol": 259
         },
         {
          "Age": 67,
          "Chest_Pain_Type": 3,
          "Diagnosis": false,
          "Fasting_Blood_Sugar": 0,
          "Max_Heart_Rate": 160,
          "Serum_Cholesterol": 564
         },
         {
          "Age": 37,
          "Chest_Pain_Type": 3,
          "Diagnosis": false,
          "Fasting_Blood_Sugar": 0,
          "Max_Heart_Rate": 170,
          "Serum_Cholesterol": 215
         },
         {
          "Age": 41,
          "Chest_Pain_Type": 2,
          "Diagnosis": false,
          "Fasting_Blood_Sugar": 0,
          "Max_Heart_Rate": 182,
          "Serum_Cholesterol": 157
         },
         {
          "Age": 64,
          "Chest_Pain_Type": 4,
          "Diagnosis": false,
          "Fasting_Blood_Sugar": 0,
          "Max_Heart_Rate": 105,
          "Serum_Cholesterol": 263
         },
         {
          "Age": 51,
          "Chest_Pain_Type": 3,
          "Diagnosis": false,
          "Fasting_Blood_Sugar": 0,
          "Max_Heart_Rate": 143,
          "Serum_Cholesterol": 222
         },
         {
          "Age": 58,
          "Chest_Pain_Type": 3,
          "Diagnosis": false,
          "Fasting_Blood_Sugar": 0,
          "Max_Heart_Rate": 154,
          "Serum_Cholesterol": 240
         },
         {
          "Age": 51,
          "Chest_Pain_Type": 3,
          "Diagnosis": false,
          "Fasting_Blood_Sugar": 0,
          "Max_Heart_Rate": 154,
          "Serum_Cholesterol": 227
         },
         {
          "Age": 35,
          "Chest_Pain_Type": 4,
          "Diagnosis": true,
          "Fasting_Blood_Sugar": 0,
          "Max_Heart_Rate": 130,
          "Serum_Cholesterol": 198
         },
         {
          "Age": 62,
          "Chest_Pain_Type": 3,
          "Diagnosis": false,
          "Fasting_Blood_Sugar": 0,
          "Max_Heart_Rate": 146,
          "Serum_Cholesterol": 231
         },
         {
          "Age": 47,
          "Chest_Pain_Type": 4,
          "Diagnosis": false,
          "Fasting_Blood_Sugar": 0,
          "Max_Heart_Rate": 143,
          "Serum_Cholesterol": 204
         },
         {
          "Age": 58,
          "Chest_Pain_Type": 4,
          "Diagnosis": true,
          "Fasting_Blood_Sugar": 0,
          "Max_Heart_Rate": 131,
          "Serum_Cholesterol": 216
         },
         {
          "Age": 56,
          "Chest_Pain_Type": 2,
          "Diagnosis": false,
          "Fasting_Blood_Sugar": 0,
          "Max_Heart_Rate": 169,
          "Serum_Cholesterol": 240
         },
         {
          "Age": 58,
          "Chest_Pain_Type": 4,
          "Diagnosis": true,
          "Fasting_Blood_Sugar": 0,
          "Max_Heart_Rate": 156,
          "Serum_Cholesterol": 234
         },
         {
          "Age": 59,
          "Chest_Pain_Type": 3,
          "Diagnosis": true,
          "Fasting_Blood_Sugar": 1,
          "Max_Heart_Rate": 134,
          "Serum_Cholesterol": 218
         },
         {
          "Age": 57,
          "Chest_Pain_Type": 2,
          "Diagnosis": true,
          "Fasting_Blood_Sugar": 0,
          "Max_Heart_Rate": 174,
          "Serum_Cholesterol": 236
         },
         {
          "Age": 54,
          "Chest_Pain_Type": 3,
          "Diagnosis": false,
          "Fasting_Blood_Sugar": 0,
          "Max_Heart_Rate": 147,
          "Serum_Cholesterol": 258
         },
         {
          "Age": 43,
          "Chest_Pain_Type": 4,
          "Diagnosis": false,
          "Fasting_Blood_Sugar": 0,
          "Max_Heart_Rate": 181,
          "Serum_Cholesterol": 303
         },
         {
          "Age": 41,
          "Chest_Pain_Type": 2,
          "Diagnosis": false,
          "Fasting_Blood_Sugar": 0,
          "Max_Heart_Rate": 168,
          "Serum_Cholesterol": 198
         },
         {
          "Age": 60,
          "Chest_Pain_Type": 4,
          "Diagnosis": true,
          "Fasting_Blood_Sugar": 0,
          "Max_Heart_Rate": 157,
          "Serum_Cholesterol": 258
         },
         {
          "Age": 39,
          "Chest_Pain_Type": 3,
          "Diagnosis": false,
          "Fasting_Blood_Sugar": 0,
          "Max_Heart_Rate": 152,
          "Serum_Cholesterol": 220
         },
         {
          "Age": 57,
          "Chest_Pain_Type": 4,
          "Diagnosis": true,
          "Fasting_Blood_Sugar": 0,
          "Max_Heart_Rate": 115,
          "Serum_Cholesterol": 131
         },
         {
          "Age": 63,
          "Chest_Pain_Type": 4,
          "Diagnosis": true,
          "Fasting_Blood_Sugar": 0,
          "Max_Heart_Rate": 136,
          "Serum_Cholesterol": 197
         },
         {
          "Age": 49,
          "Chest_Pain_Type": 4,
          "Diagnosis": false,
          "Fasting_Blood_Sugar": 0,
          "Max_Heart_Rate": 163,
          "Serum_Cholesterol": 269
         },
         {
          "Age": 70,
          "Chest_Pain_Type": 2,
          "Diagnosis": false,
          "Fasting_Blood_Sugar": 0,
          "Max_Heart_Rate": 143,
          "Serum_Cholesterol": 245
         },
         {
          "Age": 44,
          "Chest_Pain_Type": 2,
          "Diagnosis": false,
          "Fasting_Blood_Sugar": 0,
          "Max_Heart_Rate": 173,
          "Serum_Cholesterol": 263
         },
         {
          "Age": 43,
          "Chest_Pain_Type": 4,
          "Diagnosis": true,
          "Fasting_Blood_Sugar": 1,
          "Max_Heart_Rate": 143,
          "Serum_Cholesterol": 247
         },
         {
          "Age": 57,
          "Chest_Pain_Type": 4,
          "Diagnosis": true,
          "Fasting_Blood_Sugar": 0,
          "Max_Heart_Rate": 123,
          "Serum_Cholesterol": 241
         },
         {
          "Age": 68,
          "Chest_Pain_Type": 3,
          "Diagnosis": false,
          "Fasting_Blood_Sugar": 0,
          "Max_Heart_Rate": 115,
          "Serum_Cholesterol": 211
         },
         {
          "Age": 66,
          "Chest_Pain_Type": 4,
          "Diagnosis": false,
          "Fasting_Blood_Sugar": 0,
          "Max_Heart_Rate": 138,
          "Serum_Cholesterol": 228
         },
         {
          "Age": 45,
          "Chest_Pain_Type": 2,
          "Diagnosis": false,
          "Fasting_Blood_Sugar": 0,
          "Max_Heart_Rate": 138,
          "Serum_Cholesterol": 160
         },
         {
          "Age": 67,
          "Chest_Pain_Type": 4,
          "Diagnosis": true,
          "Fasting_Blood_Sugar": 0,
          "Max_Heart_Rate": 125,
          "Serum_Cholesterol": 299
         },
         {
          "Age": 56,
          "Chest_Pain_Type": 1,
          "Diagnosis": false,
          "Fasting_Blood_Sugar": 0,
          "Max_Heart_Rate": 162,
          "Serum_Cholesterol": 193
         },
         {
          "Age": 43,
          "Chest_Pain_Type": 3,
          "Diagnosis": false,
          "Fasting_Blood_Sugar": 0,
          "Max_Heart_Rate": 165,
          "Serum_Cholesterol": 213
         },
         {
          "Age": 63,
          "Chest_Pain_Type": 4,
          "Diagnosis": true,
          "Fasting_Blood_Sugar": 0,
          "Max_Heart_Rate": 147,
          "Serum_Cholesterol": 254
         },
         {
          "Age": 51,
          "Chest_Pain_Type": 3,
          "Diagnosis": false,
          "Fasting_Blood_Sugar": 0,
          "Max_Heart_Rate": 142,
          "Serum_Cholesterol": 308
         },
         {
          "Age": 54,
          "Chest_Pain_Type": 3,
          "Diagnosis": false,
          "Fasting_Blood_Sugar": 0,
          "Max_Heart_Rate": 152,
          "Serum_Cholesterol": 273
         },
         {
          "Age": 56,
          "Chest_Pain_Type": 4,
          "Diagnosis": true,
          "Fasting_Blood_Sugar": 0,
          "Max_Heart_Rate": 150,
          "Serum_Cholesterol": 409
         },
         {
          "Age": 64,
          "Chest_Pain_Type": 4,
          "Diagnosis": false,
          "Fasting_Blood_Sugar": 0,
          "Max_Heart_Rate": 122,
          "Serum_Cholesterol": 303
         },
         {
          "Age": 65,
          "Chest_Pain_Type": 4,
          "Diagnosis": true,
          "Fasting_Blood_Sugar": 0,
          "Max_Heart_Rate": 127,
          "Serum_Cholesterol": 254
         },
         {
          "Age": 48,
          "Chest_Pain_Type": 3,
          "Diagnosis": false,
          "Fasting_Blood_Sugar": 1,
          "Max_Heart_Rate": 175,
          "Serum_Cholesterol": 255
         },
         {
          "Age": 58,
          "Chest_Pain_Type": 4,
          "Diagnosis": false,
          "Fasting_Blood_Sugar": 0,
          "Max_Heart_Rate": 131,
          "Serum_Cholesterol": 197
         },
         {
          "Age": 54,
          "Chest_Pain_Type": 3,
          "Diagnosis": false,
          "Fasting_Blood_Sugar": 1,
          "Max_Heart_Rate": 170,
          "Serum_Cholesterol": 304
         },
         {
          "Age": 61,
          "Chest_Pain_Type": 4,
          "Diagnosis": true,
          "Fasting_Blood_Sugar": 0,
          "Max_Heart_Rate": 140,
          "Serum_Cholesterol": 260
         },
         {
          "Age": 51,
          "Chest_Pain_Type": 4,
          "Diagnosis": true,
          "Fasting_Blood_Sugar": 0,
          "Max_Heart_Rate": 173,
          "Serum_Cholesterol": 299
         },
         {
          "Age": 59,
          "Chest_Pain_Type": 1,
          "Diagnosis": true,
          "Fasting_Blood_Sugar": 0,
          "Max_Heart_Rate": 159,
          "Serum_Cholesterol": 288
         },
         {
          "Age": 53,
          "Chest_Pain_Type": 4,
          "Diagnosis": false,
          "Fasting_Blood_Sugar": 0,
          "Max_Heart_Rate": 160,
          "Serum_Cholesterol": 234
         },
         {
          "Age": 63,
          "Chest_Pain_Type": 2,
          "Diagnosis": false,
          "Fasting_Blood_Sugar": 0,
          "Max_Heart_Rate": 179,
          "Serum_Cholesterol": 195
         },
         {
          "Age": 61,
          "Chest_Pain_Type": 1,
          "Diagnosis": true,
          "Fasting_Blood_Sugar": 0,
          "Max_Heart_Rate": 145,
          "Serum_Cholesterol": 234
         },
         {
          "Age": 61,
          "Chest_Pain_Type": 4,
          "Diagnosis": true,
          "Fasting_Blood_Sugar": 0,
          "Max_Heart_Rate": 169,
          "Serum_Cholesterol": 330
         },
         {
          "Age": 41,
          "Chest_Pain_Type": 2,
          "Diagnosis": false,
          "Fasting_Blood_Sugar": 0,
          "Max_Heart_Rate": 153,
          "Serum_Cholesterol": 235
         },
         {
          "Age": 50,
          "Chest_Pain_Type": 4,
          "Diagnosis": true,
          "Fasting_Blood_Sugar": 0,
          "Max_Heart_Rate": 126,
          "Serum_Cholesterol": 200
         },
         {
          "Age": 60,
          "Chest_Pain_Type": 4,
          "Diagnosis": true,
          "Fasting_Blood_Sugar": 0,
          "Max_Heart_Rate": 142,
          "Serum_Cholesterol": 282
         },
         {
          "Age": 51,
          "Chest_Pain_Type": 4,
          "Diagnosis": true,
          "Fasting_Blood_Sugar": 0,
          "Max_Heart_Rate": 142,
          "Serum_Cholesterol": 305
         },
         {
          "Age": 44,
          "Chest_Pain_Type": 3,
          "Diagnosis": false,
          "Fasting_Blood_Sugar": 0,
          "Max_Heart_Rate": 175,
          "Serum_Cholesterol": 141
         },
         {
          "Age": 66,
          "Chest_Pain_Type": 3,
          "Diagnosis": false,
          "Fasting_Blood_Sugar": 0,
          "Max_Heart_Rate": 152,
          "Serum_Cholesterol": 278
         },
         {
          "Age": 61,
          "Chest_Pain_Type": 4,
          "Diagnosis": true,
          "Fasting_Blood_Sugar": 0,
          "Max_Heart_Rate": 125,
          "Serum_Cholesterol": 166
         },
         {
          "Age": 55,
          "Chest_Pain_Type": 4,
          "Diagnosis": true,
          "Fasting_Blood_Sugar": 0,
          "Max_Heart_Rate": 130,
          "Serum_Cholesterol": 205
         },
         {
          "Age": 76,
          "Chest_Pain_Type": 3,
          "Diagnosis": false,
          "Fasting_Blood_Sugar": 0,
          "Max_Heart_Rate": 116,
          "Serum_Cholesterol": 197
         },
         {
          "Age": 58,
          "Chest_Pain_Type": 4,
          "Diagnosis": true,
          "Fasting_Blood_Sugar": 0,
          "Max_Heart_Rate": 171,
          "Serum_Cholesterol": 300
         },
         {
          "Age": 58,
          "Chest_Pain_Type": 4,
          "Diagnosis": false,
          "Fasting_Blood_Sugar": 0,
          "Max_Heart_Rate": 122,
          "Serum_Cholesterol": 248
         },
         {
          "Age": 63,
          "Chest_Pain_Type": 1,
          "Diagnosis": false,
          "Fasting_Blood_Sugar": 1,
          "Max_Heart_Rate": 150,
          "Serum_Cholesterol": 233
         },
         {
          "Age": 56,
          "Chest_Pain_Type": 4,
          "Diagnosis": true,
          "Fasting_Blood_Sugar": 1,
          "Max_Heart_Rate": 103,
          "Serum_Cholesterol": 283
         },
         {
          "Age": 58,
          "Chest_Pain_Type": 3,
          "Diagnosis": true,
          "Fasting_Blood_Sugar": 0,
          "Max_Heart_Rate": 165,
          "Serum_Cholesterol": 230
         },
         {
          "Age": 55,
          "Chest_Pain_Type": 4,
          "Diagnosis": true,
          "Fasting_Blood_Sugar": 0,
          "Max_Heart_Rate": 145,
          "Serum_Cholesterol": 289
         },
         {
          "Age": 65,
          "Chest_Pain_Type": 4,
          "Diagnosis": true,
          "Fasting_Blood_Sugar": 0,
          "Max_Heart_Rate": 114,
          "Serum_Cholesterol": 225
         },
         {
          "Age": 51,
          "Chest_Pain_Type": 1,
          "Diagnosis": false,
          "Fasting_Blood_Sugar": 0,
          "Max_Heart_Rate": 125,
          "Serum_Cholesterol": 213
         },
         {
          "Age": 57,
          "Chest_Pain_Type": 3,
          "Diagnosis": false,
          "Fasting_Blood_Sugar": 0,
          "Max_Heart_Rate": 174,
          "Serum_Cholesterol": 168
         },
         {
          "Age": 51,
          "Chest_Pain_Type": 3,
          "Diagnosis": false,
          "Fasting_Blood_Sugar": 0,
          "Max_Heart_Rate": 123,
          "Serum_Cholesterol": 175
         },
         {
          "Age": 54,
          "Chest_Pain_Type": 4,
          "Diagnosis": true,
          "Fasting_Blood_Sugar": 0,
          "Max_Heart_Rate": 116,
          "Serum_Cholesterol": 286
         },
         {
          "Age": 39,
          "Chest_Pain_Type": 4,
          "Diagnosis": true,
          "Fasting_Blood_Sugar": 0,
          "Max_Heart_Rate": 140,
          "Serum_Cholesterol": 219
         },
         {
          "Age": 49,
          "Chest_Pain_Type": 3,
          "Diagnosis": true,
          "Fasting_Blood_Sugar": 0,
          "Max_Heart_Rate": 139,
          "Serum_Cholesterol": 188
         },
         {
          "Age": 51,
          "Chest_Pain_Type": 4,
          "Diagnosis": false,
          "Fasting_Blood_Sugar": 0,
          "Max_Heart_Rate": 186,
          "Serum_Cholesterol": 261
         },
         {
          "Age": 48,
          "Chest_Pain_Type": 2,
          "Diagnosis": true,
          "Fasting_Blood_Sugar": 0,
          "Max_Heart_Rate": 168,
          "Serum_Cholesterol": 229
         },
         {
          "Age": 57,
          "Chest_Pain_Type": 2,
          "Diagnosis": true,
          "Fasting_Blood_Sugar": 0,
          "Max_Heart_Rate": 164,
          "Serum_Cholesterol": 232
         },
         {
          "Age": 62,
          "Chest_Pain_Type": 4,
          "Diagnosis": true,
          "Fasting_Blood_Sugar": 1,
          "Max_Heart_Rate": 106,
          "Serum_Cholesterol": 294
         },
         {
          "Age": 44,
          "Chest_Pain_Type": 3,
          "Diagnosis": false,
          "Fasting_Blood_Sugar": 0,
          "Max_Heart_Rate": 149,
          "Serum_Cholesterol": 242
         },
         {
          "Age": 58,
          "Chest_Pain_Type": 3,
          "Diagnosis": false,
          "Fasting_Blood_Sugar": 1,
          "Max_Heart_Rate": 165,
          "Serum_Cholesterol": 211
         },
         {
          "Age": 64,
          "Chest_Pain_Type": 1,
          "Diagnosis": false,
          "Fasting_Blood_Sugar": 0,
          "Max_Heart_Rate": 155,
          "Serum_Cholesterol": 227
         },
         {
          "Age": 44,
          "Chest_Pain_Type": 4,
          "Diagnosis": true,
          "Fasting_Blood_Sugar": 0,
          "Max_Heart_Rate": 177,
          "Serum_Cholesterol": 197
         },
         {
          "Age": 61,
          "Chest_Pain_Type": 4,
          "Diagnosis": true,
          "Fasting_Blood_Sugar": 0,
          "Max_Heart_Rate": 146,
          "Serum_Cholesterol": 307
         },
         {
          "Age": 69,
          "Chest_Pain_Type": 3,
          "Diagnosis": true,
          "Fasting_Blood_Sugar": 0,
          "Max_Heart_Rate": 146,
          "Serum_Cholesterol": 254
         },
         {
          "Age": 47,
          "Chest_Pain_Type": 3,
          "Diagnosis": true,
          "Fasting_Blood_Sugar": 0,
          "Max_Heart_Rate": 152,
          "Serum_Cholesterol": 243
         },
         {
          "Age": 55,
          "Chest_Pain_Type": 4,
          "Diagnosis": true,
          "Fasting_Blood_Sugar": 0,
          "Max_Heart_Rate": 132,
          "Serum_Cholesterol": 353
         },
         {
          "Age": 66,
          "Chest_Pain_Type": 1,
          "Diagnosis": false,
          "Fasting_Blood_Sugar": 0,
          "Max_Heart_Rate": 114,
          "Serum_Cholesterol": 226
         },
         {
          "Age": 42,
          "Chest_Pain_Type": 1,
          "Diagnosis": false,
          "Fasting_Blood_Sugar": 0,
          "Max_Heart_Rate": 178,
          "Serum_Cholesterol": 244
         },
         {
          "Age": 59,
          "Chest_Pain_Type": 2,
          "Diagnosis": false,
          "Fasting_Blood_Sugar": 0,
          "Max_Heart_Rate": 164,
          "Serum_Cholesterol": 221
         },
         {
          "Age": 50,
          "Chest_Pain_Type": 2,
          "Diagnosis": false,
          "Fasting_Blood_Sugar": 0,
          "Max_Heart_Rate": 162,
          "Serum_Cholesterol": 244
         },
         {
          "Age": 63,
          "Chest_Pain_Type": 4,
          "Diagnosis": true,
          "Fasting_Blood_Sugar": 0,
          "Max_Heart_Rate": 154,
          "Serum_Cholesterol": 407
         },
         {
          "Age": 38,
          "Chest_Pain_Type": 1,
          "Diagnosis": true,
          "Fasting_Blood_Sugar": 0,
          "Max_Heart_Rate": 182,
          "Serum_Cholesterol": 231
         },
         {
          "Age": 52,
          "Chest_Pain_Type": 3,
          "Diagnosis": false,
          "Fasting_Blood_Sugar": 1,
          "Max_Heart_Rate": 162,
          "Serum_Cholesterol": 199
         },
         {
          "Age": 53,
          "Chest_Pain_Type": 3,
          "Diagnosis": false,
          "Fasting_Blood_Sugar": 0,
          "Max_Heart_Rate": 115,
          "Serum_Cholesterol": 216
         },
         {
          "Age": 53,
          "Chest_Pain_Type": 4,
          "Diagnosis": true,
          "Fasting_Blood_Sugar": 1,
          "Max_Heart_Rate": 155,
          "Serum_Cholesterol": 203
         },
         {
          "Age": 62,
          "Chest_Pain_Type": 4,
          "Diagnosis": true,
          "Fasting_Blood_Sugar": 0,
          "Max_Heart_Rate": 160,
          "Serum_Cholesterol": 268
         },
         {
          "Age": 39,
          "Chest_Pain_Type": 3,
          "Diagnosis": false,
          "Fasting_Blood_Sugar": 0,
          "Max_Heart_Rate": 179,
          "Serum_Cholesterol": 199
         },
         {
          "Age": 67,
          "Chest_Pain_Type": 3,
          "Diagnosis": false,
          "Fasting_Blood_Sugar": 0,
          "Max_Heart_Rate": 172,
          "Serum_Cholesterol": 277
         },
         {
          "Age": 49,
          "Chest_Pain_Type": 3,
          "Diagnosis": true,
          "Fasting_Blood_Sugar": 0,
          "Max_Heart_Rate": 126,
          "Serum_Cholesterol": 149
         },
         {
          "Age": 54,
          "Chest_Pain_Type": 3,
          "Diagnosis": false,
          "Fasting_Blood_Sugar": 0,
          "Max_Heart_Rate": 163,
          "Serum_Cholesterol": 201
         },
         {
          "Age": 38,
          "Chest_Pain_Type": 3,
          "Diagnosis": false,
          "Fasting_Blood_Sugar": 0,
          "Max_Heart_Rate": 173,
          "Serum_Cholesterol": 175
         },
         {
          "Age": 71,
          "Chest_Pain_Type": 3,
          "Diagnosis": false,
          "Fasting_Blood_Sugar": 1,
          "Max_Heart_Rate": 130,
          "Serum_Cholesterol": 265
         },
         {
          "Age": 46,
          "Chest_Pain_Type": 4,
          "Diagnosis": false,
          "Fasting_Blood_Sugar": 0,
          "Max_Heart_Rate": 152,
          "Serum_Cholesterol": 243
         },
         {
          "Age": 60,
          "Chest_Pain_Type": 3,
          "Diagnosis": false,
          "Fasting_Blood_Sugar": 0,
          "Max_Heart_Rate": 160,
          "Serum_Cholesterol": 318
         },
         {
          "Age": 51,
          "Chest_Pain_Type": 3,
          "Diagnosis": false,
          "Fasting_Blood_Sugar": 1,
          "Max_Heart_Rate": 166,
          "Serum_Cholesterol": 245
         },
         {
          "Age": 54,
          "Chest_Pain_Type": 3,
          "Diagnosis": false,
          "Fasting_Blood_Sugar": 0,
          "Max_Heart_Rate": 165,
          "Serum_Cholesterol": 232
         },
         {
          "Age": 37,
          "Chest_Pain_Type": 3,
          "Diagnosis": false,
          "Fasting_Blood_Sugar": 0,
          "Max_Heart_Rate": 187,
          "Serum_Cholesterol": 250
         },
         {
          "Age": 47,
          "Chest_Pain_Type": 3,
          "Diagnosis": false,
          "Fasting_Blood_Sugar": 0,
          "Max_Heart_Rate": 156,
          "Serum_Cholesterol": 257
         },
         {
          "Age": 56,
          "Chest_Pain_Type": 4,
          "Diagnosis": true,
          "Fasting_Blood_Sugar": 0,
          "Max_Heart_Rate": 105,
          "Serum_Cholesterol": 184
         },
         {
          "Age": 59,
          "Chest_Pain_Type": 4,
          "Diagnosis": false,
          "Fasting_Blood_Sugar": 0,
          "Max_Heart_Rate": 182,
          "Serum_Cholesterol": 271
         },
         {
          "Age": 62,
          "Chest_Pain_Type": 2,
          "Diagnosis": false,
          "Fasting_Blood_Sugar": 1,
          "Max_Heart_Rate": 140,
          "Serum_Cholesterol": 208
         },
         {
          "Age": 65,
          "Chest_Pain_Type": 3,
          "Diagnosis": false,
          "Fasting_Blood_Sugar": 1,
          "Max_Heart_Rate": 157,
          "Serum_Cholesterol": 417
         },
         {
          "Age": 74,
          "Chest_Pain_Type": 2,
          "Diagnosis": false,
          "Fasting_Blood_Sugar": 0,
          "Max_Heart_Rate": 121,
          "Serum_Cholesterol": 269
         },
         {
          "Age": 35,
          "Chest_Pain_Type": 4,
          "Diagnosis": false,
          "Fasting_Blood_Sugar": 0,
          "Max_Heart_Rate": 182,
          "Serum_Cholesterol": 183
         },
         {
          "Age": 59,
          "Chest_Pain_Type": 4,
          "Diagnosis": true,
          "Fasting_Blood_Sugar": 0,
          "Max_Heart_Rate": 143,
          "Serum_Cholesterol": 249
         },
         {
          "Age": 65,
          "Chest_Pain_Type": 4,
          "Diagnosis": false,
          "Fasting_Blood_Sugar": 0,
          "Max_Heart_Rate": 140,
          "Serum_Cholesterol": 177
         },
         {
          "Age": 67,
          "Chest_Pain_Type": 4,
          "Diagnosis": true,
          "Fasting_Blood_Sugar": 0,
          "Max_Heart_Rate": 108,
          "Serum_Cholesterol": 286
         },
         {
          "Age": 62,
          "Chest_Pain_Type": 4,
          "Diagnosis": true,
          "Fasting_Blood_Sugar": 0,
          "Max_Heart_Rate": 154,
          "Serum_Cholesterol": 244
         },
         {
          "Age": 48,
          "Chest_Pain_Type": 3,
          "Diagnosis": false,
          "Fasting_Blood_Sugar": 0,
          "Max_Heart_Rate": 139,
          "Serum_Cholesterol": 275
         },
         {
          "Age": 56,
          "Chest_Pain_Type": 3,
          "Diagnosis": true,
          "Fasting_Blood_Sugar": 1,
          "Max_Heart_Rate": 142,
          "Serum_Cholesterol": 256
         },
         {
          "Age": 53,
          "Chest_Pain_Type": 3,
          "Diagnosis": false,
          "Fasting_Blood_Sugar": 1,
          "Max_Heart_Rate": 152,
          "Serum_Cholesterol": 197
         },
         {
          "Age": 50,
          "Chest_Pain_Type": 3,
          "Diagnosis": true,
          "Fasting_Blood_Sugar": 0,
          "Max_Heart_Rate": 163,
          "Serum_Cholesterol": 233
         },
         {
          "Age": 41,
          "Chest_Pain_Type": 3,
          "Diagnosis": false,
          "Fasting_Blood_Sugar": 0,
          "Max_Heart_Rate": 168,
          "Serum_Cholesterol": 214
         },
         {
          "Age": 43,
          "Chest_Pain_Type": 3,
          "Diagnosis": false,
          "Fasting_Blood_Sugar": 0,
          "Max_Heart_Rate": 162,
          "Serum_Cholesterol": 315
         },
         {
          "Age": 50,
          "Chest_Pain_Type": 3,
          "Diagnosis": false,
          "Fasting_Blood_Sugar": 0,
          "Max_Heart_Rate": 158,
          "Serum_Cholesterol": 219
         },
         {
          "Age": 59,
          "Chest_Pain_Type": 1,
          "Diagnosis": false,
          "Fasting_Blood_Sugar": 0,
          "Max_Heart_Rate": 145,
          "Serum_Cholesterol": 270
         },
         {
          "Age": 34,
          "Chest_Pain_Type": 1,
          "Diagnosis": false,
          "Fasting_Blood_Sugar": 0,
          "Max_Heart_Rate": 174,
          "Serum_Cholesterol": 182
         },
         {
          "Age": 42,
          "Chest_Pain_Type": 3,
          "Diagnosis": false,
          "Fasting_Blood_Sugar": 1,
          "Max_Heart_Rate": 194,
          "Serum_Cholesterol": 240
         },
         {
          "Age": 59,
          "Chest_Pain_Type": 3,
          "Diagnosis": false,
          "Fasting_Blood_Sugar": 1,
          "Max_Heart_Rate": 157,
          "Serum_Cholesterol": 212
         },
         {
          "Age": 62,
          "Chest_Pain_Type": 4,
          "Diagnosis": false,
          "Fasting_Blood_Sugar": 0,
          "Max_Heart_Rate": 163,
          "Serum_Cholesterol": 209
         },
         {
          "Age": 60,
          "Chest_Pain_Type": 3,
          "Diagnosis": false,
          "Fasting_Blood_Sugar": 1,
          "Max_Heart_Rate": 96,
          "Serum_Cholesterol": 178
         },
         {
          "Age": 42,
          "Chest_Pain_Type": 3,
          "Diagnosis": false,
          "Fasting_Blood_Sugar": 0,
          "Max_Heart_Rate": 173,
          "Serum_Cholesterol": 209
         },
         {
          "Age": 35,
          "Chest_Pain_Type": 2,
          "Diagnosis": false,
          "Fasting_Blood_Sugar": 0,
          "Max_Heart_Rate": 174,
          "Serum_Cholesterol": 192
         },
         {
          "Age": 64,
          "Chest_Pain_Type": 4,
          "Diagnosis": true,
          "Fasting_Blood_Sugar": 0,
          "Max_Heart_Rate": 96,
          "Serum_Cholesterol": 246
         },
         {
          "Age": 65,
          "Chest_Pain_Type": 3,
          "Diagnosis": false,
          "Fasting_Blood_Sugar": 0,
          "Max_Heart_Rate": 148,
          "Serum_Cholesterol": 269
         },
         {
          "Age": 59,
          "Chest_Pain_Type": 1,
          "Diagnosis": true,
          "Fasting_Blood_Sugar": 0,
          "Max_Heart_Rate": 162,
          "Serum_Cholesterol": 204
         },
         {
          "Age": 60,
          "Chest_Pain_Type": 4,
          "Diagnosis": true,
          "Fasting_Blood_Sugar": 0,
          "Max_Heart_Rate": 170,
          "Serum_Cholesterol": 293
         },
         {
          "Age": 58,
          "Chest_Pain_Type": 4,
          "Diagnosis": true,
          "Fasting_Blood_Sugar": 0,
          "Max_Heart_Rate": 140,
          "Serum_Cholesterol": 318
         },
         {
          "Age": 57,
          "Chest_Pain_Type": 4,
          "Diagnosis": true,
          "Fasting_Blood_Sugar": 1,
          "Max_Heart_Rate": 124,
          "Serum_Cholesterol": 289
         },
         {
          "Age": 45,
          "Chest_Pain_Type": 4,
          "Diagnosis": true,
          "Fasting_Blood_Sugar": 0,
          "Max_Heart_Rate": 147,
          "Serum_Cholesterol": 309
         },
         {
          "Age": 54,
          "Chest_Pain_Type": 4,
          "Diagnosis": true,
          "Fasting_Blood_Sugar": 0,
          "Max_Heart_Rate": 113,
          "Serum_Cholesterol": 188
         },
         {
          "Age": 45,
          "Chest_Pain_Type": 1,
          "Diagnosis": true,
          "Fasting_Blood_Sugar": 0,
          "Max_Heart_Rate": 132,
          "Serum_Cholesterol": 264
         },
         {
          "Age": 35,
          "Chest_Pain_Type": 4,
          "Diagnosis": true,
          "Fasting_Blood_Sugar": 0,
          "Max_Heart_Rate": 156,
          "Serum_Cholesterol": 282
         },
         {
          "Age": 60,
          "Chest_Pain_Type": 4,
          "Diagnosis": true,
          "Fasting_Blood_Sugar": 0,
          "Max_Heart_Rate": 141,
          "Serum_Cholesterol": 258
         },
         {
          "Age": 63,
          "Chest_Pain_Type": 4,
          "Diagnosis": true,
          "Fasting_Blood_Sugar": 1,
          "Max_Heart_Rate": 132,
          "Serum_Cholesterol": 330
         },
         {
          "Age": 66,
          "Chest_Pain_Type": 4,
          "Diagnosis": true,
          "Fasting_Blood_Sugar": 1,
          "Max_Heart_Rate": 165,
          "Serum_Cholesterol": 228
         },
         {
          "Age": 48,
          "Chest_Pain_Type": 4,
          "Diagnosis": true,
          "Fasting_Blood_Sugar": 0,
          "Max_Heart_Rate": 166,
          "Serum_Cholesterol": 274
         },
         {
          "Age": 48,
          "Chest_Pain_Type": 4,
          "Diagnosis": false,
          "Fasting_Blood_Sugar": 0,
          "Max_Heart_Rate": 186,
          "Serum_Cholesterol": 222
         },
         {
          "Age": 55,
          "Chest_Pain_Type": 2,
          "Diagnosis": false,
          "Fasting_Blood_Sugar": 0,
          "Max_Heart_Rate": 161,
          "Serum_Cholesterol": 250
         },
         {
          "Age": 52,
          "Chest_Pain_Type": 4,
          "Diagnosis": false,
          "Fasting_Blood_Sugar": 1,
          "Max_Heart_Rate": 147,
          "Serum_Cholesterol": 233
         },
         {
          "Age": 67,
          "Chest_Pain_Type": 3,
          "Diagnosis": true,
          "Fasting_Blood_Sugar": 0,
          "Max_Heart_Rate": 150,
          "Serum_Cholesterol": 212
         },
         {
          "Age": 52,
          "Chest_Pain_Type": 2,
          "Diagnosis": false,
          "Fasting_Blood_Sugar": 0,
          "Max_Heart_Rate": 172,
          "Serum_Cholesterol": 325
         },
         {
          "Age": 61,
          "Chest_Pain_Type": 3,
          "Diagnosis": false,
          "Fasting_Blood_Sugar": 1,
          "Max_Heart_Rate": 137,
          "Serum_Cholesterol": 243
         },
         {
          "Age": 67,
          "Chest_Pain_Type": 4,
          "Diagnosis": true,
          "Fasting_Blood_Sugar": 0,
          "Max_Heart_Rate": 129,
          "Serum_Cholesterol": 229
         },
         {
          "Age": 59,
          "Chest_Pain_Type": 4,
          "Diagnosis": true,
          "Fasting_Blood_Sugar": 0,
          "Max_Heart_Rate": 140,
          "Serum_Cholesterol": 326
         },
         {
          "Age": 55,
          "Chest_Pain_Type": 2,
          "Diagnosis": false,
          "Fasting_Blood_Sugar": 0,
          "Max_Heart_Rate": 155,
          "Serum_Cholesterol": 262
         },
         {
          "Age": 63,
          "Chest_Pain_Type": 4,
          "Diagnosis": true,
          "Fasting_Blood_Sugar": 0,
          "Max_Heart_Rate": 144,
          "Serum_Cholesterol": 187
         },
         {
          "Age": 51,
          "Chest_Pain_Type": 3,
          "Diagnosis": false,
          "Fasting_Blood_Sugar": 0,
          "Max_Heart_Rate": 157,
          "Serum_Cholesterol": 295
         },
         {
          "Age": 56,
          "Chest_Pain_Type": 4,
          "Diagnosis": true,
          "Fasting_Blood_Sugar": 1,
          "Max_Heart_Rate": 144,
          "Serum_Cholesterol": 249
         },
         {
          "Age": 63,
          "Chest_Pain_Type": 4,
          "Diagnosis": true,
          "Fasting_Blood_Sugar": 0,
          "Max_Heart_Rate": 169,
          "Serum_Cholesterol": 269
         },
         {
          "Age": 64,
          "Chest_Pain_Type": 3,
          "Diagnosis": true,
          "Fasting_Blood_Sugar": 0,
          "Max_Heart_Rate": 158,
          "Serum_Cholesterol": 335
         },
         {
          "Age": 65,
          "Chest_Pain_Type": 4,
          "Diagnosis": true,
          "Fasting_Blood_Sugar": 0,
          "Max_Heart_Rate": 158,
          "Serum_Cholesterol": 248
         },
         {
          "Age": 50,
          "Chest_Pain_Type": 4,
          "Diagnosis": true,
          "Fasting_Blood_Sugar": 0,
          "Max_Heart_Rate": 128,
          "Serum_Cholesterol": 243
         },
         {
          "Age": 56,
          "Chest_Pain_Type": 4,
          "Diagnosis": true,
          "Fasting_Blood_Sugar": 1,
          "Max_Heart_Rate": 133,
          "Serum_Cholesterol": 288
         },
         {
          "Age": 43,
          "Chest_Pain_Type": 4,
          "Diagnosis": true,
          "Fasting_Blood_Sugar": 1,
          "Max_Heart_Rate": 136,
          "Serum_Cholesterol": 341
         },
         {
          "Age": 59,
          "Chest_Pain_Type": 4,
          "Diagnosis": true,
          "Fasting_Blood_Sugar": 0,
          "Max_Heart_Rate": 142,
          "Serum_Cholesterol": 239
         },
         {
          "Age": 34,
          "Chest_Pain_Type": 2,
          "Diagnosis": false,
          "Fasting_Blood_Sugar": 0,
          "Max_Heart_Rate": 192,
          "Serum_Cholesterol": 210
         },
         {
          "Age": 52,
          "Chest_Pain_Type": 4,
          "Diagnosis": true,
          "Fasting_Blood_Sugar": 0,
          "Max_Heart_Rate": 160,
          "Serum_Cholesterol": 230
         },
         {
          "Age": 41,
          "Chest_Pain_Type": 4,
          "Diagnosis": true,
          "Fasting_Blood_Sugar": 0,
          "Max_Heart_Rate": 158,
          "Serum_Cholesterol": 172
         },
         {
          "Age": 55,
          "Chest_Pain_Type": 4,
          "Diagnosis": true,
          "Fasting_Blood_Sugar": 0,
          "Max_Heart_Rate": 111,
          "Serum_Cholesterol": 217
         },
         {
          "Age": 59,
          "Chest_Pain_Type": 4,
          "Diagnosis": true,
          "Fasting_Blood_Sugar": 0,
          "Max_Heart_Rate": 162,
          "Serum_Cholesterol": 177
         },
         {
          "Age": 68,
          "Chest_Pain_Type": 3,
          "Diagnosis": true,
          "Fasting_Blood_Sugar": 1,
          "Max_Heart_Rate": 150,
          "Serum_Cholesterol": 274
         },
         {
          "Age": 54,
          "Chest_Pain_Type": 4,
          "Diagnosis": false,
          "Fasting_Blood_Sugar": 0,
          "Max_Heart_Rate": 160,
          "Serum_Cholesterol": 239
         },
         {
          "Age": 52,
          "Chest_Pain_Type": 3,
          "Diagnosis": false,
          "Fasting_Blood_Sugar": 0,
          "Max_Heart_Rate": 169,
          "Serum_Cholesterol": 196
         },
         {
          "Age": 52,
          "Chest_Pain_Type": 2,
          "Diagnosis": false,
          "Fasting_Blood_Sugar": 0,
          "Max_Heart_Rate": 158,
          "Serum_Cholesterol": 201
         }
        ]
       },
       "encoding": {
        "fill": {
         "field": "Diagnosis",
         "scale": {
          "scheme": "set1"
         },
         "type": "nominal"
        },
        "x": {
         "field": "Chest_Pain_Type",
         "title": "Chest Pain Type",
         "type": "nominal"
        },
        "y": {
         "aggregate": "count",
         "axis": {
          "format": "%"
         },
         "field": "Chest_Pain_Type",
         "stack": "normalize",
         "title": "Proportion of Total Count",
         "type": "quantitative"
        }
       },
       "height": 300,
       "mark": "bar",
       "title": "Proportions of Diagnosis for Chest Pain Type",
       "width": 380
      },
      "image/png": "[encoded data removed]",
      "text/plain": [
       "<VegaLite 4 object>\n",
       "\n",
       "If you see this message, it means the renderer has not been properly enabled\n",
       "for the frontend that you are using. For more information, see\n",
       "https://altair-viz.github.io/user_guide/troubleshooting.html\n"
      ]
     },
     "execution_count": 40,
     "metadata": {},
     "output_type": "execute_result"
    }
   ],
   "source": [
    "diagnosis_dist_plot = (\n",
    "    alt.Chart(heart_train, title=\"Proportions of Diagnosis for Chest Pain Type\" )\n",
    "    .mark_bar()\n",
    "    .encode(\n",
    "        y=alt.Y(\n",
    "            \"count(Chest_Pain_Type):Q\",\n",
    "            stack=\"normalize\",\n",
    "            axis=alt.Axis(format=\"%\"),\n",
    "            title=\"Proportion of Total Count\",\n",
    "        ),\n",
    "        x=alt.X(\"Chest_Pain_Type:N\", title= \"Chest Pain Type\"),\n",
    "        fill=alt.Fill(\n",
    "            \"Diagnosis\", scale=alt.Scale(scheme=\"set1\")\n",
    "        ),  # N is to specify this is a categorical variable\n",
    "    )\n",
    "    .properties(width=380, height=300)\n",
    "    .configure_axis(labelFontSize=18, titleFontSize=18)\n",
    "    .configure_title(fontSize=20)\n",
    ")\n",
    "diagnosis_dist_plot"
   ]
  },
  {
   "cell_type": "markdown",
   "id": "3d6d1fc3-6fca-4e8b-84b0-2b40903d973f",
   "metadata": {
    "tags": []
   },
   "source": [
    "### Methods"
   ]
  },
  {
   "cell_type": "markdown",
   "id": "e5c305d2-f9eb-4a93-9943-8caa990c04fa",
   "metadata": {},
   "source": [
    "The variables we have chosen in order to predict heart disease are as following:\n",
    "- Age: According to the National Institute of Aging (2018), aging results in significant changes on the heart and blood vessels (arteries), which will directly impact the risks of a heart disease. \n",
    "\n",
    "- Chest pain type (cp): As mentioned by Abdullah et al. (2021), chest pain type is a major symptom which has shown to be highly and sensitively correlated to the results of a positive diagnosis for a heart disease, consequently shown to be a predictive factor of heart diseases.\n",
    "\n",
    "- Serum cholesterol (chol): The state of hypercholesterolemia (high levels of cholesterol) in patients exhibit higher vulnerability towards heart disease, indicating a correlational as well as a causation effect between the two (Mannu et al., 2013).\n",
    "\n",
    "- Fasting blood sugar (fbs): Those with higher blood sugar levels symptomatic of those with diabetic mellitus suffer from more severe heart diseases, insinuating an association between blood sugar levels and the presence of heart diseases (Saha et al., 2022)\n",
    "\n",
    "- Maximum heart rate achieved (thalach): As stated by Christine et al. (2009), \"an increase in heart rate by 10 beats per minute [is] associated with an increase in the risk of cardiac death by at least 20%\". This indicates that the count of heart rate is notable in regards to risk of heart disease.\n",
    "\n",
    "We will use the K-classification method to run our analysis, by pulling statistical data from the dataset, in order to create a training data and a testing data that will be able to predict if a person has heart disease based on the predictors listed above.\n",
    "\n",
    "We will visualize the results of the analysis by using a stacked bar chart or a histogram, which shows the distribution of diagnosis for each chest pain type. We will also create scatterplots to show the relationship between different predictor variables."
   ]
  },
  {
   "cell_type": "markdown",
   "id": "3cceb672-c77d-4f19-9f71-de2418afb938",
   "metadata": {},
   "source": [
    "### Expected outcomes and significance"
   ]
  },
  {
   "cell_type": "markdown",
   "id": "f6de8a20-f986-4fe1-9c11-9e1744809d1b",
   "metadata": {},
   "source": [
    "We expect that individuals who are older, have higher cholesterol levels, present higher maximum heart rate, experience certain chest pain types, and have higher blood sugar levels are more likely to be suffering from heart disease.\n",
    "\n",
    "These findings will be able to help indicate and predict the possibility of a heart disease and help people improve their health standards in order to prevent developing heart disease.\n",
    "\n",
    "This analysis could pose questions in the future such as:\n",
    "- \"What habits in our daily life contribute to the development of heart disease in the future?\"\n",
    "- \"What methods could be done to prevent factors of heart disease in the future?\"\n",
    "- \"What other possible diseases might be indicated by these vital signs?\"\n",
    "- \"How do these factors effect the chances of getting a heart disease?\"\n",
    "- \"Why do these factors effect the chances of getting a heart disease?\""
   ]
  },
  {
   "cell_type": "markdown",
   "id": "2ed96368-3b17-4467-9521-7776044bf492",
   "metadata": {
    "tags": []
   },
   "source": [
    "### References"
   ]
  },
  {
   "cell_type": "markdown",
   "id": "a467b332-77b1-4bed-be9b-e2c8dd83a5b2",
   "metadata": {},
   "source": [
    "U.S. Department of Health and Human Services. (2018). Heart health and aging. National Institute on Aging. Retrieved 2023, from https://www.nia.nih.gov/health/heart-health-and-aging \n",
    "\n",
    "Sheik Abdullah, A., Selvakumar, S., Venkatesh, M. (2021). Assessment and evaluation of CHD risk factors using weighted ranked correlation and regression with data classification. _Soft Computing, 25_(6), 4979–5001. https://doi.org/10.1007/s00500-021-05663-y \n",
    "\n",
    "S. Mannu, G., J.S. Zaman, M., Gupta, A., U. Rehman, H., K. Myint, P. (2013). Evidence of lifestyle modification in the management of Hypercholesterolemia. _Current Cardiology Reviews, 9_(1), 2–14. https://doi.org/10.2174/157340313805076313 \n",
    "\n",
    "Saha, A., Kuila, M., & Sharma, R. K. . (2022). Relationship of severity of coronary artery disease with fasting blood sugar and glycosylated hemoglobin. _Asian Journal of Medical Sciences, 13_(3), 38–42. https://doi.org/10.3126/ajms.v13i3.40416\n",
    "\n",
    "Perret-Guillaume, C., Joly, L., &amp; Benetos, A. (2009). Heart rate as a risk factor for cardiovascular disease. _Progress in Cardiovascular Diseases, 52_(1), 6–10. https://doi.org/10.1016/j.pcad.2009.05.003 "
   ]
  }
 ],
 "metadata": {
  "kernelspec": {
   "display_name": "Python 3 (ipykernel)",
   "language": "python",
   "name": "python3"
  },
  "language_info": {
   "codemirror_mode": {
    "name": "ipython",
    "version": 3
   },
   "file_extension": ".py",
   "mimetype": "text/x-python",
   "name": "python",
   "nbconvert_exporter": "python",
   "pygments_lexer": "ipython3",
   "version": "3.10.8"
  }
 },
 "nbformat": 4,
 "nbformat_minor": 5
}
