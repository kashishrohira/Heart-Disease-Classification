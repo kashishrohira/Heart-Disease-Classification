{
 "cells": [
  {
   "cell_type": "markdown",
   "id": "902b1dea-2bf0-4231-b21f-b7eaf8be770a",
   "metadata": {},
   "source": [
    "## Project Report"
   ]
  },
  {
   "cell_type": "markdown",
   "id": "b4ba6875-a462-457e-a91e-d6568ac5d073",
   "metadata": {},
   "source": [
    "### Introduction"
   ]
  },
  {
   "cell_type": "markdown",
   "id": "acb2f30d-bac3-44f4-b06d-d0b9ca05f45f",
   "metadata": {},
   "source": [
    "Cardiovascular disease (also commonly known as heart disease) is a general category of diseases that affect the circulatory system of an individual, including the heart, the blood vessels or both. While the most prevalent type of cardiovascular diseases is the coronary heart disease, there are a lot of other types of cardiovascular diseases that still affect individuals, such as aortic diseases.  These disease might be present in a person due to multiple circumstances, those of which may vary from environmental influences, genetical factors, to lifestyle choices. These variables are likely to play a part in predicting whether an individual is susceptible to a cardiovascular disease.\n",
    "\n",
    "For instance, according to Centers for Disease and Control Prevention, people who suffer from diabetes (a health condition that affects how energy is processed from food intake indicated by fasting sugar level in the blood) is more likely to experience a cardiovascular disease due to the symptoms present from diabetes, particularly to the high blood pressure present in most diabetes positive people. According to a study from Biomed Central, 32% of individuals suffering from diabetes are affected by cardiovascular diseases, indicating that within diabetic people, cardiovascular diseases are statistically influential on the mortality rates. This in turn, suggests that fasting sugar level, which is correlated to diabetes, is also corellated to the possible presence of a cardiovascular disease, making it a variable that should be considered when predicting cardiovascular diseases within individuals. \n",
    "\n",
    "In this project, our group aims to be able to predict the presence of a cardiovascular disease based on variables reported by individuals. These reports are provided by the dataset taken from the UCI Machine Learning Repository (UCI). This particular dataset is a compilation of databases regarding variables within an individual and their diagnoses of a cardiovascular disease from four sources. These four sources are:\n",
    "1. Hungarian Institute of Cardiology. Budapest: Andras Janosi, M.D.\n",
    "2. University Hospital, Zurich, Switzerland: William Steinbrunn, M.D.\n",
    "3. University Hospital, Basel, Switzerland: Matthias Pfisterer, M.D.\n",
    "4. V.A. Medical Center, Long Beach and Cleveland Clinic Foundation: Robert Detrano, M.D., Ph.D.\n",
    "\n",
    "We have chosen to utilize the dataset from the V.A. Medical Center, Long Beach and Cleveland Clinic Foundation.\n",
    "\n",
    "https://archive.ics.uci.edu/ml/datasets/heart+disease\n",
    "\n",
    "The variables in the dataset are as follows:\n",
    "- Age : age in years\n",
    "- Sex : (1 = male; 0 = female)\n",
    "- cp : Chest pain type; (chest pain type 1 = typical angina, 2 = atypical angina, 3 = non-angina pain, 4 = asymptomatic angina)\n",
    "- trestbps : Resting blood pressure (in mm Hg on admission to the hospital)\n",
    "- chol : Serum cholesterol (in mg/dl)\n",
    "- fbs : Fasting blood sugar; Fasting blood sugar > 120 mg/dl (1 = true; 0 = false)\n",
    "- restecg : Resting electrocardiographic results\n",
    "- thalach : Maximum heart rate achieved\n",
    "- exang : Exercise induced angina (1 = yes; 0 = no)\n",
    "- oldpeak : ST depression induced by exercise relative to rest\n",
    "- slope : The slope of the peak exercise ST segment\n",
    "- ca : Number of major vessels (0-3) colored by fluoroscopy\n",
    "- thal : (3 = normal; 6 = fixed defect; 7 = reversable defect)\n",
    "- num : Diagnosis of heart disease (angiographic disease status)\n",
    "\n",
    "In our research, we will be using five of the variables from the dataset, those of which are the following:\n",
    "- Age : measured in years\n",
    "- cp : (1= typical angina; 2= atypical angina; 3= non-angina pain; 4= asymptomatic angina)\n",
    "- chol : measured in mg/dl\n",
    "- fbs : measured in fbs > 120 mg/dl (1= true; 0= false)\n",
    "- thalach : measured in beats per minute (BPM)\n",
    "\n",
    "We will be making use of the classification method in order to conduct this research. We will be loading the dataset in, and then build a training and testing model that will be utilized in order to predict the presence of a cardiovascular disease. We will also be using cross-validation to find the k-nearest neighbors (KNN)."
   ]
  },
  {
   "cell_type": "code",
   "execution_count": 7,
   "id": "bc99caa2-d8bf-4b5c-becd-627d214aff83",
   "metadata": {},
   "outputs": [
    {
     "data": {
      "text/plain": [
       "RendererRegistry.enable('mimetype')"
      ]
     },
     "execution_count": 7,
     "metadata": {},
     "output_type": "execute_result"
    }
   ],
   "source": [
    "# Packages needed for classification on our dataset\n",
    "import altair as alt\n",
    "import numpy as np\n",
    "import pandas as pd\n",
    "import sklearn\n",
    "from sklearn.compose import make_column_transformer\n",
    "from sklearn.metrics import confusion_matrix\n",
    "from sklearn.metrics.pairwise import euclidean_distances\n",
    "from sklearn.model_selection import (\n",
    "    GridSearchCV,\n",
    "    RandomizedSearchCV,\n",
    "    cross_validate,\n",
    "    train_test_split,\n",
    ")\n",
    "from sklearn.neighbors import KNeighborsClassifier\n",
    "from sklearn.pipeline import Pipeline, make_pipeline\n",
    "from sklearn.preprocessing import OneHotEncoder, StandardScaler\n",
    "\n",
    "alt.data_transformers.disable_max_rows()\n",
    "alt.renderers.enable(\"mimetype\")"
   ]
  },
  {
   "cell_type": "markdown",
   "id": "ebaa213c-2ef7-4a90-82eb-fe1e63aa96b1",
   "metadata": {},
   "source": [
    "### Preliminary Exploratory Data Analysis"
   ]
  },
  {
   "cell_type": "markdown",
   "id": "641ed44c-b457-4cca-adf4-5ec88db78b3e",
   "metadata": {},
   "source": [
    "Below, we load the dataset into Jupyter:"
   ]
  },
  {
   "cell_type": "code",
   "execution_count": 8,
   "id": "0c9b934b-539a-4cc4-ba3a-7962021ea2f1",
   "metadata": {},
   "outputs": [
    {
     "data": {
      "text/html": [
       "<div>\n",
       "<style scoped>\n",
       "    .dataframe tbody tr th:only-of-type {\n",
       "        vertical-align: middle;\n",
       "    }\n",
       "\n",
       "    .dataframe tbody tr th {\n",
       "        vertical-align: top;\n",
       "    }\n",
       "\n",
       "    .dataframe thead th {\n",
       "        text-align: right;\n",
       "    }\n",
       "</style>\n",
       "<table border=\"1\" class=\"dataframe\">\n",
       "  <thead>\n",
       "    <tr style=\"text-align: right;\">\n",
       "      <th></th>\n",
       "      <th>Age</th>\n",
       "      <th>Sex</th>\n",
       "      <th>Chest_Pain_Type</th>\n",
       "      <th>Resting_Blood_Pressure</th>\n",
       "      <th>Serum_Cholesterol</th>\n",
       "      <th>Fasting_Blood_Sugar</th>\n",
       "      <th>Resting_ECG</th>\n",
       "      <th>Max_Heart_Rate</th>\n",
       "      <th>Exercise_Induced_Angina</th>\n",
       "      <th>ST_Depression_Exercise</th>\n",
       "      <th>Peak_Exercise_ST_Segment</th>\n",
       "      <th>Num_Major_Vessels_Flouro</th>\n",
       "      <th>Thalassemia</th>\n",
       "      <th>Diagnosis</th>\n",
       "    </tr>\n",
       "  </thead>\n",
       "  <tbody>\n",
       "    <tr>\n",
       "      <th>0</th>\n",
       "      <td>63.0</td>\n",
       "      <td>1.0</td>\n",
       "      <td>1.0</td>\n",
       "      <td>145.0</td>\n",
       "      <td>233.0</td>\n",
       "      <td>1.0</td>\n",
       "      <td>2.0</td>\n",
       "      <td>150.0</td>\n",
       "      <td>0.0</td>\n",
       "      <td>2.3</td>\n",
       "      <td>3.0</td>\n",
       "      <td>0.0</td>\n",
       "      <td>6.0</td>\n",
       "      <td>0</td>\n",
       "    </tr>\n",
       "    <tr>\n",
       "      <th>1</th>\n",
       "      <td>67.0</td>\n",
       "      <td>1.0</td>\n",
       "      <td>4.0</td>\n",
       "      <td>160.0</td>\n",
       "      <td>286.0</td>\n",
       "      <td>0.0</td>\n",
       "      <td>2.0</td>\n",
       "      <td>108.0</td>\n",
       "      <td>1.0</td>\n",
       "      <td>1.5</td>\n",
       "      <td>2.0</td>\n",
       "      <td>3.0</td>\n",
       "      <td>3.0</td>\n",
       "      <td>2</td>\n",
       "    </tr>\n",
       "    <tr>\n",
       "      <th>2</th>\n",
       "      <td>67.0</td>\n",
       "      <td>1.0</td>\n",
       "      <td>4.0</td>\n",
       "      <td>120.0</td>\n",
       "      <td>229.0</td>\n",
       "      <td>0.0</td>\n",
       "      <td>2.0</td>\n",
       "      <td>129.0</td>\n",
       "      <td>1.0</td>\n",
       "      <td>2.6</td>\n",
       "      <td>2.0</td>\n",
       "      <td>2.0</td>\n",
       "      <td>7.0</td>\n",
       "      <td>1</td>\n",
       "    </tr>\n",
       "    <tr>\n",
       "      <th>3</th>\n",
       "      <td>37.0</td>\n",
       "      <td>1.0</td>\n",
       "      <td>3.0</td>\n",
       "      <td>130.0</td>\n",
       "      <td>250.0</td>\n",
       "      <td>0.0</td>\n",
       "      <td>0.0</td>\n",
       "      <td>187.0</td>\n",
       "      <td>0.0</td>\n",
       "      <td>3.5</td>\n",
       "      <td>3.0</td>\n",
       "      <td>0.0</td>\n",
       "      <td>3.0</td>\n",
       "      <td>0</td>\n",
       "    </tr>\n",
       "    <tr>\n",
       "      <th>4</th>\n",
       "      <td>41.0</td>\n",
       "      <td>0.0</td>\n",
       "      <td>2.0</td>\n",
       "      <td>130.0</td>\n",
       "      <td>204.0</td>\n",
       "      <td>0.0</td>\n",
       "      <td>2.0</td>\n",
       "      <td>172.0</td>\n",
       "      <td>0.0</td>\n",
       "      <td>1.4</td>\n",
       "      <td>1.0</td>\n",
       "      <td>0.0</td>\n",
       "      <td>3.0</td>\n",
       "      <td>0</td>\n",
       "    </tr>\n",
       "    <tr>\n",
       "      <th>...</th>\n",
       "      <td>...</td>\n",
       "      <td>...</td>\n",
       "      <td>...</td>\n",
       "      <td>...</td>\n",
       "      <td>...</td>\n",
       "      <td>...</td>\n",
       "      <td>...</td>\n",
       "      <td>...</td>\n",
       "      <td>...</td>\n",
       "      <td>...</td>\n",
       "      <td>...</td>\n",
       "      <td>...</td>\n",
       "      <td>...</td>\n",
       "      <td>...</td>\n",
       "    </tr>\n",
       "    <tr>\n",
       "      <th>298</th>\n",
       "      <td>45.0</td>\n",
       "      <td>1.0</td>\n",
       "      <td>1.0</td>\n",
       "      <td>110.0</td>\n",
       "      <td>264.0</td>\n",
       "      <td>0.0</td>\n",
       "      <td>0.0</td>\n",
       "      <td>132.0</td>\n",
       "      <td>0.0</td>\n",
       "      <td>1.2</td>\n",
       "      <td>2.0</td>\n",
       "      <td>0.0</td>\n",
       "      <td>7.0</td>\n",
       "      <td>1</td>\n",
       "    </tr>\n",
       "    <tr>\n",
       "      <th>299</th>\n",
       "      <td>68.0</td>\n",
       "      <td>1.0</td>\n",
       "      <td>4.0</td>\n",
       "      <td>144.0</td>\n",
       "      <td>193.0</td>\n",
       "      <td>1.0</td>\n",
       "      <td>0.0</td>\n",
       "      <td>141.0</td>\n",
       "      <td>0.0</td>\n",
       "      <td>3.4</td>\n",
       "      <td>2.0</td>\n",
       "      <td>2.0</td>\n",
       "      <td>7.0</td>\n",
       "      <td>2</td>\n",
       "    </tr>\n",
       "    <tr>\n",
       "      <th>300</th>\n",
       "      <td>57.0</td>\n",
       "      <td>1.0</td>\n",
       "      <td>4.0</td>\n",
       "      <td>130.0</td>\n",
       "      <td>131.0</td>\n",
       "      <td>0.0</td>\n",
       "      <td>0.0</td>\n",
       "      <td>115.0</td>\n",
       "      <td>1.0</td>\n",
       "      <td>1.2</td>\n",
       "      <td>2.0</td>\n",
       "      <td>1.0</td>\n",
       "      <td>7.0</td>\n",
       "      <td>3</td>\n",
       "    </tr>\n",
       "    <tr>\n",
       "      <th>301</th>\n",
       "      <td>57.0</td>\n",
       "      <td>0.0</td>\n",
       "      <td>2.0</td>\n",
       "      <td>130.0</td>\n",
       "      <td>236.0</td>\n",
       "      <td>0.0</td>\n",
       "      <td>2.0</td>\n",
       "      <td>174.0</td>\n",
       "      <td>0.0</td>\n",
       "      <td>0.0</td>\n",
       "      <td>2.0</td>\n",
       "      <td>1.0</td>\n",
       "      <td>3.0</td>\n",
       "      <td>1</td>\n",
       "    </tr>\n",
       "    <tr>\n",
       "      <th>302</th>\n",
       "      <td>38.0</td>\n",
       "      <td>1.0</td>\n",
       "      <td>3.0</td>\n",
       "      <td>138.0</td>\n",
       "      <td>175.0</td>\n",
       "      <td>0.0</td>\n",
       "      <td>0.0</td>\n",
       "      <td>173.0</td>\n",
       "      <td>0.0</td>\n",
       "      <td>0.0</td>\n",
       "      <td>1.0</td>\n",
       "      <td>?</td>\n",
       "      <td>3.0</td>\n",
       "      <td>0</td>\n",
       "    </tr>\n",
       "  </tbody>\n",
       "</table>\n",
       "<p>303 rows × 14 columns</p>\n",
       "</div>"
      ],
      "text/plain": [
       "      Age  Sex  Chest_Pain_Type  Resting_Blood_Pressure  Serum_Cholesterol  \\\n",
       "0    63.0  1.0              1.0                   145.0              233.0   \n",
       "1    67.0  1.0              4.0                   160.0              286.0   \n",
       "2    67.0  1.0              4.0                   120.0              229.0   \n",
       "3    37.0  1.0              3.0                   130.0              250.0   \n",
       "4    41.0  0.0              2.0                   130.0              204.0   \n",
       "..    ...  ...              ...                     ...                ...   \n",
       "298  45.0  1.0              1.0                   110.0              264.0   \n",
       "299  68.0  1.0              4.0                   144.0              193.0   \n",
       "300  57.0  1.0              4.0                   130.0              131.0   \n",
       "301  57.0  0.0              2.0                   130.0              236.0   \n",
       "302  38.0  1.0              3.0                   138.0              175.0   \n",
       "\n",
       "     Fasting_Blood_Sugar  Resting_ECG  Max_Heart_Rate  \\\n",
       "0                    1.0          2.0           150.0   \n",
       "1                    0.0          2.0           108.0   \n",
       "2                    0.0          2.0           129.0   \n",
       "3                    0.0          0.0           187.0   \n",
       "4                    0.0          2.0           172.0   \n",
       "..                   ...          ...             ...   \n",
       "298                  0.0          0.0           132.0   \n",
       "299                  1.0          0.0           141.0   \n",
       "300                  0.0          0.0           115.0   \n",
       "301                  0.0          2.0           174.0   \n",
       "302                  0.0          0.0           173.0   \n",
       "\n",
       "     Exercise_Induced_Angina  ST_Depression_Exercise  \\\n",
       "0                        0.0                     2.3   \n",
       "1                        1.0                     1.5   \n",
       "2                        1.0                     2.6   \n",
       "3                        0.0                     3.5   \n",
       "4                        0.0                     1.4   \n",
       "..                       ...                     ...   \n",
       "298                      0.0                     1.2   \n",
       "299                      0.0                     3.4   \n",
       "300                      1.0                     1.2   \n",
       "301                      0.0                     0.0   \n",
       "302                      0.0                     0.0   \n",
       "\n",
       "     Peak_Exercise_ST_Segment Num_Major_Vessels_Flouro Thalassemia  Diagnosis  \n",
       "0                         3.0                      0.0         6.0          0  \n",
       "1                         2.0                      3.0         3.0          2  \n",
       "2                         2.0                      2.0         7.0          1  \n",
       "3                         3.0                      0.0         3.0          0  \n",
       "4                         1.0                      0.0         3.0          0  \n",
       "..                        ...                      ...         ...        ...  \n",
       "298                       2.0                      0.0         7.0          1  \n",
       "299                       2.0                      2.0         7.0          2  \n",
       "300                       2.0                      1.0         7.0          3  \n",
       "301                       2.0                      1.0         3.0          1  \n",
       "302                       1.0                        ?         3.0          0  \n",
       "\n",
       "[303 rows x 14 columns]"
      ]
     },
     "execution_count": 8,
     "metadata": {},
     "output_type": "execute_result"
    }
   ],
   "source": [
    "# Loading the dataset using the URL\n",
    "url = \"https://archive.ics.uci.edu/ml/machine-learning-databases/heart-disease/processed.cleveland.data\"\n",
    "\n",
    "heart_disease = pd.read_csv(url, header=None)\n",
    "\n",
    "heart_disease.columns = (\"Age\",\n",
    "           \"Sex\",\n",
    "           \"Chest_Pain_Type\",\n",
    "           \"Resting_Blood_Pressure\",\n",
    "           \"Serum_Cholesterol\",\n",
    "           \"Fasting_Blood_Sugar\",\n",
    "           \"Resting_ECG\",\n",
    "           \"Max_Heart_Rate\",\n",
    "           \"Exercise_Induced_Angina\",\n",
    "           \"ST_Depression_Exercise\",\n",
    "           \"Peak_Exercise_ST_Segment\",\n",
    "           \"Num_Major_Vessels_Flouro\",\n",
    "           \"Thalassemia\",\n",
    "           \"Diagnosis\") # assigning human-readable column headings\n",
    "\n",
    "heart_disease"
   ]
  },
  {
   "cell_type": "markdown",
   "id": "8a0dc060-198f-484d-b4f8-f0f7f559b070",
   "metadata": {},
   "source": [
    "We filtered the dataset to include only the variables taken into consideration:"
   ]
  },
  {
   "cell_type": "code",
   "execution_count": 9,
   "id": "d828cc30-8e57-4488-9b79-922c587f12c7",
   "metadata": {},
   "outputs": [
    {
     "data": {
      "text/html": [
       "<div>\n",
       "<style scoped>\n",
       "    .dataframe tbody tr th:only-of-type {\n",
       "        vertical-align: middle;\n",
       "    }\n",
       "\n",
       "    .dataframe tbody tr th {\n",
       "        vertical-align: top;\n",
       "    }\n",
       "\n",
       "    .dataframe thead th {\n",
       "        text-align: right;\n",
       "    }\n",
       "</style>\n",
       "<table border=\"1\" class=\"dataframe\">\n",
       "  <thead>\n",
       "    <tr style=\"text-align: right;\">\n",
       "      <th></th>\n",
       "      <th>Age</th>\n",
       "      <th>Chest_Pain_Type</th>\n",
       "      <th>Fasting_Blood_Sugar</th>\n",
       "      <th>Serum_Cholesterol</th>\n",
       "      <th>Max_Heart_Rate</th>\n",
       "      <th>Diagnosis</th>\n",
       "    </tr>\n",
       "  </thead>\n",
       "  <tbody>\n",
       "    <tr>\n",
       "      <th>0</th>\n",
       "      <td>63.0</td>\n",
       "      <td>1.0</td>\n",
       "      <td>1.0</td>\n",
       "      <td>233.0</td>\n",
       "      <td>150.0</td>\n",
       "      <td>0</td>\n",
       "    </tr>\n",
       "    <tr>\n",
       "      <th>1</th>\n",
       "      <td>67.0</td>\n",
       "      <td>4.0</td>\n",
       "      <td>0.0</td>\n",
       "      <td>286.0</td>\n",
       "      <td>108.0</td>\n",
       "      <td>2</td>\n",
       "    </tr>\n",
       "    <tr>\n",
       "      <th>2</th>\n",
       "      <td>67.0</td>\n",
       "      <td>4.0</td>\n",
       "      <td>0.0</td>\n",
       "      <td>229.0</td>\n",
       "      <td>129.0</td>\n",
       "      <td>1</td>\n",
       "    </tr>\n",
       "    <tr>\n",
       "      <th>3</th>\n",
       "      <td>37.0</td>\n",
       "      <td>3.0</td>\n",
       "      <td>0.0</td>\n",
       "      <td>250.0</td>\n",
       "      <td>187.0</td>\n",
       "      <td>0</td>\n",
       "    </tr>\n",
       "    <tr>\n",
       "      <th>4</th>\n",
       "      <td>41.0</td>\n",
       "      <td>2.0</td>\n",
       "      <td>0.0</td>\n",
       "      <td>204.0</td>\n",
       "      <td>172.0</td>\n",
       "      <td>0</td>\n",
       "    </tr>\n",
       "    <tr>\n",
       "      <th>...</th>\n",
       "      <td>...</td>\n",
       "      <td>...</td>\n",
       "      <td>...</td>\n",
       "      <td>...</td>\n",
       "      <td>...</td>\n",
       "      <td>...</td>\n",
       "    </tr>\n",
       "    <tr>\n",
       "      <th>298</th>\n",
       "      <td>45.0</td>\n",
       "      <td>1.0</td>\n",
       "      <td>0.0</td>\n",
       "      <td>264.0</td>\n",
       "      <td>132.0</td>\n",
       "      <td>1</td>\n",
       "    </tr>\n",
       "    <tr>\n",
       "      <th>299</th>\n",
       "      <td>68.0</td>\n",
       "      <td>4.0</td>\n",
       "      <td>1.0</td>\n",
       "      <td>193.0</td>\n",
       "      <td>141.0</td>\n",
       "      <td>2</td>\n",
       "    </tr>\n",
       "    <tr>\n",
       "      <th>300</th>\n",
       "      <td>57.0</td>\n",
       "      <td>4.0</td>\n",
       "      <td>0.0</td>\n",
       "      <td>131.0</td>\n",
       "      <td>115.0</td>\n",
       "      <td>3</td>\n",
       "    </tr>\n",
       "    <tr>\n",
       "      <th>301</th>\n",
       "      <td>57.0</td>\n",
       "      <td>2.0</td>\n",
       "      <td>0.0</td>\n",
       "      <td>236.0</td>\n",
       "      <td>174.0</td>\n",
       "      <td>1</td>\n",
       "    </tr>\n",
       "    <tr>\n",
       "      <th>302</th>\n",
       "      <td>38.0</td>\n",
       "      <td>3.0</td>\n",
       "      <td>0.0</td>\n",
       "      <td>175.0</td>\n",
       "      <td>173.0</td>\n",
       "      <td>0</td>\n",
       "    </tr>\n",
       "  </tbody>\n",
       "</table>\n",
       "<p>303 rows × 6 columns</p>\n",
       "</div>"
      ],
      "text/plain": [
       "      Age  Chest_Pain_Type  Fasting_Blood_Sugar  Serum_Cholesterol  \\\n",
       "0    63.0              1.0                  1.0              233.0   \n",
       "1    67.0              4.0                  0.0              286.0   \n",
       "2    67.0              4.0                  0.0              229.0   \n",
       "3    37.0              3.0                  0.0              250.0   \n",
       "4    41.0              2.0                  0.0              204.0   \n",
       "..    ...              ...                  ...                ...   \n",
       "298  45.0              1.0                  0.0              264.0   \n",
       "299  68.0              4.0                  1.0              193.0   \n",
       "300  57.0              4.0                  0.0              131.0   \n",
       "301  57.0              2.0                  0.0              236.0   \n",
       "302  38.0              3.0                  0.0              175.0   \n",
       "\n",
       "     Max_Heart_Rate  Diagnosis  \n",
       "0             150.0          0  \n",
       "1             108.0          2  \n",
       "2             129.0          1  \n",
       "3             187.0          0  \n",
       "4             172.0          0  \n",
       "..              ...        ...  \n",
       "298           132.0          1  \n",
       "299           141.0          2  \n",
       "300           115.0          3  \n",
       "301           174.0          1  \n",
       "302           173.0          0  \n",
       "\n",
       "[303 rows x 6 columns]"
      ]
     },
     "execution_count": 9,
     "metadata": {},
     "output_type": "execute_result"
    }
   ],
   "source": [
    "# Filtering to include only the columns we will be using in our analysis\n",
    "heart_disease_final = heart_disease.loc[:, [\"Age\",\"Chest_Pain_Type\",\"Fasting_Blood_Sugar\", \"Serum_Cholesterol\", \"Max_Heart_Rate\", \"Diagnosis\"]]\n",
    "heart_disease_final"
   ]
  },
  {
   "cell_type": "markdown",
   "id": "53887b57-0786-4ac5-8148-0ac23a5a8391",
   "metadata": {},
   "source": [
    "Since our data is in a tidy format (each column is a single variable, each row is a single observation and each cell is a single value), we only need to drop all rows containing Na's and change the data types of certain columns. This is in order to wrangle the dataset for ease of work:"
   ]
  },
  {
   "cell_type": "code",
   "execution_count": 10,
   "id": "a9b4816e-35fc-490c-b5de-5a5756272a48",
   "metadata": {},
   "outputs": [
    {
     "name": "stdout",
     "output_type": "stream",
     "text": [
      "<class 'pandas.core.frame.DataFrame'>\n",
      "RangeIndex: 303 entries, 0 to 302\n",
      "Data columns (total 6 columns):\n",
      " #   Column               Non-Null Count  Dtype  \n",
      "---  ------               --------------  -----  \n",
      " 0   Age                  303 non-null    int64  \n",
      " 1   Chest_Pain_Type      303 non-null    int64  \n",
      " 2   Fasting_Blood_Sugar  303 non-null    float64\n",
      " 3   Serum_Cholesterol    303 non-null    float64\n",
      " 4   Max_Heart_Rate       303 non-null    int64  \n",
      " 5   Diagnosis            303 non-null    bool   \n",
      "dtypes: bool(1), float64(2), int64(3)\n",
      "memory usage: 12.3 KB\n"
     ]
    }
   ],
   "source": [
    "heart_disease_final.dropna() # Removing Na's\n",
    "\n",
    "\n",
    "# Age is measured in years therefore will be an integer\n",
    "heart_disease_final.Age = heart_disease.Age.astype('int64') \n",
    "\n",
    "# A patient either has heart disease or not, hence diagnosis will be of bool type\n",
    "heart_disease_final.Diagnosis = heart_disease.Diagnosis.astype(bool) \n",
    "\n",
    "# Since chest pain type can only be one of 1, 2, 3, 4 hence it will be of type int64\n",
    "heart_disease_final.Chest_Pain_Type = heart_disease.Chest_Pain_Type.astype('int64') \n",
    "\n",
    "# Since maximum heart rate is measured in Beats per Minute, its type should be changed to int64\n",
    "heart_disease_final.Max_Heart_Rate = heart_disease.Max_Heart_Rate.astype('int64') \n",
    "\n",
    "\n",
    "heart_disease_final.info()\n"
   ]
  },
  {
   "cell_type": "code",
   "execution_count": 11,
   "id": "1122bf30-625c-460a-99fe-19deaf0a9683",
   "metadata": {},
   "outputs": [
    {
     "data": {
      "text/html": [
       "<div>\n",
       "<style scoped>\n",
       "    .dataframe tbody tr th:only-of-type {\n",
       "        vertical-align: middle;\n",
       "    }\n",
       "\n",
       "    .dataframe tbody tr th {\n",
       "        vertical-align: top;\n",
       "    }\n",
       "\n",
       "    .dataframe thead th {\n",
       "        text-align: right;\n",
       "    }\n",
       "</style>\n",
       "<table border=\"1\" class=\"dataframe\">\n",
       "  <thead>\n",
       "    <tr style=\"text-align: right;\">\n",
       "      <th></th>\n",
       "      <th>Age</th>\n",
       "      <th>Chest_Pain_Type</th>\n",
       "      <th>Fasting_Blood_Sugar</th>\n",
       "      <th>Serum_Cholesterol</th>\n",
       "      <th>Max_Heart_Rate</th>\n",
       "      <th>Diagnosis</th>\n",
       "    </tr>\n",
       "  </thead>\n",
       "  <tbody>\n",
       "    <tr>\n",
       "      <th>0</th>\n",
       "      <td>63</td>\n",
       "      <td>1</td>\n",
       "      <td>1.0</td>\n",
       "      <td>233.0</td>\n",
       "      <td>150</td>\n",
       "      <td>False</td>\n",
       "    </tr>\n",
       "    <tr>\n",
       "      <th>1</th>\n",
       "      <td>67</td>\n",
       "      <td>4</td>\n",
       "      <td>0.0</td>\n",
       "      <td>286.0</td>\n",
       "      <td>108</td>\n",
       "      <td>True</td>\n",
       "    </tr>\n",
       "    <tr>\n",
       "      <th>2</th>\n",
       "      <td>67</td>\n",
       "      <td>4</td>\n",
       "      <td>0.0</td>\n",
       "      <td>229.0</td>\n",
       "      <td>129</td>\n",
       "      <td>True</td>\n",
       "    </tr>\n",
       "    <tr>\n",
       "      <th>3</th>\n",
       "      <td>37</td>\n",
       "      <td>3</td>\n",
       "      <td>0.0</td>\n",
       "      <td>250.0</td>\n",
       "      <td>187</td>\n",
       "      <td>False</td>\n",
       "    </tr>\n",
       "    <tr>\n",
       "      <th>4</th>\n",
       "      <td>41</td>\n",
       "      <td>2</td>\n",
       "      <td>0.0</td>\n",
       "      <td>204.0</td>\n",
       "      <td>172</td>\n",
       "      <td>False</td>\n",
       "    </tr>\n",
       "    <tr>\n",
       "      <th>...</th>\n",
       "      <td>...</td>\n",
       "      <td>...</td>\n",
       "      <td>...</td>\n",
       "      <td>...</td>\n",
       "      <td>...</td>\n",
       "      <td>...</td>\n",
       "    </tr>\n",
       "    <tr>\n",
       "      <th>298</th>\n",
       "      <td>45</td>\n",
       "      <td>1</td>\n",
       "      <td>0.0</td>\n",
       "      <td>264.0</td>\n",
       "      <td>132</td>\n",
       "      <td>True</td>\n",
       "    </tr>\n",
       "    <tr>\n",
       "      <th>299</th>\n",
       "      <td>68</td>\n",
       "      <td>4</td>\n",
       "      <td>1.0</td>\n",
       "      <td>193.0</td>\n",
       "      <td>141</td>\n",
       "      <td>True</td>\n",
       "    </tr>\n",
       "    <tr>\n",
       "      <th>300</th>\n",
       "      <td>57</td>\n",
       "      <td>4</td>\n",
       "      <td>0.0</td>\n",
       "      <td>131.0</td>\n",
       "      <td>115</td>\n",
       "      <td>True</td>\n",
       "    </tr>\n",
       "    <tr>\n",
       "      <th>301</th>\n",
       "      <td>57</td>\n",
       "      <td>2</td>\n",
       "      <td>0.0</td>\n",
       "      <td>236.0</td>\n",
       "      <td>174</td>\n",
       "      <td>True</td>\n",
       "    </tr>\n",
       "    <tr>\n",
       "      <th>302</th>\n",
       "      <td>38</td>\n",
       "      <td>3</td>\n",
       "      <td>0.0</td>\n",
       "      <td>175.0</td>\n",
       "      <td>173</td>\n",
       "      <td>False</td>\n",
       "    </tr>\n",
       "  </tbody>\n",
       "</table>\n",
       "<p>303 rows × 6 columns</p>\n",
       "</div>"
      ],
      "text/plain": [
       "     Age  Chest_Pain_Type  Fasting_Blood_Sugar  Serum_Cholesterol  \\\n",
       "0     63                1                  1.0              233.0   \n",
       "1     67                4                  0.0              286.0   \n",
       "2     67                4                  0.0              229.0   \n",
       "3     37                3                  0.0              250.0   \n",
       "4     41                2                  0.0              204.0   \n",
       "..   ...              ...                  ...                ...   \n",
       "298   45                1                  0.0              264.0   \n",
       "299   68                4                  1.0              193.0   \n",
       "300   57                4                  0.0              131.0   \n",
       "301   57                2                  0.0              236.0   \n",
       "302   38                3                  0.0              175.0   \n",
       "\n",
       "     Max_Heart_Rate  Diagnosis  \n",
       "0               150      False  \n",
       "1               108       True  \n",
       "2               129       True  \n",
       "3               187      False  \n",
       "4               172      False  \n",
       "..              ...        ...  \n",
       "298             132       True  \n",
       "299             141       True  \n",
       "300             115       True  \n",
       "301             174       True  \n",
       "302             173      False  \n",
       "\n",
       "[303 rows x 6 columns]"
      ]
     },
     "execution_count": 11,
     "metadata": {},
     "output_type": "execute_result"
    }
   ],
   "source": [
    "heart_disease_final # The final tidy data"
   ]
  },
  {
   "cell_type": "markdown",
   "id": "1c1e4b08-151e-4f2f-81f7-2627e693b521",
   "metadata": {},
   "source": [
    "### Summary"
   ]
  },
  {
   "cell_type": "markdown",
   "id": "5550e122-7062-445d-bd6c-ac97c81bac77",
   "metadata": {},
   "source": [
    "We start by showing the mean of each variable grouped by diagnosis:"
   ]
  },
  {
   "cell_type": "code",
   "execution_count": 12,
   "id": "b0ea2105-1538-414b-877e-2763763fb432",
   "metadata": {},
   "outputs": [
    {
     "ename": "NameError",
     "evalue": "name 'heart_train' is not defined",
     "output_type": "error",
     "traceback": [
      "\u001b[0;31m---------------------------------------------------------------------------\u001b[0m",
      "\u001b[0;31mNameError\u001b[0m                                 Traceback (most recent call last)",
      "Cell \u001b[0;32mIn[12], line 1\u001b[0m\n\u001b[0;32m----> 1\u001b[0m diagnosis_mean \u001b[38;5;241m=\u001b[39m \u001b[43mheart_train\u001b[49m\u001b[38;5;241m.\u001b[39mgroupby(\u001b[38;5;124m\"\u001b[39m\u001b[38;5;124mDiagnosis\u001b[39m\u001b[38;5;124m\"\u001b[39m)\u001b[38;5;241m.\u001b[39magg(\u001b[38;5;124m\"\u001b[39m\u001b[38;5;124mmean\u001b[39m\u001b[38;5;124m\"\u001b[39m)\n\u001b[1;32m      2\u001b[0m diagnosis_mean_filtered \u001b[38;5;241m=\u001b[39m diagnosis_mean\u001b[38;5;241m.\u001b[39mloc[:,[\u001b[38;5;124m\"\u001b[39m\u001b[38;5;124mAge\u001b[39m\u001b[38;5;124m\"\u001b[39m,\u001b[38;5;124m\"\u001b[39m\u001b[38;5;124mFasting_Blood_Sugar\u001b[39m\u001b[38;5;124m\"\u001b[39m,\u001b[38;5;124m\"\u001b[39m\u001b[38;5;124mSerum_Cholesterol\u001b[39m\u001b[38;5;124m\"\u001b[39m,\u001b[38;5;124m\"\u001b[39m\u001b[38;5;124mMax_Heart_Rate\u001b[39m\u001b[38;5;124m\"\u001b[39m]]\n\u001b[1;32m      3\u001b[0m diagnosis_mean_filtered\n",
      "\u001b[0;31mNameError\u001b[0m: name 'heart_train' is not defined"
     ]
    }
   ],
   "source": [
    "diagnosis_mean = heart_train.groupby(\"Diagnosis\").agg(\"mean\")\n",
    "diagnosis_mean_filtered = diagnosis_mean.loc[:,[\"Age\",\"Fasting_Blood_Sugar\",\"Serum_Cholesterol\",\"Max_Heart_Rate\"]]\n",
    "diagnosis_mean_filtered"
   ]
  },
  {
   "cell_type": "markdown",
   "id": "baff41f0-c2df-4bbf-baca-eb9026350716",
   "metadata": {},
   "source": [
    "We then created a dataframe grouped by chest pain type to see the summarized count of each variable for each chest pain type:"
   ]
  },
  {
   "cell_type": "code",
   "execution_count": 8,
   "id": "dbc4bcfe-5539-4533-be85-b917dfa3076d",
   "metadata": {},
   "outputs": [
    {
     "data": {
      "text/html": [
       "<div>\n",
       "<style scoped>\n",
       "    .dataframe tbody tr th:only-of-type {\n",
       "        vertical-align: middle;\n",
       "    }\n",
       "\n",
       "    .dataframe tbody tr th {\n",
       "        vertical-align: top;\n",
       "    }\n",
       "\n",
       "    .dataframe thead th {\n",
       "        text-align: right;\n",
       "    }\n",
       "</style>\n",
       "<table border=\"1\" class=\"dataframe\">\n",
       "  <thead>\n",
       "    <tr style=\"text-align: right;\">\n",
       "      <th></th>\n",
       "      <th>Age</th>\n",
       "      <th>Fasting_Blood_Sugar</th>\n",
       "      <th>Serum_Cholesterol</th>\n",
       "      <th>Max_Heart_Rate</th>\n",
       "      <th>Diagnosis</th>\n",
       "    </tr>\n",
       "    <tr>\n",
       "      <th>Chest_Pain_Type</th>\n",
       "      <th></th>\n",
       "      <th></th>\n",
       "      <th></th>\n",
       "      <th></th>\n",
       "      <th></th>\n",
       "    </tr>\n",
       "  </thead>\n",
       "  <tbody>\n",
       "    <tr>\n",
       "      <th>1</th>\n",
       "      <td>16</td>\n",
       "      <td>16</td>\n",
       "      <td>16</td>\n",
       "      <td>16</td>\n",
       "      <td>16</td>\n",
       "    </tr>\n",
       "    <tr>\n",
       "      <th>2</th>\n",
       "      <td>35</td>\n",
       "      <td>35</td>\n",
       "      <td>35</td>\n",
       "      <td>35</td>\n",
       "      <td>35</td>\n",
       "    </tr>\n",
       "    <tr>\n",
       "      <th>3</th>\n",
       "      <td>72</td>\n",
       "      <td>72</td>\n",
       "      <td>72</td>\n",
       "      <td>72</td>\n",
       "      <td>72</td>\n",
       "    </tr>\n",
       "    <tr>\n",
       "      <th>4</th>\n",
       "      <td>104</td>\n",
       "      <td>104</td>\n",
       "      <td>104</td>\n",
       "      <td>104</td>\n",
       "      <td>104</td>\n",
       "    </tr>\n",
       "  </tbody>\n",
       "</table>\n",
       "</div>"
      ],
      "text/plain": [
       "                 Age  Fasting_Blood_Sugar  Serum_Cholesterol  Max_Heart_Rate  \\\n",
       "Chest_Pain_Type                                                                \n",
       "1                 16                   16                 16              16   \n",
       "2                 35                   35                 35              35   \n",
       "3                 72                   72                 72              72   \n",
       "4                104                  104                104             104   \n",
       "\n",
       "                 Diagnosis  \n",
       "Chest_Pain_Type             \n",
       "1                       16  \n",
       "2                       35  \n",
       "3                       72  \n",
       "4                      104  "
      ]
     },
     "execution_count": 8,
     "metadata": {},
     "output_type": "execute_result"
    }
   ],
   "source": [
    "# Grouping by Chest_Pain_Type to see count of each variable for every chest pain type\n",
    "chest_pain_grouped = heart_train.groupby(\"Chest_Pain_Type\").agg(\"count\")\n",
    "chest_pain_grouped"
   ]
  },
  {
   "cell_type": "markdown",
   "id": "59ffec56-f355-4432-b199-c6c33974191e",
   "metadata": {},
   "source": [
    "Next, we visualize the data into plots and graphs in order to display data effectively.\n",
    "We visualize how maximum heart rate changes with age through a scatter plot:"
   ]
  },
  {
   "cell_type": "code",
   "execution_count": 9,
   "id": "d02c57ad-0a7e-48df-b658-c9ec6cb7db9f",
   "metadata": {},
   "outputs": [
    {
     "name": "stderr",
     "output_type": "stream",
     "text": [
      "/opt/conda/lib/python3.10/site-packages/altair/utils/core.py:317: FutureWarning: iteritems is deprecated and will be removed in a future version. Use .items instead.\n",
      "  for col_name, dtype in df.dtypes.iteritems():\n"
     ]
    },
    {
     "data": {
      "application/vnd.vegalite.v4+json": {
       "$schema": "https://vega.github.io/schema/vega-lite/v4.17.0.json",
       "config": {
        "axis": {
         "labelFontSize": 15,
         "titleFontSize": 15
        },
        "title": {
         "fontSize": 25
        },
        "view": {
         "continuousHeight": 300,
         "continuousWidth": 400
        }
       },
       "data": {
        "name": "data-c6e5d522682ad9c091fd3a251f3435c9"
       },
       "datasets": {
        "data-c6e5d522682ad9c091fd3a251f3435c9": [
         {
          "Age": 63,
          "Chest_Pain_Type": 1,
          "Diagnosis": false,
          "Fasting_Blood_Sugar": 1,
          "Max_Heart_Rate": 150,
          "Serum_Cholesterol": 233
         },
         {
          "Age": 67,
          "Chest_Pain_Type": 4,
          "Diagnosis": true,
          "Fasting_Blood_Sugar": 0,
          "Max_Heart_Rate": 108,
          "Serum_Cholesterol": 286
         },
         {
          "Age": 67,
          "Chest_Pain_Type": 4,
          "Diagnosis": true,
          "Fasting_Blood_Sugar": 0,
          "Max_Heart_Rate": 129,
          "Serum_Cholesterol": 229
         },
         {
          "Age": 37,
          "Chest_Pain_Type": 3,
          "Diagnosis": false,
          "Fasting_Blood_Sugar": 0,
          "Max_Heart_Rate": 187,
          "Serum_Cholesterol": 250
         },
         {
          "Age": 41,
          "Chest_Pain_Type": 2,
          "Diagnosis": false,
          "Fasting_Blood_Sugar": 0,
          "Max_Heart_Rate": 172,
          "Serum_Cholesterol": 204
         },
         {
          "Age": 56,
          "Chest_Pain_Type": 2,
          "Diagnosis": false,
          "Fasting_Blood_Sugar": 0,
          "Max_Heart_Rate": 178,
          "Serum_Cholesterol": 236
         },
         {
          "Age": 62,
          "Chest_Pain_Type": 4,
          "Diagnosis": true,
          "Fasting_Blood_Sugar": 0,
          "Max_Heart_Rate": 160,
          "Serum_Cholesterol": 268
         },
         {
          "Age": 57,
          "Chest_Pain_Type": 4,
          "Diagnosis": false,
          "Fasting_Blood_Sugar": 0,
          "Max_Heart_Rate": 163,
          "Serum_Cholesterol": 354
         },
         {
          "Age": 63,
          "Chest_Pain_Type": 4,
          "Diagnosis": true,
          "Fasting_Blood_Sugar": 0,
          "Max_Heart_Rate": 147,
          "Serum_Cholesterol": 254
         },
         {
          "Age": 53,
          "Chest_Pain_Type": 4,
          "Diagnosis": true,
          "Fasting_Blood_Sugar": 1,
          "Max_Heart_Rate": 155,
          "Serum_Cholesterol": 203
         },
         {
          "Age": 57,
          "Chest_Pain_Type": 4,
          "Diagnosis": false,
          "Fasting_Blood_Sugar": 0,
          "Max_Heart_Rate": 148,
          "Serum_Cholesterol": 192
         },
         {
          "Age": 56,
          "Chest_Pain_Type": 2,
          "Diagnosis": false,
          "Fasting_Blood_Sugar": 0,
          "Max_Heart_Rate": 153,
          "Serum_Cholesterol": 294
         },
         {
          "Age": 56,
          "Chest_Pain_Type": 3,
          "Diagnosis": true,
          "Fasting_Blood_Sugar": 1,
          "Max_Heart_Rate": 142,
          "Serum_Cholesterol": 256
         },
         {
          "Age": 44,
          "Chest_Pain_Type": 2,
          "Diagnosis": false,
          "Fasting_Blood_Sugar": 0,
          "Max_Heart_Rate": 173,
          "Serum_Cholesterol": 263
         },
         {
          "Age": 52,
          "Chest_Pain_Type": 3,
          "Diagnosis": false,
          "Fasting_Blood_Sugar": 1,
          "Max_Heart_Rate": 162,
          "Serum_Cholesterol": 199
         },
         {
          "Age": 57,
          "Chest_Pain_Type": 3,
          "Diagnosis": false,
          "Fasting_Blood_Sugar": 0,
          "Max_Heart_Rate": 174,
          "Serum_Cholesterol": 168
         },
         {
          "Age": 48,
          "Chest_Pain_Type": 2,
          "Diagnosis": true,
          "Fasting_Blood_Sugar": 0,
          "Max_Heart_Rate": 168,
          "Serum_Cholesterol": 229
         },
         {
          "Age": 54,
          "Chest_Pain_Type": 4,
          "Diagnosis": false,
          "Fasting_Blood_Sugar": 0,
          "Max_Heart_Rate": 160,
          "Serum_Cholesterol": 239
         },
         {
          "Age": 48,
          "Chest_Pain_Type": 3,
          "Diagnosis": false,
          "Fasting_Blood_Sugar": 0,
          "Max_Heart_Rate": 139,
          "Serum_Cholesterol": 275
         },
         {
          "Age": 49,
          "Chest_Pain_Type": 2,
          "Diagnosis": false,
          "Fasting_Blood_Sugar": 0,
          "Max_Heart_Rate": 171,
          "Serum_Cholesterol": 266
         },
         {
          "Age": 64,
          "Chest_Pain_Type": 1,
          "Diagnosis": false,
          "Fasting_Blood_Sugar": 0,
          "Max_Heart_Rate": 144,
          "Serum_Cholesterol": 211
         },
         {
          "Age": 58,
          "Chest_Pain_Type": 1,
          "Diagnosis": false,
          "Fasting_Blood_Sugar": 1,
          "Max_Heart_Rate": 162,
          "Serum_Cholesterol": 283
         },
         {
          "Age": 58,
          "Chest_Pain_Type": 2,
          "Diagnosis": true,
          "Fasting_Blood_Sugar": 0,
          "Max_Heart_Rate": 160,
          "Serum_Cholesterol": 284
         },
         {
          "Age": 58,
          "Chest_Pain_Type": 3,
          "Diagnosis": true,
          "Fasting_Blood_Sugar": 0,
          "Max_Heart_Rate": 173,
          "Serum_Cholesterol": 224
         },
         {
          "Age": 60,
          "Chest_Pain_Type": 4,
          "Diagnosis": true,
          "Fasting_Blood_Sugar": 0,
          "Max_Heart_Rate": 132,
          "Serum_Cholesterol": 206
         },
         {
          "Age": 50,
          "Chest_Pain_Type": 3,
          "Diagnosis": false,
          "Fasting_Blood_Sugar": 0,
          "Max_Heart_Rate": 158,
          "Serum_Cholesterol": 219
         },
         {
          "Age": 58,
          "Chest_Pain_Type": 3,
          "Diagnosis": false,
          "Fasting_Blood_Sugar": 0,
          "Max_Heart_Rate": 172,
          "Serum_Cholesterol": 340
         },
         {
          "Age": 66,
          "Chest_Pain_Type": 1,
          "Diagnosis": false,
          "Fasting_Blood_Sugar": 0,
          "Max_Heart_Rate": 114,
          "Serum_Cholesterol": 226
         },
         {
          "Age": 43,
          "Chest_Pain_Type": 4,
          "Diagnosis": false,
          "Fasting_Blood_Sugar": 0,
          "Max_Heart_Rate": 171,
          "Serum_Cholesterol": 247
         },
         {
          "Age": 40,
          "Chest_Pain_Type": 4,
          "Diagnosis": true,
          "Fasting_Blood_Sugar": 0,
          "Max_Heart_Rate": 114,
          "Serum_Cholesterol": 167
         },
         {
          "Age": 69,
          "Chest_Pain_Type": 1,
          "Diagnosis": false,
          "Fasting_Blood_Sugar": 0,
          "Max_Heart_Rate": 151,
          "Serum_Cholesterol": 239
         },
         {
          "Age": 60,
          "Chest_Pain_Type": 4,
          "Diagnosis": true,
          "Fasting_Blood_Sugar": 1,
          "Max_Heart_Rate": 160,
          "Serum_Cholesterol": 230
         },
         {
          "Age": 64,
          "Chest_Pain_Type": 3,
          "Diagnosis": true,
          "Fasting_Blood_Sugar": 0,
          "Max_Heart_Rate": 158,
          "Serum_Cholesterol": 335
         },
         {
          "Age": 59,
          "Chest_Pain_Type": 4,
          "Diagnosis": false,
          "Fasting_Blood_Sugar": 0,
          "Max_Heart_Rate": 161,
          "Serum_Cholesterol": 234
         },
         {
          "Age": 44,
          "Chest_Pain_Type": 3,
          "Diagnosis": false,
          "Fasting_Blood_Sugar": 0,
          "Max_Heart_Rate": 179,
          "Serum_Cholesterol": 233
         },
         {
          "Age": 42,
          "Chest_Pain_Type": 4,
          "Diagnosis": false,
          "Fasting_Blood_Sugar": 0,
          "Max_Heart_Rate": 178,
          "Serum_Cholesterol": 226
         },
         {
          "Age": 43,
          "Chest_Pain_Type": 4,
          "Diagnosis": true,
          "Fasting_Blood_Sugar": 0,
          "Max_Heart_Rate": 120,
          "Serum_Cholesterol": 177
         },
         {
          "Age": 57,
          "Chest_Pain_Type": 4,
          "Diagnosis": true,
          "Fasting_Blood_Sugar": 0,
          "Max_Heart_Rate": 112,
          "Serum_Cholesterol": 276
         },
         {
          "Age": 55,
          "Chest_Pain_Type": 4,
          "Diagnosis": true,
          "Fasting_Blood_Sugar": 0,
          "Max_Heart_Rate": 132,
          "Serum_Cholesterol": 353
         },
         {
          "Age": 61,
          "Chest_Pain_Type": 3,
          "Diagnosis": false,
          "Fasting_Blood_Sugar": 1,
          "Max_Heart_Rate": 137,
          "Serum_Cholesterol": 243
         },
         {
          "Age": 65,
          "Chest_Pain_Type": 4,
          "Diagnosis": true,
          "Fasting_Blood_Sugar": 0,
          "Max_Heart_Rate": 114,
          "Serum_Cholesterol": 225
         },
         {
          "Age": 40,
          "Chest_Pain_Type": 1,
          "Diagnosis": false,
          "Fasting_Blood_Sugar": 0,
          "Max_Heart_Rate": 178,
          "Serum_Cholesterol": 199
         },
         {
          "Age": 71,
          "Chest_Pain_Type": 2,
          "Diagnosis": false,
          "Fasting_Blood_Sugar": 0,
          "Max_Heart_Rate": 162,
          "Serum_Cholesterol": 302
         },
         {
          "Age": 59,
          "Chest_Pain_Type": 3,
          "Diagnosis": false,
          "Fasting_Blood_Sugar": 1,
          "Max_Heart_Rate": 157,
          "Serum_Cholesterol": 212
         },
         {
          "Age": 61,
          "Chest_Pain_Type": 4,
          "Diagnosis": true,
          "Fasting_Blood_Sugar": 0,
          "Max_Heart_Rate": 169,
          "Serum_Cholesterol": 330
         },
         {
          "Age": 58,
          "Chest_Pain_Type": 3,
          "Diagnosis": true,
          "Fasting_Blood_Sugar": 0,
          "Max_Heart_Rate": 165,
          "Serum_Cholesterol": 230
         },
         {
          "Age": 51,
          "Chest_Pain_Type": 3,
          "Diagnosis": false,
          "Fasting_Blood_Sugar": 0,
          "Max_Heart_Rate": 123,
          "Serum_Cholesterol": 175
         },
         {
          "Age": 50,
          "Chest_Pain_Type": 4,
          "Diagnosis": true,
          "Fasting_Blood_Sugar": 0,
          "Max_Heart_Rate": 128,
          "Serum_Cholesterol": 243
         },
         {
          "Age": 65,
          "Chest_Pain_Type": 3,
          "Diagnosis": false,
          "Fasting_Blood_Sugar": 1,
          "Max_Heart_Rate": 157,
          "Serum_Cholesterol": 417
         },
         {
          "Age": 53,
          "Chest_Pain_Type": 3,
          "Diagnosis": false,
          "Fasting_Blood_Sugar": 1,
          "Max_Heart_Rate": 152,
          "Serum_Cholesterol": 197
         },
         {
          "Age": 41,
          "Chest_Pain_Type": 2,
          "Diagnosis": false,
          "Fasting_Blood_Sugar": 0,
          "Max_Heart_Rate": 168,
          "Serum_Cholesterol": 198
         },
         {
          "Age": 65,
          "Chest_Pain_Type": 4,
          "Diagnosis": false,
          "Fasting_Blood_Sugar": 0,
          "Max_Heart_Rate": 140,
          "Serum_Cholesterol": 177
         },
         {
          "Age": 44,
          "Chest_Pain_Type": 4,
          "Diagnosis": true,
          "Fasting_Blood_Sugar": 0,
          "Max_Heart_Rate": 153,
          "Serum_Cholesterol": 290
         },
         {
          "Age": 44,
          "Chest_Pain_Type": 2,
          "Diagnosis": false,
          "Fasting_Blood_Sugar": 0,
          "Max_Heart_Rate": 188,
          "Serum_Cholesterol": 219
         },
         {
          "Age": 60,
          "Chest_Pain_Type": 4,
          "Diagnosis": true,
          "Fasting_Blood_Sugar": 0,
          "Max_Heart_Rate": 144,
          "Serum_Cholesterol": 253
         },
         {
          "Age": 54,
          "Chest_Pain_Type": 4,
          "Diagnosis": true,
          "Fasting_Blood_Sugar": 0,
          "Max_Heart_Rate": 109,
          "Serum_Cholesterol": 266
         },
         {
          "Age": 50,
          "Chest_Pain_Type": 3,
          "Diagnosis": true,
          "Fasting_Blood_Sugar": 0,
          "Max_Heart_Rate": 163,
          "Serum_Cholesterol": 233
         },
         {
          "Age": 41,
          "Chest_Pain_Type": 4,
          "Diagnosis": true,
          "Fasting_Blood_Sugar": 0,
          "Max_Heart_Rate": 158,
          "Serum_Cholesterol": 172
         },
         {
          "Age": 54,
          "Chest_Pain_Type": 3,
          "Diagnosis": false,
          "Fasting_Blood_Sugar": 0,
          "Max_Heart_Rate": 152,
          "Serum_Cholesterol": 273
         },
         {
          "Age": 51,
          "Chest_Pain_Type": 1,
          "Diagnosis": false,
          "Fasting_Blood_Sugar": 0,
          "Max_Heart_Rate": 125,
          "Serum_Cholesterol": 213
         },
         {
          "Age": 51,
          "Chest_Pain_Type": 4,
          "Diagnosis": true,
          "Fasting_Blood_Sugar": 0,
          "Max_Heart_Rate": 142,
          "Serum_Cholesterol": 305
         },
         {
          "Age": 46,
          "Chest_Pain_Type": 3,
          "Diagnosis": false,
          "Fasting_Blood_Sugar": 0,
          "Max_Heart_Rate": 160,
          "Serum_Cholesterol": 177
         },
         {
          "Age": 58,
          "Chest_Pain_Type": 4,
          "Diagnosis": true,
          "Fasting_Blood_Sugar": 0,
          "Max_Heart_Rate": 131,
          "Serum_Cholesterol": 216
         },
         {
          "Age": 54,
          "Chest_Pain_Type": 3,
          "Diagnosis": false,
          "Fasting_Blood_Sugar": 1,
          "Max_Heart_Rate": 170,
          "Serum_Cholesterol": 304
         },
         {
          "Age": 54,
          "Chest_Pain_Type": 4,
          "Diagnosis": true,
          "Fasting_Blood_Sugar": 0,
          "Max_Heart_Rate": 113,
          "Serum_Cholesterol": 188
         },
         {
          "Age": 60,
          "Chest_Pain_Type": 4,
          "Diagnosis": true,
          "Fasting_Blood_Sugar": 0,
          "Max_Heart_Rate": 142,
          "Serum_Cholesterol": 282
         },
         {
          "Age": 60,
          "Chest_Pain_Type": 3,
          "Diagnosis": true,
          "Fasting_Blood_Sugar": 0,
          "Max_Heart_Rate": 155,
          "Serum_Cholesterol": 185
         },
         {
          "Age": 54,
          "Chest_Pain_Type": 3,
          "Diagnosis": false,
          "Fasting_Blood_Sugar": 0,
          "Max_Heart_Rate": 165,
          "Serum_Cholesterol": 232
         },
         {
          "Age": 59,
          "Chest_Pain_Type": 4,
          "Diagnosis": true,
          "Fasting_Blood_Sugar": 0,
          "Max_Heart_Rate": 140,
          "Serum_Cholesterol": 326
         },
         {
          "Age": 46,
          "Chest_Pain_Type": 3,
          "Diagnosis": true,
          "Fasting_Blood_Sugar": 0,
          "Max_Heart_Rate": 147,
          "Serum_Cholesterol": 231
         },
         {
          "Age": 65,
          "Chest_Pain_Type": 3,
          "Diagnosis": false,
          "Fasting_Blood_Sugar": 0,
          "Max_Heart_Rate": 148,
          "Serum_Cholesterol": 269
         },
         {
          "Age": 67,
          "Chest_Pain_Type": 4,
          "Diagnosis": true,
          "Fasting_Blood_Sugar": 1,
          "Max_Heart_Rate": 163,
          "Serum_Cholesterol": 254
         },
         {
          "Age": 62,
          "Chest_Pain_Type": 4,
          "Diagnosis": true,
          "Fasting_Blood_Sugar": 0,
          "Max_Heart_Rate": 99,
          "Serum_Cholesterol": 267
         },
         {
          "Age": 65,
          "Chest_Pain_Type": 4,
          "Diagnosis": true,
          "Fasting_Blood_Sugar": 0,
          "Max_Heart_Rate": 158,
          "Serum_Cholesterol": 248
         },
         {
          "Age": 44,
          "Chest_Pain_Type": 4,
          "Diagnosis": true,
          "Fasting_Blood_Sugar": 0,
          "Max_Heart_Rate": 177,
          "Serum_Cholesterol": 197
         },
         {
          "Age": 65,
          "Chest_Pain_Type": 3,
          "Diagnosis": false,
          "Fasting_Blood_Sugar": 0,
          "Max_Heart_Rate": 151,
          "Serum_Cholesterol": 360
         },
         {
          "Age": 60,
          "Chest_Pain_Type": 4,
          "Diagnosis": true,
          "Fasting_Blood_Sugar": 0,
          "Max_Heart_Rate": 141,
          "Serum_Cholesterol": 258
         },
         {
          "Age": 51,
          "Chest_Pain_Type": 3,
          "Diagnosis": false,
          "Fasting_Blood_Sugar": 0,
          "Max_Heart_Rate": 142,
          "Serum_Cholesterol": 308
         },
         {
          "Age": 48,
          "Chest_Pain_Type": 2,
          "Diagnosis": false,
          "Fasting_Blood_Sugar": 0,
          "Max_Heart_Rate": 180,
          "Serum_Cholesterol": 245
         },
         {
          "Age": 58,
          "Chest_Pain_Type": 4,
          "Diagnosis": true,
          "Fasting_Blood_Sugar": 0,
          "Max_Heart_Rate": 111,
          "Serum_Cholesterol": 270
         },
         {
          "Age": 45,
          "Chest_Pain_Type": 4,
          "Diagnosis": false,
          "Fasting_Blood_Sugar": 0,
          "Max_Heart_Rate": 148,
          "Serum_Cholesterol": 208
         },
         {
          "Age": 53,
          "Chest_Pain_Type": 4,
          "Diagnosis": false,
          "Fasting_Blood_Sugar": 0,
          "Max_Heart_Rate": 143,
          "Serum_Cholesterol": 264
         },
         {
          "Age": 39,
          "Chest_Pain_Type": 3,
          "Diagnosis": false,
          "Fasting_Blood_Sugar": 0,
          "Max_Heart_Rate": 182,
          "Serum_Cholesterol": 321
         },
         {
          "Age": 68,
          "Chest_Pain_Type": 3,
          "Diagnosis": true,
          "Fasting_Blood_Sugar": 1,
          "Max_Heart_Rate": 150,
          "Serum_Cholesterol": 274
         },
         {
          "Age": 52,
          "Chest_Pain_Type": 2,
          "Diagnosis": false,
          "Fasting_Blood_Sugar": 0,
          "Max_Heart_Rate": 172,
          "Serum_Cholesterol": 325
         },
         {
          "Age": 44,
          "Chest_Pain_Type": 3,
          "Diagnosis": false,
          "Fasting_Blood_Sugar": 0,
          "Max_Heart_Rate": 180,
          "Serum_Cholesterol": 235
         },
         {
          "Age": 47,
          "Chest_Pain_Type": 3,
          "Diagnosis": false,
          "Fasting_Blood_Sugar": 0,
          "Max_Heart_Rate": 156,
          "Serum_Cholesterol": 257
         },
         {
          "Age": 53,
          "Chest_Pain_Type": 3,
          "Diagnosis": false,
          "Fasting_Blood_Sugar": 0,
          "Max_Heart_Rate": 115,
          "Serum_Cholesterol": 216
         },
         {
          "Age": 53,
          "Chest_Pain_Type": 4,
          "Diagnosis": false,
          "Fasting_Blood_Sugar": 0,
          "Max_Heart_Rate": 160,
          "Serum_Cholesterol": 234
         },
         {
          "Age": 51,
          "Chest_Pain_Type": 3,
          "Diagnosis": false,
          "Fasting_Blood_Sugar": 0,
          "Max_Heart_Rate": 149,
          "Serum_Cholesterol": 256
         },
         {
          "Age": 66,
          "Chest_Pain_Type": 4,
          "Diagnosis": false,
          "Fasting_Blood_Sugar": 0,
          "Max_Heart_Rate": 151,
          "Serum_Cholesterol": 302
         },
         {
          "Age": 62,
          "Chest_Pain_Type": 4,
          "Diagnosis": true,
          "Fasting_Blood_Sugar": 0,
          "Max_Heart_Rate": 145,
          "Serum_Cholesterol": 164
         },
         {
          "Age": 62,
          "Chest_Pain_Type": 3,
          "Diagnosis": false,
          "Fasting_Blood_Sugar": 0,
          "Max_Heart_Rate": 146,
          "Serum_Cholesterol": 231
         },
         {
          "Age": 44,
          "Chest_Pain_Type": 3,
          "Diagnosis": false,
          "Fasting_Blood_Sugar": 0,
          "Max_Heart_Rate": 175,
          "Serum_Cholesterol": 141
         },
         {
          "Age": 63,
          "Chest_Pain_Type": 3,
          "Diagnosis": false,
          "Fasting_Blood_Sugar": 0,
          "Max_Heart_Rate": 172,
          "Serum_Cholesterol": 252
         },
         {
          "Age": 52,
          "Chest_Pain_Type": 4,
          "Diagnosis": true,
          "Fasting_Blood_Sugar": 0,
          "Max_Heart_Rate": 161,
          "Serum_Cholesterol": 255
         },
         {
          "Age": 59,
          "Chest_Pain_Type": 4,
          "Diagnosis": true,
          "Fasting_Blood_Sugar": 0,
          "Max_Heart_Rate": 142,
          "Serum_Cholesterol": 239
         },
         {
          "Age": 60,
          "Chest_Pain_Type": 4,
          "Diagnosis": true,
          "Fasting_Blood_Sugar": 0,
          "Max_Heart_Rate": 157,
          "Serum_Cholesterol": 258
         },
         {
          "Age": 52,
          "Chest_Pain_Type": 2,
          "Diagnosis": false,
          "Fasting_Blood_Sugar": 0,
          "Max_Heart_Rate": 158,
          "Serum_Cholesterol": 201
         },
         {
          "Age": 48,
          "Chest_Pain_Type": 4,
          "Diagnosis": false,
          "Fasting_Blood_Sugar": 0,
          "Max_Heart_Rate": 186,
          "Serum_Cholesterol": 222
         },
         {
          "Age": 45,
          "Chest_Pain_Type": 4,
          "Diagnosis": false,
          "Fasting_Blood_Sugar": 0,
          "Max_Heart_Rate": 185,
          "Serum_Cholesterol": 260
         },
         {
          "Age": 34,
          "Chest_Pain_Type": 1,
          "Diagnosis": false,
          "Fasting_Blood_Sugar": 0,
          "Max_Heart_Rate": 174,
          "Serum_Cholesterol": 182
         },
         {
          "Age": 57,
          "Chest_Pain_Type": 4,
          "Diagnosis": false,
          "Fasting_Blood_Sugar": 0,
          "Max_Heart_Rate": 159,
          "Serum_Cholesterol": 303
         },
         {
          "Age": 71,
          "Chest_Pain_Type": 3,
          "Diagnosis": false,
          "Fasting_Blood_Sugar": 1,
          "Max_Heart_Rate": 130,
          "Serum_Cholesterol": 265
         },
         {
          "Age": 49,
          "Chest_Pain_Type": 3,
          "Diagnosis": true,
          "Fasting_Blood_Sugar": 0,
          "Max_Heart_Rate": 139,
          "Serum_Cholesterol": 188
         },
         {
          "Age": 54,
          "Chest_Pain_Type": 2,
          "Diagnosis": false,
          "Fasting_Blood_Sugar": 0,
          "Max_Heart_Rate": 156,
          "Serum_Cholesterol": 309
         },
         {
          "Age": 59,
          "Chest_Pain_Type": 4,
          "Diagnosis": true,
          "Fasting_Blood_Sugar": 0,
          "Max_Heart_Rate": 162,
          "Serum_Cholesterol": 177
         },
         {
          "Age": 57,
          "Chest_Pain_Type": 3,
          "Diagnosis": true,
          "Fasting_Blood_Sugar": 0,
          "Max_Heart_Rate": 150,
          "Serum_Cholesterol": 229
         },
         {
          "Age": 61,
          "Chest_Pain_Type": 4,
          "Diagnosis": true,
          "Fasting_Blood_Sugar": 0,
          "Max_Heart_Rate": 140,
          "Serum_Cholesterol": 260
         },
         {
          "Age": 39,
          "Chest_Pain_Type": 4,
          "Diagnosis": true,
          "Fasting_Blood_Sugar": 0,
          "Max_Heart_Rate": 140,
          "Serum_Cholesterol": 219
         },
         {
          "Age": 61,
          "Chest_Pain_Type": 4,
          "Diagnosis": true,
          "Fasting_Blood_Sugar": 0,
          "Max_Heart_Rate": 146,
          "Serum_Cholesterol": 307
         },
         {
          "Age": 56,
          "Chest_Pain_Type": 4,
          "Diagnosis": true,
          "Fasting_Blood_Sugar": 1,
          "Max_Heart_Rate": 144,
          "Serum_Cholesterol": 249
         },
         {
          "Age": 52,
          "Chest_Pain_Type": 1,
          "Diagnosis": false,
          "Fasting_Blood_Sugar": 0,
          "Max_Heart_Rate": 190,
          "Serum_Cholesterol": 186
         },
         {
          "Age": 43,
          "Chest_Pain_Type": 4,
          "Diagnosis": true,
          "Fasting_Blood_Sugar": 1,
          "Max_Heart_Rate": 136,
          "Serum_Cholesterol": 341
         },
         {
          "Age": 62,
          "Chest_Pain_Type": 3,
          "Diagnosis": true,
          "Fasting_Blood_Sugar": 0,
          "Max_Heart_Rate": 97,
          "Serum_Cholesterol": 263
         },
         {
          "Age": 41,
          "Chest_Pain_Type": 2,
          "Diagnosis": false,
          "Fasting_Blood_Sugar": 0,
          "Max_Heart_Rate": 132,
          "Serum_Cholesterol": 203
         },
         {
          "Age": 58,
          "Chest_Pain_Type": 3,
          "Diagnosis": false,
          "Fasting_Blood_Sugar": 1,
          "Max_Heart_Rate": 165,
          "Serum_Cholesterol": 211
         },
         {
          "Age": 35,
          "Chest_Pain_Type": 4,
          "Diagnosis": false,
          "Fasting_Blood_Sugar": 0,
          "Max_Heart_Rate": 182,
          "Serum_Cholesterol": 183
         },
         {
          "Age": 63,
          "Chest_Pain_Type": 4,
          "Diagnosis": true,
          "Fasting_Blood_Sugar": 1,
          "Max_Heart_Rate": 132,
          "Serum_Cholesterol": 330
         },
         {
          "Age": 65,
          "Chest_Pain_Type": 4,
          "Diagnosis": true,
          "Fasting_Blood_Sugar": 0,
          "Max_Heart_Rate": 127,
          "Serum_Cholesterol": 254
         },
         {
          "Age": 48,
          "Chest_Pain_Type": 4,
          "Diagnosis": true,
          "Fasting_Blood_Sugar": 1,
          "Max_Heart_Rate": 150,
          "Serum_Cholesterol": 256
         },
         {
          "Age": 63,
          "Chest_Pain_Type": 4,
          "Diagnosis": true,
          "Fasting_Blood_Sugar": 0,
          "Max_Heart_Rate": 154,
          "Serum_Cholesterol": 407
         },
         {
          "Age": 51,
          "Chest_Pain_Type": 3,
          "Diagnosis": false,
          "Fasting_Blood_Sugar": 0,
          "Max_Heart_Rate": 143,
          "Serum_Cholesterol": 222
         },
         {
          "Age": 55,
          "Chest_Pain_Type": 4,
          "Diagnosis": true,
          "Fasting_Blood_Sugar": 0,
          "Max_Heart_Rate": 111,
          "Serum_Cholesterol": 217
         },
         {
          "Age": 65,
          "Chest_Pain_Type": 1,
          "Diagnosis": true,
          "Fasting_Blood_Sugar": 1,
          "Max_Heart_Rate": 174,
          "Serum_Cholesterol": 282
         },
         {
          "Age": 45,
          "Chest_Pain_Type": 2,
          "Diagnosis": false,
          "Fasting_Blood_Sugar": 0,
          "Max_Heart_Rate": 175,
          "Serum_Cholesterol": 234
         },
         {
          "Age": 56,
          "Chest_Pain_Type": 4,
          "Diagnosis": true,
          "Fasting_Blood_Sugar": 1,
          "Max_Heart_Rate": 133,
          "Serum_Cholesterol": 288
         },
         {
          "Age": 54,
          "Chest_Pain_Type": 4,
          "Diagnosis": true,
          "Fasting_Blood_Sugar": 0,
          "Max_Heart_Rate": 126,
          "Serum_Cholesterol": 239
         },
         {
          "Age": 44,
          "Chest_Pain_Type": 2,
          "Diagnosis": false,
          "Fasting_Blood_Sugar": 0,
          "Max_Heart_Rate": 170,
          "Serum_Cholesterol": 220
         },
         {
          "Age": 62,
          "Chest_Pain_Type": 4,
          "Diagnosis": false,
          "Fasting_Blood_Sugar": 0,
          "Max_Heart_Rate": 163,
          "Serum_Cholesterol": 209
         },
         {
          "Age": 54,
          "Chest_Pain_Type": 3,
          "Diagnosis": false,
          "Fasting_Blood_Sugar": 0,
          "Max_Heart_Rate": 147,
          "Serum_Cholesterol": 258
         },
         {
          "Age": 51,
          "Chest_Pain_Type": 3,
          "Diagnosis": false,
          "Fasting_Blood_Sugar": 0,
          "Max_Heart_Rate": 154,
          "Serum_Cholesterol": 227
         },
         {
          "Age": 29,
          "Chest_Pain_Type": 2,
          "Diagnosis": false,
          "Fasting_Blood_Sugar": 0,
          "Max_Heart_Rate": 202,
          "Serum_Cholesterol": 204
         },
         {
          "Age": 51,
          "Chest_Pain_Type": 4,
          "Diagnosis": false,
          "Fasting_Blood_Sugar": 0,
          "Max_Heart_Rate": 186,
          "Serum_Cholesterol": 261
         },
         {
          "Age": 43,
          "Chest_Pain_Type": 3,
          "Diagnosis": false,
          "Fasting_Blood_Sugar": 0,
          "Max_Heart_Rate": 165,
          "Serum_Cholesterol": 213
         },
         {
          "Age": 55,
          "Chest_Pain_Type": 2,
          "Diagnosis": false,
          "Fasting_Blood_Sugar": 0,
          "Max_Heart_Rate": 161,
          "Serum_Cholesterol": 250
         },
         {
          "Age": 70,
          "Chest_Pain_Type": 4,
          "Diagnosis": true,
          "Fasting_Blood_Sugar": 0,
          "Max_Heart_Rate": 125,
          "Serum_Cholesterol": 174
         },
         {
          "Age": 62,
          "Chest_Pain_Type": 2,
          "Diagnosis": true,
          "Fasting_Blood_Sugar": 0,
          "Max_Heart_Rate": 103,
          "Serum_Cholesterol": 281
         },
         {
          "Age": 35,
          "Chest_Pain_Type": 4,
          "Diagnosis": true,
          "Fasting_Blood_Sugar": 0,
          "Max_Heart_Rate": 130,
          "Serum_Cholesterol": 198
         },
         {
          "Age": 51,
          "Chest_Pain_Type": 3,
          "Diagnosis": false,
          "Fasting_Blood_Sugar": 1,
          "Max_Heart_Rate": 166,
          "Serum_Cholesterol": 245
         },
         {
          "Age": 59,
          "Chest_Pain_Type": 2,
          "Diagnosis": false,
          "Fasting_Blood_Sugar": 0,
          "Max_Heart_Rate": 164,
          "Serum_Cholesterol": 221
         },
         {
          "Age": 59,
          "Chest_Pain_Type": 1,
          "Diagnosis": true,
          "Fasting_Blood_Sugar": 0,
          "Max_Heart_Rate": 159,
          "Serum_Cholesterol": 288
         },
         {
          "Age": 52,
          "Chest_Pain_Type": 2,
          "Diagnosis": false,
          "Fasting_Blood_Sugar": 1,
          "Max_Heart_Rate": 184,
          "Serum_Cholesterol": 205
         },
         {
          "Age": 64,
          "Chest_Pain_Type": 3,
          "Diagnosis": true,
          "Fasting_Blood_Sugar": 0,
          "Max_Heart_Rate": 131,
          "Serum_Cholesterol": 309
         },
         {
          "Age": 58,
          "Chest_Pain_Type": 3,
          "Diagnosis": false,
          "Fasting_Blood_Sugar": 0,
          "Max_Heart_Rate": 154,
          "Serum_Cholesterol": 240
         },
         {
          "Age": 47,
          "Chest_Pain_Type": 3,
          "Diagnosis": true,
          "Fasting_Blood_Sugar": 0,
          "Max_Heart_Rate": 152,
          "Serum_Cholesterol": 243
         },
         {
          "Age": 57,
          "Chest_Pain_Type": 4,
          "Diagnosis": true,
          "Fasting_Blood_Sugar": 1,
          "Max_Heart_Rate": 124,
          "Serum_Cholesterol": 289
         },
         {
          "Age": 41,
          "Chest_Pain_Type": 3,
          "Diagnosis": false,
          "Fasting_Blood_Sugar": 0,
          "Max_Heart_Rate": 179,
          "Serum_Cholesterol": 250
         },
         {
          "Age": 45,
          "Chest_Pain_Type": 2,
          "Diagnosis": false,
          "Fasting_Blood_Sugar": 0,
          "Max_Heart_Rate": 170,
          "Serum_Cholesterol": 308
         },
         {
          "Age": 60,
          "Chest_Pain_Type": 3,
          "Diagnosis": false,
          "Fasting_Blood_Sugar": 0,
          "Max_Heart_Rate": 160,
          "Serum_Cholesterol": 318
         },
         {
          "Age": 52,
          "Chest_Pain_Type": 1,
          "Diagnosis": false,
          "Fasting_Blood_Sugar": 1,
          "Max_Heart_Rate": 178,
          "Serum_Cholesterol": 298
         },
         {
          "Age": 42,
          "Chest_Pain_Type": 4,
          "Diagnosis": false,
          "Fasting_Blood_Sugar": 0,
          "Max_Heart_Rate": 122,
          "Serum_Cholesterol": 265
         },
         {
          "Age": 67,
          "Chest_Pain_Type": 3,
          "Diagnosis": false,
          "Fasting_Blood_Sugar": 0,
          "Max_Heart_Rate": 160,
          "Serum_Cholesterol": 564
         },
         {
          "Age": 55,
          "Chest_Pain_Type": 4,
          "Diagnosis": true,
          "Fasting_Blood_Sugar": 0,
          "Max_Heart_Rate": 145,
          "Serum_Cholesterol": 289
         },
         {
          "Age": 64,
          "Chest_Pain_Type": 4,
          "Diagnosis": true,
          "Fasting_Blood_Sugar": 0,
          "Max_Heart_Rate": 96,
          "Serum_Cholesterol": 246
         },
         {
          "Age": 70,
          "Chest_Pain_Type": 4,
          "Diagnosis": true,
          "Fasting_Blood_Sugar": 0,
          "Max_Heart_Rate": 109,
          "Serum_Cholesterol": 322
         },
         {
          "Age": 51,
          "Chest_Pain_Type": 4,
          "Diagnosis": true,
          "Fasting_Blood_Sugar": 0,
          "Max_Heart_Rate": 173,
          "Serum_Cholesterol": 299
         },
         {
          "Age": 58,
          "Chest_Pain_Type": 4,
          "Diagnosis": true,
          "Fasting_Blood_Sugar": 0,
          "Max_Heart_Rate": 171,
          "Serum_Cholesterol": 300
         },
         {
          "Age": 60,
          "Chest_Pain_Type": 4,
          "Diagnosis": true,
          "Fasting_Blood_Sugar": 0,
          "Max_Heart_Rate": 170,
          "Serum_Cholesterol": 293
         },
         {
          "Age": 68,
          "Chest_Pain_Type": 3,
          "Diagnosis": false,
          "Fasting_Blood_Sugar": 0,
          "Max_Heart_Rate": 151,
          "Serum_Cholesterol": 277
         },
         {
          "Age": 46,
          "Chest_Pain_Type": 2,
          "Diagnosis": false,
          "Fasting_Blood_Sugar": 1,
          "Max_Heart_Rate": 156,
          "Serum_Cholesterol": 197
         },
         {
          "Age": 77,
          "Chest_Pain_Type": 4,
          "Diagnosis": true,
          "Fasting_Blood_Sugar": 0,
          "Max_Heart_Rate": 162,
          "Serum_Cholesterol": 304
         },
         {
          "Age": 54,
          "Chest_Pain_Type": 3,
          "Diagnosis": false,
          "Fasting_Blood_Sugar": 0,
          "Max_Heart_Rate": 158,
          "Serum_Cholesterol": 214
         },
         {
          "Age": 58,
          "Chest_Pain_Type": 4,
          "Diagnosis": false,
          "Fasting_Blood_Sugar": 0,
          "Max_Heart_Rate": 122,
          "Serum_Cholesterol": 248
         },
         {
          "Age": 48,
          "Chest_Pain_Type": 3,
          "Diagnosis": false,
          "Fasting_Blood_Sugar": 1,
          "Max_Heart_Rate": 175,
          "Serum_Cholesterol": 255
         },
         {
          "Age": 57,
          "Chest_Pain_Type": 4,
          "Diagnosis": false,
          "Fasting_Blood_Sugar": 0,
          "Max_Heart_Rate": 168,
          "Serum_Cholesterol": 207
         },
         {
          "Age": 52,
          "Chest_Pain_Type": 3,
          "Diagnosis": false,
          "Fasting_Blood_Sugar": 0,
          "Max_Heart_Rate": 169,
          "Serum_Cholesterol": 223
         },
         {
          "Age": 54,
          "Chest_Pain_Type": 2,
          "Diagnosis": false,
          "Fasting_Blood_Sugar": 1,
          "Max_Heart_Rate": 159,
          "Serum_Cholesterol": 288
         },
         {
          "Age": 35,
          "Chest_Pain_Type": 4,
          "Diagnosis": true,
          "Fasting_Blood_Sugar": 0,
          "Max_Heart_Rate": 156,
          "Serum_Cholesterol": 282
         },
         {
          "Age": 45,
          "Chest_Pain_Type": 2,
          "Diagnosis": false,
          "Fasting_Blood_Sugar": 0,
          "Max_Heart_Rate": 138,
          "Serum_Cholesterol": 160
         },
         {
          "Age": 70,
          "Chest_Pain_Type": 3,
          "Diagnosis": true,
          "Fasting_Blood_Sugar": 0,
          "Max_Heart_Rate": 112,
          "Serum_Cholesterol": 269
         },
         {
          "Age": 53,
          "Chest_Pain_Type": 4,
          "Diagnosis": false,
          "Fasting_Blood_Sugar": 0,
          "Max_Heart_Rate": 111,
          "Serum_Cholesterol": 226
         },
         {
          "Age": 59,
          "Chest_Pain_Type": 4,
          "Diagnosis": true,
          "Fasting_Blood_Sugar": 0,
          "Max_Heart_Rate": 143,
          "Serum_Cholesterol": 249
         },
         {
          "Age": 62,
          "Chest_Pain_Type": 4,
          "Diagnosis": false,
          "Fasting_Blood_Sugar": 0,
          "Max_Heart_Rate": 157,
          "Serum_Cholesterol": 394
         },
         {
          "Age": 64,
          "Chest_Pain_Type": 4,
          "Diagnosis": true,
          "Fasting_Blood_Sugar": 0,
          "Max_Heart_Rate": 132,
          "Serum_Cholesterol": 212
         },
         {
          "Age": 57,
          "Chest_Pain_Type": 4,
          "Diagnosis": true,
          "Fasting_Blood_Sugar": 0,
          "Max_Heart_Rate": 88,
          "Serum_Cholesterol": 274
         },
         {
          "Age": 52,
          "Chest_Pain_Type": 4,
          "Diagnosis": false,
          "Fasting_Blood_Sugar": 1,
          "Max_Heart_Rate": 147,
          "Serum_Cholesterol": 233
         },
         {
          "Age": 56,
          "Chest_Pain_Type": 4,
          "Diagnosis": true,
          "Fasting_Blood_Sugar": 0,
          "Max_Heart_Rate": 105,
          "Serum_Cholesterol": 184
         },
         {
          "Age": 43,
          "Chest_Pain_Type": 3,
          "Diagnosis": false,
          "Fasting_Blood_Sugar": 0,
          "Max_Heart_Rate": 162,
          "Serum_Cholesterol": 315
         },
         {
          "Age": 53,
          "Chest_Pain_Type": 3,
          "Diagnosis": false,
          "Fasting_Blood_Sugar": 1,
          "Max_Heart_Rate": 173,
          "Serum_Cholesterol": 246
         },
         {
          "Age": 48,
          "Chest_Pain_Type": 4,
          "Diagnosis": true,
          "Fasting_Blood_Sugar": 0,
          "Max_Heart_Rate": 166,
          "Serum_Cholesterol": 274
         },
         {
          "Age": 56,
          "Chest_Pain_Type": 4,
          "Diagnosis": true,
          "Fasting_Blood_Sugar": 0,
          "Max_Heart_Rate": 150,
          "Serum_Cholesterol": 409
         },
         {
          "Age": 42,
          "Chest_Pain_Type": 1,
          "Diagnosis": false,
          "Fasting_Blood_Sugar": 0,
          "Max_Heart_Rate": 178,
          "Serum_Cholesterol": 244
         },
         {
          "Age": 59,
          "Chest_Pain_Type": 1,
          "Diagnosis": false,
          "Fasting_Blood_Sugar": 0,
          "Max_Heart_Rate": 145,
          "Serum_Cholesterol": 270
         },
         {
          "Age": 60,
          "Chest_Pain_Type": 4,
          "Diagnosis": true,
          "Fasting_Blood_Sugar": 0,
          "Max_Heart_Rate": 161,
          "Serum_Cholesterol": 305
         },
         {
          "Age": 63,
          "Chest_Pain_Type": 2,
          "Diagnosis": false,
          "Fasting_Blood_Sugar": 0,
          "Max_Heart_Rate": 179,
          "Serum_Cholesterol": 195
         },
         {
          "Age": 42,
          "Chest_Pain_Type": 3,
          "Diagnosis": false,
          "Fasting_Blood_Sugar": 1,
          "Max_Heart_Rate": 194,
          "Serum_Cholesterol": 240
         },
         {
          "Age": 66,
          "Chest_Pain_Type": 2,
          "Diagnosis": true,
          "Fasting_Blood_Sugar": 0,
          "Max_Heart_Rate": 120,
          "Serum_Cholesterol": 246
         },
         {
          "Age": 54,
          "Chest_Pain_Type": 2,
          "Diagnosis": true,
          "Fasting_Blood_Sugar": 0,
          "Max_Heart_Rate": 195,
          "Serum_Cholesterol": 283
         },
         {
          "Age": 69,
          "Chest_Pain_Type": 3,
          "Diagnosis": true,
          "Fasting_Blood_Sugar": 0,
          "Max_Heart_Rate": 146,
          "Serum_Cholesterol": 254
         },
         {
          "Age": 50,
          "Chest_Pain_Type": 3,
          "Diagnosis": false,
          "Fasting_Blood_Sugar": 0,
          "Max_Heart_Rate": 163,
          "Serum_Cholesterol": 196
         },
         {
          "Age": 51,
          "Chest_Pain_Type": 4,
          "Diagnosis": true,
          "Fasting_Blood_Sugar": 0,
          "Max_Heart_Rate": 122,
          "Serum_Cholesterol": 298
         },
         {
          "Age": 43,
          "Chest_Pain_Type": 4,
          "Diagnosis": true,
          "Fasting_Blood_Sugar": 1,
          "Max_Heart_Rate": 143,
          "Serum_Cholesterol": 247
         },
         {
          "Age": 62,
          "Chest_Pain_Type": 4,
          "Diagnosis": true,
          "Fasting_Blood_Sugar": 1,
          "Max_Heart_Rate": 106,
          "Serum_Cholesterol": 294
         },
         {
          "Age": 68,
          "Chest_Pain_Type": 3,
          "Diagnosis": false,
          "Fasting_Blood_Sugar": 0,
          "Max_Heart_Rate": 115,
          "Serum_Cholesterol": 211
         },
         {
          "Age": 67,
          "Chest_Pain_Type": 4,
          "Diagnosis": true,
          "Fasting_Blood_Sugar": 0,
          "Max_Heart_Rate": 125,
          "Serum_Cholesterol": 299
         },
         {
          "Age": 69,
          "Chest_Pain_Type": 1,
          "Diagnosis": false,
          "Fasting_Blood_Sugar": 1,
          "Max_Heart_Rate": 131,
          "Serum_Cholesterol": 234
         },
         {
          "Age": 45,
          "Chest_Pain_Type": 4,
          "Diagnosis": false,
          "Fasting_Blood_Sugar": 0,
          "Max_Heart_Rate": 152,
          "Serum_Cholesterol": 236
         },
         {
          "Age": 50,
          "Chest_Pain_Type": 2,
          "Diagnosis": false,
          "Fasting_Blood_Sugar": 0,
          "Max_Heart_Rate": 162,
          "Serum_Cholesterol": 244
         },
         {
          "Age": 59,
          "Chest_Pain_Type": 1,
          "Diagnosis": true,
          "Fasting_Blood_Sugar": 0,
          "Max_Heart_Rate": 125,
          "Serum_Cholesterol": 273
         },
         {
          "Age": 50,
          "Chest_Pain_Type": 4,
          "Diagnosis": false,
          "Fasting_Blood_Sugar": 0,
          "Max_Heart_Rate": 159,
          "Serum_Cholesterol": 254
         },
         {
          "Age": 64,
          "Chest_Pain_Type": 4,
          "Diagnosis": false,
          "Fasting_Blood_Sugar": 0,
          "Max_Heart_Rate": 154,
          "Serum_Cholesterol": 325
         },
         {
          "Age": 57,
          "Chest_Pain_Type": 3,
          "Diagnosis": false,
          "Fasting_Blood_Sugar": 1,
          "Max_Heart_Rate": 173,
          "Serum_Cholesterol": 126
         },
         {
          "Age": 64,
          "Chest_Pain_Type": 3,
          "Diagnosis": false,
          "Fasting_Blood_Sugar": 0,
          "Max_Heart_Rate": 133,
          "Serum_Cholesterol": 313
         },
         {
          "Age": 43,
          "Chest_Pain_Type": 4,
          "Diagnosis": false,
          "Fasting_Blood_Sugar": 0,
          "Max_Heart_Rate": 161,
          "Serum_Cholesterol": 211
         },
         {
          "Age": 45,
          "Chest_Pain_Type": 4,
          "Diagnosis": true,
          "Fasting_Blood_Sugar": 0,
          "Max_Heart_Rate": 147,
          "Serum_Cholesterol": 309
         },
         {
          "Age": 58,
          "Chest_Pain_Type": 4,
          "Diagnosis": true,
          "Fasting_Blood_Sugar": 0,
          "Max_Heart_Rate": 130,
          "Serum_Cholesterol": 259
         },
         {
          "Age": 50,
          "Chest_Pain_Type": 4,
          "Diagnosis": true,
          "Fasting_Blood_Sugar": 0,
          "Max_Heart_Rate": 126,
          "Serum_Cholesterol": 200
         },
         {
          "Age": 55,
          "Chest_Pain_Type": 2,
          "Diagnosis": false,
          "Fasting_Blood_Sugar": 0,
          "Max_Heart_Rate": 155,
          "Serum_Cholesterol": 262
         },
         {
          "Age": 62,
          "Chest_Pain_Type": 4,
          "Diagnosis": true,
          "Fasting_Blood_Sugar": 0,
          "Max_Heart_Rate": 154,
          "Serum_Cholesterol": 244
         },
         {
          "Age": 37,
          "Chest_Pain_Type": 3,
          "Diagnosis": false,
          "Fasting_Blood_Sugar": 0,
          "Max_Heart_Rate": 170,
          "Serum_Cholesterol": 215
         },
         {
          "Age": 38,
          "Chest_Pain_Type": 1,
          "Diagnosis": true,
          "Fasting_Blood_Sugar": 0,
          "Max_Heart_Rate": 182,
          "Serum_Cholesterol": 231
         },
         {
          "Age": 41,
          "Chest_Pain_Type": 3,
          "Diagnosis": false,
          "Fasting_Blood_Sugar": 0,
          "Max_Heart_Rate": 168,
          "Serum_Cholesterol": 214
         },
         {
          "Age": 66,
          "Chest_Pain_Type": 4,
          "Diagnosis": true,
          "Fasting_Blood_Sugar": 1,
          "Max_Heart_Rate": 165,
          "Serum_Cholesterol": 228
         },
         {
          "Age": 52,
          "Chest_Pain_Type": 4,
          "Diagnosis": true,
          "Fasting_Blood_Sugar": 0,
          "Max_Heart_Rate": 160,
          "Serum_Cholesterol": 230
         },
         {
          "Age": 56,
          "Chest_Pain_Type": 1,
          "Diagnosis": false,
          "Fasting_Blood_Sugar": 0,
          "Max_Heart_Rate": 162,
          "Serum_Cholesterol": 193
         },
         {
          "Age": 46,
          "Chest_Pain_Type": 2,
          "Diagnosis": false,
          "Fasting_Blood_Sugar": 0,
          "Max_Heart_Rate": 172,
          "Serum_Cholesterol": 204
         },
         {
          "Age": 46,
          "Chest_Pain_Type": 4,
          "Diagnosis": false,
          "Fasting_Blood_Sugar": 0,
          "Max_Heart_Rate": 152,
          "Serum_Cholesterol": 243
         },
         {
          "Age": 64,
          "Chest_Pain_Type": 4,
          "Diagnosis": false,
          "Fasting_Blood_Sugar": 0,
          "Max_Heart_Rate": 122,
          "Serum_Cholesterol": 303
         },
         {
          "Age": 59,
          "Chest_Pain_Type": 4,
          "Diagnosis": false,
          "Fasting_Blood_Sugar": 0,
          "Max_Heart_Rate": 182,
          "Serum_Cholesterol": 271
         },
         {
          "Age": 41,
          "Chest_Pain_Type": 3,
          "Diagnosis": false,
          "Fasting_Blood_Sugar": 0,
          "Max_Heart_Rate": 172,
          "Serum_Cholesterol": 268
         },
         {
          "Age": 54,
          "Chest_Pain_Type": 3,
          "Diagnosis": false,
          "Fasting_Blood_Sugar": 0,
          "Max_Heart_Rate": 167,
          "Serum_Cholesterol": 267
         },
         {
          "Age": 39,
          "Chest_Pain_Type": 3,
          "Diagnosis": false,
          "Fasting_Blood_Sugar": 0,
          "Max_Heart_Rate": 179,
          "Serum_Cholesterol": 199
         },
         {
          "Age": 53,
          "Chest_Pain_Type": 4,
          "Diagnosis": true,
          "Fasting_Blood_Sugar": 0,
          "Max_Heart_Rate": 95,
          "Serum_Cholesterol": 282
         },
         {
          "Age": 63,
          "Chest_Pain_Type": 4,
          "Diagnosis": true,
          "Fasting_Blood_Sugar": 0,
          "Max_Heart_Rate": 169,
          "Serum_Cholesterol": 269
         },
         {
          "Age": 34,
          "Chest_Pain_Type": 2,
          "Diagnosis": false,
          "Fasting_Blood_Sugar": 0,
          "Max_Heart_Rate": 192,
          "Serum_Cholesterol": 210
         },
         {
          "Age": 47,
          "Chest_Pain_Type": 4,
          "Diagnosis": false,
          "Fasting_Blood_Sugar": 0,
          "Max_Heart_Rate": 143,
          "Serum_Cholesterol": 204
         },
         {
          "Age": 67,
          "Chest_Pain_Type": 3,
          "Diagnosis": false,
          "Fasting_Blood_Sugar": 0,
          "Max_Heart_Rate": 172,
          "Serum_Cholesterol": 277
         },
         {
          "Age": 54,
          "Chest_Pain_Type": 4,
          "Diagnosis": true,
          "Fasting_Blood_Sugar": 0,
          "Max_Heart_Rate": 108,
          "Serum_Cholesterol": 206
         },
         {
          "Age": 66,
          "Chest_Pain_Type": 4,
          "Diagnosis": true,
          "Fasting_Blood_Sugar": 0,
          "Max_Heart_Rate": 132,
          "Serum_Cholesterol": 212
         },
         {
          "Age": 52,
          "Chest_Pain_Type": 3,
          "Diagnosis": false,
          "Fasting_Blood_Sugar": 0,
          "Max_Heart_Rate": 169,
          "Serum_Cholesterol": 196
         },
         {
          "Age": 55,
          "Chest_Pain_Type": 4,
          "Diagnosis": true,
          "Fasting_Blood_Sugar": 0,
          "Max_Heart_Rate": 117,
          "Serum_Cholesterol": 327
         },
         {
          "Age": 49,
          "Chest_Pain_Type": 3,
          "Diagnosis": true,
          "Fasting_Blood_Sugar": 0,
          "Max_Heart_Rate": 126,
          "Serum_Cholesterol": 149
         },
         {
          "Age": 74,
          "Chest_Pain_Type": 2,
          "Diagnosis": false,
          "Fasting_Blood_Sugar": 0,
          "Max_Heart_Rate": 121,
          "Serum_Cholesterol": 269
         },
         {
          "Age": 54,
          "Chest_Pain_Type": 3,
          "Diagnosis": false,
          "Fasting_Blood_Sugar": 0,
          "Max_Heart_Rate": 163,
          "Serum_Cholesterol": 201
         },
         {
          "Age": 54,
          "Chest_Pain_Type": 4,
          "Diagnosis": true,
          "Fasting_Blood_Sugar": 0,
          "Max_Heart_Rate": 116,
          "Serum_Cholesterol": 286
         },
         {
          "Age": 56,
          "Chest_Pain_Type": 4,
          "Diagnosis": true,
          "Fasting_Blood_Sugar": 1,
          "Max_Heart_Rate": 103,
          "Serum_Cholesterol": 283
         },
         {
          "Age": 46,
          "Chest_Pain_Type": 4,
          "Diagnosis": true,
          "Fasting_Blood_Sugar": 0,
          "Max_Heart_Rate": 144,
          "Serum_Cholesterol": 249
         },
         {
          "Age": 49,
          "Chest_Pain_Type": 2,
          "Diagnosis": false,
          "Fasting_Blood_Sugar": 0,
          "Max_Heart_Rate": 162,
          "Serum_Cholesterol": 271
         },
         {
          "Age": 42,
          "Chest_Pain_Type": 2,
          "Diagnosis": false,
          "Fasting_Blood_Sugar": 0,
          "Max_Heart_Rate": 162,
          "Serum_Cholesterol": 295
         },
         {
          "Age": 41,
          "Chest_Pain_Type": 2,
          "Diagnosis": false,
          "Fasting_Blood_Sugar": 0,
          "Max_Heart_Rate": 153,
          "Serum_Cholesterol": 235
         },
         {
          "Age": 41,
          "Chest_Pain_Type": 2,
          "Diagnosis": false,
          "Fasting_Blood_Sugar": 0,
          "Max_Heart_Rate": 163,
          "Serum_Cholesterol": 306
         },
         {
          "Age": 49,
          "Chest_Pain_Type": 4,
          "Diagnosis": false,
          "Fasting_Blood_Sugar": 0,
          "Max_Heart_Rate": 163,
          "Serum_Cholesterol": 269
         },
         {
          "Age": 61,
          "Chest_Pain_Type": 1,
          "Diagnosis": true,
          "Fasting_Blood_Sugar": 0,
          "Max_Heart_Rate": 145,
          "Serum_Cholesterol": 234
         },
         {
          "Age": 60,
          "Chest_Pain_Type": 3,
          "Diagnosis": false,
          "Fasting_Blood_Sugar": 1,
          "Max_Heart_Rate": 96,
          "Serum_Cholesterol": 178
         },
         {
          "Age": 67,
          "Chest_Pain_Type": 4,
          "Diagnosis": true,
          "Fasting_Blood_Sugar": 0,
          "Max_Heart_Rate": 71,
          "Serum_Cholesterol": 237
         },
         {
          "Age": 58,
          "Chest_Pain_Type": 4,
          "Diagnosis": true,
          "Fasting_Blood_Sugar": 0,
          "Max_Heart_Rate": 156,
          "Serum_Cholesterol": 234
         },
         {
          "Age": 47,
          "Chest_Pain_Type": 4,
          "Diagnosis": true,
          "Fasting_Blood_Sugar": 0,
          "Max_Heart_Rate": 118,
          "Serum_Cholesterol": 275
         },
         {
          "Age": 52,
          "Chest_Pain_Type": 4,
          "Diagnosis": true,
          "Fasting_Blood_Sugar": 0,
          "Max_Heart_Rate": 168,
          "Serum_Cholesterol": 212
         },
         {
          "Age": 62,
          "Chest_Pain_Type": 2,
          "Diagnosis": false,
          "Fasting_Blood_Sugar": 1,
          "Max_Heart_Rate": 140,
          "Serum_Cholesterol": 208
         },
         {
          "Age": 57,
          "Chest_Pain_Type": 4,
          "Diagnosis": false,
          "Fasting_Blood_Sugar": 0,
          "Max_Heart_Rate": 126,
          "Serum_Cholesterol": 201
         },
         {
          "Age": 58,
          "Chest_Pain_Type": 4,
          "Diagnosis": true,
          "Fasting_Blood_Sugar": 0,
          "Max_Heart_Rate": 105,
          "Serum_Cholesterol": 218
         },
         {
          "Age": 64,
          "Chest_Pain_Type": 4,
          "Diagnosis": false,
          "Fasting_Blood_Sugar": 0,
          "Max_Heart_Rate": 105,
          "Serum_Cholesterol": 263
         },
         {
          "Age": 51,
          "Chest_Pain_Type": 3,
          "Diagnosis": false,
          "Fasting_Blood_Sugar": 0,
          "Max_Heart_Rate": 157,
          "Serum_Cholesterol": 295
         },
         {
          "Age": 43,
          "Chest_Pain_Type": 4,
          "Diagnosis": false,
          "Fasting_Blood_Sugar": 0,
          "Max_Heart_Rate": 181,
          "Serum_Cholesterol": 303
         },
         {
          "Age": 42,
          "Chest_Pain_Type": 3,
          "Diagnosis": false,
          "Fasting_Blood_Sugar": 0,
          "Max_Heart_Rate": 173,
          "Serum_Cholesterol": 209
         },
         {
          "Age": 67,
          "Chest_Pain_Type": 4,
          "Diagnosis": false,
          "Fasting_Blood_Sugar": 0,
          "Max_Heart_Rate": 142,
          "Serum_Cholesterol": 223
         },
         {
          "Age": 76,
          "Chest_Pain_Type": 3,
          "Diagnosis": false,
          "Fasting_Blood_Sugar": 0,
          "Max_Heart_Rate": 116,
          "Serum_Cholesterol": 197
         },
         {
          "Age": 70,
          "Chest_Pain_Type": 2,
          "Diagnosis": false,
          "Fasting_Blood_Sugar": 0,
          "Max_Heart_Rate": 143,
          "Serum_Cholesterol": 245
         },
         {
          "Age": 57,
          "Chest_Pain_Type": 2,
          "Diagnosis": true,
          "Fasting_Blood_Sugar": 0,
          "Max_Heart_Rate": 141,
          "Serum_Cholesterol": 261
         },
         {
          "Age": 44,
          "Chest_Pain_Type": 3,
          "Diagnosis": false,
          "Fasting_Blood_Sugar": 0,
          "Max_Heart_Rate": 149,
          "Serum_Cholesterol": 242
         },
         {
          "Age": 58,
          "Chest_Pain_Type": 2,
          "Diagnosis": true,
          "Fasting_Blood_Sugar": 1,
          "Max_Heart_Rate": 152,
          "Serum_Cholesterol": 319
         },
         {
          "Age": 60,
          "Chest_Pain_Type": 1,
          "Diagnosis": false,
          "Fasting_Blood_Sugar": 0,
          "Max_Heart_Rate": 171,
          "Serum_Cholesterol": 240
         },
         {
          "Age": 44,
          "Chest_Pain_Type": 3,
          "Diagnosis": false,
          "Fasting_Blood_Sugar": 0,
          "Max_Heart_Rate": 169,
          "Serum_Cholesterol": 226
         },
         {
          "Age": 61,
          "Chest_Pain_Type": 4,
          "Diagnosis": true,
          "Fasting_Blood_Sugar": 0,
          "Max_Heart_Rate": 125,
          "Serum_Cholesterol": 166
         },
         {
          "Age": 42,
          "Chest_Pain_Type": 4,
          "Diagnosis": true,
          "Fasting_Blood_Sugar": 0,
          "Max_Heart_Rate": 125,
          "Serum_Cholesterol": 315
         },
         {
          "Age": 52,
          "Chest_Pain_Type": 4,
          "Diagnosis": true,
          "Fasting_Blood_Sugar": 1,
          "Max_Heart_Rate": 156,
          "Serum_Cholesterol": 204
         },
         {
          "Age": 59,
          "Chest_Pain_Type": 3,
          "Diagnosis": true,
          "Fasting_Blood_Sugar": 1,
          "Max_Heart_Rate": 134,
          "Serum_Cholesterol": 218
         },
         {
          "Age": 40,
          "Chest_Pain_Type": 4,
          "Diagnosis": true,
          "Fasting_Blood_Sugar": 0,
          "Max_Heart_Rate": 181,
          "Serum_Cholesterol": 223
         },
         {
          "Age": 42,
          "Chest_Pain_Type": 3,
          "Diagnosis": false,
          "Fasting_Blood_Sugar": 0,
          "Max_Heart_Rate": 150,
          "Serum_Cholesterol": 180
         },
         {
          "Age": 61,
          "Chest_Pain_Type": 4,
          "Diagnosis": true,
          "Fasting_Blood_Sugar": 0,
          "Max_Heart_Rate": 138,
          "Serum_Cholesterol": 207
         },
         {
          "Age": 66,
          "Chest_Pain_Type": 4,
          "Diagnosis": false,
          "Fasting_Blood_Sugar": 0,
          "Max_Heart_Rate": 138,
          "Serum_Cholesterol": 228
         },
         {
          "Age": 46,
          "Chest_Pain_Type": 4,
          "Diagnosis": true,
          "Fasting_Blood_Sugar": 0,
          "Max_Heart_Rate": 120,
          "Serum_Cholesterol": 311
         },
         {
          "Age": 71,
          "Chest_Pain_Type": 4,
          "Diagnosis": false,
          "Fasting_Blood_Sugar": 0,
          "Max_Heart_Rate": 125,
          "Serum_Cholesterol": 149
         },
         {
          "Age": 59,
          "Chest_Pain_Type": 1,
          "Diagnosis": true,
          "Fasting_Blood_Sugar": 0,
          "Max_Heart_Rate": 162,
          "Serum_Cholesterol": 204
         },
         {
          "Age": 64,
          "Chest_Pain_Type": 1,
          "Diagnosis": false,
          "Fasting_Blood_Sugar": 0,
          "Max_Heart_Rate": 155,
          "Serum_Cholesterol": 227
         },
         {
          "Age": 66,
          "Chest_Pain_Type": 3,
          "Diagnosis": false,
          "Fasting_Blood_Sugar": 0,
          "Max_Heart_Rate": 152,
          "Serum_Cholesterol": 278
         },
         {
          "Age": 39,
          "Chest_Pain_Type": 3,
          "Diagnosis": false,
          "Fasting_Blood_Sugar": 0,
          "Max_Heart_Rate": 152,
          "Serum_Cholesterol": 220
         },
         {
          "Age": 57,
          "Chest_Pain_Type": 2,
          "Diagnosis": true,
          "Fasting_Blood_Sugar": 0,
          "Max_Heart_Rate": 164,
          "Serum_Cholesterol": 232
         },
         {
          "Age": 58,
          "Chest_Pain_Type": 4,
          "Diagnosis": false,
          "Fasting_Blood_Sugar": 0,
          "Max_Heart_Rate": 131,
          "Serum_Cholesterol": 197
         },
         {
          "Age": 57,
          "Chest_Pain_Type": 4,
          "Diagnosis": true,
          "Fasting_Blood_Sugar": 0,
          "Max_Heart_Rate": 143,
          "Serum_Cholesterol": 335
         },
         {
          "Age": 47,
          "Chest_Pain_Type": 3,
          "Diagnosis": false,
          "Fasting_Blood_Sugar": 0,
          "Max_Heart_Rate": 179,
          "Serum_Cholesterol": 253
         },
         {
          "Age": 55,
          "Chest_Pain_Type": 4,
          "Diagnosis": true,
          "Fasting_Blood_Sugar": 0,
          "Max_Heart_Rate": 130,
          "Serum_Cholesterol": 205
         },
         {
          "Age": 35,
          "Chest_Pain_Type": 2,
          "Diagnosis": false,
          "Fasting_Blood_Sugar": 0,
          "Max_Heart_Rate": 174,
          "Serum_Cholesterol": 192
         },
         {
          "Age": 61,
          "Chest_Pain_Type": 4,
          "Diagnosis": true,
          "Fasting_Blood_Sugar": 0,
          "Max_Heart_Rate": 161,
          "Serum_Cholesterol": 203
         },
         {
          "Age": 58,
          "Chest_Pain_Type": 4,
          "Diagnosis": true,
          "Fasting_Blood_Sugar": 0,
          "Max_Heart_Rate": 140,
          "Serum_Cholesterol": 318
         },
         {
          "Age": 58,
          "Chest_Pain_Type": 4,
          "Diagnosis": true,
          "Fasting_Blood_Sugar": 1,
          "Max_Heart_Rate": 146,
          "Serum_Cholesterol": 225
         },
         {
          "Age": 58,
          "Chest_Pain_Type": 2,
          "Diagnosis": false,
          "Fasting_Blood_Sugar": 0,
          "Max_Heart_Rate": 144,
          "Serum_Cholesterol": 220
         },
         {
          "Age": 56,
          "Chest_Pain_Type": 2,
          "Diagnosis": false,
          "Fasting_Blood_Sugar": 0,
          "Max_Heart_Rate": 163,
          "Serum_Cholesterol": 221
         },
         {
          "Age": 56,
          "Chest_Pain_Type": 2,
          "Diagnosis": false,
          "Fasting_Blood_Sugar": 0,
          "Max_Heart_Rate": 169,
          "Serum_Cholesterol": 240
         },
         {
          "Age": 67,
          "Chest_Pain_Type": 3,
          "Diagnosis": true,
          "Fasting_Blood_Sugar": 0,
          "Max_Heart_Rate": 150,
          "Serum_Cholesterol": 212
         },
         {
          "Age": 55,
          "Chest_Pain_Type": 2,
          "Diagnosis": false,
          "Fasting_Blood_Sugar": 0,
          "Max_Heart_Rate": 166,
          "Serum_Cholesterol": 342
         },
         {
          "Age": 44,
          "Chest_Pain_Type": 4,
          "Diagnosis": true,
          "Fasting_Blood_Sugar": 0,
          "Max_Heart_Rate": 144,
          "Serum_Cholesterol": 169
         },
         {
          "Age": 63,
          "Chest_Pain_Type": 4,
          "Diagnosis": true,
          "Fasting_Blood_Sugar": 0,
          "Max_Heart_Rate": 144,
          "Serum_Cholesterol": 187
         },
         {
          "Age": 63,
          "Chest_Pain_Type": 4,
          "Diagnosis": true,
          "Fasting_Blood_Sugar": 0,
          "Max_Heart_Rate": 136,
          "Serum_Cholesterol": 197
         },
         {
          "Age": 41,
          "Chest_Pain_Type": 2,
          "Diagnosis": false,
          "Fasting_Blood_Sugar": 0,
          "Max_Heart_Rate": 182,
          "Serum_Cholesterol": 157
         },
         {
          "Age": 59,
          "Chest_Pain_Type": 4,
          "Diagnosis": true,
          "Fasting_Blood_Sugar": 1,
          "Max_Heart_Rate": 90,
          "Serum_Cholesterol": 176
         },
         {
          "Age": 57,
          "Chest_Pain_Type": 4,
          "Diagnosis": true,
          "Fasting_Blood_Sugar": 0,
          "Max_Heart_Rate": 123,
          "Serum_Cholesterol": 241
         },
         {
          "Age": 45,
          "Chest_Pain_Type": 1,
          "Diagnosis": true,
          "Fasting_Blood_Sugar": 0,
          "Max_Heart_Rate": 132,
          "Serum_Cholesterol": 264
         },
         {
          "Age": 68,
          "Chest_Pain_Type": 4,
          "Diagnosis": true,
          "Fasting_Blood_Sugar": 1,
          "Max_Heart_Rate": 141,
          "Serum_Cholesterol": 193
         },
         {
          "Age": 57,
          "Chest_Pain_Type": 4,
          "Diagnosis": true,
          "Fasting_Blood_Sugar": 0,
          "Max_Heart_Rate": 115,
          "Serum_Cholesterol": 131
         },
         {
          "Age": 57,
          "Chest_Pain_Type": 2,
          "Diagnosis": true,
          "Fasting_Blood_Sugar": 0,
          "Max_Heart_Rate": 174,
          "Serum_Cholesterol": 236
         },
         {
          "Age": 38,
          "Chest_Pain_Type": 3,
          "Diagnosis": false,
          "Fasting_Blood_Sugar": 0,
          "Max_Heart_Rate": 173,
          "Serum_Cholesterol": 175
         }
        ]
       },
       "encoding": {
        "x": {
         "field": "Age",
         "scale": {
          "zero": false
         },
         "title": "Age (years)",
         "type": "quantitative"
        },
        "y": {
         "field": "Max_Heart_Rate",
         "scale": {
          "zero": false
         },
         "title": "Maximum Heart Rate Achieved (bpm)",
         "type": "quantitative"
        }
       },
       "height": 400,
       "mark": "point",
       "title": "Age vs Maximum Heart Rate",
       "width": 400
      },
      "image/png": "[encoded data removed]",
      "text/plain": [
       "<VegaLite 4 object>\n",
       "\n",
       "If you see this message, it means the renderer has not been properly enabled\n",
       "for the frontend that you are using. For more information, see\n",
       "https://altair-viz.github.io/user_guide/troubleshooting.html\n"
      ]
     },
     "execution_count": 9,
     "metadata": {},
     "output_type": "execute_result"
    }
   ],
   "source": [
    "age_vs_thalach = (\n",
    "    alt.Chart(heart_disease_final, title=\"Age vs Maximum Heart Rate\")\n",
    "    .mark_point()\n",
    "    .encode(\n",
    "        x=alt.X(\"Age\", title=\"Age (years)\",scale=alt.Scale(zero=False)),\n",
    "        y=alt.Y(\n",
    "            \"Max_Heart_Rate:Q\",\n",
    "            title=\"Maximum Heart Rate Achieved (bpm)\",\n",
    "            scale=alt.Scale(zero=False)\n",
    "        ),\n",
    "    )\n",
    "    .configure_axis(labelFontSize=15, titleFontSize=15)\n",
    "    .configure_title(fontSize=25)\n",
    "    .properties(width=400, height=400)\n",
    ")\n",
    "age_vs_thalach"
   ]
  },
  {
   "cell_type": "markdown",
   "id": "e56ed169-230c-49a6-a18d-aa8010808ce6",
   "metadata": {},
   "source": [
    "Next, we visualize a bar graph that displays the distribution of diagnosis for each chest pain type:"
   ]
  },
  {
   "cell_type": "code",
   "execution_count": 10,
   "id": "fb0b06cd-c7a5-46be-a381-3c55d202cbab",
   "metadata": {},
   "outputs": [
    {
     "data": {
      "application/vnd.vegalite.v4+json": {
       "$schema": "https://vega.github.io/schema/vega-lite/v4.17.0.json",
       "config": {
        "axis": {
         "labelFontSize": 18,
         "titleFontSize": 18
        },
        "title": {
         "fontSize": 20
        },
        "view": {
         "continuousHeight": 300,
         "continuousWidth": 400
        }
       },
       "data": {
        "name": "data-6d8aeb2c39c2b84da2a1ab4f283ce1a7"
       },
       "datasets": {
        "data-6d8aeb2c39c2b84da2a1ab4f283ce1a7": [
         {
          "Age": 43,
          "Chest_Pain_Type": 4,
          "Diagnosis": true,
          "Fasting_Blood_Sugar": 0,
          "Max_Heart_Rate": 120,
          "Serum_Cholesterol": 177
         },
         {
          "Age": 45,
          "Chest_Pain_Type": 2,
          "Diagnosis": false,
          "Fasting_Blood_Sugar": 0,
          "Max_Heart_Rate": 170,
          "Serum_Cholesterol": 308
         },
         {
          "Age": 58,
          "Chest_Pain_Type": 1,
          "Diagnosis": false,
          "Fasting_Blood_Sugar": 1,
          "Max_Heart_Rate": 162,
          "Serum_Cholesterol": 283
         },
         {
          "Age": 66,
          "Chest_Pain_Type": 2,
          "Diagnosis": true,
          "Fasting_Blood_Sugar": 0,
          "Max_Heart_Rate": 120,
          "Serum_Cholesterol": 246
         },
         {
          "Age": 77,
          "Chest_Pain_Type": 4,
          "Diagnosis": true,
          "Fasting_Blood_Sugar": 0,
          "Max_Heart_Rate": 162,
          "Serum_Cholesterol": 304
         },
         {
          "Age": 62,
          "Chest_Pain_Type": 3,
          "Diagnosis": true,
          "Fasting_Blood_Sugar": 0,
          "Max_Heart_Rate": 97,
          "Serum_Cholesterol": 263
         },
         {
          "Age": 56,
          "Chest_Pain_Type": 2,
          "Diagnosis": false,
          "Fasting_Blood_Sugar": 0,
          "Max_Heart_Rate": 178,
          "Serum_Cholesterol": 236
         },
         {
          "Age": 71,
          "Chest_Pain_Type": 4,
          "Diagnosis": false,
          "Fasting_Blood_Sugar": 0,
          "Max_Heart_Rate": 125,
          "Serum_Cholesterol": 149
         },
         {
          "Age": 39,
          "Chest_Pain_Type": 3,
          "Diagnosis": false,
          "Fasting_Blood_Sugar": 0,
          "Max_Heart_Rate": 182,
          "Serum_Cholesterol": 321
         },
         {
          "Age": 57,
          "Chest_Pain_Type": 4,
          "Diagnosis": true,
          "Fasting_Blood_Sugar": 0,
          "Max_Heart_Rate": 143,
          "Serum_Cholesterol": 335
         },
         {
          "Age": 60,
          "Chest_Pain_Type": 1,
          "Diagnosis": false,
          "Fasting_Blood_Sugar": 0,
          "Max_Heart_Rate": 171,
          "Serum_Cholesterol": 240
         },
         {
          "Age": 57,
          "Chest_Pain_Type": 4,
          "Diagnosis": false,
          "Fasting_Blood_Sugar": 0,
          "Max_Heart_Rate": 163,
          "Serum_Cholesterol": 354
         },
         {
          "Age": 54,
          "Chest_Pain_Type": 3,
          "Diagnosis": false,
          "Fasting_Blood_Sugar": 0,
          "Max_Heart_Rate": 158,
          "Serum_Cholesterol": 214
         },
         {
          "Age": 44,
          "Chest_Pain_Type": 3,
          "Diagnosis": false,
          "Fasting_Blood_Sugar": 0,
          "Max_Heart_Rate": 169,
          "Serum_Cholesterol": 226
         },
         {
          "Age": 55,
          "Chest_Pain_Type": 4,
          "Diagnosis": true,
          "Fasting_Blood_Sugar": 0,
          "Max_Heart_Rate": 117,
          "Serum_Cholesterol": 327
         },
         {
          "Age": 70,
          "Chest_Pain_Type": 3,
          "Diagnosis": true,
          "Fasting_Blood_Sugar": 0,
          "Max_Heart_Rate": 112,
          "Serum_Cholesterol": 269
         },
         {
          "Age": 29,
          "Chest_Pain_Type": 2,
          "Diagnosis": false,
          "Fasting_Blood_Sugar": 0,
          "Max_Heart_Rate": 202,
          "Serum_Cholesterol": 204
         },
         {
          "Age": 70,
          "Chest_Pain_Type": 4,
          "Diagnosis": true,
          "Fasting_Blood_Sugar": 0,
          "Max_Heart_Rate": 125,
          "Serum_Cholesterol": 174
         },
         {
          "Age": 58,
          "Chest_Pain_Type": 4,
          "Diagnosis": true,
          "Fasting_Blood_Sugar": 1,
          "Max_Heart_Rate": 146,
          "Serum_Cholesterol": 225
         },
         {
          "Age": 52,
          "Chest_Pain_Type": 3,
          "Diagnosis": false,
          "Fasting_Blood_Sugar": 0,
          "Max_Heart_Rate": 169,
          "Serum_Cholesterol": 223
         },
         {
          "Age": 42,
          "Chest_Pain_Type": 4,
          "Diagnosis": false,
          "Fasting_Blood_Sugar": 0,
          "Max_Heart_Rate": 122,
          "Serum_Cholesterol": 265
         },
         {
          "Age": 50,
          "Chest_Pain_Type": 3,
          "Diagnosis": false,
          "Fasting_Blood_Sugar": 0,
          "Max_Heart_Rate": 163,
          "Serum_Cholesterol": 196
         },
         {
          "Age": 54,
          "Chest_Pain_Type": 2,
          "Diagnosis": true,
          "Fasting_Blood_Sugar": 0,
          "Max_Heart_Rate": 195,
          "Serum_Cholesterol": 283
         },
         {
          "Age": 55,
          "Chest_Pain_Type": 2,
          "Diagnosis": false,
          "Fasting_Blood_Sugar": 0,
          "Max_Heart_Rate": 166,
          "Serum_Cholesterol": 342
         },
         {
          "Age": 52,
          "Chest_Pain_Type": 4,
          "Diagnosis": true,
          "Fasting_Blood_Sugar": 0,
          "Max_Heart_Rate": 168,
          "Serum_Cholesterol": 212
         },
         {
          "Age": 57,
          "Chest_Pain_Type": 4,
          "Diagnosis": true,
          "Fasting_Blood_Sugar": 0,
          "Max_Heart_Rate": 112,
          "Serum_Cholesterol": 276
         },
         {
          "Age": 44,
          "Chest_Pain_Type": 3,
          "Diagnosis": false,
          "Fasting_Blood_Sugar": 0,
          "Max_Heart_Rate": 179,
          "Serum_Cholesterol": 233
         },
         {
          "Age": 54,
          "Chest_Pain_Type": 4,
          "Diagnosis": true,
          "Fasting_Blood_Sugar": 0,
          "Max_Heart_Rate": 109,
          "Serum_Cholesterol": 266
         },
         {
          "Age": 62,
          "Chest_Pain_Type": 4,
          "Diagnosis": true,
          "Fasting_Blood_Sugar": 0,
          "Max_Heart_Rate": 145,
          "Serum_Cholesterol": 164
         },
         {
          "Age": 58,
          "Chest_Pain_Type": 3,
          "Diagnosis": true,
          "Fasting_Blood_Sugar": 0,
          "Max_Heart_Rate": 173,
          "Serum_Cholesterol": 224
         },
         {
          "Age": 62,
          "Chest_Pain_Type": 4,
          "Diagnosis": false,
          "Fasting_Blood_Sugar": 0,
          "Max_Heart_Rate": 157,
          "Serum_Cholesterol": 394
         },
         {
          "Age": 42,
          "Chest_Pain_Type": 2,
          "Diagnosis": false,
          "Fasting_Blood_Sugar": 0,
          "Max_Heart_Rate": 162,
          "Serum_Cholesterol": 295
         },
         {
          "Age": 62,
          "Chest_Pain_Type": 2,
          "Diagnosis": true,
          "Fasting_Blood_Sugar": 0,
          "Max_Heart_Rate": 103,
          "Serum_Cholesterol": 281
         },
         {
          "Age": 45,
          "Chest_Pain_Type": 2,
          "Diagnosis": false,
          "Fasting_Blood_Sugar": 0,
          "Max_Heart_Rate": 175,
          "Serum_Cholesterol": 234
         },
         {
          "Age": 57,
          "Chest_Pain_Type": 4,
          "Diagnosis": false,
          "Fasting_Blood_Sugar": 0,
          "Max_Heart_Rate": 148,
          "Serum_Cholesterol": 192
         },
         {
          "Age": 46,
          "Chest_Pain_Type": 4,
          "Diagnosis": true,
          "Fasting_Blood_Sugar": 0,
          "Max_Heart_Rate": 120,
          "Serum_Cholesterol": 311
         },
         {
          "Age": 43,
          "Chest_Pain_Type": 4,
          "Diagnosis": false,
          "Fasting_Blood_Sugar": 0,
          "Max_Heart_Rate": 171,
          "Serum_Cholesterol": 247
         },
         {
          "Age": 58,
          "Chest_Pain_Type": 4,
          "Diagnosis": true,
          "Fasting_Blood_Sugar": 0,
          "Max_Heart_Rate": 111,
          "Serum_Cholesterol": 270
         },
         {
          "Age": 46,
          "Chest_Pain_Type": 2,
          "Diagnosis": false,
          "Fasting_Blood_Sugar": 1,
          "Max_Heart_Rate": 156,
          "Serum_Cholesterol": 197
         },
         {
          "Age": 46,
          "Chest_Pain_Type": 4,
          "Diagnosis": true,
          "Fasting_Blood_Sugar": 0,
          "Max_Heart_Rate": 144,
          "Serum_Cholesterol": 249
         },
         {
          "Age": 59,
          "Chest_Pain_Type": 4,
          "Diagnosis": false,
          "Fasting_Blood_Sugar": 0,
          "Max_Heart_Rate": 161,
          "Serum_Cholesterol": 234
         },
         {
          "Age": 41,
          "Chest_Pain_Type": 3,
          "Diagnosis": false,
          "Fasting_Blood_Sugar": 0,
          "Max_Heart_Rate": 179,
          "Serum_Cholesterol": 250
         },
         {
          "Age": 60,
          "Chest_Pain_Type": 3,
          "Diagnosis": true,
          "Fasting_Blood_Sugar": 0,
          "Max_Heart_Rate": 155,
          "Serum_Cholesterol": 185
         },
         {
          "Age": 58,
          "Chest_Pain_Type": 2,
          "Diagnosis": false,
          "Fasting_Blood_Sugar": 0,
          "Max_Heart_Rate": 144,
          "Serum_Cholesterol": 220
         },
         {
          "Age": 42,
          "Chest_Pain_Type": 4,
          "Diagnosis": true,
          "Fasting_Blood_Sugar": 0,
          "Max_Heart_Rate": 125,
          "Serum_Cholesterol": 315
         },
         {
          "Age": 44,
          "Chest_Pain_Type": 2,
          "Diagnosis": false,
          "Fasting_Blood_Sugar": 0,
          "Max_Heart_Rate": 170,
          "Serum_Cholesterol": 220
         },
         {
          "Age": 52,
          "Chest_Pain_Type": 1,
          "Diagnosis": false,
          "Fasting_Blood_Sugar": 0,
          "Max_Heart_Rate": 190,
          "Serum_Cholesterol": 186
         },
         {
          "Age": 46,
          "Chest_Pain_Type": 3,
          "Diagnosis": true,
          "Fasting_Blood_Sugar": 0,
          "Max_Heart_Rate": 147,
          "Serum_Cholesterol": 231
         },
         {
          "Age": 41,
          "Chest_Pain_Type": 2,
          "Diagnosis": false,
          "Fasting_Blood_Sugar": 0,
          "Max_Heart_Rate": 172,
          "Serum_Cholesterol": 204
         },
         {
          "Age": 45,
          "Chest_Pain_Type": 4,
          "Diagnosis": false,
          "Fasting_Blood_Sugar": 0,
          "Max_Heart_Rate": 185,
          "Serum_Cholesterol": 260
         },
         {
          "Age": 54,
          "Chest_Pain_Type": 4,
          "Diagnosis": true,
          "Fasting_Blood_Sugar": 0,
          "Max_Heart_Rate": 126,
          "Serum_Cholesterol": 239
         },
         {
          "Age": 54,
          "Chest_Pain_Type": 3,
          "Diagnosis": false,
          "Fasting_Blood_Sugar": 0,
          "Max_Heart_Rate": 167,
          "Serum_Cholesterol": 267
         },
         {
          "Age": 49,
          "Chest_Pain_Type": 2,
          "Diagnosis": false,
          "Fasting_Blood_Sugar": 0,
          "Max_Heart_Rate": 162,
          "Serum_Cholesterol": 271
         },
         {
          "Age": 44,
          "Chest_Pain_Type": 3,
          "Diagnosis": false,
          "Fasting_Blood_Sugar": 0,
          "Max_Heart_Rate": 180,
          "Serum_Cholesterol": 235
         },
         {
          "Age": 58,
          "Chest_Pain_Type": 4,
          "Diagnosis": true,
          "Fasting_Blood_Sugar": 0,
          "Max_Heart_Rate": 130,
          "Serum_Cholesterol": 259
         },
         {
          "Age": 67,
          "Chest_Pain_Type": 3,
          "Diagnosis": false,
          "Fasting_Blood_Sugar": 0,
          "Max_Heart_Rate": 160,
          "Serum_Cholesterol": 564
         },
         {
          "Age": 37,
          "Chest_Pain_Type": 3,
          "Diagnosis": false,
          "Fasting_Blood_Sugar": 0,
          "Max_Heart_Rate": 170,
          "Serum_Cholesterol": 215
         },
         {
          "Age": 41,
          "Chest_Pain_Type": 2,
          "Diagnosis": false,
          "Fasting_Blood_Sugar": 0,
          "Max_Heart_Rate": 182,
          "Serum_Cholesterol": 157
         },
         {
          "Age": 64,
          "Chest_Pain_Type": 4,
          "Diagnosis": false,
          "Fasting_Blood_Sugar": 0,
          "Max_Heart_Rate": 105,
          "Serum_Cholesterol": 263
         },
         {
          "Age": 51,
          "Chest_Pain_Type": 3,
          "Diagnosis": false,
          "Fasting_Blood_Sugar": 0,
          "Max_Heart_Rate": 143,
          "Serum_Cholesterol": 222
         },
         {
          "Age": 58,
          "Chest_Pain_Type": 3,
          "Diagnosis": false,
          "Fasting_Blood_Sugar": 0,
          "Max_Heart_Rate": 154,
          "Serum_Cholesterol": 240
         },
         {
          "Age": 51,
          "Chest_Pain_Type": 3,
          "Diagnosis": false,
          "Fasting_Blood_Sugar": 0,
          "Max_Heart_Rate": 154,
          "Serum_Cholesterol": 227
         },
         {
          "Age": 35,
          "Chest_Pain_Type": 4,
          "Diagnosis": true,
          "Fasting_Blood_Sugar": 0,
          "Max_Heart_Rate": 130,
          "Serum_Cholesterol": 198
         },
         {
          "Age": 62,
          "Chest_Pain_Type": 3,
          "Diagnosis": false,
          "Fasting_Blood_Sugar": 0,
          "Max_Heart_Rate": 146,
          "Serum_Cholesterol": 231
         },
         {
          "Age": 47,
          "Chest_Pain_Type": 4,
          "Diagnosis": false,
          "Fasting_Blood_Sugar": 0,
          "Max_Heart_Rate": 143,
          "Serum_Cholesterol": 204
         },
         {
          "Age": 58,
          "Chest_Pain_Type": 4,
          "Diagnosis": true,
          "Fasting_Blood_Sugar": 0,
          "Max_Heart_Rate": 131,
          "Serum_Cholesterol": 216
         },
         {
          "Age": 56,
          "Chest_Pain_Type": 2,
          "Diagnosis": false,
          "Fasting_Blood_Sugar": 0,
          "Max_Heart_Rate": 169,
          "Serum_Cholesterol": 240
         },
         {
          "Age": 58,
          "Chest_Pain_Type": 4,
          "Diagnosis": true,
          "Fasting_Blood_Sugar": 0,
          "Max_Heart_Rate": 156,
          "Serum_Cholesterol": 234
         },
         {
          "Age": 59,
          "Chest_Pain_Type": 3,
          "Diagnosis": true,
          "Fasting_Blood_Sugar": 1,
          "Max_Heart_Rate": 134,
          "Serum_Cholesterol": 218
         },
         {
          "Age": 57,
          "Chest_Pain_Type": 2,
          "Diagnosis": true,
          "Fasting_Blood_Sugar": 0,
          "Max_Heart_Rate": 174,
          "Serum_Cholesterol": 236
         },
         {
          "Age": 54,
          "Chest_Pain_Type": 3,
          "Diagnosis": false,
          "Fasting_Blood_Sugar": 0,
          "Max_Heart_Rate": 147,
          "Serum_Cholesterol": 258
         },
         {
          "Age": 43,
          "Chest_Pain_Type": 4,
          "Diagnosis": false,
          "Fasting_Blood_Sugar": 0,
          "Max_Heart_Rate": 181,
          "Serum_Cholesterol": 303
         },
         {
          "Age": 41,
          "Chest_Pain_Type": 2,
          "Diagnosis": false,
          "Fasting_Blood_Sugar": 0,
          "Max_Heart_Rate": 168,
          "Serum_Cholesterol": 198
         },
         {
          "Age": 60,
          "Chest_Pain_Type": 4,
          "Diagnosis": true,
          "Fasting_Blood_Sugar": 0,
          "Max_Heart_Rate": 157,
          "Serum_Cholesterol": 258
         },
         {
          "Age": 39,
          "Chest_Pain_Type": 3,
          "Diagnosis": false,
          "Fasting_Blood_Sugar": 0,
          "Max_Heart_Rate": 152,
          "Serum_Cholesterol": 220
         },
         {
          "Age": 57,
          "Chest_Pain_Type": 4,
          "Diagnosis": true,
          "Fasting_Blood_Sugar": 0,
          "Max_Heart_Rate": 115,
          "Serum_Cholesterol": 131
         },
         {
          "Age": 63,
          "Chest_Pain_Type": 4,
          "Diagnosis": true,
          "Fasting_Blood_Sugar": 0,
          "Max_Heart_Rate": 136,
          "Serum_Cholesterol": 197
         },
         {
          "Age": 49,
          "Chest_Pain_Type": 4,
          "Diagnosis": false,
          "Fasting_Blood_Sugar": 0,
          "Max_Heart_Rate": 163,
          "Serum_Cholesterol": 269
         },
         {
          "Age": 70,
          "Chest_Pain_Type": 2,
          "Diagnosis": false,
          "Fasting_Blood_Sugar": 0,
          "Max_Heart_Rate": 143,
          "Serum_Cholesterol": 245
         },
         {
          "Age": 44,
          "Chest_Pain_Type": 2,
          "Diagnosis": false,
          "Fasting_Blood_Sugar": 0,
          "Max_Heart_Rate": 173,
          "Serum_Cholesterol": 263
         },
         {
          "Age": 43,
          "Chest_Pain_Type": 4,
          "Diagnosis": true,
          "Fasting_Blood_Sugar": 1,
          "Max_Heart_Rate": 143,
          "Serum_Cholesterol": 247
         },
         {
          "Age": 57,
          "Chest_Pain_Type": 4,
          "Diagnosis": true,
          "Fasting_Blood_Sugar": 0,
          "Max_Heart_Rate": 123,
          "Serum_Cholesterol": 241
         },
         {
          "Age": 68,
          "Chest_Pain_Type": 3,
          "Diagnosis": false,
          "Fasting_Blood_Sugar": 0,
          "Max_Heart_Rate": 115,
          "Serum_Cholesterol": 211
         },
         {
          "Age": 66,
          "Chest_Pain_Type": 4,
          "Diagnosis": false,
          "Fasting_Blood_Sugar": 0,
          "Max_Heart_Rate": 138,
          "Serum_Cholesterol": 228
         },
         {
          "Age": 45,
          "Chest_Pain_Type": 2,
          "Diagnosis": false,
          "Fasting_Blood_Sugar": 0,
          "Max_Heart_Rate": 138,
          "Serum_Cholesterol": 160
         },
         {
          "Age": 67,
          "Chest_Pain_Type": 4,
          "Diagnosis": true,
          "Fasting_Blood_Sugar": 0,
          "Max_Heart_Rate": 125,
          "Serum_Cholesterol": 299
         },
         {
          "Age": 56,
          "Chest_Pain_Type": 1,
          "Diagnosis": false,
          "Fasting_Blood_Sugar": 0,
          "Max_Heart_Rate": 162,
          "Serum_Cholesterol": 193
         },
         {
          "Age": 43,
          "Chest_Pain_Type": 3,
          "Diagnosis": false,
          "Fasting_Blood_Sugar": 0,
          "Max_Heart_Rate": 165,
          "Serum_Cholesterol": 213
         },
         {
          "Age": 63,
          "Chest_Pain_Type": 4,
          "Diagnosis": true,
          "Fasting_Blood_Sugar": 0,
          "Max_Heart_Rate": 147,
          "Serum_Cholesterol": 254
         },
         {
          "Age": 51,
          "Chest_Pain_Type": 3,
          "Diagnosis": false,
          "Fasting_Blood_Sugar": 0,
          "Max_Heart_Rate": 142,
          "Serum_Cholesterol": 308
         },
         {
          "Age": 54,
          "Chest_Pain_Type": 3,
          "Diagnosis": false,
          "Fasting_Blood_Sugar": 0,
          "Max_Heart_Rate": 152,
          "Serum_Cholesterol": 273
         },
         {
          "Age": 56,
          "Chest_Pain_Type": 4,
          "Diagnosis": true,
          "Fasting_Blood_Sugar": 0,
          "Max_Heart_Rate": 150,
          "Serum_Cholesterol": 409
         },
         {
          "Age": 64,
          "Chest_Pain_Type": 4,
          "Diagnosis": false,
          "Fasting_Blood_Sugar": 0,
          "Max_Heart_Rate": 122,
          "Serum_Cholesterol": 303
         },
         {
          "Age": 65,
          "Chest_Pain_Type": 4,
          "Diagnosis": true,
          "Fasting_Blood_Sugar": 0,
          "Max_Heart_Rate": 127,
          "Serum_Cholesterol": 254
         },
         {
          "Age": 48,
          "Chest_Pain_Type": 3,
          "Diagnosis": false,
          "Fasting_Blood_Sugar": 1,
          "Max_Heart_Rate": 175,
          "Serum_Cholesterol": 255
         },
         {
          "Age": 58,
          "Chest_Pain_Type": 4,
          "Diagnosis": false,
          "Fasting_Blood_Sugar": 0,
          "Max_Heart_Rate": 131,
          "Serum_Cholesterol": 197
         },
         {
          "Age": 54,
          "Chest_Pain_Type": 3,
          "Diagnosis": false,
          "Fasting_Blood_Sugar": 1,
          "Max_Heart_Rate": 170,
          "Serum_Cholesterol": 304
         },
         {
          "Age": 61,
          "Chest_Pain_Type": 4,
          "Diagnosis": true,
          "Fasting_Blood_Sugar": 0,
          "Max_Heart_Rate": 140,
          "Serum_Cholesterol": 260
         },
         {
          "Age": 51,
          "Chest_Pain_Type": 4,
          "Diagnosis": true,
          "Fasting_Blood_Sugar": 0,
          "Max_Heart_Rate": 173,
          "Serum_Cholesterol": 299
         },
         {
          "Age": 59,
          "Chest_Pain_Type": 1,
          "Diagnosis": true,
          "Fasting_Blood_Sugar": 0,
          "Max_Heart_Rate": 159,
          "Serum_Cholesterol": 288
         },
         {
          "Age": 53,
          "Chest_Pain_Type": 4,
          "Diagnosis": false,
          "Fasting_Blood_Sugar": 0,
          "Max_Heart_Rate": 160,
          "Serum_Cholesterol": 234
         },
         {
          "Age": 63,
          "Chest_Pain_Type": 2,
          "Diagnosis": false,
          "Fasting_Blood_Sugar": 0,
          "Max_Heart_Rate": 179,
          "Serum_Cholesterol": 195
         },
         {
          "Age": 61,
          "Chest_Pain_Type": 1,
          "Diagnosis": true,
          "Fasting_Blood_Sugar": 0,
          "Max_Heart_Rate": 145,
          "Serum_Cholesterol": 234
         },
         {
          "Age": 61,
          "Chest_Pain_Type": 4,
          "Diagnosis": true,
          "Fasting_Blood_Sugar": 0,
          "Max_Heart_Rate": 169,
          "Serum_Cholesterol": 330
         },
         {
          "Age": 41,
          "Chest_Pain_Type": 2,
          "Diagnosis": false,
          "Fasting_Blood_Sugar": 0,
          "Max_Heart_Rate": 153,
          "Serum_Cholesterol": 235
         },
         {
          "Age": 50,
          "Chest_Pain_Type": 4,
          "Diagnosis": true,
          "Fasting_Blood_Sugar": 0,
          "Max_Heart_Rate": 126,
          "Serum_Cholesterol": 200
         },
         {
          "Age": 60,
          "Chest_Pain_Type": 4,
          "Diagnosis": true,
          "Fasting_Blood_Sugar": 0,
          "Max_Heart_Rate": 142,
          "Serum_Cholesterol": 282
         },
         {
          "Age": 51,
          "Chest_Pain_Type": 4,
          "Diagnosis": true,
          "Fasting_Blood_Sugar": 0,
          "Max_Heart_Rate": 142,
          "Serum_Cholesterol": 305
         },
         {
          "Age": 44,
          "Chest_Pain_Type": 3,
          "Diagnosis": false,
          "Fasting_Blood_Sugar": 0,
          "Max_Heart_Rate": 175,
          "Serum_Cholesterol": 141
         },
         {
          "Age": 66,
          "Chest_Pain_Type": 3,
          "Diagnosis": false,
          "Fasting_Blood_Sugar": 0,
          "Max_Heart_Rate": 152,
          "Serum_Cholesterol": 278
         },
         {
          "Age": 61,
          "Chest_Pain_Type": 4,
          "Diagnosis": true,
          "Fasting_Blood_Sugar": 0,
          "Max_Heart_Rate": 125,
          "Serum_Cholesterol": 166
         },
         {
          "Age": 55,
          "Chest_Pain_Type": 4,
          "Diagnosis": true,
          "Fasting_Blood_Sugar": 0,
          "Max_Heart_Rate": 130,
          "Serum_Cholesterol": 205
         },
         {
          "Age": 76,
          "Chest_Pain_Type": 3,
          "Diagnosis": false,
          "Fasting_Blood_Sugar": 0,
          "Max_Heart_Rate": 116,
          "Serum_Cholesterol": 197
         },
         {
          "Age": 58,
          "Chest_Pain_Type": 4,
          "Diagnosis": true,
          "Fasting_Blood_Sugar": 0,
          "Max_Heart_Rate": 171,
          "Serum_Cholesterol": 300
         },
         {
          "Age": 58,
          "Chest_Pain_Type": 4,
          "Diagnosis": false,
          "Fasting_Blood_Sugar": 0,
          "Max_Heart_Rate": 122,
          "Serum_Cholesterol": 248
         },
         {
          "Age": 63,
          "Chest_Pain_Type": 1,
          "Diagnosis": false,
          "Fasting_Blood_Sugar": 1,
          "Max_Heart_Rate": 150,
          "Serum_Cholesterol": 233
         },
         {
          "Age": 56,
          "Chest_Pain_Type": 4,
          "Diagnosis": true,
          "Fasting_Blood_Sugar": 1,
          "Max_Heart_Rate": 103,
          "Serum_Cholesterol": 283
         },
         {
          "Age": 58,
          "Chest_Pain_Type": 3,
          "Diagnosis": true,
          "Fasting_Blood_Sugar": 0,
          "Max_Heart_Rate": 165,
          "Serum_Cholesterol": 230
         },
         {
          "Age": 55,
          "Chest_Pain_Type": 4,
          "Diagnosis": true,
          "Fasting_Blood_Sugar": 0,
          "Max_Heart_Rate": 145,
          "Serum_Cholesterol": 289
         },
         {
          "Age": 65,
          "Chest_Pain_Type": 4,
          "Diagnosis": true,
          "Fasting_Blood_Sugar": 0,
          "Max_Heart_Rate": 114,
          "Serum_Cholesterol": 225
         },
         {
          "Age": 51,
          "Chest_Pain_Type": 1,
          "Diagnosis": false,
          "Fasting_Blood_Sugar": 0,
          "Max_Heart_Rate": 125,
          "Serum_Cholesterol": 213
         },
         {
          "Age": 57,
          "Chest_Pain_Type": 3,
          "Diagnosis": false,
          "Fasting_Blood_Sugar": 0,
          "Max_Heart_Rate": 174,
          "Serum_Cholesterol": 168
         },
         {
          "Age": 51,
          "Chest_Pain_Type": 3,
          "Diagnosis": false,
          "Fasting_Blood_Sugar": 0,
          "Max_Heart_Rate": 123,
          "Serum_Cholesterol": 175
         },
         {
          "Age": 54,
          "Chest_Pain_Type": 4,
          "Diagnosis": true,
          "Fasting_Blood_Sugar": 0,
          "Max_Heart_Rate": 116,
          "Serum_Cholesterol": 286
         },
         {
          "Age": 39,
          "Chest_Pain_Type": 4,
          "Diagnosis": true,
          "Fasting_Blood_Sugar": 0,
          "Max_Heart_Rate": 140,
          "Serum_Cholesterol": 219
         },
         {
          "Age": 49,
          "Chest_Pain_Type": 3,
          "Diagnosis": true,
          "Fasting_Blood_Sugar": 0,
          "Max_Heart_Rate": 139,
          "Serum_Cholesterol": 188
         },
         {
          "Age": 51,
          "Chest_Pain_Type": 4,
          "Diagnosis": false,
          "Fasting_Blood_Sugar": 0,
          "Max_Heart_Rate": 186,
          "Serum_Cholesterol": 261
         },
         {
          "Age": 48,
          "Chest_Pain_Type": 2,
          "Diagnosis": true,
          "Fasting_Blood_Sugar": 0,
          "Max_Heart_Rate": 168,
          "Serum_Cholesterol": 229
         },
         {
          "Age": 57,
          "Chest_Pain_Type": 2,
          "Diagnosis": true,
          "Fasting_Blood_Sugar": 0,
          "Max_Heart_Rate": 164,
          "Serum_Cholesterol": 232
         },
         {
          "Age": 62,
          "Chest_Pain_Type": 4,
          "Diagnosis": true,
          "Fasting_Blood_Sugar": 1,
          "Max_Heart_Rate": 106,
          "Serum_Cholesterol": 294
         },
         {
          "Age": 44,
          "Chest_Pain_Type": 3,
          "Diagnosis": false,
          "Fasting_Blood_Sugar": 0,
          "Max_Heart_Rate": 149,
          "Serum_Cholesterol": 242
         },
         {
          "Age": 58,
          "Chest_Pain_Type": 3,
          "Diagnosis": false,
          "Fasting_Blood_Sugar": 1,
          "Max_Heart_Rate": 165,
          "Serum_Cholesterol": 211
         },
         {
          "Age": 64,
          "Chest_Pain_Type": 1,
          "Diagnosis": false,
          "Fasting_Blood_Sugar": 0,
          "Max_Heart_Rate": 155,
          "Serum_Cholesterol": 227
         },
         {
          "Age": 44,
          "Chest_Pain_Type": 4,
          "Diagnosis": true,
          "Fasting_Blood_Sugar": 0,
          "Max_Heart_Rate": 177,
          "Serum_Cholesterol": 197
         },
         {
          "Age": 61,
          "Chest_Pain_Type": 4,
          "Diagnosis": true,
          "Fasting_Blood_Sugar": 0,
          "Max_Heart_Rate": 146,
          "Serum_Cholesterol": 307
         },
         {
          "Age": 69,
          "Chest_Pain_Type": 3,
          "Diagnosis": true,
          "Fasting_Blood_Sugar": 0,
          "Max_Heart_Rate": 146,
          "Serum_Cholesterol": 254
         },
         {
          "Age": 47,
          "Chest_Pain_Type": 3,
          "Diagnosis": true,
          "Fasting_Blood_Sugar": 0,
          "Max_Heart_Rate": 152,
          "Serum_Cholesterol": 243
         },
         {
          "Age": 55,
          "Chest_Pain_Type": 4,
          "Diagnosis": true,
          "Fasting_Blood_Sugar": 0,
          "Max_Heart_Rate": 132,
          "Serum_Cholesterol": 353
         },
         {
          "Age": 66,
          "Chest_Pain_Type": 1,
          "Diagnosis": false,
          "Fasting_Blood_Sugar": 0,
          "Max_Heart_Rate": 114,
          "Serum_Cholesterol": 226
         },
         {
          "Age": 42,
          "Chest_Pain_Type": 1,
          "Diagnosis": false,
          "Fasting_Blood_Sugar": 0,
          "Max_Heart_Rate": 178,
          "Serum_Cholesterol": 244
         },
         {
          "Age": 59,
          "Chest_Pain_Type": 2,
          "Diagnosis": false,
          "Fasting_Blood_Sugar": 0,
          "Max_Heart_Rate": 164,
          "Serum_Cholesterol": 221
         },
         {
          "Age": 50,
          "Chest_Pain_Type": 2,
          "Diagnosis": false,
          "Fasting_Blood_Sugar": 0,
          "Max_Heart_Rate": 162,
          "Serum_Cholesterol": 244
         },
         {
          "Age": 63,
          "Chest_Pain_Type": 4,
          "Diagnosis": true,
          "Fasting_Blood_Sugar": 0,
          "Max_Heart_Rate": 154,
          "Serum_Cholesterol": 407
         },
         {
          "Age": 38,
          "Chest_Pain_Type": 1,
          "Diagnosis": true,
          "Fasting_Blood_Sugar": 0,
          "Max_Heart_Rate": 182,
          "Serum_Cholesterol": 231
         },
         {
          "Age": 52,
          "Chest_Pain_Type": 3,
          "Diagnosis": false,
          "Fasting_Blood_Sugar": 1,
          "Max_Heart_Rate": 162,
          "Serum_Cholesterol": 199
         },
         {
          "Age": 53,
          "Chest_Pain_Type": 3,
          "Diagnosis": false,
          "Fasting_Blood_Sugar": 0,
          "Max_Heart_Rate": 115,
          "Serum_Cholesterol": 216
         },
         {
          "Age": 53,
          "Chest_Pain_Type": 4,
          "Diagnosis": true,
          "Fasting_Blood_Sugar": 1,
          "Max_Heart_Rate": 155,
          "Serum_Cholesterol": 203
         },
         {
          "Age": 62,
          "Chest_Pain_Type": 4,
          "Diagnosis": true,
          "Fasting_Blood_Sugar": 0,
          "Max_Heart_Rate": 160,
          "Serum_Cholesterol": 268
         },
         {
          "Age": 39,
          "Chest_Pain_Type": 3,
          "Diagnosis": false,
          "Fasting_Blood_Sugar": 0,
          "Max_Heart_Rate": 179,
          "Serum_Cholesterol": 199
         },
         {
          "Age": 67,
          "Chest_Pain_Type": 3,
          "Diagnosis": false,
          "Fasting_Blood_Sugar": 0,
          "Max_Heart_Rate": 172,
          "Serum_Cholesterol": 277
         },
         {
          "Age": 49,
          "Chest_Pain_Type": 3,
          "Diagnosis": true,
          "Fasting_Blood_Sugar": 0,
          "Max_Heart_Rate": 126,
          "Serum_Cholesterol": 149
         },
         {
          "Age": 54,
          "Chest_Pain_Type": 3,
          "Diagnosis": false,
          "Fasting_Blood_Sugar": 0,
          "Max_Heart_Rate": 163,
          "Serum_Cholesterol": 201
         },
         {
          "Age": 38,
          "Chest_Pain_Type": 3,
          "Diagnosis": false,
          "Fasting_Blood_Sugar": 0,
          "Max_Heart_Rate": 173,
          "Serum_Cholesterol": 175
         },
         {
          "Age": 71,
          "Chest_Pain_Type": 3,
          "Diagnosis": false,
          "Fasting_Blood_Sugar": 1,
          "Max_Heart_Rate": 130,
          "Serum_Cholesterol": 265
         },
         {
          "Age": 46,
          "Chest_Pain_Type": 4,
          "Diagnosis": false,
          "Fasting_Blood_Sugar": 0,
          "Max_Heart_Rate": 152,
          "Serum_Cholesterol": 243
         },
         {
          "Age": 60,
          "Chest_Pain_Type": 3,
          "Diagnosis": false,
          "Fasting_Blood_Sugar": 0,
          "Max_Heart_Rate": 160,
          "Serum_Cholesterol": 318
         },
         {
          "Age": 51,
          "Chest_Pain_Type": 3,
          "Diagnosis": false,
          "Fasting_Blood_Sugar": 1,
          "Max_Heart_Rate": 166,
          "Serum_Cholesterol": 245
         },
         {
          "Age": 54,
          "Chest_Pain_Type": 3,
          "Diagnosis": false,
          "Fasting_Blood_Sugar": 0,
          "Max_Heart_Rate": 165,
          "Serum_Cholesterol": 232
         },
         {
          "Age": 37,
          "Chest_Pain_Type": 3,
          "Diagnosis": false,
          "Fasting_Blood_Sugar": 0,
          "Max_Heart_Rate": 187,
          "Serum_Cholesterol": 250
         },
         {
          "Age": 47,
          "Chest_Pain_Type": 3,
          "Diagnosis": false,
          "Fasting_Blood_Sugar": 0,
          "Max_Heart_Rate": 156,
          "Serum_Cholesterol": 257
         },
         {
          "Age": 56,
          "Chest_Pain_Type": 4,
          "Diagnosis": true,
          "Fasting_Blood_Sugar": 0,
          "Max_Heart_Rate": 105,
          "Serum_Cholesterol": 184
         },
         {
          "Age": 59,
          "Chest_Pain_Type": 4,
          "Diagnosis": false,
          "Fasting_Blood_Sugar": 0,
          "Max_Heart_Rate": 182,
          "Serum_Cholesterol": 271
         },
         {
          "Age": 62,
          "Chest_Pain_Type": 2,
          "Diagnosis": false,
          "Fasting_Blood_Sugar": 1,
          "Max_Heart_Rate": 140,
          "Serum_Cholesterol": 208
         },
         {
          "Age": 65,
          "Chest_Pain_Type": 3,
          "Diagnosis": false,
          "Fasting_Blood_Sugar": 1,
          "Max_Heart_Rate": 157,
          "Serum_Cholesterol": 417
         },
         {
          "Age": 74,
          "Chest_Pain_Type": 2,
          "Diagnosis": false,
          "Fasting_Blood_Sugar": 0,
          "Max_Heart_Rate": 121,
          "Serum_Cholesterol": 269
         },
         {
          "Age": 35,
          "Chest_Pain_Type": 4,
          "Diagnosis": false,
          "Fasting_Blood_Sugar": 0,
          "Max_Heart_Rate": 182,
          "Serum_Cholesterol": 183
         },
         {
          "Age": 59,
          "Chest_Pain_Type": 4,
          "Diagnosis": true,
          "Fasting_Blood_Sugar": 0,
          "Max_Heart_Rate": 143,
          "Serum_Cholesterol": 249
         },
         {
          "Age": 65,
          "Chest_Pain_Type": 4,
          "Diagnosis": false,
          "Fasting_Blood_Sugar": 0,
          "Max_Heart_Rate": 140,
          "Serum_Cholesterol": 177
         },
         {
          "Age": 67,
          "Chest_Pain_Type": 4,
          "Diagnosis": true,
          "Fasting_Blood_Sugar": 0,
          "Max_Heart_Rate": 108,
          "Serum_Cholesterol": 286
         },
         {
          "Age": 62,
          "Chest_Pain_Type": 4,
          "Diagnosis": true,
          "Fasting_Blood_Sugar": 0,
          "Max_Heart_Rate": 154,
          "Serum_Cholesterol": 244
         },
         {
          "Age": 48,
          "Chest_Pain_Type": 3,
          "Diagnosis": false,
          "Fasting_Blood_Sugar": 0,
          "Max_Heart_Rate": 139,
          "Serum_Cholesterol": 275
         },
         {
          "Age": 56,
          "Chest_Pain_Type": 3,
          "Diagnosis": true,
          "Fasting_Blood_Sugar": 1,
          "Max_Heart_Rate": 142,
          "Serum_Cholesterol": 256
         },
         {
          "Age": 53,
          "Chest_Pain_Type": 3,
          "Diagnosis": false,
          "Fasting_Blood_Sugar": 1,
          "Max_Heart_Rate": 152,
          "Serum_Cholesterol": 197
         },
         {
          "Age": 50,
          "Chest_Pain_Type": 3,
          "Diagnosis": true,
          "Fasting_Blood_Sugar": 0,
          "Max_Heart_Rate": 163,
          "Serum_Cholesterol": 233
         },
         {
          "Age": 41,
          "Chest_Pain_Type": 3,
          "Diagnosis": false,
          "Fasting_Blood_Sugar": 0,
          "Max_Heart_Rate": 168,
          "Serum_Cholesterol": 214
         },
         {
          "Age": 43,
          "Chest_Pain_Type": 3,
          "Diagnosis": false,
          "Fasting_Blood_Sugar": 0,
          "Max_Heart_Rate": 162,
          "Serum_Cholesterol": 315
         },
         {
          "Age": 50,
          "Chest_Pain_Type": 3,
          "Diagnosis": false,
          "Fasting_Blood_Sugar": 0,
          "Max_Heart_Rate": 158,
          "Serum_Cholesterol": 219
         },
         {
          "Age": 59,
          "Chest_Pain_Type": 1,
          "Diagnosis": false,
          "Fasting_Blood_Sugar": 0,
          "Max_Heart_Rate": 145,
          "Serum_Cholesterol": 270
         },
         {
          "Age": 34,
          "Chest_Pain_Type": 1,
          "Diagnosis": false,
          "Fasting_Blood_Sugar": 0,
          "Max_Heart_Rate": 174,
          "Serum_Cholesterol": 182
         },
         {
          "Age": 42,
          "Chest_Pain_Type": 3,
          "Diagnosis": false,
          "Fasting_Blood_Sugar": 1,
          "Max_Heart_Rate": 194,
          "Serum_Cholesterol": 240
         },
         {
          "Age": 59,
          "Chest_Pain_Type": 3,
          "Diagnosis": false,
          "Fasting_Blood_Sugar": 1,
          "Max_Heart_Rate": 157,
          "Serum_Cholesterol": 212
         },
         {
          "Age": 62,
          "Chest_Pain_Type": 4,
          "Diagnosis": false,
          "Fasting_Blood_Sugar": 0,
          "Max_Heart_Rate": 163,
          "Serum_Cholesterol": 209
         },
         {
          "Age": 60,
          "Chest_Pain_Type": 3,
          "Diagnosis": false,
          "Fasting_Blood_Sugar": 1,
          "Max_Heart_Rate": 96,
          "Serum_Cholesterol": 178
         },
         {
          "Age": 42,
          "Chest_Pain_Type": 3,
          "Diagnosis": false,
          "Fasting_Blood_Sugar": 0,
          "Max_Heart_Rate": 173,
          "Serum_Cholesterol": 209
         },
         {
          "Age": 35,
          "Chest_Pain_Type": 2,
          "Diagnosis": false,
          "Fasting_Blood_Sugar": 0,
          "Max_Heart_Rate": 174,
          "Serum_Cholesterol": 192
         },
         {
          "Age": 64,
          "Chest_Pain_Type": 4,
          "Diagnosis": true,
          "Fasting_Blood_Sugar": 0,
          "Max_Heart_Rate": 96,
          "Serum_Cholesterol": 246
         },
         {
          "Age": 65,
          "Chest_Pain_Type": 3,
          "Diagnosis": false,
          "Fasting_Blood_Sugar": 0,
          "Max_Heart_Rate": 148,
          "Serum_Cholesterol": 269
         },
         {
          "Age": 59,
          "Chest_Pain_Type": 1,
          "Diagnosis": true,
          "Fasting_Blood_Sugar": 0,
          "Max_Heart_Rate": 162,
          "Serum_Cholesterol": 204
         },
         {
          "Age": 60,
          "Chest_Pain_Type": 4,
          "Diagnosis": true,
          "Fasting_Blood_Sugar": 0,
          "Max_Heart_Rate": 170,
          "Serum_Cholesterol": 293
         },
         {
          "Age": 58,
          "Chest_Pain_Type": 4,
          "Diagnosis": true,
          "Fasting_Blood_Sugar": 0,
          "Max_Heart_Rate": 140,
          "Serum_Cholesterol": 318
         },
         {
          "Age": 57,
          "Chest_Pain_Type": 4,
          "Diagnosis": true,
          "Fasting_Blood_Sugar": 1,
          "Max_Heart_Rate": 124,
          "Serum_Cholesterol": 289
         },
         {
          "Age": 45,
          "Chest_Pain_Type": 4,
          "Diagnosis": true,
          "Fasting_Blood_Sugar": 0,
          "Max_Heart_Rate": 147,
          "Serum_Cholesterol": 309
         },
         {
          "Age": 54,
          "Chest_Pain_Type": 4,
          "Diagnosis": true,
          "Fasting_Blood_Sugar": 0,
          "Max_Heart_Rate": 113,
          "Serum_Cholesterol": 188
         },
         {
          "Age": 45,
          "Chest_Pain_Type": 1,
          "Diagnosis": true,
          "Fasting_Blood_Sugar": 0,
          "Max_Heart_Rate": 132,
          "Serum_Cholesterol": 264
         },
         {
          "Age": 35,
          "Chest_Pain_Type": 4,
          "Diagnosis": true,
          "Fasting_Blood_Sugar": 0,
          "Max_Heart_Rate": 156,
          "Serum_Cholesterol": 282
         },
         {
          "Age": 60,
          "Chest_Pain_Type": 4,
          "Diagnosis": true,
          "Fasting_Blood_Sugar": 0,
          "Max_Heart_Rate": 141,
          "Serum_Cholesterol": 258
         },
         {
          "Age": 63,
          "Chest_Pain_Type": 4,
          "Diagnosis": true,
          "Fasting_Blood_Sugar": 1,
          "Max_Heart_Rate": 132,
          "Serum_Cholesterol": 330
         },
         {
          "Age": 66,
          "Chest_Pain_Type": 4,
          "Diagnosis": true,
          "Fasting_Blood_Sugar": 1,
          "Max_Heart_Rate": 165,
          "Serum_Cholesterol": 228
         },
         {
          "Age": 48,
          "Chest_Pain_Type": 4,
          "Diagnosis": true,
          "Fasting_Blood_Sugar": 0,
          "Max_Heart_Rate": 166,
          "Serum_Cholesterol": 274
         },
         {
          "Age": 48,
          "Chest_Pain_Type": 4,
          "Diagnosis": false,
          "Fasting_Blood_Sugar": 0,
          "Max_Heart_Rate": 186,
          "Serum_Cholesterol": 222
         },
         {
          "Age": 55,
          "Chest_Pain_Type": 2,
          "Diagnosis": false,
          "Fasting_Blood_Sugar": 0,
          "Max_Heart_Rate": 161,
          "Serum_Cholesterol": 250
         },
         {
          "Age": 52,
          "Chest_Pain_Type": 4,
          "Diagnosis": false,
          "Fasting_Blood_Sugar": 1,
          "Max_Heart_Rate": 147,
          "Serum_Cholesterol": 233
         },
         {
          "Age": 67,
          "Chest_Pain_Type": 3,
          "Diagnosis": true,
          "Fasting_Blood_Sugar": 0,
          "Max_Heart_Rate": 150,
          "Serum_Cholesterol": 212
         },
         {
          "Age": 52,
          "Chest_Pain_Type": 2,
          "Diagnosis": false,
          "Fasting_Blood_Sugar": 0,
          "Max_Heart_Rate": 172,
          "Serum_Cholesterol": 325
         },
         {
          "Age": 61,
          "Chest_Pain_Type": 3,
          "Diagnosis": false,
          "Fasting_Blood_Sugar": 1,
          "Max_Heart_Rate": 137,
          "Serum_Cholesterol": 243
         },
         {
          "Age": 67,
          "Chest_Pain_Type": 4,
          "Diagnosis": true,
          "Fasting_Blood_Sugar": 0,
          "Max_Heart_Rate": 129,
          "Serum_Cholesterol": 229
         },
         {
          "Age": 59,
          "Chest_Pain_Type": 4,
          "Diagnosis": true,
          "Fasting_Blood_Sugar": 0,
          "Max_Heart_Rate": 140,
          "Serum_Cholesterol": 326
         },
         {
          "Age": 55,
          "Chest_Pain_Type": 2,
          "Diagnosis": false,
          "Fasting_Blood_Sugar": 0,
          "Max_Heart_Rate": 155,
          "Serum_Cholesterol": 262
         },
         {
          "Age": 63,
          "Chest_Pain_Type": 4,
          "Diagnosis": true,
          "Fasting_Blood_Sugar": 0,
          "Max_Heart_Rate": 144,
          "Serum_Cholesterol": 187
         },
         {
          "Age": 51,
          "Chest_Pain_Type": 3,
          "Diagnosis": false,
          "Fasting_Blood_Sugar": 0,
          "Max_Heart_Rate": 157,
          "Serum_Cholesterol": 295
         },
         {
          "Age": 56,
          "Chest_Pain_Type": 4,
          "Diagnosis": true,
          "Fasting_Blood_Sugar": 1,
          "Max_Heart_Rate": 144,
          "Serum_Cholesterol": 249
         },
         {
          "Age": 63,
          "Chest_Pain_Type": 4,
          "Diagnosis": true,
          "Fasting_Blood_Sugar": 0,
          "Max_Heart_Rate": 169,
          "Serum_Cholesterol": 269
         },
         {
          "Age": 64,
          "Chest_Pain_Type": 3,
          "Diagnosis": true,
          "Fasting_Blood_Sugar": 0,
          "Max_Heart_Rate": 158,
          "Serum_Cholesterol": 335
         },
         {
          "Age": 65,
          "Chest_Pain_Type": 4,
          "Diagnosis": true,
          "Fasting_Blood_Sugar": 0,
          "Max_Heart_Rate": 158,
          "Serum_Cholesterol": 248
         },
         {
          "Age": 50,
          "Chest_Pain_Type": 4,
          "Diagnosis": true,
          "Fasting_Blood_Sugar": 0,
          "Max_Heart_Rate": 128,
          "Serum_Cholesterol": 243
         },
         {
          "Age": 56,
          "Chest_Pain_Type": 4,
          "Diagnosis": true,
          "Fasting_Blood_Sugar": 1,
          "Max_Heart_Rate": 133,
          "Serum_Cholesterol": 288
         },
         {
          "Age": 43,
          "Chest_Pain_Type": 4,
          "Diagnosis": true,
          "Fasting_Blood_Sugar": 1,
          "Max_Heart_Rate": 136,
          "Serum_Cholesterol": 341
         },
         {
          "Age": 59,
          "Chest_Pain_Type": 4,
          "Diagnosis": true,
          "Fasting_Blood_Sugar": 0,
          "Max_Heart_Rate": 142,
          "Serum_Cholesterol": 239
         },
         {
          "Age": 34,
          "Chest_Pain_Type": 2,
          "Diagnosis": false,
          "Fasting_Blood_Sugar": 0,
          "Max_Heart_Rate": 192,
          "Serum_Cholesterol": 210
         },
         {
          "Age": 52,
          "Chest_Pain_Type": 4,
          "Diagnosis": true,
          "Fasting_Blood_Sugar": 0,
          "Max_Heart_Rate": 160,
          "Serum_Cholesterol": 230
         },
         {
          "Age": 41,
          "Chest_Pain_Type": 4,
          "Diagnosis": true,
          "Fasting_Blood_Sugar": 0,
          "Max_Heart_Rate": 158,
          "Serum_Cholesterol": 172
         },
         {
          "Age": 55,
          "Chest_Pain_Type": 4,
          "Diagnosis": true,
          "Fasting_Blood_Sugar": 0,
          "Max_Heart_Rate": 111,
          "Serum_Cholesterol": 217
         },
         {
          "Age": 59,
          "Chest_Pain_Type": 4,
          "Diagnosis": true,
          "Fasting_Blood_Sugar": 0,
          "Max_Heart_Rate": 162,
          "Serum_Cholesterol": 177
         },
         {
          "Age": 68,
          "Chest_Pain_Type": 3,
          "Diagnosis": true,
          "Fasting_Blood_Sugar": 1,
          "Max_Heart_Rate": 150,
          "Serum_Cholesterol": 274
         },
         {
          "Age": 54,
          "Chest_Pain_Type": 4,
          "Diagnosis": false,
          "Fasting_Blood_Sugar": 0,
          "Max_Heart_Rate": 160,
          "Serum_Cholesterol": 239
         },
         {
          "Age": 52,
          "Chest_Pain_Type": 3,
          "Diagnosis": false,
          "Fasting_Blood_Sugar": 0,
          "Max_Heart_Rate": 169,
          "Serum_Cholesterol": 196
         },
         {
          "Age": 52,
          "Chest_Pain_Type": 2,
          "Diagnosis": false,
          "Fasting_Blood_Sugar": 0,
          "Max_Heart_Rate": 158,
          "Serum_Cholesterol": 201
         }
        ]
       },
       "encoding": {
        "fill": {
         "field": "Diagnosis",
         "scale": {
          "scheme": "set1"
         },
         "type": "nominal"
        },
        "x": {
         "field": "Chest_Pain_Type",
         "title": "Chest Pain Type",
         "type": "nominal"
        },
        "y": {
         "aggregate": "count",
         "axis": {
          "format": "%"
         },
         "field": "Chest_Pain_Type",
         "stack": "normalize",
         "title": "Proportion of Total Count",
         "type": "quantitative"
        }
       },
       "height": 300,
       "mark": "bar",
       "title": "Proportions of Diagnosis for Chest Pain Type",
       "width": 380
      },
      "image/png": "[encoded data removed]",
      "text/plain": [
       "<VegaLite 4 object>\n",
       "\n",
       "If you see this message, it means the renderer has not been properly enabled\n",
       "for the frontend that you are using. For more information, see\n",
       "https://altair-viz.github.io/user_guide/troubleshooting.html\n"
      ]
     },
     "execution_count": 10,
     "metadata": {},
     "output_type": "execute_result"
    }
   ],
   "source": [
    "diagnosis_dist_plot = (\n",
    "    alt.Chart(heart_train, title=\"Proportions of Diagnosis for Chest Pain Type\" )\n",
    "    .mark_bar()\n",
    "    .encode(\n",
    "        y=alt.Y(\n",
    "            \"count(Chest_Pain_Type):Q\",\n",
    "            stack=\"normalize\",\n",
    "            axis=alt.Axis(format=\"%\"),\n",
    "            title=\"Proportion of Total Count\",\n",
    "        ),\n",
    "        x=alt.X(\"Chest_Pain_Type:N\", title= \"Chest Pain Type\"),\n",
    "        fill=alt.Fill(\n",
    "            \"Diagnosis\", scale=alt.Scale(scheme=\"set1\")\n",
    "        ),  # N is to specify this is a categorical variable\n",
    "    )\n",
    "    .properties(width=380, height=300)\n",
    "    .configure_axis(labelFontSize=18, titleFontSize=18)\n",
    "    .configure_title(fontSize=20)\n",
    ")\n",
    "diagnosis_dist_plot"
   ]
  },
  {
   "cell_type": "markdown",
   "id": "94681e1d-38bf-42be-a410-c997d39ae7d5",
   "metadata": {},
   "source": [
    "## Data Analysis"
   ]
  },
  {
   "cell_type": "markdown",
   "id": "df3c6e47-42a0-4c8e-b37e-1b074c0cdb74",
   "metadata": {},
   "source": [
    "From the given dataset, we selected 5 variables as our predictors in order to prevent redundancy or irrelevance. Adding variables that have with weaker correlations leads to overfitting because it would lead to more noise within our model."
   ]
  },
  {
   "cell_type": "markdown",
   "id": "1a5c783c-4c13-402b-8826-7cebe618389c",
   "metadata": {},
   "source": [
    "The variables we have selected for our model are:\n",
    "- Age: measured in years\n",
    "- Chest pain type (cp): 1 = typical angina, 2 = atypical angina, 3 = non-angina pain, 4 = asymptomatic angina\n",
    "- Serum Cholesterol (chol): measured in mg/dl\n",
    "- Fasting blood sugar (fbs): measured in mg/dL \n",
    "- Maximum heart rate achieved (thalach): measured in beats per min (BPM)"
   ]
  },
  {
   "cell_type": "markdown",
   "id": "19790b59-48b8-4890-ba62-dd1a1e9d9524",
   "metadata": {},
   "source": [
    "### Splitting the dataset into training and testing data"
   ]
  },
  {
   "cell_type": "code",
   "execution_count": 11,
   "id": "ff2a3bb0-6954-407d-afa4-4fa21333af4c",
   "metadata": {},
   "outputs": [
    {
     "name": "stdout",
     "output_type": "stream",
     "text": [
      "     Age  Chest_Pain_Type  Fasting_Blood_Sugar  Serum_Cholesterol  \\\n",
      "187   66                2                  0.0              246.0   \n",
      "98    52                2                  0.0              201.0   \n",
      "197   45                4                  0.0              236.0   \n",
      "209   62                4                  0.0              244.0   \n",
      "291   55                2                  0.0              342.0   \n",
      "\n",
      "     Max_Heart_Rate  Diagnosis  \n",
      "187             120       True  \n",
      "98              158      False  \n",
      "197             152      False  \n",
      "209             154       True  \n",
      "291             166      False  \n",
      "     Age  Chest_Pain_Type  Fasting_Blood_Sugar  Serum_Cholesterol  \\\n",
      "263   44                3                  0.0              226.0   \n",
      "240   41                2                  0.0              235.0   \n",
      "252   64                4                  0.0              263.0   \n",
      "66    60                3                  0.0              185.0   \n",
      "9     53                4                  1.0              203.0   \n",
      "\n",
      "     Max_Heart_Rate  Diagnosis  \n",
      "263             169      False  \n",
      "240             153      False  \n",
      "252             105      False  \n",
      "66              155       True  \n",
      "9               155       True  \n"
     ]
    }
   ],
   "source": [
    "# We are using 75% of our data as training data and 25% as testing data\n",
    "\n",
    "# We will set the stratify argument to the categorical label variable to ensure that the training and testing subsets contain the right proportions of each category of observation.\n",
    "heart_train, heart_test = train_test_split(\n",
    "    heart_disease_final, train_size=0.75, stratify=heart_disease[\"Diagnosis\"], random_state=2304 \n",
    ")\n",
    "\n",
    "\n",
    "print(heart_train.head())\n",
    "print(heart_test.head())"
   ]
  },
  {
   "cell_type": "markdown",
   "id": "7a806dad-268e-452d-8d21-208de1c76010",
   "metadata": {},
   "source": [
    "## KNN Classification"
   ]
  },
  {
   "cell_type": "markdown",
   "id": "9800a3ea-58ad-45ae-ac8e-4ae68024f875",
   "metadata": {},
   "source": [
    "We first start by doing some preprocessing to standardize our variables. We pass the training data into the preprocessor to compute the preprocessing steps. This is to ensure that our test data does not influence our model in any way."
   ]
  },
  {
   "cell_type": "code",
   "execution_count": 12,
   "id": "b70b15ab-3565-4279-9bdc-dacb837b9dbf",
   "metadata": {},
   "outputs": [
    {
     "data": {
      "text/html": [
       "<style>#sk-container-id-1 {color: black;background-color: white;}#sk-container-id-1 pre{padding: 0;}#sk-container-id-1 div.sk-toggleable {background-color: white;}#sk-container-id-1 label.sk-toggleable__label {cursor: pointer;display: block;width: 100%;margin-bottom: 0;padding: 0.3em;box-sizing: border-box;text-align: center;}#sk-container-id-1 label.sk-toggleable__label-arrow:before {content: \"▸\";float: left;margin-right: 0.25em;color: #696969;}#sk-container-id-1 label.sk-toggleable__label-arrow:hover:before {color: black;}#sk-container-id-1 div.sk-estimator:hover label.sk-toggleable__label-arrow:before {color: black;}#sk-container-id-1 div.sk-toggleable__content {max-height: 0;max-width: 0;overflow: hidden;text-align: left;background-color: #f0f8ff;}#sk-container-id-1 div.sk-toggleable__content pre {margin: 0.2em;color: black;border-radius: 0.25em;background-color: #f0f8ff;}#sk-container-id-1 input.sk-toggleable__control:checked~div.sk-toggleable__content {max-height: 200px;max-width: 100%;overflow: auto;}#sk-container-id-1 input.sk-toggleable__control:checked~label.sk-toggleable__label-arrow:before {content: \"▾\";}#sk-container-id-1 div.sk-estimator input.sk-toggleable__control:checked~label.sk-toggleable__label {background-color: #d4ebff;}#sk-container-id-1 div.sk-label input.sk-toggleable__control:checked~label.sk-toggleable__label {background-color: #d4ebff;}#sk-container-id-1 input.sk-hidden--visually {border: 0;clip: rect(1px 1px 1px 1px);clip: rect(1px, 1px, 1px, 1px);height: 1px;margin: -1px;overflow: hidden;padding: 0;position: absolute;width: 1px;}#sk-container-id-1 div.sk-estimator {font-family: monospace;background-color: #f0f8ff;border: 1px dotted black;border-radius: 0.25em;box-sizing: border-box;margin-bottom: 0.5em;}#sk-container-id-1 div.sk-estimator:hover {background-color: #d4ebff;}#sk-container-id-1 div.sk-parallel-item::after {content: \"\";width: 100%;border-bottom: 1px solid gray;flex-grow: 1;}#sk-container-id-1 div.sk-label:hover label.sk-toggleable__label {background-color: #d4ebff;}#sk-container-id-1 div.sk-serial::before {content: \"\";position: absolute;border-left: 1px solid gray;box-sizing: border-box;top: 0;bottom: 0;left: 50%;z-index: 0;}#sk-container-id-1 div.sk-serial {display: flex;flex-direction: column;align-items: center;background-color: white;padding-right: 0.2em;padding-left: 0.2em;position: relative;}#sk-container-id-1 div.sk-item {position: relative;z-index: 1;}#sk-container-id-1 div.sk-parallel {display: flex;align-items: stretch;justify-content: center;background-color: white;position: relative;}#sk-container-id-1 div.sk-item::before, #sk-container-id-1 div.sk-parallel-item::before {content: \"\";position: absolute;border-left: 1px solid gray;box-sizing: border-box;top: 0;bottom: 0;left: 50%;z-index: -1;}#sk-container-id-1 div.sk-parallel-item {display: flex;flex-direction: column;z-index: 1;position: relative;background-color: white;}#sk-container-id-1 div.sk-parallel-item:first-child::after {align-self: flex-end;width: 50%;}#sk-container-id-1 div.sk-parallel-item:last-child::after {align-self: flex-start;width: 50%;}#sk-container-id-1 div.sk-parallel-item:only-child::after {width: 0;}#sk-container-id-1 div.sk-dashed-wrapped {border: 1px dashed gray;margin: 0 0.4em 0.5em 0.4em;box-sizing: border-box;padding-bottom: 0.4em;background-color: white;}#sk-container-id-1 div.sk-label label {font-family: monospace;font-weight: bold;display: inline-block;line-height: 1.2em;}#sk-container-id-1 div.sk-label-container {text-align: center;}#sk-container-id-1 div.sk-container {/* jupyter's `normalize.less` sets `[hidden] { display: none; }` but bootstrap.min.css set `[hidden] { display: none !important; }` so we also need the `!important` here to be able to override the default hidden behavior on the sphinx rendered scikit-learn.org. See: https://github.com/scikit-learn/scikit-learn/issues/21755 */display: inline-block !important;position: relative;}#sk-container-id-1 div.sk-text-repr-fallback {display: none;}</style><div id=\"sk-container-id-1\" class=\"sk-top-container\"><div class=\"sk-text-repr-fallback\"><pre>ColumnTransformer(transformers=[(&#x27;passthrough&#x27;, &#x27;passthrough&#x27;,\n",
       "                                 [&#x27;Chest_Pain_Type&#x27;, &#x27;Fasting_Blood_Sugar&#x27;]),\n",
       "                                (&#x27;standardscaler&#x27;, StandardScaler(),\n",
       "                                 [&#x27;Age&#x27;, &#x27;Serum_Cholesterol&#x27;,\n",
       "                                  &#x27;Max_Heart_Rate&#x27;])])</pre><b>In a Jupyter environment, please rerun this cell to show the HTML representation or trust the notebook. <br />On GitHub, the HTML representation is unable to render, please try loading this page with nbviewer.org.</b></div><div class=\"sk-container\" hidden><div class=\"sk-item sk-dashed-wrapped\"><div class=\"sk-label-container\"><div class=\"sk-label sk-toggleable\"><input class=\"sk-toggleable__control sk-hidden--visually\" id=\"sk-estimator-id-1\" type=\"checkbox\" ><label for=\"sk-estimator-id-1\" class=\"sk-toggleable__label sk-toggleable__label-arrow\">ColumnTransformer</label><div class=\"sk-toggleable__content\"><pre>ColumnTransformer(transformers=[(&#x27;passthrough&#x27;, &#x27;passthrough&#x27;,\n",
       "                                 [&#x27;Chest_Pain_Type&#x27;, &#x27;Fasting_Blood_Sugar&#x27;]),\n",
       "                                (&#x27;standardscaler&#x27;, StandardScaler(),\n",
       "                                 [&#x27;Age&#x27;, &#x27;Serum_Cholesterol&#x27;,\n",
       "                                  &#x27;Max_Heart_Rate&#x27;])])</pre></div></div></div><div class=\"sk-parallel\"><div class=\"sk-parallel-item\"><div class=\"sk-item\"><div class=\"sk-label-container\"><div class=\"sk-label sk-toggleable\"><input class=\"sk-toggleable__control sk-hidden--visually\" id=\"sk-estimator-id-2\" type=\"checkbox\" ><label for=\"sk-estimator-id-2\" class=\"sk-toggleable__label sk-toggleable__label-arrow\">passthrough</label><div class=\"sk-toggleable__content\"><pre>[&#x27;Chest_Pain_Type&#x27;, &#x27;Fasting_Blood_Sugar&#x27;]</pre></div></div></div><div class=\"sk-serial\"><div class=\"sk-item\"><div class=\"sk-estimator sk-toggleable\"><input class=\"sk-toggleable__control sk-hidden--visually\" id=\"sk-estimator-id-3\" type=\"checkbox\" ><label for=\"sk-estimator-id-3\" class=\"sk-toggleable__label sk-toggleable__label-arrow\">passthrough</label><div class=\"sk-toggleable__content\"><pre>passthrough</pre></div></div></div></div></div></div><div class=\"sk-parallel-item\"><div class=\"sk-item\"><div class=\"sk-label-container\"><div class=\"sk-label sk-toggleable\"><input class=\"sk-toggleable__control sk-hidden--visually\" id=\"sk-estimator-id-4\" type=\"checkbox\" ><label for=\"sk-estimator-id-4\" class=\"sk-toggleable__label sk-toggleable__label-arrow\">standardscaler</label><div class=\"sk-toggleable__content\"><pre>[&#x27;Age&#x27;, &#x27;Serum_Cholesterol&#x27;, &#x27;Max_Heart_Rate&#x27;]</pre></div></div></div><div class=\"sk-serial\"><div class=\"sk-item\"><div class=\"sk-estimator sk-toggleable\"><input class=\"sk-toggleable__control sk-hidden--visually\" id=\"sk-estimator-id-5\" type=\"checkbox\" ><label for=\"sk-estimator-id-5\" class=\"sk-toggleable__label sk-toggleable__label-arrow\">StandardScaler</label><div class=\"sk-toggleable__content\"><pre>StandardScaler()</pre></div></div></div></div></div></div></div></div></div></div>"
      ],
      "text/plain": [
       "ColumnTransformer(transformers=[('passthrough', 'passthrough',\n",
       "                                 ['Chest_Pain_Type', 'Fasting_Blood_Sugar']),\n",
       "                                ('standardscaler', StandardScaler(),\n",
       "                                 ['Age', 'Serum_Cholesterol',\n",
       "                                  'Max_Heart_Rate'])])"
      ]
     },
     "execution_count": 12,
     "metadata": {},
     "output_type": "execute_result"
    }
   ],
   "source": [
    "# We apply the standardization steps to the numeric predictor variables only\n",
    "heart_preprocessor = make_column_transformer(\n",
    "    (\n",
    "        \"passthrough\",\n",
    "        [\n",
    "            \"Chest_Pain_Type\",\n",
    "            \"Fasting_Blood_Sugar\",\n",
    "        ],\n",
    "    ),\n",
    "    (StandardScaler(), [\"Age\", \"Serum_Cholesterol\", \"Max_Heart_Rate\"]),\n",
    ")\n",
    "\n",
    "heart_preprocessor"
   ]
  },
  {
   "cell_type": "markdown",
   "id": "0c2c14a5-7c15-48d8-a294-c0c5b76963ce",
   "metadata": {},
   "source": [
    "### Cross-validation: Deciding which value of K to use"
   ]
  },
  {
   "cell_type": "markdown",
   "id": "ae8ebdcf-3644-47c1-973f-009f503cc3ee",
   "metadata": {},
   "source": [
    "First, we create a pipeline which has the number of neighbors left unspecified."
   ]
  },
  {
   "cell_type": "code",
   "execution_count": 13,
   "id": "e7d66d80-377c-4bb9-9f35-cabc6fbb6dfb",
   "metadata": {},
   "outputs": [],
   "source": [
    "knn = KNeighborsClassifier()\n",
    "\n",
    "heart_tune_pipe = make_pipeline(heart_preprocessor, knn)\n"
   ]
  },
  {
   "cell_type": "markdown",
   "id": "5c27cb40-dbdd-4fc1-919f-cefb5af4ae7b",
   "metadata": {},
   "source": [
    "We now construct the parameter_grid dictionary that will tell GridSearchCV what parameter values to try. "
   ]
  },
  {
   "cell_type": "code",
   "execution_count": 14,
   "id": "e3029bb5-8205-4aac-b6dc-d132b37b265c",
   "metadata": {},
   "outputs": [],
   "source": [
    "# We specify the range of K values here\n",
    "param_grid = {\n",
    "    \"kneighborsclassifier__n_neighbors\": range(2, 100, 1),\n",
    "}"
   ]
  },
  {
   "cell_type": "markdown",
   "id": "813e9058-83ca-4541-8968-e109e4b51ab2",
   "metadata": {},
   "source": [
    "Then, we create the GridSearchCV object where we specify the heart_tune_pipe as the estimator argument, param_grid as the param_grid argument and specify cv=10 for 10 fold cross validation. Finally, we use the fit method on the GridSearchCV object to begin the tuning process."
   ]
  },
  {
   "cell_type": "code",
   "execution_count": 15,
   "id": "4de66678-7f13-4d8d-821d-68d2192a1d51",
   "metadata": {},
   "outputs": [
    {
     "data": {
      "text/html": [
       "<div>\n",
       "<style scoped>\n",
       "    .dataframe tbody tr th:only-of-type {\n",
       "        vertical-align: middle;\n",
       "    }\n",
       "\n",
       "    .dataframe tbody tr th {\n",
       "        vertical-align: top;\n",
       "    }\n",
       "\n",
       "    .dataframe thead th {\n",
       "        text-align: right;\n",
       "    }\n",
       "</style>\n",
       "<table border=\"1\" class=\"dataframe\">\n",
       "  <thead>\n",
       "    <tr style=\"text-align: right;\">\n",
       "      <th></th>\n",
       "      <th>mean_fit_time</th>\n",
       "      <th>std_fit_time</th>\n",
       "      <th>mean_score_time</th>\n",
       "      <th>std_score_time</th>\n",
       "      <th>param_kneighborsclassifier__n_neighbors</th>\n",
       "      <th>params</th>\n",
       "      <th>split0_test_score</th>\n",
       "      <th>split1_test_score</th>\n",
       "      <th>split2_test_score</th>\n",
       "      <th>split3_test_score</th>\n",
       "      <th>split4_test_score</th>\n",
       "      <th>split5_test_score</th>\n",
       "      <th>split6_test_score</th>\n",
       "      <th>split7_test_score</th>\n",
       "      <th>split8_test_score</th>\n",
       "      <th>split9_test_score</th>\n",
       "      <th>mean_test_score</th>\n",
       "      <th>std_test_score</th>\n",
       "      <th>rank_test_score</th>\n",
       "    </tr>\n",
       "  </thead>\n",
       "  <tbody>\n",
       "    <tr>\n",
       "      <th>0</th>\n",
       "      <td>0.025630</td>\n",
       "      <td>0.001105</td>\n",
       "      <td>0.023143</td>\n",
       "      <td>0.007429</td>\n",
       "      <td>2</td>\n",
       "      <td>{'kneighborsclassifier__n_neighbors': 2}</td>\n",
       "      <td>0.565217</td>\n",
       "      <td>0.608696</td>\n",
       "      <td>0.608696</td>\n",
       "      <td>0.434783</td>\n",
       "      <td>0.739130</td>\n",
       "      <td>0.565217</td>\n",
       "      <td>0.739130</td>\n",
       "      <td>0.636364</td>\n",
       "      <td>0.772727</td>\n",
       "      <td>0.727273</td>\n",
       "      <td>0.639723</td>\n",
       "      <td>0.100079</td>\n",
       "      <td>98</td>\n",
       "    </tr>\n",
       "    <tr>\n",
       "      <th>1</th>\n",
       "      <td>0.023102</td>\n",
       "      <td>0.001942</td>\n",
       "      <td>0.018472</td>\n",
       "      <td>0.001294</td>\n",
       "      <td>3</td>\n",
       "      <td>{'kneighborsclassifier__n_neighbors': 3}</td>\n",
       "      <td>0.521739</td>\n",
       "      <td>0.739130</td>\n",
       "      <td>0.652174</td>\n",
       "      <td>0.434783</td>\n",
       "      <td>0.739130</td>\n",
       "      <td>0.652174</td>\n",
       "      <td>0.826087</td>\n",
       "      <td>0.727273</td>\n",
       "      <td>0.636364</td>\n",
       "      <td>0.636364</td>\n",
       "      <td>0.656522</td>\n",
       "      <td>0.107514</td>\n",
       "      <td>97</td>\n",
       "    </tr>\n",
       "    <tr>\n",
       "      <th>2</th>\n",
       "      <td>0.020520</td>\n",
       "      <td>0.001362</td>\n",
       "      <td>0.016690</td>\n",
       "      <td>0.000763</td>\n",
       "      <td>4</td>\n",
       "      <td>{'kneighborsclassifier__n_neighbors': 4}</td>\n",
       "      <td>0.652174</td>\n",
       "      <td>0.695652</td>\n",
       "      <td>0.608696</td>\n",
       "      <td>0.565217</td>\n",
       "      <td>0.739130</td>\n",
       "      <td>0.695652</td>\n",
       "      <td>0.782609</td>\n",
       "      <td>0.636364</td>\n",
       "      <td>0.636364</td>\n",
       "      <td>0.772727</td>\n",
       "      <td>0.678458</td>\n",
       "      <td>0.067773</td>\n",
       "      <td>96</td>\n",
       "    </tr>\n",
       "    <tr>\n",
       "      <th>3</th>\n",
       "      <td>0.016748</td>\n",
       "      <td>0.004477</td>\n",
       "      <td>0.013150</td>\n",
       "      <td>0.004407</td>\n",
       "      <td>5</td>\n",
       "      <td>{'kneighborsclassifier__n_neighbors': 5}</td>\n",
       "      <td>0.695652</td>\n",
       "      <td>0.869565</td>\n",
       "      <td>0.608696</td>\n",
       "      <td>0.521739</td>\n",
       "      <td>0.782609</td>\n",
       "      <td>0.608696</td>\n",
       "      <td>0.782609</td>\n",
       "      <td>0.772727</td>\n",
       "      <td>0.681818</td>\n",
       "      <td>0.636364</td>\n",
       "      <td>0.696047</td>\n",
       "      <td>0.100191</td>\n",
       "      <td>94</td>\n",
       "    </tr>\n",
       "    <tr>\n",
       "      <th>4</th>\n",
       "      <td>0.008000</td>\n",
       "      <td>0.000113</td>\n",
       "      <td>0.006632</td>\n",
       "      <td>0.000266</td>\n",
       "      <td>6</td>\n",
       "      <td>{'kneighborsclassifier__n_neighbors': 6}</td>\n",
       "      <td>0.695652</td>\n",
       "      <td>0.782609</td>\n",
       "      <td>0.695652</td>\n",
       "      <td>0.521739</td>\n",
       "      <td>0.739130</td>\n",
       "      <td>0.652174</td>\n",
       "      <td>0.739130</td>\n",
       "      <td>0.727273</td>\n",
       "      <td>0.636364</td>\n",
       "      <td>0.727273</td>\n",
       "      <td>0.691700</td>\n",
       "      <td>0.069883</td>\n",
       "      <td>95</td>\n",
       "    </tr>\n",
       "    <tr>\n",
       "      <th>...</th>\n",
       "      <td>...</td>\n",
       "      <td>...</td>\n",
       "      <td>...</td>\n",
       "      <td>...</td>\n",
       "      <td>...</td>\n",
       "      <td>...</td>\n",
       "      <td>...</td>\n",
       "      <td>...</td>\n",
       "      <td>...</td>\n",
       "      <td>...</td>\n",
       "      <td>...</td>\n",
       "      <td>...</td>\n",
       "      <td>...</td>\n",
       "      <td>...</td>\n",
       "      <td>...</td>\n",
       "      <td>...</td>\n",
       "      <td>...</td>\n",
       "      <td>...</td>\n",
       "      <td>...</td>\n",
       "    </tr>\n",
       "    <tr>\n",
       "      <th>93</th>\n",
       "      <td>0.008289</td>\n",
       "      <td>0.000328</td>\n",
       "      <td>0.007094</td>\n",
       "      <td>0.000313</td>\n",
       "      <td>95</td>\n",
       "      <td>{'kneighborsclassifier__n_neighbors': 95}</td>\n",
       "      <td>0.782609</td>\n",
       "      <td>0.826087</td>\n",
       "      <td>0.695652</td>\n",
       "      <td>0.478261</td>\n",
       "      <td>0.695652</td>\n",
       "      <td>0.695652</td>\n",
       "      <td>0.782609</td>\n",
       "      <td>0.772727</td>\n",
       "      <td>0.636364</td>\n",
       "      <td>0.772727</td>\n",
       "      <td>0.713834</td>\n",
       "      <td>0.095648</td>\n",
       "      <td>76</td>\n",
       "    </tr>\n",
       "    <tr>\n",
       "      <th>94</th>\n",
       "      <td>0.009781</td>\n",
       "      <td>0.000305</td>\n",
       "      <td>0.008451</td>\n",
       "      <td>0.000318</td>\n",
       "      <td>96</td>\n",
       "      <td>{'kneighborsclassifier__n_neighbors': 96}</td>\n",
       "      <td>0.782609</td>\n",
       "      <td>0.826087</td>\n",
       "      <td>0.695652</td>\n",
       "      <td>0.478261</td>\n",
       "      <td>0.782609</td>\n",
       "      <td>0.652174</td>\n",
       "      <td>0.782609</td>\n",
       "      <td>0.772727</td>\n",
       "      <td>0.636364</td>\n",
       "      <td>0.772727</td>\n",
       "      <td>0.718182</td>\n",
       "      <td>0.099583</td>\n",
       "      <td>64</td>\n",
       "    </tr>\n",
       "    <tr>\n",
       "      <th>95</th>\n",
       "      <td>0.009536</td>\n",
       "      <td>0.000152</td>\n",
       "      <td>0.008168</td>\n",
       "      <td>0.000097</td>\n",
       "      <td>97</td>\n",
       "      <td>{'kneighborsclassifier__n_neighbors': 97}</td>\n",
       "      <td>0.782609</td>\n",
       "      <td>0.826087</td>\n",
       "      <td>0.739130</td>\n",
       "      <td>0.478261</td>\n",
       "      <td>0.695652</td>\n",
       "      <td>0.652174</td>\n",
       "      <td>0.782609</td>\n",
       "      <td>0.772727</td>\n",
       "      <td>0.636364</td>\n",
       "      <td>0.772727</td>\n",
       "      <td>0.713834</td>\n",
       "      <td>0.097604</td>\n",
       "      <td>74</td>\n",
       "    </tr>\n",
       "    <tr>\n",
       "      <th>96</th>\n",
       "      <td>0.009377</td>\n",
       "      <td>0.000211</td>\n",
       "      <td>0.007990</td>\n",
       "      <td>0.000252</td>\n",
       "      <td>98</td>\n",
       "      <td>{'kneighborsclassifier__n_neighbors': 98}</td>\n",
       "      <td>0.782609</td>\n",
       "      <td>0.869565</td>\n",
       "      <td>0.739130</td>\n",
       "      <td>0.521739</td>\n",
       "      <td>0.739130</td>\n",
       "      <td>0.652174</td>\n",
       "      <td>0.826087</td>\n",
       "      <td>0.772727</td>\n",
       "      <td>0.681818</td>\n",
       "      <td>0.772727</td>\n",
       "      <td>0.735771</td>\n",
       "      <td>0.093121</td>\n",
       "      <td>9</td>\n",
       "    </tr>\n",
       "    <tr>\n",
       "      <th>97</th>\n",
       "      <td>0.009080</td>\n",
       "      <td>0.000479</td>\n",
       "      <td>0.007808</td>\n",
       "      <td>0.000440</td>\n",
       "      <td>99</td>\n",
       "      <td>{'kneighborsclassifier__n_neighbors': 99}</td>\n",
       "      <td>0.782609</td>\n",
       "      <td>0.826087</td>\n",
       "      <td>0.739130</td>\n",
       "      <td>0.478261</td>\n",
       "      <td>0.695652</td>\n",
       "      <td>0.695652</td>\n",
       "      <td>0.826087</td>\n",
       "      <td>0.772727</td>\n",
       "      <td>0.681818</td>\n",
       "      <td>0.772727</td>\n",
       "      <td>0.727075</td>\n",
       "      <td>0.096403</td>\n",
       "      <td>30</td>\n",
       "    </tr>\n",
       "  </tbody>\n",
       "</table>\n",
       "<p>98 rows × 19 columns</p>\n",
       "</div>"
      ],
      "text/plain": [
       "    mean_fit_time  std_fit_time  mean_score_time  std_score_time  \\\n",
       "0        0.025630      0.001105         0.023143        0.007429   \n",
       "1        0.023102      0.001942         0.018472        0.001294   \n",
       "2        0.020520      0.001362         0.016690        0.000763   \n",
       "3        0.016748      0.004477         0.013150        0.004407   \n",
       "4        0.008000      0.000113         0.006632        0.000266   \n",
       "..            ...           ...              ...             ...   \n",
       "93       0.008289      0.000328         0.007094        0.000313   \n",
       "94       0.009781      0.000305         0.008451        0.000318   \n",
       "95       0.009536      0.000152         0.008168        0.000097   \n",
       "96       0.009377      0.000211         0.007990        0.000252   \n",
       "97       0.009080      0.000479         0.007808        0.000440   \n",
       "\n",
       "   param_kneighborsclassifier__n_neighbors  \\\n",
       "0                                        2   \n",
       "1                                        3   \n",
       "2                                        4   \n",
       "3                                        5   \n",
       "4                                        6   \n",
       "..                                     ...   \n",
       "93                                      95   \n",
       "94                                      96   \n",
       "95                                      97   \n",
       "96                                      98   \n",
       "97                                      99   \n",
       "\n",
       "                                       params  split0_test_score  \\\n",
       "0    {'kneighborsclassifier__n_neighbors': 2}           0.565217   \n",
       "1    {'kneighborsclassifier__n_neighbors': 3}           0.521739   \n",
       "2    {'kneighborsclassifier__n_neighbors': 4}           0.652174   \n",
       "3    {'kneighborsclassifier__n_neighbors': 5}           0.695652   \n",
       "4    {'kneighborsclassifier__n_neighbors': 6}           0.695652   \n",
       "..                                        ...                ...   \n",
       "93  {'kneighborsclassifier__n_neighbors': 95}           0.782609   \n",
       "94  {'kneighborsclassifier__n_neighbors': 96}           0.782609   \n",
       "95  {'kneighborsclassifier__n_neighbors': 97}           0.782609   \n",
       "96  {'kneighborsclassifier__n_neighbors': 98}           0.782609   \n",
       "97  {'kneighborsclassifier__n_neighbors': 99}           0.782609   \n",
       "\n",
       "    split1_test_score  split2_test_score  split3_test_score  \\\n",
       "0            0.608696           0.608696           0.434783   \n",
       "1            0.739130           0.652174           0.434783   \n",
       "2            0.695652           0.608696           0.565217   \n",
       "3            0.869565           0.608696           0.521739   \n",
       "4            0.782609           0.695652           0.521739   \n",
       "..                ...                ...                ...   \n",
       "93           0.826087           0.695652           0.478261   \n",
       "94           0.826087           0.695652           0.478261   \n",
       "95           0.826087           0.739130           0.478261   \n",
       "96           0.869565           0.739130           0.521739   \n",
       "97           0.826087           0.739130           0.478261   \n",
       "\n",
       "    split4_test_score  split5_test_score  split6_test_score  \\\n",
       "0            0.739130           0.565217           0.739130   \n",
       "1            0.739130           0.652174           0.826087   \n",
       "2            0.739130           0.695652           0.782609   \n",
       "3            0.782609           0.608696           0.782609   \n",
       "4            0.739130           0.652174           0.739130   \n",
       "..                ...                ...                ...   \n",
       "93           0.695652           0.695652           0.782609   \n",
       "94           0.782609           0.652174           0.782609   \n",
       "95           0.695652           0.652174           0.782609   \n",
       "96           0.739130           0.652174           0.826087   \n",
       "97           0.695652           0.695652           0.826087   \n",
       "\n",
       "    split7_test_score  split8_test_score  split9_test_score  mean_test_score  \\\n",
       "0            0.636364           0.772727           0.727273         0.639723   \n",
       "1            0.727273           0.636364           0.636364         0.656522   \n",
       "2            0.636364           0.636364           0.772727         0.678458   \n",
       "3            0.772727           0.681818           0.636364         0.696047   \n",
       "4            0.727273           0.636364           0.727273         0.691700   \n",
       "..                ...                ...                ...              ...   \n",
       "93           0.772727           0.636364           0.772727         0.713834   \n",
       "94           0.772727           0.636364           0.772727         0.718182   \n",
       "95           0.772727           0.636364           0.772727         0.713834   \n",
       "96           0.772727           0.681818           0.772727         0.735771   \n",
       "97           0.772727           0.681818           0.772727         0.727075   \n",
       "\n",
       "    std_test_score  rank_test_score  \n",
       "0         0.100079               98  \n",
       "1         0.107514               97  \n",
       "2         0.067773               96  \n",
       "3         0.100191               94  \n",
       "4         0.069883               95  \n",
       "..             ...              ...  \n",
       "93        0.095648               76  \n",
       "94        0.099583               64  \n",
       "95        0.097604               74  \n",
       "96        0.093121                9  \n",
       "97        0.096403               30  \n",
       "\n",
       "[98 rows x 19 columns]"
      ]
     },
     "execution_count": 15,
     "metadata": {},
     "output_type": "execute_result"
    }
   ],
   "source": [
    "heart_tune_grid = GridSearchCV(\n",
    "    estimator=heart_tune_pipe,\n",
    "    param_grid=param_grid,\n",
    "    cv=10\n",
    ")\n",
    "\n",
    "# We pass the training data predictors and labels as the two arguments to fit \n",
    "# We will wrap it in a pd.DataFrame to make it easier to understand, and print the info of the result.\n",
    "\n",
    "\n",
    "X_tune = heart_train.drop(columns=[\"Diagnosis\"])\n",
    "y_tune = heart_train[\"Diagnosis\"]\n",
    "# heart_train\n",
    "knn_model_grid = heart_tune_grid.fit(X_tune, y_tune)\n",
    "# X_tune\n",
    "\n",
    "accuracies_grid = pd.DataFrame(knn_model_grid.cv_results_)\n",
    "\n",
    "accuracies_grid"
   ]
  },
  {
   "cell_type": "markdown",
   "id": "8a25fae3-e359-48e9-9e38-570de60d801b",
   "metadata": {},
   "source": [
    "Next, we create a line plot that will help us decide which value of k to choose."
   ]
  },
  {
   "cell_type": "code",
   "execution_count": 16,
   "id": "58d50b32-183f-47c2-844e-c56ff884f20d",
   "metadata": {},
   "outputs": [
    {
     "name": "stderr",
     "output_type": "stream",
     "text": [
      "/opt/conda/lib/python3.10/site-packages/altair/utils/core.py:317: FutureWarning: iteritems is deprecated and will be removed in a future version. Use .items instead.\n",
      "  for col_name, dtype in df.dtypes.iteritems():\n"
     ]
    },
    {
     "data": {
      "application/vnd.vegalite.v4+json": {
       "$schema": "https://vega.github.io/schema/vega-lite/v4.17.0.json",
       "config": {
        "axis": {
         "labelFontSize": 10,
         "titleFontSize": 15
        },
        "view": {
         "continuousHeight": 300,
         "continuousWidth": 400
        }
       },
       "data": {
        "name": "data-9dd0b4a1745654eeb6047fd218c45ba8"
       },
       "datasets": {
        "data-9dd0b4a1745654eeb6047fd218c45ba8": [
         {
          "mean_fit_time": 0.0256303071975708,
          "mean_score_time": 0.0231428861618042,
          "mean_test_score": 0.6397233201581027,
          "param_kneighborsclassifier__n_neighbors": 2,
          "params": {
           "kneighborsclassifier__n_neighbors": 2
          },
          "rank_test_score": 98,
          "split0_test_score": 0.5652173913043478,
          "split1_test_score": 0.6086956521739131,
          "split2_test_score": 0.6086956521739131,
          "split3_test_score": 0.43478260869565216,
          "split4_test_score": 0.7391304347826086,
          "split5_test_score": 0.5652173913043478,
          "split6_test_score": 0.7391304347826086,
          "split7_test_score": 0.6363636363636364,
          "split8_test_score": 0.7727272727272727,
          "split9_test_score": 0.7272727272727273,
          "std_fit_time": 0.0011047916362387732,
          "std_score_time": 0.007428941155997856,
          "std_test_score": 0.10007905918863028
         },
         {
          "mean_fit_time": 0.02310197353363037,
          "mean_score_time": 0.018471837043762207,
          "mean_test_score": 0.6565217391304348,
          "param_kneighborsclassifier__n_neighbors": 3,
          "params": {
           "kneighborsclassifier__n_neighbors": 3
          },
          "rank_test_score": 97,
          "split0_test_score": 0.5217391304347826,
          "split1_test_score": 0.7391304347826086,
          "split2_test_score": 0.6521739130434783,
          "split3_test_score": 0.43478260869565216,
          "split4_test_score": 0.7391304347826086,
          "split5_test_score": 0.6521739130434783,
          "split6_test_score": 0.8260869565217391,
          "split7_test_score": 0.7272727272727273,
          "split8_test_score": 0.6363636363636364,
          "split9_test_score": 0.6363636363636364,
          "std_fit_time": 0.0019420060923753934,
          "std_score_time": 0.0012935618804854464,
          "std_test_score": 0.10751351423762288
         },
         {
          "mean_fit_time": 0.02051992416381836,
          "mean_score_time": 0.016690158843994142,
          "mean_test_score": 0.6784584980237154,
          "param_kneighborsclassifier__n_neighbors": 4,
          "params": {
           "kneighborsclassifier__n_neighbors": 4
          },
          "rank_test_score": 96,
          "split0_test_score": 0.6521739130434783,
          "split1_test_score": 0.6956521739130435,
          "split2_test_score": 0.6086956521739131,
          "split3_test_score": 0.5652173913043478,
          "split4_test_score": 0.7391304347826086,
          "split5_test_score": 0.6956521739130435,
          "split6_test_score": 0.782608695652174,
          "split7_test_score": 0.6363636363636364,
          "split8_test_score": 0.6363636363636364,
          "split9_test_score": 0.7727272727272727,
          "std_fit_time": 0.0013622907424920378,
          "std_score_time": 0.0007626769254927787,
          "std_test_score": 0.06777273162374589
         },
         {
          "mean_fit_time": 0.016747665405273438,
          "mean_score_time": 0.01315014362335205,
          "mean_test_score": 0.6960474308300395,
          "param_kneighborsclassifier__n_neighbors": 5,
          "params": {
           "kneighborsclassifier__n_neighbors": 5
          },
          "rank_test_score": 94,
          "split0_test_score": 0.6956521739130435,
          "split1_test_score": 0.8695652173913043,
          "split2_test_score": 0.6086956521739131,
          "split3_test_score": 0.5217391304347826,
          "split4_test_score": 0.782608695652174,
          "split5_test_score": 0.6086956521739131,
          "split6_test_score": 0.782608695652174,
          "split7_test_score": 0.7727272727272727,
          "split8_test_score": 0.6818181818181818,
          "split9_test_score": 0.6363636363636364,
          "std_fit_time": 0.004477124191722566,
          "std_score_time": 0.004407400050858996,
          "std_test_score": 0.10019119655666428
         },
         {
          "mean_fit_time": 0.007999563217163086,
          "mean_score_time": 0.006632232666015625,
          "mean_test_score": 0.6916996047430831,
          "param_kneighborsclassifier__n_neighbors": 6,
          "params": {
           "kneighborsclassifier__n_neighbors": 6
          },
          "rank_test_score": 95,
          "split0_test_score": 0.6956521739130435,
          "split1_test_score": 0.782608695652174,
          "split2_test_score": 0.6956521739130435,
          "split3_test_score": 0.5217391304347826,
          "split4_test_score": 0.7391304347826086,
          "split5_test_score": 0.6521739130434783,
          "split6_test_score": 0.7391304347826086,
          "split7_test_score": 0.7272727272727273,
          "split8_test_score": 0.6363636363636364,
          "split9_test_score": 0.7272727272727273,
          "std_fit_time": 0.00011251049290061409,
          "std_score_time": 0.0002658207465195051,
          "std_test_score": 0.06988339023932989
         },
         {
          "mean_fit_time": 0.007939839363098144,
          "mean_score_time": 0.006530261039733887,
          "mean_test_score": 0.7136363636363637,
          "param_kneighborsclassifier__n_neighbors": 7,
          "params": {
           "kneighborsclassifier__n_neighbors": 7
          },
          "rank_test_score": 83,
          "split0_test_score": 0.7391304347826086,
          "split1_test_score": 0.9130434782608695,
          "split2_test_score": 0.6521739130434783,
          "split3_test_score": 0.5652173913043478,
          "split4_test_score": 0.782608695652174,
          "split5_test_score": 0.6521739130434783,
          "split6_test_score": 0.6956521739130435,
          "split7_test_score": 0.7727272727272727,
          "split8_test_score": 0.6363636363636364,
          "split9_test_score": 0.7272727272727273,
          "std_fit_time": 0.00010373260305986195,
          "std_score_time": 7.83653580816816e-05,
          "std_test_score": 0.09204671424587633
         },
         {
          "mean_fit_time": 0.008114027976989745,
          "mean_score_time": 0.0067328929901123045,
          "mean_test_score": 0.7090909090909092,
          "param_kneighborsclassifier__n_neighbors": 8,
          "params": {
           "kneighborsclassifier__n_neighbors": 8
          },
          "rank_test_score": 91,
          "split0_test_score": 0.6956521739130435,
          "split1_test_score": 0.8695652173913043,
          "split2_test_score": 0.6956521739130435,
          "split3_test_score": 0.5217391304347826,
          "split4_test_score": 0.782608695652174,
          "split5_test_score": 0.6521739130434783,
          "split6_test_score": 0.782608695652174,
          "split7_test_score": 0.7272727272727273,
          "split8_test_score": 0.6363636363636364,
          "split9_test_score": 0.7272727272727273,
          "std_fit_time": 0.0002640401761374281,
          "std_score_time": 0.00025268133276267987,
          "std_test_score": 0.09011857707509882
         },
         {
          "mean_fit_time": 0.00903623104095459,
          "mean_score_time": 0.007463979721069336,
          "mean_test_score": 0.7179841897233202,
          "param_kneighborsclassifier__n_neighbors": 9,
          "params": {
           "kneighborsclassifier__n_neighbors": 9
          },
          "rank_test_score": 69,
          "split0_test_score": 0.782608695652174,
          "split1_test_score": 0.8260869565217391,
          "split2_test_score": 0.6956521739130435,
          "split3_test_score": 0.5652173913043478,
          "split4_test_score": 0.7391304347826086,
          "split5_test_score": 0.6521739130434783,
          "split6_test_score": 0.782608695652174,
          "split7_test_score": 0.7272727272727273,
          "split8_test_score": 0.6363636363636364,
          "split9_test_score": 0.7727272727272727,
          "std_fit_time": 3.933907277656258e-05,
          "std_score_time": 7.877919901526205e-05,
          "std_test_score": 0.07641886438963474
         },
         {
          "mean_fit_time": 0.009032583236694336,
          "mean_score_time": 0.0074484825134277345,
          "mean_test_score": 0.7266798418972333,
          "param_kneighborsclassifier__n_neighbors": 10,
          "params": {
           "kneighborsclassifier__n_neighbors": 10
          },
          "rank_test_score": 41,
          "split0_test_score": 0.8260869565217391,
          "split1_test_score": 0.8695652173913043,
          "split2_test_score": 0.6956521739130435,
          "split3_test_score": 0.5217391304347826,
          "split4_test_score": 0.782608695652174,
          "split5_test_score": 0.6521739130434783,
          "split6_test_score": 0.782608695652174,
          "split7_test_score": 0.7727272727272727,
          "split8_test_score": 0.6363636363636364,
          "split9_test_score": 0.7272727272727273,
          "std_fit_time": 3.067034245672764e-05,
          "std_score_time": 6.382370510971125e-05,
          "std_test_score": 0.09764545946610649
         },
         {
          "mean_fit_time": 0.008886027336120605,
          "mean_score_time": 0.00733635425567627,
          "mean_test_score": 0.7136363636363637,
          "param_kneighborsclassifier__n_neighbors": 11,
          "params": {
           "kneighborsclassifier__n_neighbors": 11
          },
          "rank_test_score": 83,
          "split0_test_score": 0.782608695652174,
          "split1_test_score": 0.8695652173913043,
          "split2_test_score": 0.6521739130434783,
          "split3_test_score": 0.5217391304347826,
          "split4_test_score": 0.782608695652174,
          "split5_test_score": 0.6521739130434783,
          "split6_test_score": 0.7391304347826086,
          "split7_test_score": 0.7727272727272727,
          "split8_test_score": 0.6363636363636364,
          "split9_test_score": 0.7272727272727273,
          "std_fit_time": 0.0003246958204885568,
          "std_score_time": 0.0003568265433045073,
          "std_test_score": 0.09407799656195069
         },
         {
          "mean_fit_time": 0.008131957054138184,
          "mean_score_time": 0.006693601608276367,
          "mean_test_score": 0.7268774703557312,
          "param_kneighborsclassifier__n_neighbors": 12,
          "params": {
           "kneighborsclassifier__n_neighbors": 12
          },
          "rank_test_score": 38,
          "split0_test_score": 0.782608695652174,
          "split1_test_score": 0.9130434782608695,
          "split2_test_score": 0.6521739130434783,
          "split3_test_score": 0.4782608695652174,
          "split4_test_score": 0.782608695652174,
          "split5_test_score": 0.6521739130434783,
          "split6_test_score": 0.8260869565217391,
          "split7_test_score": 0.7727272727272727,
          "split8_test_score": 0.6818181818181818,
          "split9_test_score": 0.7272727272727273,
          "std_fit_time": 0.00015790451694319525,
          "std_score_time": 0.00016677784352439032,
          "std_test_score": 0.11305591573139145
         },
         {
          "mean_fit_time": 0.008573007583618165,
          "mean_score_time": 0.007100248336791992,
          "mean_test_score": 0.7268774703557311,
          "param_kneighborsclassifier__n_neighbors": 13,
          "params": {
           "kneighborsclassifier__n_neighbors": 13
          },
          "rank_test_score": 39,
          "split0_test_score": 0.782608695652174,
          "split1_test_score": 0.9130434782608695,
          "split2_test_score": 0.6521739130434783,
          "split3_test_score": 0.5217391304347826,
          "split4_test_score": 0.7391304347826086,
          "split5_test_score": 0.6521739130434783,
          "split6_test_score": 0.8260869565217391,
          "split7_test_score": 0.7727272727272727,
          "split8_test_score": 0.6363636363636364,
          "split9_test_score": 0.7727272727272727,
          "std_fit_time": 0.0007086193390200112,
          "std_score_time": 0.0004924611697261209,
          "std_test_score": 0.10648781789934876
         },
         {
          "mean_fit_time": 0.012737059593200683,
          "mean_score_time": 0.011329841613769532,
          "mean_test_score": 0.7181818181818181,
          "param_kneighborsclassifier__n_neighbors": 14,
          "params": {
           "kneighborsclassifier__n_neighbors": 14
          },
          "rank_test_score": 65,
          "split0_test_score": 0.782608695652174,
          "split1_test_score": 0.9130434782608695,
          "split2_test_score": 0.6521739130434783,
          "split3_test_score": 0.4782608695652174,
          "split4_test_score": 0.7391304347826086,
          "split5_test_score": 0.6521739130434783,
          "split6_test_score": 0.782608695652174,
          "split7_test_score": 0.7272727272727273,
          "split8_test_score": 0.6818181818181818,
          "split9_test_score": 0.7727272727272727,
          "std_fit_time": 0.006204186214559073,
          "std_score_time": 0.005337915086230539,
          "std_test_score": 0.10833645284171947
         },
         {
          "mean_fit_time": 0.026106953620910645,
          "mean_score_time": 0.022002816200256348,
          "mean_test_score": 0.7138339920948616,
          "param_kneighborsclassifier__n_neighbors": 15,
          "params": {
           "kneighborsclassifier__n_neighbors": 15
          },
          "rank_test_score": 76,
          "split0_test_score": 0.7391304347826086,
          "split1_test_score": 0.9565217391304348,
          "split2_test_score": 0.6521739130434783,
          "split3_test_score": 0.5217391304347826,
          "split4_test_score": 0.6956521739130435,
          "split5_test_score": 0.6521739130434783,
          "split6_test_score": 0.7391304347826086,
          "split7_test_score": 0.7272727272727273,
          "split8_test_score": 0.6818181818181818,
          "split9_test_score": 0.7727272727272727,
          "std_fit_time": 0.0016442810554283317,
          "std_score_time": 0.0015779615069499426,
          "std_test_score": 0.10473115003992828
         },
         {
          "mean_fit_time": 0.03269913196563721,
          "mean_score_time": 0.019623708724975587,
          "mean_test_score": 0.7138339920948616,
          "param_kneighborsclassifier__n_neighbors": 16,
          "params": {
           "kneighborsclassifier__n_neighbors": 16
          },
          "rank_test_score": 76,
          "split0_test_score": 0.7391304347826086,
          "split1_test_score": 0.9565217391304348,
          "split2_test_score": 0.6521739130434783,
          "split3_test_score": 0.5217391304347826,
          "split4_test_score": 0.6521739130434783,
          "split5_test_score": 0.6521739130434783,
          "split6_test_score": 0.782608695652174,
          "split7_test_score": 0.7272727272727273,
          "split8_test_score": 0.6818181818181818,
          "split9_test_score": 0.7727272727272727,
          "std_fit_time": 0.01506336580461223,
          "std_score_time": 0.0022369932091996897,
          "std_test_score": 0.10828091916853474
         },
         {
          "mean_fit_time": 0.022945070266723634,
          "mean_score_time": 0.03250572681427002,
          "mean_test_score": 0.7138339920948616,
          "param_kneighborsclassifier__n_neighbors": 17,
          "params": {
           "kneighborsclassifier__n_neighbors": 17
          },
          "rank_test_score": 76,
          "split0_test_score": 0.7391304347826086,
          "split1_test_score": 0.8695652173913043,
          "split2_test_score": 0.6521739130434783,
          "split3_test_score": 0.5217391304347826,
          "split4_test_score": 0.6956521739130435,
          "split5_test_score": 0.6521739130434783,
          "split6_test_score": 0.8260869565217391,
          "split7_test_score": 0.7272727272727273,
          "split8_test_score": 0.6818181818181818,
          "split9_test_score": 0.7727272727272727,
          "std_fit_time": 0.003318002710648373,
          "std_score_time": 0.018764325424097346,
          "std_test_score": 0.09327477036581547
         },
         {
          "mean_fit_time": 0.04570159912109375,
          "mean_score_time": 0.027374863624572754,
          "mean_test_score": 0.7225296442687748,
          "param_kneighborsclassifier__n_neighbors": 18,
          "params": {
           "kneighborsclassifier__n_neighbors": 18
          },
          "rank_test_score": 53,
          "split0_test_score": 0.782608695652174,
          "split1_test_score": 0.9130434782608695,
          "split2_test_score": 0.6521739130434783,
          "split3_test_score": 0.5652173913043478,
          "split4_test_score": 0.6956521739130435,
          "split5_test_score": 0.6521739130434783,
          "split6_test_score": 0.782608695652174,
          "split7_test_score": 0.7272727272727273,
          "split8_test_score": 0.6818181818181818,
          "split9_test_score": 0.7727272727272727,
          "std_fit_time": 0.02700819019641391,
          "std_score_time": 0.020566250298415988,
          "std_test_score": 0.09115022153823374
         },
         {
          "mean_fit_time": 0.02401742935180664,
          "mean_score_time": 0.019089126586914064,
          "mean_test_score": 0.7183794466403162,
          "param_kneighborsclassifier__n_neighbors": 19,
          "params": {
           "kneighborsclassifier__n_neighbors": 19
          },
          "rank_test_score": 57,
          "split0_test_score": 0.782608695652174,
          "split1_test_score": 0.8695652173913043,
          "split2_test_score": 0.6521739130434783,
          "split3_test_score": 0.5217391304347826,
          "split4_test_score": 0.6956521739130435,
          "split5_test_score": 0.6086956521739131,
          "split6_test_score": 0.8260869565217391,
          "split7_test_score": 0.7727272727272727,
          "split8_test_score": 0.6818181818181818,
          "split9_test_score": 0.7727272727272727,
          "std_fit_time": 0.0016113685184937308,
          "std_score_time": 0.003943475611852986,
          "std_test_score": 0.10071007407783346
         },
         {
          "mean_fit_time": 0.008388471603393555,
          "mean_score_time": 0.006990599632263184,
          "mean_test_score": 0.7138339920948616,
          "param_kneighborsclassifier__n_neighbors": 20,
          "params": {
           "kneighborsclassifier__n_neighbors": 20
          },
          "rank_test_score": 76,
          "split0_test_score": 0.7391304347826086,
          "split1_test_score": 0.8695652173913043,
          "split2_test_score": 0.6521739130434783,
          "split3_test_score": 0.4782608695652174,
          "split4_test_score": 0.7391304347826086,
          "split5_test_score": 0.6521739130434783,
          "split6_test_score": 0.8260869565217391,
          "split7_test_score": 0.7272727272727273,
          "split8_test_score": 0.6818181818181818,
          "split9_test_score": 0.7727272727272727,
          "std_fit_time": 0.0003493065028843278,
          "std_score_time": 0.00030869419060031703,
          "std_test_score": 0.10291035883251778
         },
         {
          "mean_fit_time": 0.00810089111328125,
          "mean_score_time": 0.006784462928771972,
          "mean_test_score": 0.7227272727272727,
          "param_kneighborsclassifier__n_neighbors": 21,
          "params": {
           "kneighborsclassifier__n_neighbors": 21
          },
          "rank_test_score": 49,
          "split0_test_score": 0.7391304347826086,
          "split1_test_score": 0.8695652173913043,
          "split2_test_score": 0.6521739130434783,
          "split3_test_score": 0.5217391304347826,
          "split4_test_score": 0.7391304347826086,
          "split5_test_score": 0.6521739130434783,
          "split6_test_score": 0.8260869565217391,
          "split7_test_score": 0.7727272727272727,
          "split8_test_score": 0.6818181818181818,
          "split9_test_score": 0.7727272727272727,
          "std_fit_time": 0.00019159905636804218,
          "std_score_time": 0.00022419809838414187,
          "std_test_score": 0.09476712186439598
         },
         {
          "mean_fit_time": 0.007949757575988769,
          "mean_score_time": 0.006636905670166016,
          "mean_test_score": 0.7227272727272727,
          "param_kneighborsclassifier__n_neighbors": 22,
          "params": {
           "kneighborsclassifier__n_neighbors": 22
          },
          "rank_test_score": 49,
          "split0_test_score": 0.782608695652174,
          "split1_test_score": 0.8260869565217391,
          "split2_test_score": 0.6521739130434783,
          "split3_test_score": 0.5217391304347826,
          "split4_test_score": 0.7391304347826086,
          "split5_test_score": 0.6521739130434783,
          "split6_test_score": 0.8260869565217391,
          "split7_test_score": 0.7727272727272727,
          "split8_test_score": 0.6818181818181818,
          "split9_test_score": 0.7727272727272727,
          "std_fit_time": 8.071411252471612e-05,
          "std_score_time": 5.794648670791039e-05,
          "std_test_score": 0.0906899317408746
         },
         {
          "mean_fit_time": 0.008030939102172851,
          "mean_score_time": 0.006704282760620117,
          "mean_test_score": 0.7183794466403162,
          "param_kneighborsclassifier__n_neighbors": 23,
          "params": {
           "kneighborsclassifier__n_neighbors": 23
          },
          "rank_test_score": 57,
          "split0_test_score": 0.782608695652174,
          "split1_test_score": 0.8260869565217391,
          "split2_test_score": 0.6521739130434783,
          "split3_test_score": 0.4782608695652174,
          "split4_test_score": 0.7391304347826086,
          "split5_test_score": 0.6521739130434783,
          "split6_test_score": 0.8260869565217391,
          "split7_test_score": 0.7727272727272727,
          "split8_test_score": 0.6818181818181818,
          "split9_test_score": 0.7727272727272727,
          "std_fit_time": 0.0001707502463940549,
          "std_score_time": 0.00021367755688296057,
          "std_test_score": 0.10071007407783347
         },
         {
          "mean_fit_time": 0.007944107055664062,
          "mean_score_time": 0.006651473045349121,
          "mean_test_score": 0.7181818181818181,
          "param_kneighborsclassifier__n_neighbors": 24,
          "params": {
           "kneighborsclassifier__n_neighbors": 24
          },
          "rank_test_score": 65,
          "split0_test_score": 0.782608695652174,
          "split1_test_score": 0.8260869565217391,
          "split2_test_score": 0.6521739130434783,
          "split3_test_score": 0.5217391304347826,
          "split4_test_score": 0.7391304347826086,
          "split5_test_score": 0.6521739130434783,
          "split6_test_score": 0.8260869565217391,
          "split7_test_score": 0.7727272727272727,
          "split8_test_score": 0.6818181818181818,
          "split9_test_score": 0.7272727272727273,
          "std_fit_time": 0.00031018431235667104,
          "std_score_time": 0.0002782616738889168,
          "std_test_score": 0.08919679746404675
         },
         {
          "mean_fit_time": 0.007903313636779786,
          "mean_score_time": 0.006576180458068848,
          "mean_test_score": 0.7270750988142292,
          "param_kneighborsclassifier__n_neighbors": 25,
          "params": {
           "kneighborsclassifier__n_neighbors": 25
          },
          "rank_test_score": 30,
          "split0_test_score": 0.782608695652174,
          "split1_test_score": 0.8695652173913043,
          "split2_test_score": 0.6521739130434783,
          "split3_test_score": 0.4782608695652174,
          "split4_test_score": 0.782608695652174,
          "split5_test_score": 0.6521739130434783,
          "split6_test_score": 0.8260869565217391,
          "split7_test_score": 0.7727272727272727,
          "split8_test_score": 0.6818181818181818,
          "split9_test_score": 0.7727272727272727,
          "std_fit_time": 0.00013709534554223504,
          "std_score_time": 0.00014776775969036079,
          "std_test_score": 0.10752677296970714
         },
         {
          "mean_fit_time": 0.007944869995117187,
          "mean_score_time": 0.0066154241561889645,
          "mean_test_score": 0.7270750988142292,
          "param_kneighborsclassifier__n_neighbors": 26,
          "params": {
           "kneighborsclassifier__n_neighbors": 26
          },
          "rank_test_score": 30,
          "split0_test_score": 0.782608695652174,
          "split1_test_score": 0.8695652173913043,
          "split2_test_score": 0.6521739130434783,
          "split3_test_score": 0.5217391304347826,
          "split4_test_score": 0.7391304347826086,
          "split5_test_score": 0.6521739130434783,
          "split6_test_score": 0.8260869565217391,
          "split7_test_score": 0.7727272727272727,
          "split8_test_score": 0.6818181818181818,
          "split9_test_score": 0.7727272727272727,
          "std_fit_time": 0.00017738556347857682,
          "std_score_time": 0.0001444733750294478,
          "std_test_score": 0.09640319446672183
         },
         {
          "mean_fit_time": 0.007868623733520508,
          "mean_score_time": 0.006604933738708496,
          "mean_test_score": 0.7270750988142292,
          "param_kneighborsclassifier__n_neighbors": 27,
          "params": {
           "kneighborsclassifier__n_neighbors": 27
          },
          "rank_test_score": 30,
          "split0_test_score": 0.782608695652174,
          "split1_test_score": 0.8695652173913043,
          "split2_test_score": 0.6521739130434783,
          "split3_test_score": 0.5217391304347826,
          "split4_test_score": 0.7391304347826086,
          "split5_test_score": 0.6521739130434783,
          "split6_test_score": 0.8260869565217391,
          "split7_test_score": 0.7727272727272727,
          "split8_test_score": 0.6818181818181818,
          "split9_test_score": 0.7727272727272727,
          "std_fit_time": 0.00014528924608955276,
          "std_score_time": 0.00015867982339826578,
          "std_test_score": 0.09640319446672183
         },
         {
          "mean_fit_time": 0.007848763465881347,
          "mean_score_time": 0.006516361236572265,
          "mean_test_score": 0.7314229249011858,
          "param_kneighborsclassifier__n_neighbors": 28,
          "params": {
           "kneighborsclassifier__n_neighbors": 28
          },
          "rank_test_score": 17,
          "split0_test_score": 0.782608695652174,
          "split1_test_score": 0.8695652173913043,
          "split2_test_score": 0.6521739130434783,
          "split3_test_score": 0.5652173913043478,
          "split4_test_score": 0.7391304347826086,
          "split5_test_score": 0.6521739130434783,
          "split6_test_score": 0.8260869565217391,
          "split7_test_score": 0.7727272727272727,
          "split8_test_score": 0.6818181818181818,
          "split9_test_score": 0.7727272727272727,
          "std_fit_time": 0.00012996137262326148,
          "std_score_time": 7.270118651705413e-05,
          "std_test_score": 0.08762521365856456
         },
         {
          "mean_fit_time": 0.00800926685333252,
          "mean_score_time": 0.006734514236450195,
          "mean_test_score": 0.7359683794466403,
          "param_kneighborsclassifier__n_neighbors": 29,
          "params": {
           "kneighborsclassifier__n_neighbors": 29
          },
          "rank_test_score": 3,
          "split0_test_score": 0.782608695652174,
          "split1_test_score": 0.8695652173913043,
          "split2_test_score": 0.6521739130434783,
          "split3_test_score": 0.5217391304347826,
          "split4_test_score": 0.7391304347826086,
          "split5_test_score": 0.6521739130434783,
          "split6_test_score": 0.8695652173913043,
          "split7_test_score": 0.7727272727272727,
          "split8_test_score": 0.7272727272727273,
          "split9_test_score": 0.7727272727272727,
          "std_fit_time": 0.00022911025734049162,
          "std_score_time": 0.0001730464712831761,
          "std_test_score": 0.10029795166216253
         },
         {
          "mean_fit_time": 0.008121204376220704,
          "mean_score_time": 0.006699514389038086,
          "mean_test_score": 0.7272727272727273,
          "param_kneighborsclassifier__n_neighbors": 30,
          "params": {
           "kneighborsclassifier__n_neighbors": 30
          },
          "rank_test_score": 25,
          "split0_test_score": 0.782608695652174,
          "split1_test_score": 0.8260869565217391,
          "split2_test_score": 0.6521739130434783,
          "split3_test_score": 0.5217391304347826,
          "split4_test_score": 0.7391304347826086,
          "split5_test_score": 0.6521739130434783,
          "split6_test_score": 0.8260869565217391,
          "split7_test_score": 0.7727272727272727,
          "split8_test_score": 0.7272727272727273,
          "split9_test_score": 0.7727272727272727,
          "std_fit_time": 0.00019127675802351854,
          "std_score_time": 0.00015954620735982044,
          "std_test_score": 0.08965887187524363
         },
         {
          "mean_fit_time": 0.009614944458007812,
          "mean_score_time": 0.006741809844970703,
          "mean_test_score": 0.7227272727272727,
          "param_kneighborsclassifier__n_neighbors": 31,
          "params": {
           "kneighborsclassifier__n_neighbors": 31
          },
          "rank_test_score": 49,
          "split0_test_score": 0.782608695652174,
          "split1_test_score": 0.8695652173913043,
          "split2_test_score": 0.6521739130434783,
          "split3_test_score": 0.4782608695652174,
          "split4_test_score": 0.7391304347826086,
          "split5_test_score": 0.6521739130434783,
          "split6_test_score": 0.8260869565217391,
          "split7_test_score": 0.7727272727272727,
          "split8_test_score": 0.6818181818181818,
          "split9_test_score": 0.7727272727272727,
          "std_fit_time": 0.004581962827335095,
          "std_score_time": 0.00020618164680875946,
          "std_test_score": 0.10606242684547454
         },
         {
          "mean_fit_time": 0.013718724250793457,
          "mean_score_time": 0.01213386058807373,
          "mean_test_score": 0.7272727272727273,
          "param_kneighborsclassifier__n_neighbors": 32,
          "params": {
           "kneighborsclassifier__n_neighbors": 32
          },
          "rank_test_score": 25,
          "split0_test_score": 0.782608695652174,
          "split1_test_score": 0.8260869565217391,
          "split2_test_score": 0.6521739130434783,
          "split3_test_score": 0.5217391304347826,
          "split4_test_score": 0.7391304347826086,
          "split5_test_score": 0.6521739130434783,
          "split6_test_score": 0.8260869565217391,
          "split7_test_score": 0.7727272727272727,
          "split8_test_score": 0.7272727272727273,
          "split9_test_score": 0.7727272727272727,
          "std_fit_time": 0.010935106367978793,
          "std_score_time": 0.014396393603464003,
          "std_test_score": 0.08965887187524363
         },
         {
          "mean_fit_time": 0.008409261703491211,
          "mean_score_time": 0.007478523254394531,
          "mean_test_score": 0.7183794466403162,
          "param_kneighborsclassifier__n_neighbors": 33,
          "params": {
           "kneighborsclassifier__n_neighbors": 33
          },
          "rank_test_score": 57,
          "split0_test_score": 0.7391304347826086,
          "split1_test_score": 0.8695652173913043,
          "split2_test_score": 0.6521739130434783,
          "split3_test_score": 0.4782608695652174,
          "split4_test_score": 0.7391304347826086,
          "split5_test_score": 0.6521739130434783,
          "split6_test_score": 0.8260869565217391,
          "split7_test_score": 0.7727272727272727,
          "split8_test_score": 0.6818181818181818,
          "split9_test_score": 0.7727272727272727,
          "std_fit_time": 0.00040813259514659527,
          "std_score_time": 0.001661595015036501,
          "std_test_score": 0.10439666033001002
         },
         {
          "mean_fit_time": 0.018602371215820312,
          "mean_score_time": 0.011319446563720702,
          "mean_test_score": 0.7272727272727273,
          "param_kneighborsclassifier__n_neighbors": 34,
          "params": {
           "kneighborsclassifier__n_neighbors": 34
          },
          "rank_test_score": 25,
          "split0_test_score": 0.7391304347826086,
          "split1_test_score": 0.8695652173913043,
          "split2_test_score": 0.6521739130434783,
          "split3_test_score": 0.5217391304347826,
          "split4_test_score": 0.7391304347826086,
          "split5_test_score": 0.6521739130434783,
          "split6_test_score": 0.8260869565217391,
          "split7_test_score": 0.7727272727272727,
          "split8_test_score": 0.7272727272727273,
          "split9_test_score": 0.7727272727272727,
          "std_fit_time": 0.018059473116902463,
          "std_score_time": 0.009511020816208322,
          "std_test_score": 0.09378089876535699
         },
         {
          "mean_fit_time": 0.01446547508239746,
          "mean_score_time": 0.008025240898132325,
          "mean_test_score": 0.7185770750988143,
          "param_kneighborsclassifier__n_neighbors": 35,
          "params": {
           "kneighborsclassifier__n_neighbors": 35
          },
          "rank_test_score": 54,
          "split0_test_score": 0.7391304347826086,
          "split1_test_score": 0.8260869565217391,
          "split2_test_score": 0.6521739130434783,
          "split3_test_score": 0.4782608695652174,
          "split4_test_score": 0.782608695652174,
          "split5_test_score": 0.6521739130434783,
          "split6_test_score": 0.782608695652174,
          "split7_test_score": 0.7727272727272727,
          "split8_test_score": 0.7272727272727273,
          "split9_test_score": 0.7727272727272727,
          "std_fit_time": 0.008906704254435086,
          "std_score_time": 0.00019406815559813435,
          "std_test_score": 0.09627650426575217
         },
         {
          "mean_fit_time": 0.00916459560394287,
          "mean_score_time": 0.007685160636901856,
          "mean_test_score": 0.7183794466403162,
          "param_kneighborsclassifier__n_neighbors": 36,
          "params": {
           "kneighborsclassifier__n_neighbors": 36
          },
          "rank_test_score": 57,
          "split0_test_score": 0.7391304347826086,
          "split1_test_score": 0.8695652173913043,
          "split2_test_score": 0.6521739130434783,
          "split3_test_score": 0.4782608695652174,
          "split4_test_score": 0.7391304347826086,
          "split5_test_score": 0.6521739130434783,
          "split6_test_score": 0.8260869565217391,
          "split7_test_score": 0.7727272727272727,
          "split8_test_score": 0.6818181818181818,
          "split9_test_score": 0.7727272727272727,
          "std_fit_time": 0.0002939861268879027,
          "std_score_time": 0.0002728649849708575,
          "std_test_score": 0.10439666033001002
         },
         {
          "mean_fit_time": 0.008726406097412109,
          "mean_score_time": 0.0073184013366699215,
          "mean_test_score": 0.7183794466403162,
          "param_kneighborsclassifier__n_neighbors": 37,
          "params": {
           "kneighborsclassifier__n_neighbors": 37
          },
          "rank_test_score": 57,
          "split0_test_score": 0.7391304347826086,
          "split1_test_score": 0.8260869565217391,
          "split2_test_score": 0.6521739130434783,
          "split3_test_score": 0.4782608695652174,
          "split4_test_score": 0.782608695652174,
          "split5_test_score": 0.6956521739130435,
          "split6_test_score": 0.782608695652174,
          "split7_test_score": 0.7727272727272727,
          "split8_test_score": 0.6818181818181818,
          "split9_test_score": 0.7727272727272727,
          "std_fit_time": 4.2560995333572573e-05,
          "std_score_time": 7.911921176131572e-05,
          "std_test_score": 0.09491208310756606
         },
         {
          "mean_fit_time": 0.00885627269744873,
          "mean_score_time": 0.007385706901550293,
          "mean_test_score": 0.7227272727272727,
          "param_kneighborsclassifier__n_neighbors": 38,
          "params": {
           "kneighborsclassifier__n_neighbors": 38
          },
          "rank_test_score": 49,
          "split0_test_score": 0.7391304347826086,
          "split1_test_score": 0.8695652173913043,
          "split2_test_score": 0.6521739130434783,
          "split3_test_score": 0.5217391304347826,
          "split4_test_score": 0.7391304347826086,
          "split5_test_score": 0.6521739130434783,
          "split6_test_score": 0.8260869565217391,
          "split7_test_score": 0.7727272727272727,
          "split8_test_score": 0.6818181818181818,
          "split9_test_score": 0.7727272727272727,
          "std_fit_time": 0.00015427795078238864,
          "std_score_time": 8.468817548196964e-05,
          "std_test_score": 0.09476712186439598
         },
         {
          "mean_fit_time": 0.008819818496704102,
          "mean_score_time": 0.007337880134582519,
          "mean_test_score": 0.7314229249011857,
          "param_kneighborsclassifier__n_neighbors": 39,
          "params": {
           "kneighborsclassifier__n_neighbors": 39
          },
          "rank_test_score": 20,
          "split0_test_score": 0.7391304347826086,
          "split1_test_score": 0.8260869565217391,
          "split2_test_score": 0.6521739130434783,
          "split3_test_score": 0.5652173913043478,
          "split4_test_score": 0.782608695652174,
          "split5_test_score": 0.6956521739130435,
          "split6_test_score": 0.8260869565217391,
          "split7_test_score": 0.7727272727272727,
          "split8_test_score": 0.6818181818181818,
          "split9_test_score": 0.7727272727272727,
          "std_fit_time": 0.00020681478061605873,
          "std_score_time": 0.00014598761311393287,
          "std_test_score": 0.07852318596513719
         },
         {
          "mean_fit_time": 0.021144533157348634,
          "mean_score_time": 0.019442248344421386,
          "mean_test_score": 0.7314229249011858,
          "param_kneighborsclassifier__n_neighbors": 40,
          "params": {
           "kneighborsclassifier__n_neighbors": 40
          },
          "rank_test_score": 17,
          "split0_test_score": 0.7391304347826086,
          "split1_test_score": 0.8695652173913043,
          "split2_test_score": 0.6521739130434783,
          "split3_test_score": 0.5652173913043478,
          "split4_test_score": 0.7391304347826086,
          "split5_test_score": 0.6956521739130435,
          "split6_test_score": 0.8260869565217391,
          "split7_test_score": 0.7727272727272727,
          "split8_test_score": 0.6818181818181818,
          "split9_test_score": 0.7727272727272727,
          "std_fit_time": 0.0064544790454691674,
          "std_score_time": 0.004169210410385952,
          "std_test_score": 0.08319876442238973
         },
         {
          "mean_fit_time": 0.03191370964050293,
          "mean_score_time": 0.023921751976013185,
          "mean_test_score": 0.7314229249011857,
          "param_kneighborsclassifier__n_neighbors": 41,
          "params": {
           "kneighborsclassifier__n_neighbors": 41
          },
          "rank_test_score": 20,
          "split0_test_score": 0.7391304347826086,
          "split1_test_score": 0.8695652173913043,
          "split2_test_score": 0.6521739130434783,
          "split3_test_score": 0.5217391304347826,
          "split4_test_score": 0.782608695652174,
          "split5_test_score": 0.6956521739130435,
          "split6_test_score": 0.8260869565217391,
          "split7_test_score": 0.7727272727272727,
          "split8_test_score": 0.6818181818181818,
          "split9_test_score": 0.7727272727272727,
          "std_fit_time": 0.016764404943349756,
          "std_score_time": 0.009752387540663592,
          "std_test_score": 0.09387434990269848
         },
         {
          "mean_fit_time": 0.02177743911743164,
          "mean_score_time": 0.017998266220092773,
          "mean_test_score": 0.7314229249011857,
          "param_kneighborsclassifier__n_neighbors": 42,
          "params": {
           "kneighborsclassifier__n_neighbors": 42
          },
          "rank_test_score": 20,
          "split0_test_score": 0.7391304347826086,
          "split1_test_score": 0.8695652173913043,
          "split2_test_score": 0.6521739130434783,
          "split3_test_score": 0.5217391304347826,
          "split4_test_score": 0.782608695652174,
          "split5_test_score": 0.6956521739130435,
          "split6_test_score": 0.8260869565217391,
          "split7_test_score": 0.7727272727272727,
          "split8_test_score": 0.6818181818181818,
          "split9_test_score": 0.7727272727272727,
          "std_fit_time": 0.005982930669117399,
          "std_score_time": 0.00573036866077729,
          "std_test_score": 0.09387434990269848
         },
         {
          "mean_fit_time": 0.007929182052612305,
          "mean_score_time": 0.006688618659973144,
          "mean_test_score": 0.7268774703557311,
          "param_kneighborsclassifier__n_neighbors": 43,
          "params": {
           "kneighborsclassifier__n_neighbors": 43
          },
          "rank_test_score": 39,
          "split0_test_score": 0.7391304347826086,
          "split1_test_score": 0.9130434782608695,
          "split2_test_score": 0.6521739130434783,
          "split3_test_score": 0.5217391304347826,
          "split4_test_score": 0.782608695652174,
          "split5_test_score": 0.6956521739130435,
          "split6_test_score": 0.782608695652174,
          "split7_test_score": 0.7727272727272727,
          "split8_test_score": 0.6363636363636364,
          "split9_test_score": 0.7727272727272727,
          "std_fit_time": 0.00011102757734594788,
          "std_score_time": 0.00015333957039184037,
          "std_test_score": 0.1010219771139908
         },
         {
          "mean_fit_time": 0.007904052734375,
          "mean_score_time": 0.0067130327224731445,
          "mean_test_score": 0.7183794466403162,
          "param_kneighborsclassifier__n_neighbors": 44,
          "params": {
           "kneighborsclassifier__n_neighbors": 44
          },
          "rank_test_score": 57,
          "split0_test_score": 0.7391304347826086,
          "split1_test_score": 0.8260869565217391,
          "split2_test_score": 0.6521739130434783,
          "split3_test_score": 0.4782608695652174,
          "split4_test_score": 0.7391304347826086,
          "split5_test_score": 0.6956521739130435,
          "split6_test_score": 0.8260869565217391,
          "split7_test_score": 0.7727272727272727,
          "split8_test_score": 0.6818181818181818,
          "split9_test_score": 0.7727272727272727,
          "std_fit_time": 9.138966979544873e-05,
          "std_score_time": 0.00019229889158407058,
          "std_test_score": 0.09688330791971297
         },
         {
          "mean_fit_time": 0.007927656173706055,
          "mean_score_time": 0.006738781929016113,
          "mean_test_score": 0.7314229249011857,
          "param_kneighborsclassifier__n_neighbors": 45,
          "params": {
           "kneighborsclassifier__n_neighbors": 45
          },
          "rank_test_score": 20,
          "split0_test_score": 0.7391304347826086,
          "split1_test_score": 0.9130434782608695,
          "split2_test_score": 0.6521739130434783,
          "split3_test_score": 0.4782608695652174,
          "split4_test_score": 0.782608695652174,
          "split5_test_score": 0.6956521739130435,
          "split6_test_score": 0.8260869565217391,
          "split7_test_score": 0.7727272727272727,
          "split8_test_score": 0.6818181818181818,
          "split9_test_score": 0.7727272727272727,
          "std_fit_time": 0.00014473551301794703,
          "std_score_time": 0.00021847826389733322,
          "std_test_score": 0.11052167241084347
         },
         {
          "mean_fit_time": 0.01266636848449707,
          "mean_score_time": 0.013989949226379394,
          "mean_test_score": 0.7227272727272728,
          "param_kneighborsclassifier__n_neighbors": 46,
          "params": {
           "kneighborsclassifier__n_neighbors": 46
          },
          "rank_test_score": 46,
          "split0_test_score": 0.7391304347826086,
          "split1_test_score": 0.8695652173913043,
          "split2_test_score": 0.6521739130434783,
          "split3_test_score": 0.4782608695652174,
          "split4_test_score": 0.7391304347826086,
          "split5_test_score": 0.6956521739130435,
          "split6_test_score": 0.8260869565217391,
          "split7_test_score": 0.7727272727272727,
          "split8_test_score": 0.6818181818181818,
          "split9_test_score": 0.7727272727272727,
          "std_fit_time": 0.013272694321577029,
          "std_score_time": 0.014512967777530908,
          "std_test_score": 0.10243580780691317
         },
         {
          "mean_fit_time": 0.02138972282409668,
          "mean_score_time": 0.010887622833251953,
          "mean_test_score": 0.7270750988142292,
          "param_kneighborsclassifier__n_neighbors": 47,
          "params": {
           "kneighborsclassifier__n_neighbors": 47
          },
          "rank_test_score": 30,
          "split0_test_score": 0.7391304347826086,
          "split1_test_score": 0.8695652173913043,
          "split2_test_score": 0.6521739130434783,
          "split3_test_score": 0.4782608695652174,
          "split4_test_score": 0.8260869565217391,
          "split5_test_score": 0.6956521739130435,
          "split6_test_score": 0.782608695652174,
          "split7_test_score": 0.7727272727272727,
          "split8_test_score": 0.6818181818181818,
          "split9_test_score": 0.7727272727272727,
          "std_fit_time": 0.020035718949448025,
          "std_score_time": 0.008923448744634375,
          "std_test_score": 0.10395125414338278
         },
         {
          "mean_fit_time": 0.03390076160430908,
          "mean_score_time": 0.032186698913574216,
          "mean_test_score": 0.7270750988142292,
          "param_kneighborsclassifier__n_neighbors": 48,
          "params": {
           "kneighborsclassifier__n_neighbors": 48
          },
          "rank_test_score": 30,
          "split0_test_score": 0.7391304347826086,
          "split1_test_score": 0.8695652173913043,
          "split2_test_score": 0.6521739130434783,
          "split3_test_score": 0.5217391304347826,
          "split4_test_score": 0.8260869565217391,
          "split5_test_score": 0.6521739130434783,
          "split6_test_score": 0.782608695652174,
          "split7_test_score": 0.7727272727272727,
          "split8_test_score": 0.6818181818181818,
          "split9_test_score": 0.7727272727272727,
          "std_fit_time": 0.018647336842980762,
          "std_score_time": 0.017845499329284486,
          "std_test_score": 0.09640319446672183
         },
         {
          "mean_fit_time": 0.024703383445739746,
          "mean_score_time": 0.020785045623779298,
          "mean_test_score": 0.7270750988142292,
          "param_kneighborsclassifier__n_neighbors": 49,
          "params": {
           "kneighborsclassifier__n_neighbors": 49
          },
          "rank_test_score": 30,
          "split0_test_score": 0.7391304347826086,
          "split1_test_score": 0.8695652173913043,
          "split2_test_score": 0.6521739130434783,
          "split3_test_score": 0.4782608695652174,
          "split4_test_score": 0.8260869565217391,
          "split5_test_score": 0.6956521739130435,
          "split6_test_score": 0.782608695652174,
          "split7_test_score": 0.7727272727272727,
          "split8_test_score": 0.6818181818181818,
          "split9_test_score": 0.7727272727272727,
          "std_fit_time": 0.000246684463802492,
          "std_score_time": 0.0002743806695113902,
          "std_test_score": 0.10395125414338278
         },
         {
          "mean_fit_time": 0.016428136825561525,
          "mean_score_time": 0.012530803680419922,
          "mean_test_score": 0.7227272727272728,
          "param_kneighborsclassifier__n_neighbors": 50,
          "params": {
           "kneighborsclassifier__n_neighbors": 50
          },
          "rank_test_score": 46,
          "split0_test_score": 0.7391304347826086,
          "split1_test_score": 0.8695652173913043,
          "split2_test_score": 0.6521739130434783,
          "split3_test_score": 0.4782608695652174,
          "split4_test_score": 0.782608695652174,
          "split5_test_score": 0.6956521739130435,
          "split6_test_score": 0.782608695652174,
          "split7_test_score": 0.7727272727272727,
          "split8_test_score": 0.6818181818181818,
          "split9_test_score": 0.7727272727272727,
          "std_fit_time": 0.00837544757606743,
          "std_score_time": 0.006894190786891185,
          "std_test_score": 0.10057347009726998
         },
         {
          "mean_fit_time": 0.014179539680480958,
          "mean_score_time": 0.012166023254394531,
          "mean_test_score": 0.7270750988142292,
          "param_kneighborsclassifier__n_neighbors": 51,
          "params": {
           "kneighborsclassifier__n_neighbors": 51
          },
          "rank_test_score": 30,
          "split0_test_score": 0.7391304347826086,
          "split1_test_score": 0.8695652173913043,
          "split2_test_score": 0.6521739130434783,
          "split3_test_score": 0.4782608695652174,
          "split4_test_score": 0.8260869565217391,
          "split5_test_score": 0.6956521739130435,
          "split6_test_score": 0.782608695652174,
          "split7_test_score": 0.7727272727272727,
          "split8_test_score": 0.6818181818181818,
          "split9_test_score": 0.7727272727272727,
          "std_fit_time": 0.008176068616140598,
          "std_score_time": 0.006308288799246392,
          "std_test_score": 0.10395125414338278
         },
         {
          "mean_fit_time": 0.00927121639251709,
          "mean_score_time": 0.007883667945861816,
          "mean_test_score": 0.7227272727272728,
          "param_kneighborsclassifier__n_neighbors": 52,
          "params": {
           "kneighborsclassifier__n_neighbors": 52
          },
          "rank_test_score": 46,
          "split0_test_score": 0.7391304347826086,
          "split1_test_score": 0.8695652173913043,
          "split2_test_score": 0.6521739130434783,
          "split3_test_score": 0.4782608695652174,
          "split4_test_score": 0.7391304347826086,
          "split5_test_score": 0.6956521739130435,
          "split6_test_score": 0.8260869565217391,
          "split7_test_score": 0.7727272727272727,
          "split8_test_score": 0.6818181818181818,
          "split9_test_score": 0.7727272727272727,
          "std_fit_time": 0.0003228084030421099,
          "std_score_time": 0.0002228297909892997,
          "std_test_score": 0.10243580780691317
         },
         {
          "mean_fit_time": 0.009839415550231934,
          "mean_score_time": 0.008272767066955566,
          "mean_test_score": 0.7359683794466403,
          "param_kneighborsclassifier__n_neighbors": 53,
          "params": {
           "kneighborsclassifier__n_neighbors": 53
          },
          "rank_test_score": 3,
          "split0_test_score": 0.7391304347826086,
          "split1_test_score": 0.8695652173913043,
          "split2_test_score": 0.6956521739130435,
          "split3_test_score": 0.4782608695652174,
          "split4_test_score": 0.782608695652174,
          "split5_test_score": 0.7391304347826086,
          "split6_test_score": 0.782608695652174,
          "split7_test_score": 0.7727272727272727,
          "split8_test_score": 0.7272727272727273,
          "split9_test_score": 0.7727272727272727,
          "std_fit_time": 7.365615851859665e-05,
          "std_score_time": 0.0001148478529856751,
          "std_test_score": 0.09645483627236481
         },
         {
          "mean_fit_time": 0.010069823265075684,
          "mean_score_time": 0.008248090744018555,
          "mean_test_score": 0.7272727272727273,
          "param_kneighborsclassifier__n_neighbors": 54,
          "params": {
           "kneighborsclassifier__n_neighbors": 54
          },
          "rank_test_score": 25,
          "split0_test_score": 0.7391304347826086,
          "split1_test_score": 0.8695652173913043,
          "split2_test_score": 0.6521739130434783,
          "split3_test_score": 0.4782608695652174,
          "split4_test_score": 0.7391304347826086,
          "split5_test_score": 0.6956521739130435,
          "split6_test_score": 0.8260869565217391,
          "split7_test_score": 0.7727272727272727,
          "split8_test_score": 0.7272727272727273,
          "split9_test_score": 0.7727272727272727,
          "std_fit_time": 0.0008869383694680831,
          "std_score_time": 0.00010132683024126323,
          "std_test_score": 0.10152410702799464
         },
         {
          "mean_fit_time": 0.009648704528808593,
          "mean_score_time": 0.008071351051330566,
          "mean_test_score": 0.7403162055335969,
          "param_kneighborsclassifier__n_neighbors": 55,
          "params": {
           "kneighborsclassifier__n_neighbors": 55
          },
          "rank_test_score": 1,
          "split0_test_score": 0.782608695652174,
          "split1_test_score": 0.8695652173913043,
          "split2_test_score": 0.6956521739130435,
          "split3_test_score": 0.5217391304347826,
          "split4_test_score": 0.782608695652174,
          "split5_test_score": 0.6956521739130435,
          "split6_test_score": 0.782608695652174,
          "split7_test_score": 0.7727272727272727,
          "split8_test_score": 0.7272727272727273,
          "split9_test_score": 0.7727272727272727,
          "std_fit_time": 0.0002624872527299663,
          "std_score_time": 0.00020487618141582347,
          "std_test_score": 0.08723992624128452
         },
         {
          "mean_fit_time": 0.009306812286376953,
          "mean_score_time": 0.007837915420532226,
          "mean_test_score": 0.7403162055335969,
          "param_kneighborsclassifier__n_neighbors": 56,
          "params": {
           "kneighborsclassifier__n_neighbors": 56
          },
          "rank_test_score": 1,
          "split0_test_score": 0.782608695652174,
          "split1_test_score": 0.8695652173913043,
          "split2_test_score": 0.6956521739130435,
          "split3_test_score": 0.5217391304347826,
          "split4_test_score": 0.782608695652174,
          "split5_test_score": 0.6956521739130435,
          "split6_test_score": 0.782608695652174,
          "split7_test_score": 0.7727272727272727,
          "split8_test_score": 0.6818181818181818,
          "split9_test_score": 0.8181818181818182,
          "std_fit_time": 0.00022263917553927144,
          "std_score_time": 0.0002031061609691451,
          "std_test_score": 0.09185451002306039
         },
         {
          "mean_fit_time": 0.009441709518432618,
          "mean_score_time": 0.008005928993225098,
          "mean_test_score": 0.7357707509881423,
          "param_kneighborsclassifier__n_neighbors": 57,
          "params": {
           "kneighborsclassifier__n_neighbors": 57
          },
          "rank_test_score": 8,
          "split0_test_score": 0.782608695652174,
          "split1_test_score": 0.8695652173913043,
          "split2_test_score": 0.6956521739130435,
          "split3_test_score": 0.5217391304347826,
          "split4_test_score": 0.782608695652174,
          "split5_test_score": 0.6956521739130435,
          "split6_test_score": 0.782608695652174,
          "split7_test_score": 0.7727272727272727,
          "split8_test_score": 0.6818181818181818,
          "split9_test_score": 0.7727272727272727,
          "std_fit_time": 6.285540377328958e-05,
          "std_score_time": 0.00012968752475985348,
          "std_test_score": 0.08896815283519557
         },
         {
          "mean_fit_time": 0.009358763694763184,
          "mean_score_time": 0.007850432395935058,
          "mean_test_score": 0.7316205533596838,
          "param_kneighborsclassifier__n_neighbors": 58,
          "params": {
           "kneighborsclassifier__n_neighbors": 58
          },
          "rank_test_score": 13,
          "split0_test_score": 0.7391304347826086,
          "split1_test_score": 0.8695652173913043,
          "split2_test_score": 0.6956521739130435,
          "split3_test_score": 0.5217391304347826,
          "split4_test_score": 0.7391304347826086,
          "split5_test_score": 0.6956521739130435,
          "split6_test_score": 0.782608695652174,
          "split7_test_score": 0.7727272727272727,
          "split8_test_score": 0.6818181818181818,
          "split9_test_score": 0.8181818181818182,
          "std_fit_time": 0.000283098410572106,
          "std_score_time": 0.00024826146561301304,
          "std_test_score": 0.089466121583623
         },
         {
          "mean_fit_time": 0.00850071907043457,
          "mean_score_time": 0.0071265935897827145,
          "mean_test_score": 0.7355731225296442,
          "param_kneighborsclassifier__n_neighbors": 59,
          "params": {
           "kneighborsclassifier__n_neighbors": 59
          },
          "rank_test_score": 10,
          "split0_test_score": 0.782608695652174,
          "split1_test_score": 0.8695652173913043,
          "split2_test_score": 0.6956521739130435,
          "split3_test_score": 0.5652173913043478,
          "split4_test_score": 0.782608695652174,
          "split5_test_score": 0.6956521739130435,
          "split6_test_score": 0.782608695652174,
          "split7_test_score": 0.7727272727272727,
          "split8_test_score": 0.6363636363636364,
          "split9_test_score": 0.7727272727272727,
          "std_fit_time": 0.0004745892491945163,
          "std_score_time": 0.0004243488302990882,
          "std_test_score": 0.08330830705257058
         },
         {
          "mean_fit_time": 0.022131800651550293,
          "mean_score_time": 0.0074054479598999025,
          "mean_test_score": 0.7357707509881424,
          "param_kneighborsclassifier__n_neighbors": 60,
          "params": {
           "kneighborsclassifier__n_neighbors": 60
          },
          "rank_test_score": 6,
          "split0_test_score": 0.782608695652174,
          "split1_test_score": 0.8695652173913043,
          "split2_test_score": 0.6956521739130435,
          "split3_test_score": 0.5652173913043478,
          "split4_test_score": 0.782608695652174,
          "split5_test_score": 0.6521739130434783,
          "split6_test_score": 0.782608695652174,
          "split7_test_score": 0.7727272727272727,
          "split8_test_score": 0.6363636363636364,
          "split9_test_score": 0.8181818181818182,
          "std_fit_time": 0.022764907009095312,
          "std_score_time": 0.00035943126646078037,
          "std_test_score": 0.08955884177148085
         },
         {
          "mean_fit_time": 0.010151958465576172,
          "mean_score_time": 0.013491010665893555,
          "mean_test_score": 0.7357707509881424,
          "param_kneighborsclassifier__n_neighbors": 61,
          "params": {
           "kneighborsclassifier__n_neighbors": 61
          },
          "rank_test_score": 6,
          "split0_test_score": 0.782608695652174,
          "split1_test_score": 0.8695652173913043,
          "split2_test_score": 0.6521739130434783,
          "split3_test_score": 0.6086956521739131,
          "split4_test_score": 0.782608695652174,
          "split5_test_score": 0.6521739130434783,
          "split6_test_score": 0.782608695652174,
          "split7_test_score": 0.7727272727272727,
          "split8_test_score": 0.6363636363636364,
          "split9_test_score": 0.8181818181818182,
          "std_fit_time": 0.005109106107607981,
          "std_score_time": 0.01937459906669148,
          "std_test_score": 0.08523287201633156
         },
         {
          "mean_fit_time": 0.017769384384155273,
          "mean_score_time": 0.01692366600036621,
          "mean_test_score": 0.7314229249011858,
          "param_kneighborsclassifier__n_neighbors": 62,
          "params": {
           "kneighborsclassifier__n_neighbors": 62
          },
          "rank_test_score": 17,
          "split0_test_score": 0.782608695652174,
          "split1_test_score": 0.8695652173913043,
          "split2_test_score": 0.6956521739130435,
          "split3_test_score": 0.5652173913043478,
          "split4_test_score": 0.7391304347826086,
          "split5_test_score": 0.6521739130434783,
          "split6_test_score": 0.782608695652174,
          "split7_test_score": 0.7727272727272727,
          "split8_test_score": 0.6363636363636364,
          "split9_test_score": 0.8181818181818182,
          "std_fit_time": 0.01946240276947126,
          "std_score_time": 0.017985500599181685,
          "std_test_score": 0.0882248943850403
         },
         {
          "mean_fit_time": 0.02460658550262451,
          "mean_score_time": 0.031223535537719727,
          "mean_test_score": 0.7312252964426877,
          "param_kneighborsclassifier__n_neighbors": 63,
          "params": {
           "kneighborsclassifier__n_neighbors": 63
          },
          "rank_test_score": 24,
          "split0_test_score": 0.782608695652174,
          "split1_test_score": 0.8260869565217391,
          "split2_test_score": 0.6956521739130435,
          "split3_test_score": 0.6086956521739131,
          "split4_test_score": 0.782608695652174,
          "split5_test_score": 0.6956521739130435,
          "split6_test_score": 0.7391304347826086,
          "split7_test_score": 0.7727272727272727,
          "split8_test_score": 0.6363636363636364,
          "split9_test_score": 0.7727272727272727,
          "std_fit_time": 0.00015209708590640023,
          "std_score_time": 0.01746365179712864,
          "std_test_score": 0.06658055544633602
         },
         {
          "mean_fit_time": 0.020985341072082518,
          "mean_score_time": 0.01758875846862793,
          "mean_test_score": 0.7227272727272729,
          "param_kneighborsclassifier__n_neighbors": 64,
          "params": {
           "kneighborsclassifier__n_neighbors": 64
          },
          "rank_test_score": 45,
          "split0_test_score": 0.782608695652174,
          "split1_test_score": 0.8260869565217391,
          "split2_test_score": 0.6521739130434783,
          "split3_test_score": 0.5652173913043478,
          "split4_test_score": 0.7391304347826086,
          "split5_test_score": 0.6521739130434783,
          "split6_test_score": 0.782608695652174,
          "split7_test_score": 0.7727272727272727,
          "split8_test_score": 0.6363636363636364,
          "split9_test_score": 0.8181818181818182,
          "std_fit_time": 0.0025132291653423094,
          "std_score_time": 0.0021250563843548207,
          "std_test_score": 0.0848286634267082
         },
         {
          "mean_fit_time": 0.015560460090637208,
          "mean_score_time": 0.0124406099319458,
          "mean_test_score": 0.7314229249011859,
          "param_kneighborsclassifier__n_neighbors": 65,
          "params": {
           "kneighborsclassifier__n_neighbors": 65
          },
          "rank_test_score": 16,
          "split0_test_score": 0.782608695652174,
          "split1_test_score": 0.782608695652174,
          "split2_test_score": 0.6956521739130435,
          "split3_test_score": 0.5652173913043478,
          "split4_test_score": 0.782608695652174,
          "split5_test_score": 0.6956521739130435,
          "split6_test_score": 0.782608695652174,
          "split7_test_score": 0.7727272727272727,
          "split8_test_score": 0.6363636363636364,
          "split9_test_score": 0.8181818181818182,
          "std_fit_time": 0.005106608712035198,
          "std_score_time": 0.004733647267453029,
          "std_test_score": 0.07676765478383163
         },
         {
          "mean_fit_time": 0.008272719383239747,
          "mean_score_time": 0.006960821151733398,
          "mean_test_score": 0.7359683794466403,
          "param_kneighborsclassifier__n_neighbors": 66,
          "params": {
           "kneighborsclassifier__n_neighbors": 66
          },
          "rank_test_score": 3,
          "split0_test_score": 0.782608695652174,
          "split1_test_score": 0.8260869565217391,
          "split2_test_score": 0.6956521739130435,
          "split3_test_score": 0.5652173913043478,
          "split4_test_score": 0.782608695652174,
          "split5_test_score": 0.6521739130434783,
          "split6_test_score": 0.782608695652174,
          "split7_test_score": 0.7727272727272727,
          "split8_test_score": 0.6818181818181818,
          "split9_test_score": 0.8181818181818182,
          "std_fit_time": 0.0001859308187186505,
          "std_score_time": 0.00019312822649777609,
          "std_test_score": 0.07968226518389465
         },
         {
          "mean_fit_time": 0.00781686305999756,
          "mean_score_time": 0.006616377830505371,
          "mean_test_score": 0.7316205533596838,
          "param_kneighborsclassifier__n_neighbors": 67,
          "params": {
           "kneighborsclassifier__n_neighbors": 67
          },
          "rank_test_score": 13,
          "split0_test_score": 0.782608695652174,
          "split1_test_score": 0.782608695652174,
          "split2_test_score": 0.6956521739130435,
          "split3_test_score": 0.5217391304347826,
          "split4_test_score": 0.782608695652174,
          "split5_test_score": 0.6956521739130435,
          "split6_test_score": 0.782608695652174,
          "split7_test_score": 0.7727272727272727,
          "split8_test_score": 0.6818181818181818,
          "split9_test_score": 0.8181818181818182,
          "std_fit_time": 6.407457063225133e-05,
          "std_score_time": 8.214607914163886e-05,
          "std_test_score": 0.08288529067494686
         },
         {
          "mean_fit_time": 0.007943534851074218,
          "mean_score_time": 0.0066590547561645504,
          "mean_test_score": 0.7272727272727273,
          "param_kneighborsclassifier__n_neighbors": 68,
          "params": {
           "kneighborsclassifier__n_neighbors": 68
          },
          "rank_test_score": 25,
          "split0_test_score": 0.782608695652174,
          "split1_test_score": 0.782608695652174,
          "split2_test_score": 0.6956521739130435,
          "split3_test_score": 0.5217391304347826,
          "split4_test_score": 0.7391304347826086,
          "split5_test_score": 0.6956521739130435,
          "split6_test_score": 0.782608695652174,
          "split7_test_score": 0.7727272727272727,
          "split8_test_score": 0.6818181818181818,
          "split9_test_score": 0.8181818181818182,
          "std_fit_time": 0.0003070815786772697,
          "std_score_time": 0.00014421980840921442,
          "std_test_score": 0.08122024738353566
         },
         {
          "mean_fit_time": 0.007978606224060058,
          "mean_score_time": 0.006735897064208985,
          "mean_test_score": 0.7229249011857707,
          "param_kneighborsclassifier__n_neighbors": 69,
          "params": {
           "kneighborsclassifier__n_neighbors": 69
          },
          "rank_test_score": 43,
          "split0_test_score": 0.782608695652174,
          "split1_test_score": 0.782608695652174,
          "split2_test_score": 0.6956521739130435,
          "split3_test_score": 0.5217391304347826,
          "split4_test_score": 0.6956521739130435,
          "split5_test_score": 0.6956521739130435,
          "split6_test_score": 0.782608695652174,
          "split7_test_score": 0.7727272727272727,
          "split8_test_score": 0.6818181818181818,
          "split9_test_score": 0.8181818181818182,
          "std_fit_time": 0.00015028251555848505,
          "std_score_time": 0.00018641915615875474,
          "std_test_score": 0.08163179778798568
         },
         {
          "mean_fit_time": 0.007888698577880859,
          "mean_score_time": 0.006717610359191895,
          "mean_test_score": 0.7316205533596838,
          "param_kneighborsclassifier__n_neighbors": 70,
          "params": {
           "kneighborsclassifier__n_neighbors": 70
          },
          "rank_test_score": 13,
          "split0_test_score": 0.782608695652174,
          "split1_test_score": 0.8260869565217391,
          "split2_test_score": 0.6956521739130435,
          "split3_test_score": 0.5652173913043478,
          "split4_test_score": 0.6956521739130435,
          "split5_test_score": 0.6956521739130435,
          "split6_test_score": 0.782608695652174,
          "split7_test_score": 0.7727272727272727,
          "split8_test_score": 0.6818181818181818,
          "split9_test_score": 0.8181818181818182,
          "std_fit_time": 0.0001266414410142593,
          "std_score_time": 0.00014399582356325018,
          "std_test_score": 0.07573477344869564
         },
         {
          "mean_fit_time": 0.008157920837402344,
          "mean_score_time": 0.00712888240814209,
          "mean_test_score": 0.7318181818181819,
          "param_kneighborsclassifier__n_neighbors": 71,
          "params": {
           "kneighborsclassifier__n_neighbors": 71
          },
          "rank_test_score": 11,
          "split0_test_score": 0.782608695652174,
          "split1_test_score": 0.782608695652174,
          "split2_test_score": 0.6956521739130435,
          "split3_test_score": 0.5652173913043478,
          "split4_test_score": 0.6956521739130435,
          "split5_test_score": 0.6956521739130435,
          "split6_test_score": 0.782608695652174,
          "split7_test_score": 0.7727272727272727,
          "split8_test_score": 0.7272727272727273,
          "split9_test_score": 0.8181818181818182,
          "std_fit_time": 0.0004862905038129857,
          "std_score_time": 0.0005515542661581693,
          "std_test_score": 0.06969338937931224
         },
         {
          "mean_fit_time": 0.008810043334960938,
          "mean_score_time": 0.007359838485717774,
          "mean_test_score": 0.7318181818181819,
          "param_kneighborsclassifier__n_neighbors": 72,
          "params": {
           "kneighborsclassifier__n_neighbors": 72
          },
          "rank_test_score": 11,
          "split0_test_score": 0.782608695652174,
          "split1_test_score": 0.782608695652174,
          "split2_test_score": 0.6956521739130435,
          "split3_test_score": 0.5652173913043478,
          "split4_test_score": 0.6956521739130435,
          "split5_test_score": 0.6956521739130435,
          "split6_test_score": 0.782608695652174,
          "split7_test_score": 0.7727272727272727,
          "split8_test_score": 0.7272727272727273,
          "split9_test_score": 0.8181818181818182,
          "std_fit_time": 0.00044588699478201056,
          "std_score_time": 0.0003957407028917456,
          "std_test_score": 0.06969338937931224
         },
         {
          "mean_fit_time": 0.014282703399658203,
          "mean_score_time": 0.011669683456420898,
          "mean_test_score": 0.7231225296442688,
          "param_kneighborsclassifier__n_neighbors": 73,
          "params": {
           "kneighborsclassifier__n_neighbors": 73
          },
          "rank_test_score": 42,
          "split0_test_score": 0.782608695652174,
          "split1_test_score": 0.782608695652174,
          "split2_test_score": 0.6956521739130435,
          "split3_test_score": 0.4782608695652174,
          "split4_test_score": 0.6956521739130435,
          "split5_test_score": 0.6956521739130435,
          "split6_test_score": 0.782608695652174,
          "split7_test_score": 0.7727272727272727,
          "split8_test_score": 0.7272727272727273,
          "split9_test_score": 0.8181818181818182,
          "std_fit_time": 0.013012376236163508,
          "std_score_time": 0.009568373760201476,
          "std_test_score": 0.09184281613799765
         },
         {
          "mean_fit_time": 0.03844127655029297,
          "mean_score_time": 0.0216092586517334,
          "mean_test_score": 0.7229249011857707,
          "param_kneighborsclassifier__n_neighbors": 74,
          "params": {
           "kneighborsclassifier__n_neighbors": 74
          },
          "rank_test_score": 43,
          "split0_test_score": 0.782608695652174,
          "split1_test_score": 0.782608695652174,
          "split2_test_score": 0.6956521739130435,
          "split3_test_score": 0.5217391304347826,
          "split4_test_score": 0.6521739130434783,
          "split5_test_score": 0.6956521739130435,
          "split6_test_score": 0.8260869565217391,
          "split7_test_score": 0.7727272727272727,
          "split8_test_score": 0.6818181818181818,
          "split9_test_score": 0.8181818181818182,
          "std_fit_time": 0.018554186224844754,
          "std_score_time": 0.0016807551316060595,
          "std_test_score": 0.08830609215135592
         },
         {
          "mean_fit_time": 0.045263147354125975,
          "mean_score_time": 0.021637392044067384,
          "mean_test_score": 0.7185770750988143,
          "param_kneighborsclassifier__n_neighbors": 75,
          "params": {
           "kneighborsclassifier__n_neighbors": 75
          },
          "rank_test_score": 54,
          "split0_test_score": 0.782608695652174,
          "split1_test_score": 0.782608695652174,
          "split2_test_score": 0.6956521739130435,
          "split3_test_score": 0.4782608695652174,
          "split4_test_score": 0.6956521739130435,
          "split5_test_score": 0.6956521739130435,
          "split6_test_score": 0.782608695652174,
          "split7_test_score": 0.7727272727272727,
          "split8_test_score": 0.7272727272727273,
          "split9_test_score": 0.7727272727272727,
          "std_fit_time": 0.021351425074471513,
          "std_score_time": 0.000841438006837594,
          "std_test_score": 0.08807313971376189
         },
         {
          "mean_fit_time": 0.030793404579162596,
          "mean_score_time": 0.024257397651672362,
          "mean_test_score": 0.7142292490118576,
          "param_kneighborsclassifier__n_neighbors": 76,
          "params": {
           "kneighborsclassifier__n_neighbors": 76
          },
          "rank_test_score": 72,
          "split0_test_score": 0.782608695652174,
          "split1_test_score": 0.782608695652174,
          "split2_test_score": 0.6956521739130435,
          "split3_test_score": 0.4782608695652174,
          "split4_test_score": 0.6086956521739131,
          "split5_test_score": 0.6956521739130435,
          "split6_test_score": 0.8260869565217391,
          "split7_test_score": 0.7727272727272727,
          "split8_test_score": 0.7272727272727273,
          "split9_test_score": 0.7727272727272727,
          "std_fit_time": 0.013228026961734854,
          "std_score_time": 0.013239304014221517,
          "std_test_score": 0.0981765988696286
         },
         {
          "mean_fit_time": 0.020466208457946777,
          "mean_score_time": 0.026751327514648437,
          "mean_test_score": 0.7142292490118577,
          "param_kneighborsclassifier__n_neighbors": 77,
          "params": {
           "kneighborsclassifier__n_neighbors": 77
          },
          "rank_test_score": 70,
          "split0_test_score": 0.782608695652174,
          "split1_test_score": 0.782608695652174,
          "split2_test_score": 0.6956521739130435,
          "split3_test_score": 0.4782608695652174,
          "split4_test_score": 0.6086956521739131,
          "split5_test_score": 0.7391304347826086,
          "split6_test_score": 0.782608695652174,
          "split7_test_score": 0.7727272727272727,
          "split8_test_score": 0.7272727272727273,
          "split9_test_score": 0.7727272727272727,
          "std_fit_time": 0.0015373474987993695,
          "std_score_time": 0.01669983980942752,
          "std_test_score": 0.09424702063360503
         },
         {
          "mean_fit_time": 0.018641281127929687,
          "mean_score_time": 0.015880227088928223,
          "mean_test_score": 0.7185770750988143,
          "param_kneighborsclassifier__n_neighbors": 78,
          "params": {
           "kneighborsclassifier__n_neighbors": 78
          },
          "rank_test_score": 54,
          "split0_test_score": 0.782608695652174,
          "split1_test_score": 0.782608695652174,
          "split2_test_score": 0.6956521739130435,
          "split3_test_score": 0.5652173913043478,
          "split4_test_score": 0.6086956521739131,
          "split5_test_score": 0.6956521739130435,
          "split6_test_score": 0.782608695652174,
          "split7_test_score": 0.7727272727272727,
          "split8_test_score": 0.7272727272727273,
          "split9_test_score": 0.7727272727272727,
          "std_fit_time": 0.0006488450243181468,
          "std_score_time": 0.0006665991203423683,
          "std_test_score": 0.07408405319061225
         },
         {
          "mean_fit_time": 0.016074228286743163,
          "mean_score_time": 0.013693499565124511,
          "mean_test_score": 0.7142292490118577,
          "param_kneighborsclassifier__n_neighbors": 79,
          "params": {
           "kneighborsclassifier__n_neighbors": 79
          },
          "rank_test_score": 70,
          "split0_test_score": 0.782608695652174,
          "split1_test_score": 0.782608695652174,
          "split2_test_score": 0.6956521739130435,
          "split3_test_score": 0.5217391304347826,
          "split4_test_score": 0.6086956521739131,
          "split5_test_score": 0.6956521739130435,
          "split6_test_score": 0.782608695652174,
          "split7_test_score": 0.7727272727272727,
          "split8_test_score": 0.7272727272727273,
          "split9_test_score": 0.7727272727272727,
          "std_fit_time": 0.004091511594326764,
          "std_score_time": 0.0035300478747899602,
          "std_test_score": 0.08361902732075523
         },
         {
          "mean_fit_time": 0.007976269721984864,
          "mean_score_time": 0.006838035583496094,
          "mean_test_score": 0.7183794466403162,
          "param_kneighborsclassifier__n_neighbors": 80,
          "params": {
           "kneighborsclassifier__n_neighbors": 80
          },
          "rank_test_score": 57,
          "split0_test_score": 0.782608695652174,
          "split1_test_score": 0.8260869565217391,
          "split2_test_score": 0.6956521739130435,
          "split3_test_score": 0.5217391304347826,
          "split4_test_score": 0.6521739130434783,
          "split5_test_score": 0.6956521739130435,
          "split6_test_score": 0.782608695652174,
          "split7_test_score": 0.7727272727272727,
          "split8_test_score": 0.6818181818181818,
          "split9_test_score": 0.7727272727272727,
          "std_fit_time": 0.00013990301661334764,
          "std_score_time": 0.0002064427033331846,
          "std_test_score": 0.08436791067447126
         },
         {
          "mean_fit_time": 0.007977652549743652,
          "mean_score_time": 0.006808829307556152,
          "mean_test_score": 0.7096837944664032,
          "param_kneighborsclassifier__n_neighbors": 81,
          "params": {
           "kneighborsclassifier__n_neighbors": 81
          },
          "rank_test_score": 85,
          "split0_test_score": 0.782608695652174,
          "split1_test_score": 0.782608695652174,
          "split2_test_score": 0.6956521739130435,
          "split3_test_score": 0.4782608695652174,
          "split4_test_score": 0.6521739130434783,
          "split5_test_score": 0.6956521739130435,
          "split6_test_score": 0.782608695652174,
          "split7_test_score": 0.7727272727272727,
          "split8_test_score": 0.6818181818181818,
          "split9_test_score": 0.7727272727272727,
          "std_fit_time": 0.0001628918952195418,
          "std_score_time": 9.209736923387645e-05,
          "std_test_score": 0.09051922762120054
         },
         {
          "mean_fit_time": 0.007932806015014648,
          "mean_score_time": 0.006769418716430664,
          "mean_test_score": 0.7181818181818181,
          "param_kneighborsclassifier__n_neighbors": 82,
          "params": {
           "kneighborsclassifier__n_neighbors": 82
          },
          "rank_test_score": 65,
          "split0_test_score": 0.782608695652174,
          "split1_test_score": 0.782608695652174,
          "split2_test_score": 0.6956521739130435,
          "split3_test_score": 0.5652173913043478,
          "split4_test_score": 0.6521739130434783,
          "split5_test_score": 0.6956521739130435,
          "split6_test_score": 0.8260869565217391,
          "split7_test_score": 0.7727272727272727,
          "split8_test_score": 0.6363636363636364,
          "split9_test_score": 0.7727272727272727,
          "std_fit_time": 0.00010975566078091041,
          "std_score_time": 0.00010567458071306069,
          "std_test_score": 0.07833270149366205
         },
         {
          "mean_fit_time": 0.008146142959594727,
          "mean_score_time": 0.006799674034118653,
          "mean_test_score": 0.7140316205533597,
          "param_kneighborsclassifier__n_neighbors": 83,
          "params": {
           "kneighborsclassifier__n_neighbors": 83
          },
          "rank_test_score": 73,
          "split0_test_score": 0.782608695652174,
          "split1_test_score": 0.782608695652174,
          "split2_test_score": 0.6956521739130435,
          "split3_test_score": 0.4782608695652174,
          "split4_test_score": 0.6956521739130435,
          "split5_test_score": 0.6956521739130435,
          "split6_test_score": 0.782608695652174,
          "split7_test_score": 0.7727272727272727,
          "split8_test_score": 0.6818181818181818,
          "split9_test_score": 0.7727272727272727,
          "std_fit_time": 0.0005263353003161536,
          "std_score_time": 0.00010595663129126332,
          "std_test_score": 0.08867793958400112
         },
         {
          "mean_fit_time": 0.007963991165161133,
          "mean_score_time": 0.0067760229110717775,
          "mean_test_score": 0.7051383399209487,
          "param_kneighborsclassifier__n_neighbors": 84,
          "params": {
           "kneighborsclassifier__n_neighbors": 84
          },
          "rank_test_score": 93,
          "split0_test_score": 0.782608695652174,
          "split1_test_score": 0.782608695652174,
          "split2_test_score": 0.6521739130434783,
          "split3_test_score": 0.5217391304347826,
          "split4_test_score": 0.6521739130434783,
          "split5_test_score": 0.6956521739130435,
          "split6_test_score": 0.782608695652174,
          "split7_test_score": 0.7727272727272727,
          "split8_test_score": 0.6363636363636364,
          "split9_test_score": 0.7727272727272727,
          "std_fit_time": 0.0001242615676884968,
          "std_score_time": 9.636771908372553e-05,
          "std_test_score": 0.08438434332929154
         },
         {
          "mean_fit_time": 0.007932519912719727,
          "mean_score_time": 0.006744980812072754,
          "mean_test_score": 0.7094861660079052,
          "param_kneighborsclassifier__n_neighbors": 85,
          "params": {
           "kneighborsclassifier__n_neighbors": 85
          },
          "rank_test_score": 86,
          "split0_test_score": 0.782608695652174,
          "split1_test_score": 0.782608695652174,
          "split2_test_score": 0.6521739130434783,
          "split3_test_score": 0.5217391304347826,
          "split4_test_score": 0.6956521739130435,
          "split5_test_score": 0.6956521739130435,
          "split6_test_score": 0.782608695652174,
          "split7_test_score": 0.7727272727272727,
          "split8_test_score": 0.6363636363636364,
          "split9_test_score": 0.7727272727272727,
          "std_fit_time": 8.364552877601592e-05,
          "std_score_time": 0.0001076398099982846,
          "std_test_score": 0.08264556546204034
         },
         {
          "mean_fit_time": 0.00792257785797119,
          "mean_score_time": 0.006826925277709961,
          "mean_test_score": 0.7094861660079052,
          "param_kneighborsclassifier__n_neighbors": 86,
          "params": {
           "kneighborsclassifier__n_neighbors": 86
          },
          "rank_test_score": 86,
          "split0_test_score": 0.782608695652174,
          "split1_test_score": 0.8260869565217391,
          "split2_test_score": 0.6521739130434783,
          "split3_test_score": 0.5217391304347826,
          "split4_test_score": 0.6956521739130435,
          "split5_test_score": 0.6521739130434783,
          "split6_test_score": 0.782608695652174,
          "split7_test_score": 0.7727272727272727,
          "split8_test_score": 0.6363636363636364,
          "split9_test_score": 0.7727272727272727,
          "std_fit_time": 9.045703007086976e-05,
          "std_score_time": 0.00017859046960005544,
          "std_test_score": 0.08924407538590769
         },
         {
          "mean_fit_time": 0.008153843879699706,
          "mean_score_time": 0.007555627822875976,
          "mean_test_score": 0.7094861660079052,
          "param_kneighborsclassifier__n_neighbors": 87,
          "params": {
           "kneighborsclassifier__n_neighbors": 87
          },
          "rank_test_score": 86,
          "split0_test_score": 0.782608695652174,
          "split1_test_score": 0.8260869565217391,
          "split2_test_score": 0.6521739130434783,
          "split3_test_score": 0.4782608695652174,
          "split4_test_score": 0.6956521739130435,
          "split5_test_score": 0.6956521739130435,
          "split6_test_score": 0.782608695652174,
          "split7_test_score": 0.7727272727272727,
          "split8_test_score": 0.6363636363636364,
          "split9_test_score": 0.7727272727272727,
          "std_fit_time": 0.00033188075254730133,
          "std_score_time": 0.0017033752678157663,
          "std_test_score": 0.09734881779497451
         },
         {
          "mean_fit_time": 0.014590239524841309,
          "mean_score_time": 0.01025240421295166,
          "mean_test_score": 0.7181818181818181,
          "param_kneighborsclassifier__n_neighbors": 88,
          "params": {
           "kneighborsclassifier__n_neighbors": 88
          },
          "rank_test_score": 65,
          "split0_test_score": 0.782608695652174,
          "split1_test_score": 0.8260869565217391,
          "split2_test_score": 0.6956521739130435,
          "split3_test_score": 0.5217391304347826,
          "split4_test_score": 0.6956521739130435,
          "split5_test_score": 0.6521739130434783,
          "split6_test_score": 0.8260869565217391,
          "split7_test_score": 0.7727272727272727,
          "split8_test_score": 0.6363636363636364,
          "split9_test_score": 0.7727272727272727,
          "std_fit_time": 0.013021569837565255,
          "std_score_time": 0.009281463864628827,
          "std_test_score": 0.0916757499297689
         },
         {
          "mean_fit_time": 0.009108948707580566,
          "mean_score_time": 0.00806894302368164,
          "mean_test_score": 0.7094861660079052,
          "param_kneighborsclassifier__n_neighbors": 89,
          "params": {
           "kneighborsclassifier__n_neighbors": 89
          },
          "rank_test_score": 86,
          "split0_test_score": 0.782608695652174,
          "split1_test_score": 0.8260869565217391,
          "split2_test_score": 0.6956521739130435,
          "split3_test_score": 0.4782608695652174,
          "split4_test_score": 0.6956521739130435,
          "split5_test_score": 0.6521739130434783,
          "split6_test_score": 0.782608695652174,
          "split7_test_score": 0.7727272727272727,
          "split8_test_score": 0.6363636363636364,
          "split9_test_score": 0.7727272727272727,
          "std_fit_time": 0.00029973205935750625,
          "std_score_time": 0.0008790177390565474,
          "std_test_score": 0.09734881779497451
         },
         {
          "mean_fit_time": 0.016318106651306154,
          "mean_score_time": 0.007754731178283692,
          "mean_test_score": 0.7138339920948618,
          "param_kneighborsclassifier__n_neighbors": 90,
          "params": {
           "kneighborsclassifier__n_neighbors": 90
          },
          "rank_test_score": 74,
          "split0_test_score": 0.782608695652174,
          "split1_test_score": 0.8260869565217391,
          "split2_test_score": 0.6956521739130435,
          "split3_test_score": 0.5217391304347826,
          "split4_test_score": 0.6956521739130435,
          "split5_test_score": 0.6521739130434783,
          "split6_test_score": 0.782608695652174,
          "split7_test_score": 0.7727272727272727,
          "split8_test_score": 0.6363636363636364,
          "split9_test_score": 0.7727272727272727,
          "std_fit_time": 0.015009305817237549,
          "std_score_time": 0.00017723188060498428,
          "std_test_score": 0.08738575341292984
         },
         {
          "mean_fit_time": 0.009426283836364745,
          "mean_score_time": 0.010132336616516113,
          "mean_test_score": 0.7051383399209488,
          "param_kneighborsclassifier__n_neighbors": 91,
          "params": {
           "kneighborsclassifier__n_neighbors": 91
          },
          "rank_test_score": 92,
          "split0_test_score": 0.782608695652174,
          "split1_test_score": 0.8260869565217391,
          "split2_test_score": 0.6521739130434783,
          "split3_test_score": 0.4782608695652174,
          "split4_test_score": 0.6956521739130435,
          "split5_test_score": 0.6521739130434783,
          "split6_test_score": 0.782608695652174,
          "split7_test_score": 0.7727272727272727,
          "split8_test_score": 0.6363636363636364,
          "split9_test_score": 0.7727272727272727,
          "std_fit_time": 0.0003996907690062377,
          "std_score_time": 0.006218784628043329,
          "std_test_score": 0.0988292478705292
         },
         {
          "mean_fit_time": 0.009233760833740234,
          "mean_score_time": 0.007882809638977051,
          "mean_test_score": 0.7138339920948616,
          "param_kneighborsclassifier__n_neighbors": 92,
          "params": {
           "kneighborsclassifier__n_neighbors": 92
          },
          "rank_test_score": 76,
          "split0_test_score": 0.782608695652174,
          "split1_test_score": 0.8260869565217391,
          "split2_test_score": 0.6956521739130435,
          "split3_test_score": 0.4782608695652174,
          "split4_test_score": 0.6956521739130435,
          "split5_test_score": 0.6521739130434783,
          "split6_test_score": 0.8260869565217391,
          "split7_test_score": 0.7727272727272727,
          "split8_test_score": 0.6363636363636364,
          "split9_test_score": 0.7727272727272727,
          "std_fit_time": 0.00036389064415288605,
          "std_score_time": 0.00026686008372309015,
          "std_test_score": 0.10140400749025716
         },
         {
          "mean_fit_time": 0.009283494949340821,
          "mean_score_time": 0.008076786994934082,
          "mean_test_score": 0.7138339920948616,
          "param_kneighborsclassifier__n_neighbors": 93,
          "params": {
           "kneighborsclassifier__n_neighbors": 93
          },
          "rank_test_score": 76,
          "split0_test_score": 0.782608695652174,
          "split1_test_score": 0.8695652173913043,
          "split2_test_score": 0.6521739130434783,
          "split3_test_score": 0.4782608695652174,
          "split4_test_score": 0.6956521739130435,
          "split5_test_score": 0.6956521739130435,
          "split6_test_score": 0.782608695652174,
          "split7_test_score": 0.7727272727272727,
          "split8_test_score": 0.6363636363636364,
          "split9_test_score": 0.7727272727272727,
          "std_fit_time": 0.0001567280685619693,
          "std_score_time": 0.00020953841753640608,
          "std_test_score": 0.10325136594124323
         },
         {
          "mean_fit_time": 0.00897676944732666,
          "mean_score_time": 0.007662582397460938,
          "mean_test_score": 0.7094861660079052,
          "param_kneighborsclassifier__n_neighbors": 94,
          "params": {
           "kneighborsclassifier__n_neighbors": 94
          },
          "rank_test_score": 86,
          "split0_test_score": 0.782608695652174,
          "split1_test_score": 0.8260869565217391,
          "split2_test_score": 0.6956521739130435,
          "split3_test_score": 0.4782608695652174,
          "split4_test_score": 0.6956521739130435,
          "split5_test_score": 0.6521739130434783,
          "split6_test_score": 0.782608695652174,
          "split7_test_score": 0.7727272727272727,
          "split8_test_score": 0.6363636363636364,
          "split9_test_score": 0.7727272727272727,
          "std_fit_time": 0.0005767292506001556,
          "std_score_time": 0.0005064562612108289,
          "std_test_score": 0.09734881779497451
         },
         {
          "mean_fit_time": 0.008289289474487305,
          "mean_score_time": 0.007093667984008789,
          "mean_test_score": 0.7138339920948616,
          "param_kneighborsclassifier__n_neighbors": 95,
          "params": {
           "kneighborsclassifier__n_neighbors": 95
          },
          "rank_test_score": 76,
          "split0_test_score": 0.782608695652174,
          "split1_test_score": 0.8260869565217391,
          "split2_test_score": 0.6956521739130435,
          "split3_test_score": 0.4782608695652174,
          "split4_test_score": 0.6956521739130435,
          "split5_test_score": 0.6956521739130435,
          "split6_test_score": 0.782608695652174,
          "split7_test_score": 0.7727272727272727,
          "split8_test_score": 0.6363636363636364,
          "split9_test_score": 0.7727272727272727,
          "std_fit_time": 0.0003282282488637437,
          "std_score_time": 0.0003130878430287594,
          "std_test_score": 0.09564809059327295
         },
         {
          "mean_fit_time": 0.009781146049499511,
          "mean_score_time": 0.008451128005981445,
          "mean_test_score": 0.7181818181818183,
          "param_kneighborsclassifier__n_neighbors": 96,
          "params": {
           "kneighborsclassifier__n_neighbors": 96
          },
          "rank_test_score": 64,
          "split0_test_score": 0.782608695652174,
          "split1_test_score": 0.8260869565217391,
          "split2_test_score": 0.6956521739130435,
          "split3_test_score": 0.4782608695652174,
          "split4_test_score": 0.782608695652174,
          "split5_test_score": 0.6521739130434783,
          "split6_test_score": 0.782608695652174,
          "split7_test_score": 0.7727272727272727,
          "split8_test_score": 0.6363636363636364,
          "split9_test_score": 0.7727272727272727,
          "std_fit_time": 0.00030483853902666985,
          "std_score_time": 0.0003180159281320483,
          "std_test_score": 0.09958278194436573
         },
         {
          "mean_fit_time": 0.009535813331604004,
          "mean_score_time": 0.00816795825958252,
          "mean_test_score": 0.7138339920948618,
          "param_kneighborsclassifier__n_neighbors": 97,
          "params": {
           "kneighborsclassifier__n_neighbors": 97
          },
          "rank_test_score": 74,
          "split0_test_score": 0.782608695652174,
          "split1_test_score": 0.8260869565217391,
          "split2_test_score": 0.7391304347826086,
          "split3_test_score": 0.4782608695652174,
          "split4_test_score": 0.6956521739130435,
          "split5_test_score": 0.6521739130434783,
          "split6_test_score": 0.782608695652174,
          "split7_test_score": 0.7727272727272727,
          "split8_test_score": 0.6363636363636364,
          "split9_test_score": 0.7727272727272727,
          "std_fit_time": 0.0001523003047382374,
          "std_score_time": 9.684705017129522e-05,
          "std_test_score": 0.09760445208999097
         },
         {
          "mean_fit_time": 0.009377050399780273,
          "mean_score_time": 0.007989883422851562,
          "mean_test_score": 0.7357707509881422,
          "param_kneighborsclassifier__n_neighbors": 98,
          "params": {
           "kneighborsclassifier__n_neighbors": 98
          },
          "rank_test_score": 9,
          "split0_test_score": 0.782608695652174,
          "split1_test_score": 0.8695652173913043,
          "split2_test_score": 0.7391304347826086,
          "split3_test_score": 0.5217391304347826,
          "split4_test_score": 0.7391304347826086,
          "split5_test_score": 0.6521739130434783,
          "split6_test_score": 0.8260869565217391,
          "split7_test_score": 0.7727272727272727,
          "split8_test_score": 0.6818181818181818,
          "split9_test_score": 0.7727272727272727,
          "std_fit_time": 0.00021142743436046495,
          "std_score_time": 0.00025207122662938066,
          "std_test_score": 0.09312075969515875
         },
         {
          "mean_fit_time": 0.009080314636230468,
          "mean_score_time": 0.0078077554702758786,
          "mean_test_score": 0.7270750988142292,
          "param_kneighborsclassifier__n_neighbors": 99,
          "params": {
           "kneighborsclassifier__n_neighbors": 99
          },
          "rank_test_score": 30,
          "split0_test_score": 0.782608695652174,
          "split1_test_score": 0.8260869565217391,
          "split2_test_score": 0.7391304347826086,
          "split3_test_score": 0.4782608695652174,
          "split4_test_score": 0.6956521739130435,
          "split5_test_score": 0.6956521739130435,
          "split6_test_score": 0.8260869565217391,
          "split7_test_score": 0.7727272727272727,
          "split8_test_score": 0.6818181818181818,
          "split9_test_score": 0.7727272727272727,
          "std_fit_time": 0.0004791100002581888,
          "std_score_time": 0.00044044179209970367,
          "std_test_score": 0.09640319446672183
         }
        ]
       },
       "encoding": {
        "x": {
         "field": "param_kneighborsclassifier__n_neighbors",
         "scale": {
          "zero": false
         },
         "title": "Neighbors",
         "type": "quantitative"
        },
        "y": {
         "field": "mean_test_score",
         "scale": {
          "zero": false
         },
         "title": "Mean Test Score",
         "type": "quantitative"
        }
       },
       "height": 300,
       "mark": {
        "point": true,
        "type": "line"
       },
       "title": "Grid Search",
       "width": 400
      },
      "image/png": "[encoded data removed]",
      "text/plain": [
       "<VegaLite 4 object>\n",
       "\n",
       "If you see this message, it means the renderer has not been properly enabled\n",
       "for the frontend that you are using. For more information, see\n",
       "https://altair-viz.github.io/user_guide/troubleshooting.html\n"
      ]
     },
     "execution_count": 16,
     "metadata": {},
     "output_type": "execute_result"
    }
   ],
   "source": [
    "accuracy_versus_k_grid = (\n",
    "    alt.Chart(accuracies_grid, title=\"Grid Search\")\n",
    "    .mark_line(point=True)\n",
    "    .encode(\n",
    "        x=alt.X(\n",
    "            \"param_kneighborsclassifier__n_neighbors\",\n",
    "            title=\"Neighbors\",\n",
    "            scale=alt.Scale(zero=False),\n",
    "        ),\n",
    "        y=alt.Y(\n",
    "            \"mean_test_score\", \n",
    "            title=\"Mean Test Score\", \n",
    "            scale=alt.Scale(zero=False)\n",
    "        ),\n",
    "    )\n",
    "    .configure_axis(labelFontSize=10, titleFontSize=15)\n",
    "    .properties(width=400, height=300)\n",
    ")\n",
    "\n",
    "accuracy_versus_k_grid"
   ]
  },
  {
   "cell_type": "markdown",
   "id": "47949735-c365-472c-af26-e3d6577fa8ca",
   "metadata": {},
   "source": [
    "From the graph, we can see that K = 55 and 56 has the greatest accuracy. Therefore, when building our classification model we will pick the value of parameter K to be 55."
   ]
  },
  {
   "cell_type": "markdown",
   "id": "e6ec4bef-6978-477b-a3e8-3a5092fa7ed3",
   "metadata": {},
   "source": [
    "### Building our model"
   ]
  },
  {
   "cell_type": "markdown",
   "id": "f0dbda59-e6e7-4ce2-8bf7-fe202d5f8b24",
   "metadata": {},
   "source": [
    "Now, we will build our classifier using the training data and K=55."
   ]
  },
  {
   "cell_type": "code",
   "execution_count": 22,
   "id": "ddbc8af9-d1bb-4164-87d0-9d4b66e760c8",
   "metadata": {},
   "outputs": [
    {
     "data": {
      "text/html": [
       "<style>#sk-container-id-5 {color: black;background-color: white;}#sk-container-id-5 pre{padding: 0;}#sk-container-id-5 div.sk-toggleable {background-color: white;}#sk-container-id-5 label.sk-toggleable__label {cursor: pointer;display: block;width: 100%;margin-bottom: 0;padding: 0.3em;box-sizing: border-box;text-align: center;}#sk-container-id-5 label.sk-toggleable__label-arrow:before {content: \"▸\";float: left;margin-right: 0.25em;color: #696969;}#sk-container-id-5 label.sk-toggleable__label-arrow:hover:before {color: black;}#sk-container-id-5 div.sk-estimator:hover label.sk-toggleable__label-arrow:before {color: black;}#sk-container-id-5 div.sk-toggleable__content {max-height: 0;max-width: 0;overflow: hidden;text-align: left;background-color: #f0f8ff;}#sk-container-id-5 div.sk-toggleable__content pre {margin: 0.2em;color: black;border-radius: 0.25em;background-color: #f0f8ff;}#sk-container-id-5 input.sk-toggleable__control:checked~div.sk-toggleable__content {max-height: 200px;max-width: 100%;overflow: auto;}#sk-container-id-5 input.sk-toggleable__control:checked~label.sk-toggleable__label-arrow:before {content: \"▾\";}#sk-container-id-5 div.sk-estimator input.sk-toggleable__control:checked~label.sk-toggleable__label {background-color: #d4ebff;}#sk-container-id-5 div.sk-label input.sk-toggleable__control:checked~label.sk-toggleable__label {background-color: #d4ebff;}#sk-container-id-5 input.sk-hidden--visually {border: 0;clip: rect(1px 1px 1px 1px);clip: rect(1px, 1px, 1px, 1px);height: 1px;margin: -1px;overflow: hidden;padding: 0;position: absolute;width: 1px;}#sk-container-id-5 div.sk-estimator {font-family: monospace;background-color: #f0f8ff;border: 1px dotted black;border-radius: 0.25em;box-sizing: border-box;margin-bottom: 0.5em;}#sk-container-id-5 div.sk-estimator:hover {background-color: #d4ebff;}#sk-container-id-5 div.sk-parallel-item::after {content: \"\";width: 100%;border-bottom: 1px solid gray;flex-grow: 1;}#sk-container-id-5 div.sk-label:hover label.sk-toggleable__label {background-color: #d4ebff;}#sk-container-id-5 div.sk-serial::before {content: \"\";position: absolute;border-left: 1px solid gray;box-sizing: border-box;top: 0;bottom: 0;left: 50%;z-index: 0;}#sk-container-id-5 div.sk-serial {display: flex;flex-direction: column;align-items: center;background-color: white;padding-right: 0.2em;padding-left: 0.2em;position: relative;}#sk-container-id-5 div.sk-item {position: relative;z-index: 1;}#sk-container-id-5 div.sk-parallel {display: flex;align-items: stretch;justify-content: center;background-color: white;position: relative;}#sk-container-id-5 div.sk-item::before, #sk-container-id-5 div.sk-parallel-item::before {content: \"\";position: absolute;border-left: 1px solid gray;box-sizing: border-box;top: 0;bottom: 0;left: 50%;z-index: -1;}#sk-container-id-5 div.sk-parallel-item {display: flex;flex-direction: column;z-index: 1;position: relative;background-color: white;}#sk-container-id-5 div.sk-parallel-item:first-child::after {align-self: flex-end;width: 50%;}#sk-container-id-5 div.sk-parallel-item:last-child::after {align-self: flex-start;width: 50%;}#sk-container-id-5 div.sk-parallel-item:only-child::after {width: 0;}#sk-container-id-5 div.sk-dashed-wrapped {border: 1px dashed gray;margin: 0 0.4em 0.5em 0.4em;box-sizing: border-box;padding-bottom: 0.4em;background-color: white;}#sk-container-id-5 div.sk-label label {font-family: monospace;font-weight: bold;display: inline-block;line-height: 1.2em;}#sk-container-id-5 div.sk-label-container {text-align: center;}#sk-container-id-5 div.sk-container {/* jupyter's `normalize.less` sets `[hidden] { display: none; }` but bootstrap.min.css set `[hidden] { display: none !important; }` so we also need the `!important` here to be able to override the default hidden behavior on the sphinx rendered scikit-learn.org. See: https://github.com/scikit-learn/scikit-learn/issues/21755 */display: inline-block !important;position: relative;}#sk-container-id-5 div.sk-text-repr-fallback {display: none;}</style><div id=\"sk-container-id-5\" class=\"sk-top-container\"><div class=\"sk-text-repr-fallback\"><pre>Pipeline(steps=[(&#x27;columntransformer&#x27;,\n",
       "                 ColumnTransformer(transformers=[(&#x27;passthrough&#x27;, &#x27;passthrough&#x27;,\n",
       "                                                  [&#x27;Chest_Pain_Type&#x27;,\n",
       "                                                   &#x27;Fasting_Blood_Sugar&#x27;]),\n",
       "                                                 (&#x27;standardscaler&#x27;,\n",
       "                                                  StandardScaler(),\n",
       "                                                  [&#x27;Age&#x27;, &#x27;Serum_Cholesterol&#x27;,\n",
       "                                                   &#x27;Max_Heart_Rate&#x27;])])),\n",
       "                (&#x27;kneighborsclassifier&#x27;, KNeighborsClassifier(n_neighbors=55))])</pre><b>In a Jupyter environment, please rerun this cell to show the HTML representation or trust the notebook. <br />On GitHub, the HTML representation is unable to render, please try loading this page with nbviewer.org.</b></div><div class=\"sk-container\" hidden><div class=\"sk-item sk-dashed-wrapped\"><div class=\"sk-label-container\"><div class=\"sk-label sk-toggleable\"><input class=\"sk-toggleable__control sk-hidden--visually\" id=\"sk-estimator-id-27\" type=\"checkbox\" ><label for=\"sk-estimator-id-27\" class=\"sk-toggleable__label sk-toggleable__label-arrow\">Pipeline</label><div class=\"sk-toggleable__content\"><pre>Pipeline(steps=[(&#x27;columntransformer&#x27;,\n",
       "                 ColumnTransformer(transformers=[(&#x27;passthrough&#x27;, &#x27;passthrough&#x27;,\n",
       "                                                  [&#x27;Chest_Pain_Type&#x27;,\n",
       "                                                   &#x27;Fasting_Blood_Sugar&#x27;]),\n",
       "                                                 (&#x27;standardscaler&#x27;,\n",
       "                                                  StandardScaler(),\n",
       "                                                  [&#x27;Age&#x27;, &#x27;Serum_Cholesterol&#x27;,\n",
       "                                                   &#x27;Max_Heart_Rate&#x27;])])),\n",
       "                (&#x27;kneighborsclassifier&#x27;, KNeighborsClassifier(n_neighbors=55))])</pre></div></div></div><div class=\"sk-serial\"><div class=\"sk-item sk-dashed-wrapped\"><div class=\"sk-label-container\"><div class=\"sk-label sk-toggleable\"><input class=\"sk-toggleable__control sk-hidden--visually\" id=\"sk-estimator-id-28\" type=\"checkbox\" ><label for=\"sk-estimator-id-28\" class=\"sk-toggleable__label sk-toggleable__label-arrow\">columntransformer: ColumnTransformer</label><div class=\"sk-toggleable__content\"><pre>ColumnTransformer(transformers=[(&#x27;passthrough&#x27;, &#x27;passthrough&#x27;,\n",
       "                                 [&#x27;Chest_Pain_Type&#x27;, &#x27;Fasting_Blood_Sugar&#x27;]),\n",
       "                                (&#x27;standardscaler&#x27;, StandardScaler(),\n",
       "                                 [&#x27;Age&#x27;, &#x27;Serum_Cholesterol&#x27;,\n",
       "                                  &#x27;Max_Heart_Rate&#x27;])])</pre></div></div></div><div class=\"sk-parallel\"><div class=\"sk-parallel-item\"><div class=\"sk-item\"><div class=\"sk-label-container\"><div class=\"sk-label sk-toggleable\"><input class=\"sk-toggleable__control sk-hidden--visually\" id=\"sk-estimator-id-29\" type=\"checkbox\" ><label for=\"sk-estimator-id-29\" class=\"sk-toggleable__label sk-toggleable__label-arrow\">passthrough</label><div class=\"sk-toggleable__content\"><pre>[&#x27;Chest_Pain_Type&#x27;, &#x27;Fasting_Blood_Sugar&#x27;]</pre></div></div></div><div class=\"sk-serial\"><div class=\"sk-item\"><div class=\"sk-estimator sk-toggleable\"><input class=\"sk-toggleable__control sk-hidden--visually\" id=\"sk-estimator-id-30\" type=\"checkbox\" ><label for=\"sk-estimator-id-30\" class=\"sk-toggleable__label sk-toggleable__label-arrow\">passthrough</label><div class=\"sk-toggleable__content\"><pre>passthrough</pre></div></div></div></div></div></div><div class=\"sk-parallel-item\"><div class=\"sk-item\"><div class=\"sk-label-container\"><div class=\"sk-label sk-toggleable\"><input class=\"sk-toggleable__control sk-hidden--visually\" id=\"sk-estimator-id-31\" type=\"checkbox\" ><label for=\"sk-estimator-id-31\" class=\"sk-toggleable__label sk-toggleable__label-arrow\">standardscaler</label><div class=\"sk-toggleable__content\"><pre>[&#x27;Age&#x27;, &#x27;Serum_Cholesterol&#x27;, &#x27;Max_Heart_Rate&#x27;]</pre></div></div></div><div class=\"sk-serial\"><div class=\"sk-item\"><div class=\"sk-estimator sk-toggleable\"><input class=\"sk-toggleable__control sk-hidden--visually\" id=\"sk-estimator-id-32\" type=\"checkbox\" ><label for=\"sk-estimator-id-32\" class=\"sk-toggleable__label sk-toggleable__label-arrow\">StandardScaler</label><div class=\"sk-toggleable__content\"><pre>StandardScaler()</pre></div></div></div></div></div></div></div></div><div class=\"sk-item\"><div class=\"sk-estimator sk-toggleable\"><input class=\"sk-toggleable__control sk-hidden--visually\" id=\"sk-estimator-id-33\" type=\"checkbox\" ><label for=\"sk-estimator-id-33\" class=\"sk-toggleable__label sk-toggleable__label-arrow\">KNeighborsClassifier</label><div class=\"sk-toggleable__content\"><pre>KNeighborsClassifier(n_neighbors=55)</pre></div></div></div></div></div></div></div>"
      ],
      "text/plain": [
       "Pipeline(steps=[('columntransformer',\n",
       "                 ColumnTransformer(transformers=[('passthrough', 'passthrough',\n",
       "                                                  ['Chest_Pain_Type',\n",
       "                                                   'Fasting_Blood_Sugar']),\n",
       "                                                 ('standardscaler',\n",
       "                                                  StandardScaler(),\n",
       "                                                  ['Age', 'Serum_Cholesterol',\n",
       "                                                   'Max_Heart_Rate'])])),\n",
       "                ('kneighborsclassifier', KNeighborsClassifier(n_neighbors=55))])"
      ]
     },
     "execution_count": 22,
     "metadata": {},
     "output_type": "execute_result"
    }
   ],
   "source": [
    "knn_spec = KNeighborsClassifier(n_neighbors=55)\n",
    "\n",
    "X = heart_train[[\"Age\",\"Chest_Pain_Type\",\"Fasting_Blood_Sugar\", \"Serum_Cholesterol\", \"Max_Heart_Rate\"]]\n",
    "y = heart_train[\"Diagnosis\"]\n",
    "\n",
    "heart_fit = make_pipeline(heart_preprocessor, knn_spec).fit(X, y)\n",
    "heart_fit"
   ]
  },
  {
   "cell_type": "markdown",
   "id": "d7054be8-281d-42be-9a2c-dc2dcc4f1c8b",
   "metadata": {},
   "source": [
    "#### Predicting Diagnosis for the test data"
   ]
  },
  {
   "cell_type": "code",
   "execution_count": 23,
   "id": "ffb620c6-de4e-42f3-9a07-e7b95c277478",
   "metadata": {},
   "outputs": [
    {
     "data": {
      "text/html": [
       "<div>\n",
       "<style scoped>\n",
       "    .dataframe tbody tr th:only-of-type {\n",
       "        vertical-align: middle;\n",
       "    }\n",
       "\n",
       "    .dataframe tbody tr th {\n",
       "        vertical-align: top;\n",
       "    }\n",
       "\n",
       "    .dataframe thead th {\n",
       "        text-align: right;\n",
       "    }\n",
       "</style>\n",
       "<table border=\"1\" class=\"dataframe\">\n",
       "  <thead>\n",
       "    <tr style=\"text-align: right;\">\n",
       "      <th></th>\n",
       "      <th>Age</th>\n",
       "      <th>Chest_Pain_Type</th>\n",
       "      <th>Fasting_Blood_Sugar</th>\n",
       "      <th>Serum_Cholesterol</th>\n",
       "      <th>Max_Heart_Rate</th>\n",
       "      <th>Diagnosis</th>\n",
       "      <th>predicted</th>\n",
       "    </tr>\n",
       "  </thead>\n",
       "  <tbody>\n",
       "    <tr>\n",
       "      <th>0</th>\n",
       "      <td>44</td>\n",
       "      <td>3</td>\n",
       "      <td>0.0</td>\n",
       "      <td>226.0</td>\n",
       "      <td>169</td>\n",
       "      <td>False</td>\n",
       "      <td>0.0</td>\n",
       "    </tr>\n",
       "    <tr>\n",
       "      <th>1</th>\n",
       "      <td>41</td>\n",
       "      <td>2</td>\n",
       "      <td>0.0</td>\n",
       "      <td>235.0</td>\n",
       "      <td>153</td>\n",
       "      <td>False</td>\n",
       "      <td>0.0</td>\n",
       "    </tr>\n",
       "    <tr>\n",
       "      <th>2</th>\n",
       "      <td>64</td>\n",
       "      <td>4</td>\n",
       "      <td>0.0</td>\n",
       "      <td>263.0</td>\n",
       "      <td>105</td>\n",
       "      <td>False</td>\n",
       "      <td>1.0</td>\n",
       "    </tr>\n",
       "    <tr>\n",
       "      <th>3</th>\n",
       "      <td>60</td>\n",
       "      <td>3</td>\n",
       "      <td>0.0</td>\n",
       "      <td>185.0</td>\n",
       "      <td>155</td>\n",
       "      <td>True</td>\n",
       "      <td>0.0</td>\n",
       "    </tr>\n",
       "    <tr>\n",
       "      <th>4</th>\n",
       "      <td>53</td>\n",
       "      <td>4</td>\n",
       "      <td>1.0</td>\n",
       "      <td>203.0</td>\n",
       "      <td>155</td>\n",
       "      <td>True</td>\n",
       "      <td>1.0</td>\n",
       "    </tr>\n",
       "    <tr>\n",
       "      <th>5</th>\n",
       "      <td>67</td>\n",
       "      <td>3</td>\n",
       "      <td>0.0</td>\n",
       "      <td>212.0</td>\n",
       "      <td>150</td>\n",
       "      <td>True</td>\n",
       "      <td>1.0</td>\n",
       "    </tr>\n",
       "    <tr>\n",
       "      <th>6</th>\n",
       "      <td>41</td>\n",
       "      <td>3</td>\n",
       "      <td>0.0</td>\n",
       "      <td>268.0</td>\n",
       "      <td>172</td>\n",
       "      <td>False</td>\n",
       "      <td>0.0</td>\n",
       "    </tr>\n",
       "    <tr>\n",
       "      <th>7</th>\n",
       "      <td>42</td>\n",
       "      <td>3</td>\n",
       "      <td>1.0</td>\n",
       "      <td>240.0</td>\n",
       "      <td>194</td>\n",
       "      <td>False</td>\n",
       "      <td>0.0</td>\n",
       "    </tr>\n",
       "    <tr>\n",
       "      <th>8</th>\n",
       "      <td>54</td>\n",
       "      <td>4</td>\n",
       "      <td>0.0</td>\n",
       "      <td>286.0</td>\n",
       "      <td>116</td>\n",
       "      <td>True</td>\n",
       "      <td>1.0</td>\n",
       "    </tr>\n",
       "    <tr>\n",
       "      <th>9</th>\n",
       "      <td>56</td>\n",
       "      <td>2</td>\n",
       "      <td>0.0</td>\n",
       "      <td>294.0</td>\n",
       "      <td>153</td>\n",
       "      <td>False</td>\n",
       "      <td>0.0</td>\n",
       "    </tr>\n",
       "  </tbody>\n",
       "</table>\n",
       "</div>"
      ],
      "text/plain": [
       "   Age  Chest_Pain_Type  Fasting_Blood_Sugar  Serum_Cholesterol  \\\n",
       "0   44                3                  0.0              226.0   \n",
       "1   41                2                  0.0              235.0   \n",
       "2   64                4                  0.0              263.0   \n",
       "3   60                3                  0.0              185.0   \n",
       "4   53                4                  1.0              203.0   \n",
       "5   67                3                  0.0              212.0   \n",
       "6   41                3                  0.0              268.0   \n",
       "7   42                3                  1.0              240.0   \n",
       "8   54                4                  0.0              286.0   \n",
       "9   56                2                  0.0              294.0   \n",
       "\n",
       "   Max_Heart_Rate  Diagnosis  predicted  \n",
       "0             169      False        0.0  \n",
       "1             153      False        0.0  \n",
       "2             105      False        1.0  \n",
       "3             155       True        0.0  \n",
       "4             155       True        1.0  \n",
       "5             150       True        1.0  \n",
       "6             172      False        0.0  \n",
       "7             194      False        0.0  \n",
       "8             116       True        1.0  \n",
       "9             153      False        0.0  "
      ]
     },
     "execution_count": 23,
     "metadata": {},
     "output_type": "execute_result"
    }
   ],
   "source": [
    "# Passing the fitted model and the test dataset to the predict function\n",
    "heart_test_predictions = heart_fit.predict(heart_test[[\"Age\",\"Chest_Pain_Type\",\"Fasting_Blood_Sugar\", \"Serum_Cholesterol\", \"Max_Heart_Rate\"]])\n",
    "\n",
    "heart_test_predictions = pd.concat(\n",
    "    [\n",
    "        heart_test.reset_index(drop=True),\n",
    "        pd.DataFrame(heart_test_predictions, columns=[\"predicted\"]),\n",
    "    ],\n",
    "    axis=1,\n",
    ")\n",
    "heart_test_predictions.head(10)"
   ]
  },
  {
   "cell_type": "markdown",
   "id": "bcf74873-3ab9-4dae-a01c-90f208cf64cb",
   "metadata": {},
   "source": [
    "### Testing the accuracy of our model"
   ]
  },
  {
   "cell_type": "markdown",
   "id": "00016938-6979-4961-bc1b-9ca4e29e19ea",
   "metadata": {},
   "source": [
    "Here, we use the score function to get statistics about the quality of our model. We named the predictors as X_test and the target variable as y_test"
   ]
  },
  {
   "cell_type": "code",
   "execution_count": 24,
   "id": "45a711bf-c5ac-4bb4-8053-dedc1b38823b",
   "metadata": {},
   "outputs": [
    {
     "data": {
      "text/plain": [
       "0.7763157894736842"
      ]
     },
     "execution_count": 24,
     "metadata": {},
     "output_type": "execute_result"
    }
   ],
   "source": [
    "X_test = heart_test[[\"Age\",\"Chest_Pain_Type\",\"Fasting_Blood_Sugar\", \"Serum_Cholesterol\", \"Max_Heart_Rate\"]]\n",
    "y_test = heart_test[\"Diagnosis\"]\n",
    "\n",
    "heart_prediction_accuracy = heart_fit.score(X_test, y_test)\n",
    "heart_prediction_accuracy"
   ]
  },
  {
   "cell_type": "markdown",
   "id": "ccf82c95-4ab0-4a71-b2ae-31214cef1448",
   "metadata": {},
   "source": [
    "### Creating a confusion matrix"
   ]
  },
  {
   "cell_type": "markdown",
   "id": "74fd33ab-1a6a-4c8e-9f60-bc7e9fa973e2",
   "metadata": {},
   "source": [
    "We create a confusion matrix to see the table of predicted labels and true labels."
   ]
  },
  {
   "cell_type": "code",
   "execution_count": 27,
   "id": "b542bca7-d986-4ad6-9f26-d253ad7e9d71",
   "metadata": {},
   "outputs": [
    {
     "data": {
      "text/plain": [
       "<sklearn.metrics._plot.confusion_matrix.ConfusionMatrixDisplay at 0x7f3c6cbfadd0>"
      ]
     },
     "execution_count": 27,
     "metadata": {},
     "output_type": "execute_result"
    },
    {
     "data": {
      "image/png": "[encoded data removed]",
      "text/plain": [
       "<Figure size 640x480 with 2 Axes>"
      ]
     },
     "metadata": {},
     "output_type": "display_data"
    }
   ],
   "source": [
    "from sklearn.metrics import ConfusionMatrixDisplay\n",
    "\n",
    "heart_mat = confusion_matrix(\n",
    "    heart_test_predictions[\"Diagnosis\"],  # true labels\n",
    "    heart_test_predictions[\"predicted\"],  # predicted labels\n",
    "    labels=heart_fit.classes_, # specify the label for each class\n",
    ")\n",
    "\n",
    "disp = ConfusionMatrixDisplay(\n",
    "    confusion_matrix=heart_mat, display_labels=heart_fit.classes_\n",
    ")\n",
    "disp.plot()\n"
   ]
  },
  {
   "cell_type": "markdown",
   "id": "798e0334-52bd-4df8-a133-0ae7cc783a28",
   "metadata": {},
   "source": [
    "We can see from the confusion matrix that there are 11 false negative reports and 6 false positive reports. Also, there were 59 reports that were correctly diagnosed."
   ]
  },
  {
   "cell_type": "markdown",
   "id": "3d6d1fc3-6fca-4e8b-84b0-2b40903d973f",
   "metadata": {
    "tags": []
   },
   "source": [
    "### Methods"
   ]
  },
  {
   "cell_type": "markdown",
   "id": "b4c25b19-0e93-4f35-a976-9328290d6383",
   "metadata": {},
   "source": [
    "### Our data analysis procedure"
   ]
  },
  {
   "cell_type": "markdown",
   "id": "bb01447b-ee57-4aee-82aa-9c283531d955",
   "metadata": {},
   "source": [
    "We first started by loading our dataset from the original source on the web using the pandas read_csv function and giving appropriate column headings to each column. Then, we filtered the dataset to include only those variables that we will be using in our classification model which were age, chest pain type, serum cholesterol, fasting blood sugar and maximum heart rate achieved along with the target variable which is Diagnosis.\n",
    "\n",
    "Next, since our data was already in a tidy format, the only data wrangling and cleaning we had to perform was to drop all columns containing NaN and changing the data types of some columns to make it more appropriate for use in our analysis. The columns whose data types we modified were:\n",
    "- Age: since age is a whole number measured in years, we changed it to Integer\n",
    "- Diagnosis: A patient either has heart disease or not, hence diagnosis will be of bool type.\n",
    "- Chest Pain Type: Since chest pain type can only be one of 1, 2, 3, 4 hence it will be of type int64\n",
    "- Max Heart Rate: Since maximum heart rate is measured in Beats per Minute, we changed its type to int64\n",
    "\n",
    "Our next step was to produce summary tables and graphs showing the relationship between different variables in the data which would be useful for exploratory data analysis. We produced a table that showed the mean value of each variable grouped by Diagnosis. Our second summary table showed the count for each variable grouped by chest pain type. We also produced 2 visualizations of the data which included:\n",
    "- A scatterplot of Max Heart Rate Achieved against Age.\n",
    "- A histogram showing the proportions of Diagnosis for each Chest Pain Type.\n",
    "\n",
    "We started building our model by splitting the data set into training and testing data. We decided to use 75% of our data as training data and 25% as testing data. We first started by doing some preprocessing to standardize our variables. This is to ensure that our test data does not influence our model in any way. Then, we performed cross-validation to decide which value of K should be used to build the model.\n",
    "After perfoming cross-validation, we created a line chart of Mean Test Score against Number of Neighbors to help us decide the best value for the parameter. Looking at the graph, we decided to use K=55 to build our classification model.\n",
    "\n",
    "Using K=55, we built our classification model by performing knn-classification and added our predictions as a new column to the original dataset. Then, we calculated the accuracy of our model using the score function, which gave us an accuracy of around 77.6%. Additionally, we created a confusion matrix to help us analyse the number of correct and false diagnoses.\n",
    "\n",
    "By analysing the confusion matrix, we came to the conclusion that 59 out of 76 reports were correctly diagnosed, 11 were false negatives and 6 were false positives.\n"
   ]
  },
  {
   "cell_type": "markdown",
   "id": "fa815279-90b3-46d5-83cf-f9ba65c3540b",
   "metadata": {},
   "source": [
    "### Why these variables?"
   ]
  },
  {
   "cell_type": "markdown",
   "id": "e5c305d2-f9eb-4a93-9943-8caa990c04fa",
   "metadata": {},
   "source": [
    "The variables we have chosen to predict heart disease are due to the following reasons:\n",
    "- Age: According to the National Institute of Aging (2018), aging results in significant changes on the heart and blood vessels (arteries), which will directly impact the risks of a heart disease. \n",
    "\n",
    "- Chest pain type (cp): As mentioned by Abdullah et al. (2021), chest pain type is a major symptom which has shown to be highly and sensitively correlated to the results of a positive diagnosis for a heart disease, consequently shown to be a predictive factor of heart diseases.\n",
    "\n",
    "- Serum cholesterol (chol): The state of hypercholesterolemia (high levels of cholesterol) in patients exhibit higher vulnerability towards heart disease, indicating a correlational as well as a causation effect between the two (Mannu et al., 2013).\n",
    "\n",
    "- Fasting blood sugar (fbs): Those with higher blood sugar levels symptomatic of those with diabetic mellitus suffer from more severe heart diseases, insinuating an association between blood sugar levels and the presence of heart diseases (Saha et al., 2022)\n",
    "\n",
    "- Maximum heart rate achieved (thalach): As stated by Christine et al. (2009), \"an increase in heart rate by 10 beats per minute [is] associated with an increase in the risk of cardiac death by at least 20%\". This indicates that the count of heart rate is notable in regards to risk of heart disease.\n"
   ]
  },
  {
   "cell_type": "markdown",
   "id": "3cceb672-c77d-4f19-9f71-de2418afb938",
   "metadata": {},
   "source": [
    "### Expected outcomes and significance"
   ]
  },
  {
   "cell_type": "markdown",
   "id": "f6de8a20-f986-4fe1-9c11-9e1744809d1b",
   "metadata": {},
   "source": [
    "We expect that individuals who are older, have higher cholesterol levels, present higher maximum heart rate, experience certain chest pain types, and have higher blood sugar levels are more likely to be suffering from heart disease.\n",
    "\n",
    "These findings will be able to help indicate and predict the possibility of a heart disease and help people improve their health standards in order to prevent developing heart disease.\n",
    "\n",
    "This analysis could pose questions in the future such as:\n",
    "- \"What habits in our daily life contribute to the development of heart disease in the future?\"\n",
    "- \"What methods could be done to prevent factors of heart disease in the future?\"\n",
    "- \"What other possible diseases might be indicated by these vital signs?\"\n",
    "- \"How do these factors effect the chances of getting a heart disease?\"\n",
    "- \"Why do these factors effect the chances of getting a heart disease?\""
   ]
  },
  {
   "cell_type": "markdown",
   "id": "2ed96368-3b17-4467-9521-7776044bf492",
   "metadata": {
    "tags": []
   },
   "source": [
    "### References"
   ]
  },
  {
   "cell_type": "markdown",
   "id": "a467b332-77b1-4bed-be9b-e2c8dd83a5b2",
   "metadata": {},
   "source": [
    "U.S. Department of Health and Human Services. (2018). Heart health and aging. National Institute on Aging. Retrieved 2023, from https://www.nia.nih.gov/health/heart-health-and-aging \n",
    "\n",
    "Sheik Abdullah, A., Selvakumar, S., Venkatesh, M. (2021). Assessment and evaluation of CHD risk factors using weighted ranked correlation and regression with data classification. _Soft Computing, 25_(6), 4979–5001. https://doi.org/10.1007/s00500-021-05663-y \n",
    "\n",
    "S. Mannu, G., J.S. Zaman, M., Gupta, A., U. Rehman, H., K. Myint, P. (2013). Evidence of lifestyle modification in the management of Hypercholesterolemia. _Current Cardiology Reviews, 9_(1), 2–14. https://doi.org/10.2174/157340313805076313 \n",
    "\n",
    "Saha, A., Kuila, M., & Sharma, R. K. . (2022). Relationship of severity of coronary artery disease with fasting blood sugar and glycosylated hemoglobin. _Asian Journal of Medical Sciences, 13_(3), 38–42. https://doi.org/10.3126/ajms.v13i3.40416\n",
    "\n",
    "Perret-Guillaume, C., Joly, L., &amp; Benetos, A. (2009). Heart rate as a risk factor for cardiovascular disease. _Progress in Cardiovascular Diseases, 52_(1), 6–10. https://doi.org/10.1016/j.pcad.2009.05.003 \n",
    "\n",
    "Centers for Disease Control and Prevention. (2022). Diabetes and your heart. Centers for Disease Control and Prevention. Retrieved 2023, from https://www.cdc.gov/diabetes/library/features/diabetes-and-heart.html#:~:text=If%20you%20have%20diabetes%2C%20you,are%20to%20have%20heart%20disease\n",
    "\n",
    "Einarson, T. R., Acs, A., Ludwig, C., &amp; Panton, U. H. (2018). Prevalence of cardiovascular disease in type 2 diabetes: A systematic literature review of scientific evidence from across the world in 2007–2017 - Cardiovascular Diabetology. BioMed Central. Retrieved 2023, from https://cardiab.biomedcentral.com/articles/10.1186/s12933-018-0728-6#:~:text=Globally%2C%20overall%20CVD%20affects%20approximately,deaths%20over%20the%20study%20period "
   ]
  }
 ],
 "metadata": {
  "kernelspec": {
   "display_name": "Python 3 (ipykernel)",
   "language": "python",
   "name": "python3"
  },
  "language_info": {
   "codemirror_mode": {
    "name": "ipython",
    "version": 3
   },
   "file_extension": ".py",
   "mimetype": "text/x-python",
   "name": "python",
   "nbconvert_exporter": "python",
   "pygments_lexer": "ipython3",
   "version": "3.10.8"
  }
 },
 "nbformat": 4,
 "nbformat_minor": 5
}
